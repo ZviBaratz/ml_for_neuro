{
 "cells": [
  {
   "cell_type": "markdown",
   "metadata": {},
   "source": [
    "# Exercise I"
   ]
  },
  {
   "cell_type": "markdown",
   "metadata": {},
   "source": [
    "## Exploratory Data Analysis (EDA)"
   ]
  },
  {
   "cell_type": "markdown",
   "metadata": {},
   "source": [
    "In our first exercise, we will explore a public dataset of Coronavirus PCR tests based on a fascinating [blog post](https://blog.mafatchallenge.com/2020/04/30/covid-19-testing-with-ml-part-2/) published as part of the [MAFAT Challenge](https://mafatchallenge.mod.gov.il/).\n",
    "\n",
    "The purpose of this exercise is to demonstrate the importance of inspecting data and understanding it before trying to do anything fancy. As elementary as it may sound, this preliminary step is the pitfall of many data analysis pipelines and nurturing an instinct for visualizing and organizing your raw data will pay off tremendously both in the process of developing and in evaluating the robustness of your models.\n",
    "\n",
    "We'll start things off by summarizing some key information about the dataset:\n",
    "\n",
    "* The dataset is shared as [a GitHub repository](https://github.com/mdcollab/covidclinicaldata) containing a directory of CSV files.\n",
    "* It is collected by two US-based companies providing services in the health industry.\n",
    "* The number of observations is still relatively small, but more are added weekly and the quality of the data is high (there are many features to work with and it is relatively organized and \"clean\").\n",
    "* There are also chest X-rays available for some of the patients, that were not included in this analysis.\n",
    "\n",
    "So far so good, let's get to work. "
   ]
  },
  {
   "cell_type": "markdown",
   "metadata": {},
   "source": [
    "### Data Retrieval"
   ]
  },
  {
   "cell_type": "markdown",
   "metadata": {},
   "source": [
    "In order to keep things orderly and easy to maintain, we will first create a file with some general configurations:"
   ]
  },
  {
   "cell_type": "markdown",
   "metadata": {},
   "source": [
    "````{toggle} configuration.py\n",
    "    :show:\n",
    "```{literalinclude} configuration.py   \n",
    "```\n",
    "````"
   ]
  },
  {
   "cell_type": "markdown",
   "metadata": {},
   "source": [
    "And then write a short module to create a `read_data()` method:"
   ]
  },
  {
   "cell_type": "markdown",
   "metadata": {},
   "source": [
    "````{toggle} read_data.py\n",
    "    :show:\n",
    "```{literalinclude} read_data.py\n",
    "```\n",
    "````"
   ]
  },
  {
   "cell_type": "code",
   "execution_count": 1,
   "metadata": {
    "tags": [
     "remove-input"
    ]
   },
   "outputs": [],
   "source": [
    "from read_data import read_data"
   ]
  },
  {
   "cell_type": "markdown",
   "metadata": {},
   "source": [
    "Now we can read the data by simply running:"
   ]
  },
  {
   "cell_type": "code",
   "execution_count": 2,
   "metadata": {},
   "outputs": [],
   "source": [
    "data = read_data()"
   ]
  },
  {
   "cell_type": "markdown",
   "metadata": {},
   "source": [
    "### Raw Inspection"
   ]
  },
  {
   "cell_type": "markdown",
   "metadata": {},
   "source": [
    "````{admonition} Technical Note: get_scattered_chunks\n",
    "    :class: dropdown, tip\n",
    "```{literalinclude} get_scattered_chunks.py\n",
    "```\n",
    "````"
   ]
  },
  {
   "cell_type": "code",
   "execution_count": 3,
   "metadata": {
    "tags": [
     "remove-input"
    ]
   },
   "outputs": [],
   "source": [
    "from get_scattered_chunks import get_scattered_chunks"
   ]
  },
  {
   "cell_type": "markdown",
   "metadata": {},
   "source": [
    "````{admonition} Technical Note: print_table\n",
    "    :class: dropdown, tip\n",
    "We will prepare a function to make the styling of the printed dataframe better suited for our purposes:\n",
    "```{literalinclude} print_table.py\n",
    "```\n",
    "```{tip}\n",
    "For more information about styling Pandas dataframes, see [the documentation](https://pandas.pydata.org/pandas-docs/stable/user_guide/style.html).\n",
    "```\n",
    "````"
   ]
  },
  {
   "cell_type": "code",
   "execution_count": 4,
   "metadata": {
    "tags": [
     "remove-input"
    ]
   },
   "outputs": [],
   "source": [
    "from print_table import print_table"
   ]
  },
  {
   "cell_type": "code",
   "execution_count": 5,
   "metadata": {},
   "outputs": [
    {
     "data": {
      "text/html": [
       "<style  type=\"text/css\" >\n",
       "    #T_b56ef514_ed16_11ea_8bcf_31c983403a9f th {\n",
       "          font-size: 12px;\n",
       "    }    #T_b56ef514_ed16_11ea_8bcf_31c983403a9f td {\n",
       "          font-size: 11px;\n",
       "    }#T_b56ef514_ed16_11ea_8bcf_31c983403a9frow0_col0,#T_b56ef514_ed16_11ea_8bcf_31c983403a9frow0_col1,#T_b56ef514_ed16_11ea_8bcf_31c983403a9frow0_col2,#T_b56ef514_ed16_11ea_8bcf_31c983403a9frow0_col4,#T_b56ef514_ed16_11ea_8bcf_31c983403a9frow0_col5,#T_b56ef514_ed16_11ea_8bcf_31c983403a9frow0_col7,#T_b56ef514_ed16_11ea_8bcf_31c983403a9frow0_col8,#T_b56ef514_ed16_11ea_8bcf_31c983403a9frow0_col9,#T_b56ef514_ed16_11ea_8bcf_31c983403a9frow0_col10,#T_b56ef514_ed16_11ea_8bcf_31c983403a9frow0_col11,#T_b56ef514_ed16_11ea_8bcf_31c983403a9frow0_col12,#T_b56ef514_ed16_11ea_8bcf_31c983403a9frow0_col13,#T_b56ef514_ed16_11ea_8bcf_31c983403a9frow0_col14,#T_b56ef514_ed16_11ea_8bcf_31c983403a9frow0_col15,#T_b56ef514_ed16_11ea_8bcf_31c983403a9frow0_col16,#T_b56ef514_ed16_11ea_8bcf_31c983403a9frow0_col17,#T_b56ef514_ed16_11ea_8bcf_31c983403a9frow0_col18,#T_b56ef514_ed16_11ea_8bcf_31c983403a9frow0_col19,#T_b56ef514_ed16_11ea_8bcf_31c983403a9frow0_col20,#T_b56ef514_ed16_11ea_8bcf_31c983403a9frow0_col23,#T_b56ef514_ed16_11ea_8bcf_31c983403a9frow0_col24,#T_b56ef514_ed16_11ea_8bcf_31c983403a9frow0_col25,#T_b56ef514_ed16_11ea_8bcf_31c983403a9frow0_col26,#T_b56ef514_ed16_11ea_8bcf_31c983403a9frow0_col27,#T_b56ef514_ed16_11ea_8bcf_31c983403a9frow0_col28,#T_b56ef514_ed16_11ea_8bcf_31c983403a9frow0_col29,#T_b56ef514_ed16_11ea_8bcf_31c983403a9frow0_col31,#T_b56ef514_ed16_11ea_8bcf_31c983403a9frow0_col33,#T_b56ef514_ed16_11ea_8bcf_31c983403a9frow0_col34,#T_b56ef514_ed16_11ea_8bcf_31c983403a9frow0_col35,#T_b56ef514_ed16_11ea_8bcf_31c983403a9frow0_col36,#T_b56ef514_ed16_11ea_8bcf_31c983403a9frow0_col37,#T_b56ef514_ed16_11ea_8bcf_31c983403a9frow0_col38,#T_b56ef514_ed16_11ea_8bcf_31c983403a9frow0_col39,#T_b56ef514_ed16_11ea_8bcf_31c983403a9frow0_col40,#T_b56ef514_ed16_11ea_8bcf_31c983403a9frow0_col41,#T_b56ef514_ed16_11ea_8bcf_31c983403a9frow1_col0,#T_b56ef514_ed16_11ea_8bcf_31c983403a9frow1_col1,#T_b56ef514_ed16_11ea_8bcf_31c983403a9frow1_col2,#T_b56ef514_ed16_11ea_8bcf_31c983403a9frow1_col4,#T_b56ef514_ed16_11ea_8bcf_31c983403a9frow1_col5,#T_b56ef514_ed16_11ea_8bcf_31c983403a9frow1_col7,#T_b56ef514_ed16_11ea_8bcf_31c983403a9frow1_col8,#T_b56ef514_ed16_11ea_8bcf_31c983403a9frow1_col9,#T_b56ef514_ed16_11ea_8bcf_31c983403a9frow1_col10,#T_b56ef514_ed16_11ea_8bcf_31c983403a9frow1_col11,#T_b56ef514_ed16_11ea_8bcf_31c983403a9frow1_col12,#T_b56ef514_ed16_11ea_8bcf_31c983403a9frow1_col13,#T_b56ef514_ed16_11ea_8bcf_31c983403a9frow1_col14,#T_b56ef514_ed16_11ea_8bcf_31c983403a9frow1_col15,#T_b56ef514_ed16_11ea_8bcf_31c983403a9frow1_col16,#T_b56ef514_ed16_11ea_8bcf_31c983403a9frow1_col17,#T_b56ef514_ed16_11ea_8bcf_31c983403a9frow1_col18,#T_b56ef514_ed16_11ea_8bcf_31c983403a9frow1_col19,#T_b56ef514_ed16_11ea_8bcf_31c983403a9frow1_col20,#T_b56ef514_ed16_11ea_8bcf_31c983403a9frow1_col23,#T_b56ef514_ed16_11ea_8bcf_31c983403a9frow1_col24,#T_b56ef514_ed16_11ea_8bcf_31c983403a9frow1_col25,#T_b56ef514_ed16_11ea_8bcf_31c983403a9frow1_col26,#T_b56ef514_ed16_11ea_8bcf_31c983403a9frow1_col28,#T_b56ef514_ed16_11ea_8bcf_31c983403a9frow1_col29,#T_b56ef514_ed16_11ea_8bcf_31c983403a9frow1_col30,#T_b56ef514_ed16_11ea_8bcf_31c983403a9frow1_col31,#T_b56ef514_ed16_11ea_8bcf_31c983403a9frow1_col33,#T_b56ef514_ed16_11ea_8bcf_31c983403a9frow1_col34,#T_b56ef514_ed16_11ea_8bcf_31c983403a9frow1_col35,#T_b56ef514_ed16_11ea_8bcf_31c983403a9frow1_col36,#T_b56ef514_ed16_11ea_8bcf_31c983403a9frow1_col37,#T_b56ef514_ed16_11ea_8bcf_31c983403a9frow1_col38,#T_b56ef514_ed16_11ea_8bcf_31c983403a9frow1_col39,#T_b56ef514_ed16_11ea_8bcf_31c983403a9frow1_col40,#T_b56ef514_ed16_11ea_8bcf_31c983403a9frow1_col41,#T_b56ef514_ed16_11ea_8bcf_31c983403a9frow2_col0,#T_b56ef514_ed16_11ea_8bcf_31c983403a9frow2_col1,#T_b56ef514_ed16_11ea_8bcf_31c983403a9frow2_col2,#T_b56ef514_ed16_11ea_8bcf_31c983403a9frow2_col4,#T_b56ef514_ed16_11ea_8bcf_31c983403a9frow2_col7,#T_b56ef514_ed16_11ea_8bcf_31c983403a9frow2_col8,#T_b56ef514_ed16_11ea_8bcf_31c983403a9frow2_col9,#T_b56ef514_ed16_11ea_8bcf_31c983403a9frow2_col10,#T_b56ef514_ed16_11ea_8bcf_31c983403a9frow2_col11,#T_b56ef514_ed16_11ea_8bcf_31c983403a9frow2_col12,#T_b56ef514_ed16_11ea_8bcf_31c983403a9frow2_col13,#T_b56ef514_ed16_11ea_8bcf_31c983403a9frow2_col14,#T_b56ef514_ed16_11ea_8bcf_31c983403a9frow2_col15,#T_b56ef514_ed16_11ea_8bcf_31c983403a9frow2_col16,#T_b56ef514_ed16_11ea_8bcf_31c983403a9frow2_col17,#T_b56ef514_ed16_11ea_8bcf_31c983403a9frow2_col18,#T_b56ef514_ed16_11ea_8bcf_31c983403a9frow2_col19,#T_b56ef514_ed16_11ea_8bcf_31c983403a9frow2_col20,#T_b56ef514_ed16_11ea_8bcf_31c983403a9frow2_col28,#T_b56ef514_ed16_11ea_8bcf_31c983403a9frow2_col41,#T_b56ef514_ed16_11ea_8bcf_31c983403a9frow3_col0,#T_b56ef514_ed16_11ea_8bcf_31c983403a9frow3_col1,#T_b56ef514_ed16_11ea_8bcf_31c983403a9frow3_col2,#T_b56ef514_ed16_11ea_8bcf_31c983403a9frow3_col4,#T_b56ef514_ed16_11ea_8bcf_31c983403a9frow3_col5,#T_b56ef514_ed16_11ea_8bcf_31c983403a9frow3_col6,#T_b56ef514_ed16_11ea_8bcf_31c983403a9frow3_col7,#T_b56ef514_ed16_11ea_8bcf_31c983403a9frow3_col8,#T_b56ef514_ed16_11ea_8bcf_31c983403a9frow3_col9,#T_b56ef514_ed16_11ea_8bcf_31c983403a9frow3_col10,#T_b56ef514_ed16_11ea_8bcf_31c983403a9frow3_col11,#T_b56ef514_ed16_11ea_8bcf_31c983403a9frow3_col12,#T_b56ef514_ed16_11ea_8bcf_31c983403a9frow3_col13,#T_b56ef514_ed16_11ea_8bcf_31c983403a9frow3_col14,#T_b56ef514_ed16_11ea_8bcf_31c983403a9frow3_col28,#T_b56ef514_ed16_11ea_8bcf_31c983403a9frow3_col30,#T_b56ef514_ed16_11ea_8bcf_31c983403a9frow3_col31,#T_b56ef514_ed16_11ea_8bcf_31c983403a9frow3_col33,#T_b56ef514_ed16_11ea_8bcf_31c983403a9frow3_col34,#T_b56ef514_ed16_11ea_8bcf_31c983403a9frow3_col35,#T_b56ef514_ed16_11ea_8bcf_31c983403a9frow3_col36,#T_b56ef514_ed16_11ea_8bcf_31c983403a9frow3_col37,#T_b56ef514_ed16_11ea_8bcf_31c983403a9frow3_col38,#T_b56ef514_ed16_11ea_8bcf_31c983403a9frow3_col39,#T_b56ef514_ed16_11ea_8bcf_31c983403a9frow3_col40,#T_b56ef514_ed16_11ea_8bcf_31c983403a9frow3_col41,#T_b56ef514_ed16_11ea_8bcf_31c983403a9frow4_col0,#T_b56ef514_ed16_11ea_8bcf_31c983403a9frow4_col1,#T_b56ef514_ed16_11ea_8bcf_31c983403a9frow4_col2,#T_b56ef514_ed16_11ea_8bcf_31c983403a9frow4_col4,#T_b56ef514_ed16_11ea_8bcf_31c983403a9frow4_col5,#T_b56ef514_ed16_11ea_8bcf_31c983403a9frow4_col6,#T_b56ef514_ed16_11ea_8bcf_31c983403a9frow4_col7,#T_b56ef514_ed16_11ea_8bcf_31c983403a9frow4_col8,#T_b56ef514_ed16_11ea_8bcf_31c983403a9frow4_col9,#T_b56ef514_ed16_11ea_8bcf_31c983403a9frow4_col10,#T_b56ef514_ed16_11ea_8bcf_31c983403a9frow4_col11,#T_b56ef514_ed16_11ea_8bcf_31c983403a9frow4_col12,#T_b56ef514_ed16_11ea_8bcf_31c983403a9frow4_col13,#T_b56ef514_ed16_11ea_8bcf_31c983403a9frow4_col14,#T_b56ef514_ed16_11ea_8bcf_31c983403a9frow4_col15,#T_b56ef514_ed16_11ea_8bcf_31c983403a9frow4_col16,#T_b56ef514_ed16_11ea_8bcf_31c983403a9frow4_col17,#T_b56ef514_ed16_11ea_8bcf_31c983403a9frow4_col18,#T_b56ef514_ed16_11ea_8bcf_31c983403a9frow4_col19,#T_b56ef514_ed16_11ea_8bcf_31c983403a9frow4_col20,#T_b56ef514_ed16_11ea_8bcf_31c983403a9frow4_col24,#T_b56ef514_ed16_11ea_8bcf_31c983403a9frow4_col27,#T_b56ef514_ed16_11ea_8bcf_31c983403a9frow4_col28,#T_b56ef514_ed16_11ea_8bcf_31c983403a9frow4_col29,#T_b56ef514_ed16_11ea_8bcf_31c983403a9frow4_col30,#T_b56ef514_ed16_11ea_8bcf_31c983403a9frow4_col31,#T_b56ef514_ed16_11ea_8bcf_31c983403a9frow4_col33,#T_b56ef514_ed16_11ea_8bcf_31c983403a9frow4_col34,#T_b56ef514_ed16_11ea_8bcf_31c983403a9frow4_col35,#T_b56ef514_ed16_11ea_8bcf_31c983403a9frow4_col36,#T_b56ef514_ed16_11ea_8bcf_31c983403a9frow4_col37,#T_b56ef514_ed16_11ea_8bcf_31c983403a9frow4_col38,#T_b56ef514_ed16_11ea_8bcf_31c983403a9frow4_col39,#T_b56ef514_ed16_11ea_8bcf_31c983403a9frow4_col40,#T_b56ef514_ed16_11ea_8bcf_31c983403a9frow4_col41,#T_b56ef514_ed16_11ea_8bcf_31c983403a9frow5_col0,#T_b56ef514_ed16_11ea_8bcf_31c983403a9frow5_col1,#T_b56ef514_ed16_11ea_8bcf_31c983403a9frow5_col2,#T_b56ef514_ed16_11ea_8bcf_31c983403a9frow5_col4,#T_b56ef514_ed16_11ea_8bcf_31c983403a9frow5_col5,#T_b56ef514_ed16_11ea_8bcf_31c983403a9frow5_col6,#T_b56ef514_ed16_11ea_8bcf_31c983403a9frow5_col7,#T_b56ef514_ed16_11ea_8bcf_31c983403a9frow5_col8,#T_b56ef514_ed16_11ea_8bcf_31c983403a9frow5_col9,#T_b56ef514_ed16_11ea_8bcf_31c983403a9frow5_col10,#T_b56ef514_ed16_11ea_8bcf_31c983403a9frow5_col11,#T_b56ef514_ed16_11ea_8bcf_31c983403a9frow5_col12,#T_b56ef514_ed16_11ea_8bcf_31c983403a9frow5_col13,#T_b56ef514_ed16_11ea_8bcf_31c983403a9frow5_col14,#T_b56ef514_ed16_11ea_8bcf_31c983403a9frow5_col28,#T_b56ef514_ed16_11ea_8bcf_31c983403a9frow5_col30,#T_b56ef514_ed16_11ea_8bcf_31c983403a9frow5_col31,#T_b56ef514_ed16_11ea_8bcf_31c983403a9frow5_col33,#T_b56ef514_ed16_11ea_8bcf_31c983403a9frow5_col34,#T_b56ef514_ed16_11ea_8bcf_31c983403a9frow5_col35,#T_b56ef514_ed16_11ea_8bcf_31c983403a9frow5_col36,#T_b56ef514_ed16_11ea_8bcf_31c983403a9frow5_col37,#T_b56ef514_ed16_11ea_8bcf_31c983403a9frow5_col38,#T_b56ef514_ed16_11ea_8bcf_31c983403a9frow5_col39,#T_b56ef514_ed16_11ea_8bcf_31c983403a9frow5_col40,#T_b56ef514_ed16_11ea_8bcf_31c983403a9frow5_col41,#T_b56ef514_ed16_11ea_8bcf_31c983403a9frow6_col0,#T_b56ef514_ed16_11ea_8bcf_31c983403a9frow6_col1,#T_b56ef514_ed16_11ea_8bcf_31c983403a9frow6_col2,#T_b56ef514_ed16_11ea_8bcf_31c983403a9frow6_col4,#T_b56ef514_ed16_11ea_8bcf_31c983403a9frow6_col5,#T_b56ef514_ed16_11ea_8bcf_31c983403a9frow6_col6,#T_b56ef514_ed16_11ea_8bcf_31c983403a9frow6_col7,#T_b56ef514_ed16_11ea_8bcf_31c983403a9frow6_col8,#T_b56ef514_ed16_11ea_8bcf_31c983403a9frow6_col9,#T_b56ef514_ed16_11ea_8bcf_31c983403a9frow6_col10,#T_b56ef514_ed16_11ea_8bcf_31c983403a9frow6_col11,#T_b56ef514_ed16_11ea_8bcf_31c983403a9frow6_col12,#T_b56ef514_ed16_11ea_8bcf_31c983403a9frow6_col13,#T_b56ef514_ed16_11ea_8bcf_31c983403a9frow6_col14,#T_b56ef514_ed16_11ea_8bcf_31c983403a9frow6_col15,#T_b56ef514_ed16_11ea_8bcf_31c983403a9frow6_col16,#T_b56ef514_ed16_11ea_8bcf_31c983403a9frow6_col17,#T_b56ef514_ed16_11ea_8bcf_31c983403a9frow6_col18,#T_b56ef514_ed16_11ea_8bcf_31c983403a9frow6_col19,#T_b56ef514_ed16_11ea_8bcf_31c983403a9frow6_col20,#T_b56ef514_ed16_11ea_8bcf_31c983403a9frow6_col23,#T_b56ef514_ed16_11ea_8bcf_31c983403a9frow6_col24,#T_b56ef514_ed16_11ea_8bcf_31c983403a9frow6_col25,#T_b56ef514_ed16_11ea_8bcf_31c983403a9frow6_col26,#T_b56ef514_ed16_11ea_8bcf_31c983403a9frow6_col28,#T_b56ef514_ed16_11ea_8bcf_31c983403a9frow6_col31,#T_b56ef514_ed16_11ea_8bcf_31c983403a9frow6_col33,#T_b56ef514_ed16_11ea_8bcf_31c983403a9frow6_col34,#T_b56ef514_ed16_11ea_8bcf_31c983403a9frow6_col35,#T_b56ef514_ed16_11ea_8bcf_31c983403a9frow6_col36,#T_b56ef514_ed16_11ea_8bcf_31c983403a9frow6_col37,#T_b56ef514_ed16_11ea_8bcf_31c983403a9frow6_col38,#T_b56ef514_ed16_11ea_8bcf_31c983403a9frow6_col39,#T_b56ef514_ed16_11ea_8bcf_31c983403a9frow6_col40,#T_b56ef514_ed16_11ea_8bcf_31c983403a9frow6_col41,#T_b56ef514_ed16_11ea_8bcf_31c983403a9frow7_col0,#T_b56ef514_ed16_11ea_8bcf_31c983403a9frow7_col1,#T_b56ef514_ed16_11ea_8bcf_31c983403a9frow7_col2,#T_b56ef514_ed16_11ea_8bcf_31c983403a9frow7_col4,#T_b56ef514_ed16_11ea_8bcf_31c983403a9frow7_col5,#T_b56ef514_ed16_11ea_8bcf_31c983403a9frow7_col7,#T_b56ef514_ed16_11ea_8bcf_31c983403a9frow7_col8,#T_b56ef514_ed16_11ea_8bcf_31c983403a9frow7_col9,#T_b56ef514_ed16_11ea_8bcf_31c983403a9frow7_col10,#T_b56ef514_ed16_11ea_8bcf_31c983403a9frow7_col11,#T_b56ef514_ed16_11ea_8bcf_31c983403a9frow7_col12,#T_b56ef514_ed16_11ea_8bcf_31c983403a9frow7_col13,#T_b56ef514_ed16_11ea_8bcf_31c983403a9frow7_col14,#T_b56ef514_ed16_11ea_8bcf_31c983403a9frow7_col15,#T_b56ef514_ed16_11ea_8bcf_31c983403a9frow7_col16,#T_b56ef514_ed16_11ea_8bcf_31c983403a9frow7_col17,#T_b56ef514_ed16_11ea_8bcf_31c983403a9frow7_col18,#T_b56ef514_ed16_11ea_8bcf_31c983403a9frow7_col19,#T_b56ef514_ed16_11ea_8bcf_31c983403a9frow7_col20,#T_b56ef514_ed16_11ea_8bcf_31c983403a9frow7_col24,#T_b56ef514_ed16_11ea_8bcf_31c983403a9frow7_col28,#T_b56ef514_ed16_11ea_8bcf_31c983403a9frow7_col31,#T_b56ef514_ed16_11ea_8bcf_31c983403a9frow7_col33,#T_b56ef514_ed16_11ea_8bcf_31c983403a9frow7_col34,#T_b56ef514_ed16_11ea_8bcf_31c983403a9frow7_col35,#T_b56ef514_ed16_11ea_8bcf_31c983403a9frow7_col36,#T_b56ef514_ed16_11ea_8bcf_31c983403a9frow7_col37,#T_b56ef514_ed16_11ea_8bcf_31c983403a9frow7_col38,#T_b56ef514_ed16_11ea_8bcf_31c983403a9frow7_col39,#T_b56ef514_ed16_11ea_8bcf_31c983403a9frow7_col40,#T_b56ef514_ed16_11ea_8bcf_31c983403a9frow7_col41,#T_b56ef514_ed16_11ea_8bcf_31c983403a9frow8_col0,#T_b56ef514_ed16_11ea_8bcf_31c983403a9frow8_col1,#T_b56ef514_ed16_11ea_8bcf_31c983403a9frow8_col2,#T_b56ef514_ed16_11ea_8bcf_31c983403a9frow8_col4,#T_b56ef514_ed16_11ea_8bcf_31c983403a9frow8_col5,#T_b56ef514_ed16_11ea_8bcf_31c983403a9frow8_col6,#T_b56ef514_ed16_11ea_8bcf_31c983403a9frow8_col7,#T_b56ef514_ed16_11ea_8bcf_31c983403a9frow8_col8,#T_b56ef514_ed16_11ea_8bcf_31c983403a9frow8_col9,#T_b56ef514_ed16_11ea_8bcf_31c983403a9frow8_col10,#T_b56ef514_ed16_11ea_8bcf_31c983403a9frow8_col11,#T_b56ef514_ed16_11ea_8bcf_31c983403a9frow8_col12,#T_b56ef514_ed16_11ea_8bcf_31c983403a9frow8_col13,#T_b56ef514_ed16_11ea_8bcf_31c983403a9frow8_col14,#T_b56ef514_ed16_11ea_8bcf_31c983403a9frow8_col15,#T_b56ef514_ed16_11ea_8bcf_31c983403a9frow8_col16,#T_b56ef514_ed16_11ea_8bcf_31c983403a9frow8_col17,#T_b56ef514_ed16_11ea_8bcf_31c983403a9frow8_col18,#T_b56ef514_ed16_11ea_8bcf_31c983403a9frow8_col19,#T_b56ef514_ed16_11ea_8bcf_31c983403a9frow8_col20,#T_b56ef514_ed16_11ea_8bcf_31c983403a9frow8_col23,#T_b56ef514_ed16_11ea_8bcf_31c983403a9frow8_col27,#T_b56ef514_ed16_11ea_8bcf_31c983403a9frow8_col28,#T_b56ef514_ed16_11ea_8bcf_31c983403a9frow8_col29,#T_b56ef514_ed16_11ea_8bcf_31c983403a9frow8_col30,#T_b56ef514_ed16_11ea_8bcf_31c983403a9frow8_col31,#T_b56ef514_ed16_11ea_8bcf_31c983403a9frow8_col33,#T_b56ef514_ed16_11ea_8bcf_31c983403a9frow8_col34,#T_b56ef514_ed16_11ea_8bcf_31c983403a9frow8_col35,#T_b56ef514_ed16_11ea_8bcf_31c983403a9frow8_col36,#T_b56ef514_ed16_11ea_8bcf_31c983403a9frow8_col37,#T_b56ef514_ed16_11ea_8bcf_31c983403a9frow8_col38,#T_b56ef514_ed16_11ea_8bcf_31c983403a9frow8_col39,#T_b56ef514_ed16_11ea_8bcf_31c983403a9frow8_col40,#T_b56ef514_ed16_11ea_8bcf_31c983403a9frow8_col41,#T_b56ef514_ed16_11ea_8bcf_31c983403a9frow9_col0,#T_b56ef514_ed16_11ea_8bcf_31c983403a9frow9_col1,#T_b56ef514_ed16_11ea_8bcf_31c983403a9frow9_col2,#T_b56ef514_ed16_11ea_8bcf_31c983403a9frow9_col4,#T_b56ef514_ed16_11ea_8bcf_31c983403a9frow9_col5,#T_b56ef514_ed16_11ea_8bcf_31c983403a9frow9_col6,#T_b56ef514_ed16_11ea_8bcf_31c983403a9frow9_col7,#T_b56ef514_ed16_11ea_8bcf_31c983403a9frow9_col8,#T_b56ef514_ed16_11ea_8bcf_31c983403a9frow9_col9,#T_b56ef514_ed16_11ea_8bcf_31c983403a9frow9_col10,#T_b56ef514_ed16_11ea_8bcf_31c983403a9frow9_col11,#T_b56ef514_ed16_11ea_8bcf_31c983403a9frow9_col12,#T_b56ef514_ed16_11ea_8bcf_31c983403a9frow9_col13,#T_b56ef514_ed16_11ea_8bcf_31c983403a9frow9_col14,#T_b56ef514_ed16_11ea_8bcf_31c983403a9frow9_col15,#T_b56ef514_ed16_11ea_8bcf_31c983403a9frow9_col16,#T_b56ef514_ed16_11ea_8bcf_31c983403a9frow9_col17,#T_b56ef514_ed16_11ea_8bcf_31c983403a9frow9_col18,#T_b56ef514_ed16_11ea_8bcf_31c983403a9frow9_col19,#T_b56ef514_ed16_11ea_8bcf_31c983403a9frow9_col20,#T_b56ef514_ed16_11ea_8bcf_31c983403a9frow9_col23,#T_b56ef514_ed16_11ea_8bcf_31c983403a9frow9_col24,#T_b56ef514_ed16_11ea_8bcf_31c983403a9frow9_col25,#T_b56ef514_ed16_11ea_8bcf_31c983403a9frow9_col26,#T_b56ef514_ed16_11ea_8bcf_31c983403a9frow9_col28,#T_b56ef514_ed16_11ea_8bcf_31c983403a9frow9_col30,#T_b56ef514_ed16_11ea_8bcf_31c983403a9frow9_col31,#T_b56ef514_ed16_11ea_8bcf_31c983403a9frow9_col33,#T_b56ef514_ed16_11ea_8bcf_31c983403a9frow9_col34,#T_b56ef514_ed16_11ea_8bcf_31c983403a9frow9_col35,#T_b56ef514_ed16_11ea_8bcf_31c983403a9frow9_col36,#T_b56ef514_ed16_11ea_8bcf_31c983403a9frow9_col37,#T_b56ef514_ed16_11ea_8bcf_31c983403a9frow9_col38,#T_b56ef514_ed16_11ea_8bcf_31c983403a9frow9_col39,#T_b56ef514_ed16_11ea_8bcf_31c983403a9frow9_col40,#T_b56ef514_ed16_11ea_8bcf_31c983403a9frow9_col41,#T_b56ef514_ed16_11ea_8bcf_31c983403a9frow10_col0,#T_b56ef514_ed16_11ea_8bcf_31c983403a9frow10_col1,#T_b56ef514_ed16_11ea_8bcf_31c983403a9frow10_col2,#T_b56ef514_ed16_11ea_8bcf_31c983403a9frow10_col4,#T_b56ef514_ed16_11ea_8bcf_31c983403a9frow10_col5,#T_b56ef514_ed16_11ea_8bcf_31c983403a9frow10_col6,#T_b56ef514_ed16_11ea_8bcf_31c983403a9frow10_col7,#T_b56ef514_ed16_11ea_8bcf_31c983403a9frow10_col8,#T_b56ef514_ed16_11ea_8bcf_31c983403a9frow10_col9,#T_b56ef514_ed16_11ea_8bcf_31c983403a9frow10_col10,#T_b56ef514_ed16_11ea_8bcf_31c983403a9frow10_col11,#T_b56ef514_ed16_11ea_8bcf_31c983403a9frow10_col12,#T_b56ef514_ed16_11ea_8bcf_31c983403a9frow10_col13,#T_b56ef514_ed16_11ea_8bcf_31c983403a9frow10_col14,#T_b56ef514_ed16_11ea_8bcf_31c983403a9frow10_col28,#T_b56ef514_ed16_11ea_8bcf_31c983403a9frow10_col30,#T_b56ef514_ed16_11ea_8bcf_31c983403a9frow10_col31,#T_b56ef514_ed16_11ea_8bcf_31c983403a9frow10_col33,#T_b56ef514_ed16_11ea_8bcf_31c983403a9frow10_col34,#T_b56ef514_ed16_11ea_8bcf_31c983403a9frow10_col35,#T_b56ef514_ed16_11ea_8bcf_31c983403a9frow10_col36,#T_b56ef514_ed16_11ea_8bcf_31c983403a9frow10_col37,#T_b56ef514_ed16_11ea_8bcf_31c983403a9frow10_col38,#T_b56ef514_ed16_11ea_8bcf_31c983403a9frow10_col39,#T_b56ef514_ed16_11ea_8bcf_31c983403a9frow10_col40,#T_b56ef514_ed16_11ea_8bcf_31c983403a9frow10_col41,#T_b56ef514_ed16_11ea_8bcf_31c983403a9frow11_col0,#T_b56ef514_ed16_11ea_8bcf_31c983403a9frow11_col1,#T_b56ef514_ed16_11ea_8bcf_31c983403a9frow11_col2,#T_b56ef514_ed16_11ea_8bcf_31c983403a9frow11_col4,#T_b56ef514_ed16_11ea_8bcf_31c983403a9frow11_col5,#T_b56ef514_ed16_11ea_8bcf_31c983403a9frow11_col6,#T_b56ef514_ed16_11ea_8bcf_31c983403a9frow11_col7,#T_b56ef514_ed16_11ea_8bcf_31c983403a9frow11_col8,#T_b56ef514_ed16_11ea_8bcf_31c983403a9frow11_col9,#T_b56ef514_ed16_11ea_8bcf_31c983403a9frow11_col10,#T_b56ef514_ed16_11ea_8bcf_31c983403a9frow11_col11,#T_b56ef514_ed16_11ea_8bcf_31c983403a9frow11_col12,#T_b56ef514_ed16_11ea_8bcf_31c983403a9frow11_col13,#T_b56ef514_ed16_11ea_8bcf_31c983403a9frow11_col14,#T_b56ef514_ed16_11ea_8bcf_31c983403a9frow11_col15,#T_b56ef514_ed16_11ea_8bcf_31c983403a9frow11_col16,#T_b56ef514_ed16_11ea_8bcf_31c983403a9frow11_col17,#T_b56ef514_ed16_11ea_8bcf_31c983403a9frow11_col18,#T_b56ef514_ed16_11ea_8bcf_31c983403a9frow11_col19,#T_b56ef514_ed16_11ea_8bcf_31c983403a9frow11_col20,#T_b56ef514_ed16_11ea_8bcf_31c983403a9frow11_col23,#T_b56ef514_ed16_11ea_8bcf_31c983403a9frow11_col24,#T_b56ef514_ed16_11ea_8bcf_31c983403a9frow11_col25,#T_b56ef514_ed16_11ea_8bcf_31c983403a9frow11_col26,#T_b56ef514_ed16_11ea_8bcf_31c983403a9frow11_col27,#T_b56ef514_ed16_11ea_8bcf_31c983403a9frow11_col28,#T_b56ef514_ed16_11ea_8bcf_31c983403a9frow11_col30,#T_b56ef514_ed16_11ea_8bcf_31c983403a9frow11_col31,#T_b56ef514_ed16_11ea_8bcf_31c983403a9frow11_col33,#T_b56ef514_ed16_11ea_8bcf_31c983403a9frow11_col34,#T_b56ef514_ed16_11ea_8bcf_31c983403a9frow11_col35,#T_b56ef514_ed16_11ea_8bcf_31c983403a9frow11_col36,#T_b56ef514_ed16_11ea_8bcf_31c983403a9frow11_col37,#T_b56ef514_ed16_11ea_8bcf_31c983403a9frow11_col38,#T_b56ef514_ed16_11ea_8bcf_31c983403a9frow11_col39,#T_b56ef514_ed16_11ea_8bcf_31c983403a9frow11_col40,#T_b56ef514_ed16_11ea_8bcf_31c983403a9frow11_col41,#T_b56ef514_ed16_11ea_8bcf_31c983403a9frow12_col0,#T_b56ef514_ed16_11ea_8bcf_31c983403a9frow12_col1,#T_b56ef514_ed16_11ea_8bcf_31c983403a9frow12_col2,#T_b56ef514_ed16_11ea_8bcf_31c983403a9frow12_col4,#T_b56ef514_ed16_11ea_8bcf_31c983403a9frow12_col5,#T_b56ef514_ed16_11ea_8bcf_31c983403a9frow12_col7,#T_b56ef514_ed16_11ea_8bcf_31c983403a9frow12_col8,#T_b56ef514_ed16_11ea_8bcf_31c983403a9frow12_col9,#T_b56ef514_ed16_11ea_8bcf_31c983403a9frow12_col10,#T_b56ef514_ed16_11ea_8bcf_31c983403a9frow12_col11,#T_b56ef514_ed16_11ea_8bcf_31c983403a9frow12_col12,#T_b56ef514_ed16_11ea_8bcf_31c983403a9frow12_col13,#T_b56ef514_ed16_11ea_8bcf_31c983403a9frow12_col14,#T_b56ef514_ed16_11ea_8bcf_31c983403a9frow12_col15,#T_b56ef514_ed16_11ea_8bcf_31c983403a9frow12_col16,#T_b56ef514_ed16_11ea_8bcf_31c983403a9frow12_col17,#T_b56ef514_ed16_11ea_8bcf_31c983403a9frow12_col18,#T_b56ef514_ed16_11ea_8bcf_31c983403a9frow12_col19,#T_b56ef514_ed16_11ea_8bcf_31c983403a9frow12_col20,#T_b56ef514_ed16_11ea_8bcf_31c983403a9frow12_col24,#T_b56ef514_ed16_11ea_8bcf_31c983403a9frow12_col28,#T_b56ef514_ed16_11ea_8bcf_31c983403a9frow12_col30,#T_b56ef514_ed16_11ea_8bcf_31c983403a9frow12_col31,#T_b56ef514_ed16_11ea_8bcf_31c983403a9frow12_col33,#T_b56ef514_ed16_11ea_8bcf_31c983403a9frow12_col34,#T_b56ef514_ed16_11ea_8bcf_31c983403a9frow12_col35,#T_b56ef514_ed16_11ea_8bcf_31c983403a9frow12_col36,#T_b56ef514_ed16_11ea_8bcf_31c983403a9frow12_col37,#T_b56ef514_ed16_11ea_8bcf_31c983403a9frow12_col38,#T_b56ef514_ed16_11ea_8bcf_31c983403a9frow12_col39,#T_b56ef514_ed16_11ea_8bcf_31c983403a9frow12_col40,#T_b56ef514_ed16_11ea_8bcf_31c983403a9frow12_col41,#T_b56ef514_ed16_11ea_8bcf_31c983403a9frow13_col0,#T_b56ef514_ed16_11ea_8bcf_31c983403a9frow13_col1,#T_b56ef514_ed16_11ea_8bcf_31c983403a9frow13_col2,#T_b56ef514_ed16_11ea_8bcf_31c983403a9frow13_col4,#T_b56ef514_ed16_11ea_8bcf_31c983403a9frow13_col5,#T_b56ef514_ed16_11ea_8bcf_31c983403a9frow13_col6,#T_b56ef514_ed16_11ea_8bcf_31c983403a9frow13_col7,#T_b56ef514_ed16_11ea_8bcf_31c983403a9frow13_col8,#T_b56ef514_ed16_11ea_8bcf_31c983403a9frow13_col9,#T_b56ef514_ed16_11ea_8bcf_31c983403a9frow13_col10,#T_b56ef514_ed16_11ea_8bcf_31c983403a9frow13_col11,#T_b56ef514_ed16_11ea_8bcf_31c983403a9frow13_col12,#T_b56ef514_ed16_11ea_8bcf_31c983403a9frow13_col13,#T_b56ef514_ed16_11ea_8bcf_31c983403a9frow13_col14,#T_b56ef514_ed16_11ea_8bcf_31c983403a9frow13_col15,#T_b56ef514_ed16_11ea_8bcf_31c983403a9frow13_col16,#T_b56ef514_ed16_11ea_8bcf_31c983403a9frow13_col17,#T_b56ef514_ed16_11ea_8bcf_31c983403a9frow13_col18,#T_b56ef514_ed16_11ea_8bcf_31c983403a9frow13_col20,#T_b56ef514_ed16_11ea_8bcf_31c983403a9frow13_col22,#T_b56ef514_ed16_11ea_8bcf_31c983403a9frow13_col23,#T_b56ef514_ed16_11ea_8bcf_31c983403a9frow13_col24,#T_b56ef514_ed16_11ea_8bcf_31c983403a9frow13_col27,#T_b56ef514_ed16_11ea_8bcf_31c983403a9frow13_col28,#T_b56ef514_ed16_11ea_8bcf_31c983403a9frow13_col30,#T_b56ef514_ed16_11ea_8bcf_31c983403a9frow13_col31,#T_b56ef514_ed16_11ea_8bcf_31c983403a9frow13_col33,#T_b56ef514_ed16_11ea_8bcf_31c983403a9frow13_col34,#T_b56ef514_ed16_11ea_8bcf_31c983403a9frow13_col35,#T_b56ef514_ed16_11ea_8bcf_31c983403a9frow13_col36,#T_b56ef514_ed16_11ea_8bcf_31c983403a9frow13_col37,#T_b56ef514_ed16_11ea_8bcf_31c983403a9frow13_col38,#T_b56ef514_ed16_11ea_8bcf_31c983403a9frow13_col39,#T_b56ef514_ed16_11ea_8bcf_31c983403a9frow13_col40,#T_b56ef514_ed16_11ea_8bcf_31c983403a9frow13_col41,#T_b56ef514_ed16_11ea_8bcf_31c983403a9frow14_col0,#T_b56ef514_ed16_11ea_8bcf_31c983403a9frow14_col1,#T_b56ef514_ed16_11ea_8bcf_31c983403a9frow14_col2,#T_b56ef514_ed16_11ea_8bcf_31c983403a9frow14_col4,#T_b56ef514_ed16_11ea_8bcf_31c983403a9frow14_col5,#T_b56ef514_ed16_11ea_8bcf_31c983403a9frow14_col6,#T_b56ef514_ed16_11ea_8bcf_31c983403a9frow14_col7,#T_b56ef514_ed16_11ea_8bcf_31c983403a9frow14_col8,#T_b56ef514_ed16_11ea_8bcf_31c983403a9frow14_col9,#T_b56ef514_ed16_11ea_8bcf_31c983403a9frow14_col10,#T_b56ef514_ed16_11ea_8bcf_31c983403a9frow14_col11,#T_b56ef514_ed16_11ea_8bcf_31c983403a9frow14_col12,#T_b56ef514_ed16_11ea_8bcf_31c983403a9frow14_col13,#T_b56ef514_ed16_11ea_8bcf_31c983403a9frow14_col14,#T_b56ef514_ed16_11ea_8bcf_31c983403a9frow14_col15,#T_b56ef514_ed16_11ea_8bcf_31c983403a9frow14_col16,#T_b56ef514_ed16_11ea_8bcf_31c983403a9frow14_col17,#T_b56ef514_ed16_11ea_8bcf_31c983403a9frow14_col18,#T_b56ef514_ed16_11ea_8bcf_31c983403a9frow14_col19,#T_b56ef514_ed16_11ea_8bcf_31c983403a9frow14_col20,#T_b56ef514_ed16_11ea_8bcf_31c983403a9frow14_col23,#T_b56ef514_ed16_11ea_8bcf_31c983403a9frow14_col24,#T_b56ef514_ed16_11ea_8bcf_31c983403a9frow14_col25,#T_b56ef514_ed16_11ea_8bcf_31c983403a9frow14_col26,#T_b56ef514_ed16_11ea_8bcf_31c983403a9frow14_col28,#T_b56ef514_ed16_11ea_8bcf_31c983403a9frow14_col30,#T_b56ef514_ed16_11ea_8bcf_31c983403a9frow14_col31,#T_b56ef514_ed16_11ea_8bcf_31c983403a9frow14_col33,#T_b56ef514_ed16_11ea_8bcf_31c983403a9frow14_col34,#T_b56ef514_ed16_11ea_8bcf_31c983403a9frow14_col35,#T_b56ef514_ed16_11ea_8bcf_31c983403a9frow14_col36,#T_b56ef514_ed16_11ea_8bcf_31c983403a9frow14_col37,#T_b56ef514_ed16_11ea_8bcf_31c983403a9frow14_col38,#T_b56ef514_ed16_11ea_8bcf_31c983403a9frow14_col39,#T_b56ef514_ed16_11ea_8bcf_31c983403a9frow14_col40,#T_b56ef514_ed16_11ea_8bcf_31c983403a9frow14_col41{\n",
       "            background-color:  white;\n",
       "            text-align:  center;\n",
       "        }#T_b56ef514_ed16_11ea_8bcf_31c983403a9frow0_col3,#T_b56ef514_ed16_11ea_8bcf_31c983403a9frow1_col3,#T_b56ef514_ed16_11ea_8bcf_31c983403a9frow2_col3,#T_b56ef514_ed16_11ea_8bcf_31c983403a9frow3_col3,#T_b56ef514_ed16_11ea_8bcf_31c983403a9frow4_col3,#T_b56ef514_ed16_11ea_8bcf_31c983403a9frow5_col3,#T_b56ef514_ed16_11ea_8bcf_31c983403a9frow6_col3,#T_b56ef514_ed16_11ea_8bcf_31c983403a9frow7_col3,#T_b56ef514_ed16_11ea_8bcf_31c983403a9frow9_col3,#T_b56ef514_ed16_11ea_8bcf_31c983403a9frow10_col3,#T_b56ef514_ed16_11ea_8bcf_31c983403a9frow11_col3,#T_b56ef514_ed16_11ea_8bcf_31c983403a9frow12_col3,#T_b56ef514_ed16_11ea_8bcf_31c983403a9frow13_col3,#T_b56ef514_ed16_11ea_8bcf_31c983403a9frow14_col3{\n",
       "            background-color:  white;\n",
       "            background-color:  white;\n",
       "            text-align:  center;\n",
       "        }#T_b56ef514_ed16_11ea_8bcf_31c983403a9frow0_col6,#T_b56ef514_ed16_11ea_8bcf_31c983403a9frow0_col21,#T_b56ef514_ed16_11ea_8bcf_31c983403a9frow0_col22,#T_b56ef514_ed16_11ea_8bcf_31c983403a9frow0_col30,#T_b56ef514_ed16_11ea_8bcf_31c983403a9frow0_col32,#T_b56ef514_ed16_11ea_8bcf_31c983403a9frow1_col6,#T_b56ef514_ed16_11ea_8bcf_31c983403a9frow1_col21,#T_b56ef514_ed16_11ea_8bcf_31c983403a9frow1_col22,#T_b56ef514_ed16_11ea_8bcf_31c983403a9frow1_col27,#T_b56ef514_ed16_11ea_8bcf_31c983403a9frow1_col32,#T_b56ef514_ed16_11ea_8bcf_31c983403a9frow2_col5,#T_b56ef514_ed16_11ea_8bcf_31c983403a9frow2_col6,#T_b56ef514_ed16_11ea_8bcf_31c983403a9frow2_col21,#T_b56ef514_ed16_11ea_8bcf_31c983403a9frow2_col22,#T_b56ef514_ed16_11ea_8bcf_31c983403a9frow2_col23,#T_b56ef514_ed16_11ea_8bcf_31c983403a9frow2_col24,#T_b56ef514_ed16_11ea_8bcf_31c983403a9frow2_col25,#T_b56ef514_ed16_11ea_8bcf_31c983403a9frow2_col26,#T_b56ef514_ed16_11ea_8bcf_31c983403a9frow2_col27,#T_b56ef514_ed16_11ea_8bcf_31c983403a9frow2_col29,#T_b56ef514_ed16_11ea_8bcf_31c983403a9frow2_col30,#T_b56ef514_ed16_11ea_8bcf_31c983403a9frow2_col31,#T_b56ef514_ed16_11ea_8bcf_31c983403a9frow2_col32,#T_b56ef514_ed16_11ea_8bcf_31c983403a9frow2_col33,#T_b56ef514_ed16_11ea_8bcf_31c983403a9frow2_col34,#T_b56ef514_ed16_11ea_8bcf_31c983403a9frow2_col35,#T_b56ef514_ed16_11ea_8bcf_31c983403a9frow2_col36,#T_b56ef514_ed16_11ea_8bcf_31c983403a9frow2_col37,#T_b56ef514_ed16_11ea_8bcf_31c983403a9frow2_col38,#T_b56ef514_ed16_11ea_8bcf_31c983403a9frow2_col39,#T_b56ef514_ed16_11ea_8bcf_31c983403a9frow2_col40,#T_b56ef514_ed16_11ea_8bcf_31c983403a9frow3_col15,#T_b56ef514_ed16_11ea_8bcf_31c983403a9frow3_col16,#T_b56ef514_ed16_11ea_8bcf_31c983403a9frow3_col17,#T_b56ef514_ed16_11ea_8bcf_31c983403a9frow3_col18,#T_b56ef514_ed16_11ea_8bcf_31c983403a9frow3_col19,#T_b56ef514_ed16_11ea_8bcf_31c983403a9frow3_col20,#T_b56ef514_ed16_11ea_8bcf_31c983403a9frow3_col21,#T_b56ef514_ed16_11ea_8bcf_31c983403a9frow3_col22,#T_b56ef514_ed16_11ea_8bcf_31c983403a9frow3_col23,#T_b56ef514_ed16_11ea_8bcf_31c983403a9frow3_col24,#T_b56ef514_ed16_11ea_8bcf_31c983403a9frow3_col25,#T_b56ef514_ed16_11ea_8bcf_31c983403a9frow3_col26,#T_b56ef514_ed16_11ea_8bcf_31c983403a9frow3_col27,#T_b56ef514_ed16_11ea_8bcf_31c983403a9frow3_col29,#T_b56ef514_ed16_11ea_8bcf_31c983403a9frow3_col32,#T_b56ef514_ed16_11ea_8bcf_31c983403a9frow4_col21,#T_b56ef514_ed16_11ea_8bcf_31c983403a9frow4_col22,#T_b56ef514_ed16_11ea_8bcf_31c983403a9frow4_col23,#T_b56ef514_ed16_11ea_8bcf_31c983403a9frow4_col25,#T_b56ef514_ed16_11ea_8bcf_31c983403a9frow4_col26,#T_b56ef514_ed16_11ea_8bcf_31c983403a9frow4_col32,#T_b56ef514_ed16_11ea_8bcf_31c983403a9frow5_col15,#T_b56ef514_ed16_11ea_8bcf_31c983403a9frow5_col16,#T_b56ef514_ed16_11ea_8bcf_31c983403a9frow5_col17,#T_b56ef514_ed16_11ea_8bcf_31c983403a9frow5_col18,#T_b56ef514_ed16_11ea_8bcf_31c983403a9frow5_col19,#T_b56ef514_ed16_11ea_8bcf_31c983403a9frow5_col20,#T_b56ef514_ed16_11ea_8bcf_31c983403a9frow5_col21,#T_b56ef514_ed16_11ea_8bcf_31c983403a9frow5_col22,#T_b56ef514_ed16_11ea_8bcf_31c983403a9frow5_col23,#T_b56ef514_ed16_11ea_8bcf_31c983403a9frow5_col24,#T_b56ef514_ed16_11ea_8bcf_31c983403a9frow5_col25,#T_b56ef514_ed16_11ea_8bcf_31c983403a9frow5_col26,#T_b56ef514_ed16_11ea_8bcf_31c983403a9frow5_col27,#T_b56ef514_ed16_11ea_8bcf_31c983403a9frow5_col29,#T_b56ef514_ed16_11ea_8bcf_31c983403a9frow5_col32,#T_b56ef514_ed16_11ea_8bcf_31c983403a9frow6_col21,#T_b56ef514_ed16_11ea_8bcf_31c983403a9frow6_col22,#T_b56ef514_ed16_11ea_8bcf_31c983403a9frow6_col27,#T_b56ef514_ed16_11ea_8bcf_31c983403a9frow6_col29,#T_b56ef514_ed16_11ea_8bcf_31c983403a9frow6_col30,#T_b56ef514_ed16_11ea_8bcf_31c983403a9frow6_col32,#T_b56ef514_ed16_11ea_8bcf_31c983403a9frow7_col6,#T_b56ef514_ed16_11ea_8bcf_31c983403a9frow7_col21,#T_b56ef514_ed16_11ea_8bcf_31c983403a9frow7_col22,#T_b56ef514_ed16_11ea_8bcf_31c983403a9frow7_col23,#T_b56ef514_ed16_11ea_8bcf_31c983403a9frow7_col25,#T_b56ef514_ed16_11ea_8bcf_31c983403a9frow7_col26,#T_b56ef514_ed16_11ea_8bcf_31c983403a9frow7_col27,#T_b56ef514_ed16_11ea_8bcf_31c983403a9frow7_col29,#T_b56ef514_ed16_11ea_8bcf_31c983403a9frow7_col30,#T_b56ef514_ed16_11ea_8bcf_31c983403a9frow7_col32,#T_b56ef514_ed16_11ea_8bcf_31c983403a9frow8_col21,#T_b56ef514_ed16_11ea_8bcf_31c983403a9frow8_col22,#T_b56ef514_ed16_11ea_8bcf_31c983403a9frow8_col24,#T_b56ef514_ed16_11ea_8bcf_31c983403a9frow8_col25,#T_b56ef514_ed16_11ea_8bcf_31c983403a9frow8_col26,#T_b56ef514_ed16_11ea_8bcf_31c983403a9frow8_col32,#T_b56ef514_ed16_11ea_8bcf_31c983403a9frow9_col21,#T_b56ef514_ed16_11ea_8bcf_31c983403a9frow9_col22,#T_b56ef514_ed16_11ea_8bcf_31c983403a9frow9_col27,#T_b56ef514_ed16_11ea_8bcf_31c983403a9frow9_col29,#T_b56ef514_ed16_11ea_8bcf_31c983403a9frow9_col32,#T_b56ef514_ed16_11ea_8bcf_31c983403a9frow10_col15,#T_b56ef514_ed16_11ea_8bcf_31c983403a9frow10_col16,#T_b56ef514_ed16_11ea_8bcf_31c983403a9frow10_col17,#T_b56ef514_ed16_11ea_8bcf_31c983403a9frow10_col18,#T_b56ef514_ed16_11ea_8bcf_31c983403a9frow10_col19,#T_b56ef514_ed16_11ea_8bcf_31c983403a9frow10_col20,#T_b56ef514_ed16_11ea_8bcf_31c983403a9frow10_col21,#T_b56ef514_ed16_11ea_8bcf_31c983403a9frow10_col22,#T_b56ef514_ed16_11ea_8bcf_31c983403a9frow10_col23,#T_b56ef514_ed16_11ea_8bcf_31c983403a9frow10_col24,#T_b56ef514_ed16_11ea_8bcf_31c983403a9frow10_col25,#T_b56ef514_ed16_11ea_8bcf_31c983403a9frow10_col26,#T_b56ef514_ed16_11ea_8bcf_31c983403a9frow10_col27,#T_b56ef514_ed16_11ea_8bcf_31c983403a9frow10_col29,#T_b56ef514_ed16_11ea_8bcf_31c983403a9frow10_col32,#T_b56ef514_ed16_11ea_8bcf_31c983403a9frow11_col21,#T_b56ef514_ed16_11ea_8bcf_31c983403a9frow11_col22,#T_b56ef514_ed16_11ea_8bcf_31c983403a9frow11_col29,#T_b56ef514_ed16_11ea_8bcf_31c983403a9frow11_col32,#T_b56ef514_ed16_11ea_8bcf_31c983403a9frow12_col6,#T_b56ef514_ed16_11ea_8bcf_31c983403a9frow12_col21,#T_b56ef514_ed16_11ea_8bcf_31c983403a9frow12_col22,#T_b56ef514_ed16_11ea_8bcf_31c983403a9frow12_col23,#T_b56ef514_ed16_11ea_8bcf_31c983403a9frow12_col25,#T_b56ef514_ed16_11ea_8bcf_31c983403a9frow12_col26,#T_b56ef514_ed16_11ea_8bcf_31c983403a9frow12_col27,#T_b56ef514_ed16_11ea_8bcf_31c983403a9frow12_col29,#T_b56ef514_ed16_11ea_8bcf_31c983403a9frow12_col32,#T_b56ef514_ed16_11ea_8bcf_31c983403a9frow13_col19,#T_b56ef514_ed16_11ea_8bcf_31c983403a9frow13_col21,#T_b56ef514_ed16_11ea_8bcf_31c983403a9frow13_col25,#T_b56ef514_ed16_11ea_8bcf_31c983403a9frow13_col26,#T_b56ef514_ed16_11ea_8bcf_31c983403a9frow13_col29,#T_b56ef514_ed16_11ea_8bcf_31c983403a9frow13_col32,#T_b56ef514_ed16_11ea_8bcf_31c983403a9frow14_col21,#T_b56ef514_ed16_11ea_8bcf_31c983403a9frow14_col22,#T_b56ef514_ed16_11ea_8bcf_31c983403a9frow14_col27,#T_b56ef514_ed16_11ea_8bcf_31c983403a9frow14_col29,#T_b56ef514_ed16_11ea_8bcf_31c983403a9frow14_col32{\n",
       "            background-color:  grey;\n",
       "            text-align:  center;\n",
       "        }#T_b56ef514_ed16_11ea_8bcf_31c983403a9frow8_col3{\n",
       "            background-color:  white;\n",
       "            background-color:  red;\n",
       "            text-align:  center;\n",
       "        }</style><table id=\"T_b56ef514_ed16_11ea_8bcf_31c983403a9f\" ><thead>    <tr>        <th class=\"blank level0\" ></th>        <th class=\"col_heading level0 col0\" >batch_date</th>        <th class=\"col_heading level0 col1\" >test_name</th>        <th class=\"col_heading level0 col2\" >swab_type</th>        <th class=\"col_heading level0 col3\" >covid19_test_results</th>        <th class=\"col_heading level0 col4\" >age</th>        <th class=\"col_heading level0 col5\" >high_risk_exposure_occupation</th>        <th class=\"col_heading level0 col6\" >high_risk_interactions</th>        <th class=\"col_heading level0 col7\" >diabetes</th>        <th class=\"col_heading level0 col8\" >chd</th>        <th class=\"col_heading level0 col9\" >htn</th>        <th class=\"col_heading level0 col10\" >cancer</th>        <th class=\"col_heading level0 col11\" >asthma</th>        <th class=\"col_heading level0 col12\" >copd</th>        <th class=\"col_heading level0 col13\" >autoimmune_dis</th>        <th class=\"col_heading level0 col14\" >smoker</th>        <th class=\"col_heading level0 col15\" >temperature</th>        <th class=\"col_heading level0 col16\" >pulse</th>        <th class=\"col_heading level0 col17\" >sys</th>        <th class=\"col_heading level0 col18\" >dia</th>        <th class=\"col_heading level0 col19\" >rr</th>        <th class=\"col_heading level0 col20\" >sats</th>        <th class=\"col_heading level0 col21\" >rapid_flu_results</th>        <th class=\"col_heading level0 col22\" >rapid_strep_results</th>        <th class=\"col_heading level0 col23\" >ctab</th>        <th class=\"col_heading level0 col24\" >labored_respiration</th>        <th class=\"col_heading level0 col25\" >rhonchi</th>        <th class=\"col_heading level0 col26\" >wheezes</th>        <th class=\"col_heading level0 col27\" >days_since_symptom_onset</th>        <th class=\"col_heading level0 col28\" >cough</th>        <th class=\"col_heading level0 col29\" >cough_severity</th>        <th class=\"col_heading level0 col30\" >fever</th>        <th class=\"col_heading level0 col31\" >sob</th>        <th class=\"col_heading level0 col32\" >sob_severity</th>        <th class=\"col_heading level0 col33\" >diarrhea</th>        <th class=\"col_heading level0 col34\" >fatigue</th>        <th class=\"col_heading level0 col35\" >headache</th>        <th class=\"col_heading level0 col36\" >loss_of_smell</th>        <th class=\"col_heading level0 col37\" >loss_of_taste</th>        <th class=\"col_heading level0 col38\" >runny_nose</th>        <th class=\"col_heading level0 col39\" >muscle_sore</th>        <th class=\"col_heading level0 col40\" >sore_throat</th>        <th class=\"col_heading level0 col41\" >er_referral</th>    </tr></thead><tbody>\n",
       "                <tr>\n",
       "                        <th id=\"T_b56ef514_ed16_11ea_8bcf_31c983403a9flevel0_row0\" class=\"row_heading level0 row0\" >0</th>\n",
       "                        <td id=\"T_b56ef514_ed16_11ea_8bcf_31c983403a9frow0_col0\" class=\"data row0 col0\" >2020-04-07</td>\n",
       "                        <td id=\"T_b56ef514_ed16_11ea_8bcf_31c983403a9frow0_col1\" class=\"data row0 col1\" >SARS COV 2 RNA RTPCR</td>\n",
       "                        <td id=\"T_b56ef514_ed16_11ea_8bcf_31c983403a9frow0_col2\" class=\"data row0 col2\" >Nasopharyngeal</td>\n",
       "                        <td id=\"T_b56ef514_ed16_11ea_8bcf_31c983403a9frow0_col3\" class=\"data row0 col3\" >False</td>\n",
       "                        <td id=\"T_b56ef514_ed16_11ea_8bcf_31c983403a9frow0_col4\" class=\"data row0 col4\" >58</td>\n",
       "                        <td id=\"T_b56ef514_ed16_11ea_8bcf_31c983403a9frow0_col5\" class=\"data row0 col5\" >True</td>\n",
       "                        <td id=\"T_b56ef514_ed16_11ea_8bcf_31c983403a9frow0_col6\" class=\"data row0 col6\" >nan</td>\n",
       "                        <td id=\"T_b56ef514_ed16_11ea_8bcf_31c983403a9frow0_col7\" class=\"data row0 col7\" >False</td>\n",
       "                        <td id=\"T_b56ef514_ed16_11ea_8bcf_31c983403a9frow0_col8\" class=\"data row0 col8\" >False</td>\n",
       "                        <td id=\"T_b56ef514_ed16_11ea_8bcf_31c983403a9frow0_col9\" class=\"data row0 col9\" >False</td>\n",
       "                        <td id=\"T_b56ef514_ed16_11ea_8bcf_31c983403a9frow0_col10\" class=\"data row0 col10\" >False</td>\n",
       "                        <td id=\"T_b56ef514_ed16_11ea_8bcf_31c983403a9frow0_col11\" class=\"data row0 col11\" >False</td>\n",
       "                        <td id=\"T_b56ef514_ed16_11ea_8bcf_31c983403a9frow0_col12\" class=\"data row0 col12\" >False</td>\n",
       "                        <td id=\"T_b56ef514_ed16_11ea_8bcf_31c983403a9frow0_col13\" class=\"data row0 col13\" >False</td>\n",
       "                        <td id=\"T_b56ef514_ed16_11ea_8bcf_31c983403a9frow0_col14\" class=\"data row0 col14\" >False</td>\n",
       "                        <td id=\"T_b56ef514_ed16_11ea_8bcf_31c983403a9frow0_col15\" class=\"data row0 col15\" >36.950000</td>\n",
       "                        <td id=\"T_b56ef514_ed16_11ea_8bcf_31c983403a9frow0_col16\" class=\"data row0 col16\" >81.000000</td>\n",
       "                        <td id=\"T_b56ef514_ed16_11ea_8bcf_31c983403a9frow0_col17\" class=\"data row0 col17\" >126.000000</td>\n",
       "                        <td id=\"T_b56ef514_ed16_11ea_8bcf_31c983403a9frow0_col18\" class=\"data row0 col18\" >82.000000</td>\n",
       "                        <td id=\"T_b56ef514_ed16_11ea_8bcf_31c983403a9frow0_col19\" class=\"data row0 col19\" >18.000000</td>\n",
       "                        <td id=\"T_b56ef514_ed16_11ea_8bcf_31c983403a9frow0_col20\" class=\"data row0 col20\" >97.000000</td>\n",
       "                        <td id=\"T_b56ef514_ed16_11ea_8bcf_31c983403a9frow0_col21\" class=\"data row0 col21\" >nan</td>\n",
       "                        <td id=\"T_b56ef514_ed16_11ea_8bcf_31c983403a9frow0_col22\" class=\"data row0 col22\" >nan</td>\n",
       "                        <td id=\"T_b56ef514_ed16_11ea_8bcf_31c983403a9frow0_col23\" class=\"data row0 col23\" >False</td>\n",
       "                        <td id=\"T_b56ef514_ed16_11ea_8bcf_31c983403a9frow0_col24\" class=\"data row0 col24\" >False</td>\n",
       "                        <td id=\"T_b56ef514_ed16_11ea_8bcf_31c983403a9frow0_col25\" class=\"data row0 col25\" >False</td>\n",
       "                        <td id=\"T_b56ef514_ed16_11ea_8bcf_31c983403a9frow0_col26\" class=\"data row0 col26\" >False</td>\n",
       "                        <td id=\"T_b56ef514_ed16_11ea_8bcf_31c983403a9frow0_col27\" class=\"data row0 col27\" >28.000000</td>\n",
       "                        <td id=\"T_b56ef514_ed16_11ea_8bcf_31c983403a9frow0_col28\" class=\"data row0 col28\" >True</td>\n",
       "                        <td id=\"T_b56ef514_ed16_11ea_8bcf_31c983403a9frow0_col29\" class=\"data row0 col29\" >Severe</td>\n",
       "                        <td id=\"T_b56ef514_ed16_11ea_8bcf_31c983403a9frow0_col30\" class=\"data row0 col30\" >nan</td>\n",
       "                        <td id=\"T_b56ef514_ed16_11ea_8bcf_31c983403a9frow0_col31\" class=\"data row0 col31\" >False</td>\n",
       "                        <td id=\"T_b56ef514_ed16_11ea_8bcf_31c983403a9frow0_col32\" class=\"data row0 col32\" >nan</td>\n",
       "                        <td id=\"T_b56ef514_ed16_11ea_8bcf_31c983403a9frow0_col33\" class=\"data row0 col33\" >False</td>\n",
       "                        <td id=\"T_b56ef514_ed16_11ea_8bcf_31c983403a9frow0_col34\" class=\"data row0 col34\" >False</td>\n",
       "                        <td id=\"T_b56ef514_ed16_11ea_8bcf_31c983403a9frow0_col35\" class=\"data row0 col35\" >False</td>\n",
       "                        <td id=\"T_b56ef514_ed16_11ea_8bcf_31c983403a9frow0_col36\" class=\"data row0 col36\" >False</td>\n",
       "                        <td id=\"T_b56ef514_ed16_11ea_8bcf_31c983403a9frow0_col37\" class=\"data row0 col37\" >False</td>\n",
       "                        <td id=\"T_b56ef514_ed16_11ea_8bcf_31c983403a9frow0_col38\" class=\"data row0 col38\" >False</td>\n",
       "                        <td id=\"T_b56ef514_ed16_11ea_8bcf_31c983403a9frow0_col39\" class=\"data row0 col39\" >False</td>\n",
       "                        <td id=\"T_b56ef514_ed16_11ea_8bcf_31c983403a9frow0_col40\" class=\"data row0 col40\" >False</td>\n",
       "                        <td id=\"T_b56ef514_ed16_11ea_8bcf_31c983403a9frow0_col41\" class=\"data row0 col41\" >False</td>\n",
       "            </tr>\n",
       "            <tr>\n",
       "                        <th id=\"T_b56ef514_ed16_11ea_8bcf_31c983403a9flevel0_row1\" class=\"row_heading level0 row1\" >1</th>\n",
       "                        <td id=\"T_b56ef514_ed16_11ea_8bcf_31c983403a9frow1_col0\" class=\"data row1 col0\" >2020-04-07</td>\n",
       "                        <td id=\"T_b56ef514_ed16_11ea_8bcf_31c983403a9frow1_col1\" class=\"data row1 col1\" >SARS-CoV-2, NAA</td>\n",
       "                        <td id=\"T_b56ef514_ed16_11ea_8bcf_31c983403a9frow1_col2\" class=\"data row1 col2\" >Oropharyngeal</td>\n",
       "                        <td id=\"T_b56ef514_ed16_11ea_8bcf_31c983403a9frow1_col3\" class=\"data row1 col3\" >False</td>\n",
       "                        <td id=\"T_b56ef514_ed16_11ea_8bcf_31c983403a9frow1_col4\" class=\"data row1 col4\" >35</td>\n",
       "                        <td id=\"T_b56ef514_ed16_11ea_8bcf_31c983403a9frow1_col5\" class=\"data row1 col5\" >False</td>\n",
       "                        <td id=\"T_b56ef514_ed16_11ea_8bcf_31c983403a9frow1_col6\" class=\"data row1 col6\" >nan</td>\n",
       "                        <td id=\"T_b56ef514_ed16_11ea_8bcf_31c983403a9frow1_col7\" class=\"data row1 col7\" >False</td>\n",
       "                        <td id=\"T_b56ef514_ed16_11ea_8bcf_31c983403a9frow1_col8\" class=\"data row1 col8\" >False</td>\n",
       "                        <td id=\"T_b56ef514_ed16_11ea_8bcf_31c983403a9frow1_col9\" class=\"data row1 col9\" >False</td>\n",
       "                        <td id=\"T_b56ef514_ed16_11ea_8bcf_31c983403a9frow1_col10\" class=\"data row1 col10\" >False</td>\n",
       "                        <td id=\"T_b56ef514_ed16_11ea_8bcf_31c983403a9frow1_col11\" class=\"data row1 col11\" >False</td>\n",
       "                        <td id=\"T_b56ef514_ed16_11ea_8bcf_31c983403a9frow1_col12\" class=\"data row1 col12\" >False</td>\n",
       "                        <td id=\"T_b56ef514_ed16_11ea_8bcf_31c983403a9frow1_col13\" class=\"data row1 col13\" >False</td>\n",
       "                        <td id=\"T_b56ef514_ed16_11ea_8bcf_31c983403a9frow1_col14\" class=\"data row1 col14\" >False</td>\n",
       "                        <td id=\"T_b56ef514_ed16_11ea_8bcf_31c983403a9frow1_col15\" class=\"data row1 col15\" >36.750000</td>\n",
       "                        <td id=\"T_b56ef514_ed16_11ea_8bcf_31c983403a9frow1_col16\" class=\"data row1 col16\" >77.000000</td>\n",
       "                        <td id=\"T_b56ef514_ed16_11ea_8bcf_31c983403a9frow1_col17\" class=\"data row1 col17\" >131.000000</td>\n",
       "                        <td id=\"T_b56ef514_ed16_11ea_8bcf_31c983403a9frow1_col18\" class=\"data row1 col18\" >86.000000</td>\n",
       "                        <td id=\"T_b56ef514_ed16_11ea_8bcf_31c983403a9frow1_col19\" class=\"data row1 col19\" >16.000000</td>\n",
       "                        <td id=\"T_b56ef514_ed16_11ea_8bcf_31c983403a9frow1_col20\" class=\"data row1 col20\" >98.000000</td>\n",
       "                        <td id=\"T_b56ef514_ed16_11ea_8bcf_31c983403a9frow1_col21\" class=\"data row1 col21\" >nan</td>\n",
       "                        <td id=\"T_b56ef514_ed16_11ea_8bcf_31c983403a9frow1_col22\" class=\"data row1 col22\" >nan</td>\n",
       "                        <td id=\"T_b56ef514_ed16_11ea_8bcf_31c983403a9frow1_col23\" class=\"data row1 col23\" >False</td>\n",
       "                        <td id=\"T_b56ef514_ed16_11ea_8bcf_31c983403a9frow1_col24\" class=\"data row1 col24\" >False</td>\n",
       "                        <td id=\"T_b56ef514_ed16_11ea_8bcf_31c983403a9frow1_col25\" class=\"data row1 col25\" >False</td>\n",
       "                        <td id=\"T_b56ef514_ed16_11ea_8bcf_31c983403a9frow1_col26\" class=\"data row1 col26\" >False</td>\n",
       "                        <td id=\"T_b56ef514_ed16_11ea_8bcf_31c983403a9frow1_col27\" class=\"data row1 col27\" >nan</td>\n",
       "                        <td id=\"T_b56ef514_ed16_11ea_8bcf_31c983403a9frow1_col28\" class=\"data row1 col28\" >True</td>\n",
       "                        <td id=\"T_b56ef514_ed16_11ea_8bcf_31c983403a9frow1_col29\" class=\"data row1 col29\" >Mild</td>\n",
       "                        <td id=\"T_b56ef514_ed16_11ea_8bcf_31c983403a9frow1_col30\" class=\"data row1 col30\" >False</td>\n",
       "                        <td id=\"T_b56ef514_ed16_11ea_8bcf_31c983403a9frow1_col31\" class=\"data row1 col31\" >False</td>\n",
       "                        <td id=\"T_b56ef514_ed16_11ea_8bcf_31c983403a9frow1_col32\" class=\"data row1 col32\" >nan</td>\n",
       "                        <td id=\"T_b56ef514_ed16_11ea_8bcf_31c983403a9frow1_col33\" class=\"data row1 col33\" >False</td>\n",
       "                        <td id=\"T_b56ef514_ed16_11ea_8bcf_31c983403a9frow1_col34\" class=\"data row1 col34\" >False</td>\n",
       "                        <td id=\"T_b56ef514_ed16_11ea_8bcf_31c983403a9frow1_col35\" class=\"data row1 col35\" >False</td>\n",
       "                        <td id=\"T_b56ef514_ed16_11ea_8bcf_31c983403a9frow1_col36\" class=\"data row1 col36\" >False</td>\n",
       "                        <td id=\"T_b56ef514_ed16_11ea_8bcf_31c983403a9frow1_col37\" class=\"data row1 col37\" >False</td>\n",
       "                        <td id=\"T_b56ef514_ed16_11ea_8bcf_31c983403a9frow1_col38\" class=\"data row1 col38\" >False</td>\n",
       "                        <td id=\"T_b56ef514_ed16_11ea_8bcf_31c983403a9frow1_col39\" class=\"data row1 col39\" >False</td>\n",
       "                        <td id=\"T_b56ef514_ed16_11ea_8bcf_31c983403a9frow1_col40\" class=\"data row1 col40\" >False</td>\n",
       "                        <td id=\"T_b56ef514_ed16_11ea_8bcf_31c983403a9frow1_col41\" class=\"data row1 col41\" >False</td>\n",
       "            </tr>\n",
       "            <tr>\n",
       "                        <th id=\"T_b56ef514_ed16_11ea_8bcf_31c983403a9flevel0_row2\" class=\"row_heading level0 row2\" >2</th>\n",
       "                        <td id=\"T_b56ef514_ed16_11ea_8bcf_31c983403a9frow2_col0\" class=\"data row2 col0\" >2020-04-07</td>\n",
       "                        <td id=\"T_b56ef514_ed16_11ea_8bcf_31c983403a9frow2_col1\" class=\"data row2 col1\" >SARS CoV w/CoV 2 RNA</td>\n",
       "                        <td id=\"T_b56ef514_ed16_11ea_8bcf_31c983403a9frow2_col2\" class=\"data row2 col2\" >Oropharyngeal</td>\n",
       "                        <td id=\"T_b56ef514_ed16_11ea_8bcf_31c983403a9frow2_col3\" class=\"data row2 col3\" >False</td>\n",
       "                        <td id=\"T_b56ef514_ed16_11ea_8bcf_31c983403a9frow2_col4\" class=\"data row2 col4\" >12</td>\n",
       "                        <td id=\"T_b56ef514_ed16_11ea_8bcf_31c983403a9frow2_col5\" class=\"data row2 col5\" >nan</td>\n",
       "                        <td id=\"T_b56ef514_ed16_11ea_8bcf_31c983403a9frow2_col6\" class=\"data row2 col6\" >nan</td>\n",
       "                        <td id=\"T_b56ef514_ed16_11ea_8bcf_31c983403a9frow2_col7\" class=\"data row2 col7\" >False</td>\n",
       "                        <td id=\"T_b56ef514_ed16_11ea_8bcf_31c983403a9frow2_col8\" class=\"data row2 col8\" >False</td>\n",
       "                        <td id=\"T_b56ef514_ed16_11ea_8bcf_31c983403a9frow2_col9\" class=\"data row2 col9\" >False</td>\n",
       "                        <td id=\"T_b56ef514_ed16_11ea_8bcf_31c983403a9frow2_col10\" class=\"data row2 col10\" >False</td>\n",
       "                        <td id=\"T_b56ef514_ed16_11ea_8bcf_31c983403a9frow2_col11\" class=\"data row2 col11\" >False</td>\n",
       "                        <td id=\"T_b56ef514_ed16_11ea_8bcf_31c983403a9frow2_col12\" class=\"data row2 col12\" >False</td>\n",
       "                        <td id=\"T_b56ef514_ed16_11ea_8bcf_31c983403a9frow2_col13\" class=\"data row2 col13\" >False</td>\n",
       "                        <td id=\"T_b56ef514_ed16_11ea_8bcf_31c983403a9frow2_col14\" class=\"data row2 col14\" >False</td>\n",
       "                        <td id=\"T_b56ef514_ed16_11ea_8bcf_31c983403a9frow2_col15\" class=\"data row2 col15\" >36.950000</td>\n",
       "                        <td id=\"T_b56ef514_ed16_11ea_8bcf_31c983403a9frow2_col16\" class=\"data row2 col16\" >74.000000</td>\n",
       "                        <td id=\"T_b56ef514_ed16_11ea_8bcf_31c983403a9frow2_col17\" class=\"data row2 col17\" >122.000000</td>\n",
       "                        <td id=\"T_b56ef514_ed16_11ea_8bcf_31c983403a9frow2_col18\" class=\"data row2 col18\" >73.000000</td>\n",
       "                        <td id=\"T_b56ef514_ed16_11ea_8bcf_31c983403a9frow2_col19\" class=\"data row2 col19\" >17.000000</td>\n",
       "                        <td id=\"T_b56ef514_ed16_11ea_8bcf_31c983403a9frow2_col20\" class=\"data row2 col20\" >98.000000</td>\n",
       "                        <td id=\"T_b56ef514_ed16_11ea_8bcf_31c983403a9frow2_col21\" class=\"data row2 col21\" >nan</td>\n",
       "                        <td id=\"T_b56ef514_ed16_11ea_8bcf_31c983403a9frow2_col22\" class=\"data row2 col22\" >nan</td>\n",
       "                        <td id=\"T_b56ef514_ed16_11ea_8bcf_31c983403a9frow2_col23\" class=\"data row2 col23\" >nan</td>\n",
       "                        <td id=\"T_b56ef514_ed16_11ea_8bcf_31c983403a9frow2_col24\" class=\"data row2 col24\" >nan</td>\n",
       "                        <td id=\"T_b56ef514_ed16_11ea_8bcf_31c983403a9frow2_col25\" class=\"data row2 col25\" >nan</td>\n",
       "                        <td id=\"T_b56ef514_ed16_11ea_8bcf_31c983403a9frow2_col26\" class=\"data row2 col26\" >nan</td>\n",
       "                        <td id=\"T_b56ef514_ed16_11ea_8bcf_31c983403a9frow2_col27\" class=\"data row2 col27\" >nan</td>\n",
       "                        <td id=\"T_b56ef514_ed16_11ea_8bcf_31c983403a9frow2_col28\" class=\"data row2 col28\" >False</td>\n",
       "                        <td id=\"T_b56ef514_ed16_11ea_8bcf_31c983403a9frow2_col29\" class=\"data row2 col29\" >nan</td>\n",
       "                        <td id=\"T_b56ef514_ed16_11ea_8bcf_31c983403a9frow2_col30\" class=\"data row2 col30\" >nan</td>\n",
       "                        <td id=\"T_b56ef514_ed16_11ea_8bcf_31c983403a9frow2_col31\" class=\"data row2 col31\" >nan</td>\n",
       "                        <td id=\"T_b56ef514_ed16_11ea_8bcf_31c983403a9frow2_col32\" class=\"data row2 col32\" >nan</td>\n",
       "                        <td id=\"T_b56ef514_ed16_11ea_8bcf_31c983403a9frow2_col33\" class=\"data row2 col33\" >nan</td>\n",
       "                        <td id=\"T_b56ef514_ed16_11ea_8bcf_31c983403a9frow2_col34\" class=\"data row2 col34\" >nan</td>\n",
       "                        <td id=\"T_b56ef514_ed16_11ea_8bcf_31c983403a9frow2_col35\" class=\"data row2 col35\" >nan</td>\n",
       "                        <td id=\"T_b56ef514_ed16_11ea_8bcf_31c983403a9frow2_col36\" class=\"data row2 col36\" >nan</td>\n",
       "                        <td id=\"T_b56ef514_ed16_11ea_8bcf_31c983403a9frow2_col37\" class=\"data row2 col37\" >nan</td>\n",
       "                        <td id=\"T_b56ef514_ed16_11ea_8bcf_31c983403a9frow2_col38\" class=\"data row2 col38\" >nan</td>\n",
       "                        <td id=\"T_b56ef514_ed16_11ea_8bcf_31c983403a9frow2_col39\" class=\"data row2 col39\" >nan</td>\n",
       "                        <td id=\"T_b56ef514_ed16_11ea_8bcf_31c983403a9frow2_col40\" class=\"data row2 col40\" >nan</td>\n",
       "                        <td id=\"T_b56ef514_ed16_11ea_8bcf_31c983403a9frow2_col41\" class=\"data row2 col41\" >False</td>\n",
       "            </tr>\n",
       "            <tr>\n",
       "                        <th id=\"T_b56ef514_ed16_11ea_8bcf_31c983403a9flevel0_row3\" class=\"row_heading level0 row3\" >2791</th>\n",
       "                        <td id=\"T_b56ef514_ed16_11ea_8bcf_31c983403a9frow3_col0\" class=\"data row3 col0\" >2020-04-28</td>\n",
       "                        <td id=\"T_b56ef514_ed16_11ea_8bcf_31c983403a9frow3_col1\" class=\"data row3 col1\" >Rapid COVID-19 Test</td>\n",
       "                        <td id=\"T_b56ef514_ed16_11ea_8bcf_31c983403a9frow3_col2\" class=\"data row3 col2\" >Nasopharyngeal</td>\n",
       "                        <td id=\"T_b56ef514_ed16_11ea_8bcf_31c983403a9frow3_col3\" class=\"data row3 col3\" >False</td>\n",
       "                        <td id=\"T_b56ef514_ed16_11ea_8bcf_31c983403a9frow3_col4\" class=\"data row3 col4\" >56</td>\n",
       "                        <td id=\"T_b56ef514_ed16_11ea_8bcf_31c983403a9frow3_col5\" class=\"data row3 col5\" >False</td>\n",
       "                        <td id=\"T_b56ef514_ed16_11ea_8bcf_31c983403a9frow3_col6\" class=\"data row3 col6\" >False</td>\n",
       "                        <td id=\"T_b56ef514_ed16_11ea_8bcf_31c983403a9frow3_col7\" class=\"data row3 col7\" >False</td>\n",
       "                        <td id=\"T_b56ef514_ed16_11ea_8bcf_31c983403a9frow3_col8\" class=\"data row3 col8\" >True</td>\n",
       "                        <td id=\"T_b56ef514_ed16_11ea_8bcf_31c983403a9frow3_col9\" class=\"data row3 col9\" >True</td>\n",
       "                        <td id=\"T_b56ef514_ed16_11ea_8bcf_31c983403a9frow3_col10\" class=\"data row3 col10\" >False</td>\n",
       "                        <td id=\"T_b56ef514_ed16_11ea_8bcf_31c983403a9frow3_col11\" class=\"data row3 col11\" >False</td>\n",
       "                        <td id=\"T_b56ef514_ed16_11ea_8bcf_31c983403a9frow3_col12\" class=\"data row3 col12\" >False</td>\n",
       "                        <td id=\"T_b56ef514_ed16_11ea_8bcf_31c983403a9frow3_col13\" class=\"data row3 col13\" >False</td>\n",
       "                        <td id=\"T_b56ef514_ed16_11ea_8bcf_31c983403a9frow3_col14\" class=\"data row3 col14\" >False</td>\n",
       "                        <td id=\"T_b56ef514_ed16_11ea_8bcf_31c983403a9frow3_col15\" class=\"data row3 col15\" >nan</td>\n",
       "                        <td id=\"T_b56ef514_ed16_11ea_8bcf_31c983403a9frow3_col16\" class=\"data row3 col16\" >nan</td>\n",
       "                        <td id=\"T_b56ef514_ed16_11ea_8bcf_31c983403a9frow3_col17\" class=\"data row3 col17\" >nan</td>\n",
       "                        <td id=\"T_b56ef514_ed16_11ea_8bcf_31c983403a9frow3_col18\" class=\"data row3 col18\" >nan</td>\n",
       "                        <td id=\"T_b56ef514_ed16_11ea_8bcf_31c983403a9frow3_col19\" class=\"data row3 col19\" >nan</td>\n",
       "                        <td id=\"T_b56ef514_ed16_11ea_8bcf_31c983403a9frow3_col20\" class=\"data row3 col20\" >nan</td>\n",
       "                        <td id=\"T_b56ef514_ed16_11ea_8bcf_31c983403a9frow3_col21\" class=\"data row3 col21\" >nan</td>\n",
       "                        <td id=\"T_b56ef514_ed16_11ea_8bcf_31c983403a9frow3_col22\" class=\"data row3 col22\" >nan</td>\n",
       "                        <td id=\"T_b56ef514_ed16_11ea_8bcf_31c983403a9frow3_col23\" class=\"data row3 col23\" >nan</td>\n",
       "                        <td id=\"T_b56ef514_ed16_11ea_8bcf_31c983403a9frow3_col24\" class=\"data row3 col24\" >nan</td>\n",
       "                        <td id=\"T_b56ef514_ed16_11ea_8bcf_31c983403a9frow3_col25\" class=\"data row3 col25\" >nan</td>\n",
       "                        <td id=\"T_b56ef514_ed16_11ea_8bcf_31c983403a9frow3_col26\" class=\"data row3 col26\" >nan</td>\n",
       "                        <td id=\"T_b56ef514_ed16_11ea_8bcf_31c983403a9frow3_col27\" class=\"data row3 col27\" >nan</td>\n",
       "                        <td id=\"T_b56ef514_ed16_11ea_8bcf_31c983403a9frow3_col28\" class=\"data row3 col28\" >False</td>\n",
       "                        <td id=\"T_b56ef514_ed16_11ea_8bcf_31c983403a9frow3_col29\" class=\"data row3 col29\" >nan</td>\n",
       "                        <td id=\"T_b56ef514_ed16_11ea_8bcf_31c983403a9frow3_col30\" class=\"data row3 col30\" >False</td>\n",
       "                        <td id=\"T_b56ef514_ed16_11ea_8bcf_31c983403a9frow3_col31\" class=\"data row3 col31\" >False</td>\n",
       "                        <td id=\"T_b56ef514_ed16_11ea_8bcf_31c983403a9frow3_col32\" class=\"data row3 col32\" >nan</td>\n",
       "                        <td id=\"T_b56ef514_ed16_11ea_8bcf_31c983403a9frow3_col33\" class=\"data row3 col33\" >False</td>\n",
       "                        <td id=\"T_b56ef514_ed16_11ea_8bcf_31c983403a9frow3_col34\" class=\"data row3 col34\" >False</td>\n",
       "                        <td id=\"T_b56ef514_ed16_11ea_8bcf_31c983403a9frow3_col35\" class=\"data row3 col35\" >False</td>\n",
       "                        <td id=\"T_b56ef514_ed16_11ea_8bcf_31c983403a9frow3_col36\" class=\"data row3 col36\" >False</td>\n",
       "                        <td id=\"T_b56ef514_ed16_11ea_8bcf_31c983403a9frow3_col37\" class=\"data row3 col37\" >False</td>\n",
       "                        <td id=\"T_b56ef514_ed16_11ea_8bcf_31c983403a9frow3_col38\" class=\"data row3 col38\" >False</td>\n",
       "                        <td id=\"T_b56ef514_ed16_11ea_8bcf_31c983403a9frow3_col39\" class=\"data row3 col39\" >False</td>\n",
       "                        <td id=\"T_b56ef514_ed16_11ea_8bcf_31c983403a9frow3_col40\" class=\"data row3 col40\" >False</td>\n",
       "                        <td id=\"T_b56ef514_ed16_11ea_8bcf_31c983403a9frow3_col41\" class=\"data row3 col41\" >False</td>\n",
       "            </tr>\n",
       "            <tr>\n",
       "                        <th id=\"T_b56ef514_ed16_11ea_8bcf_31c983403a9flevel0_row4\" class=\"row_heading level0 row4\" >2792</th>\n",
       "                        <td id=\"T_b56ef514_ed16_11ea_8bcf_31c983403a9frow4_col0\" class=\"data row4 col0\" >2020-04-28</td>\n",
       "                        <td id=\"T_b56ef514_ed16_11ea_8bcf_31c983403a9frow4_col1\" class=\"data row4 col1\" >Rapid COVID-19 Test</td>\n",
       "                        <td id=\"T_b56ef514_ed16_11ea_8bcf_31c983403a9frow4_col2\" class=\"data row4 col2\" >Nasal</td>\n",
       "                        <td id=\"T_b56ef514_ed16_11ea_8bcf_31c983403a9frow4_col3\" class=\"data row4 col3\" >False</td>\n",
       "                        <td id=\"T_b56ef514_ed16_11ea_8bcf_31c983403a9frow4_col4\" class=\"data row4 col4\" >73</td>\n",
       "                        <td id=\"T_b56ef514_ed16_11ea_8bcf_31c983403a9frow4_col5\" class=\"data row4 col5\" >False</td>\n",
       "                        <td id=\"T_b56ef514_ed16_11ea_8bcf_31c983403a9frow4_col6\" class=\"data row4 col6\" >True</td>\n",
       "                        <td id=\"T_b56ef514_ed16_11ea_8bcf_31c983403a9frow4_col7\" class=\"data row4 col7\" >False</td>\n",
       "                        <td id=\"T_b56ef514_ed16_11ea_8bcf_31c983403a9frow4_col8\" class=\"data row4 col8\" >False</td>\n",
       "                        <td id=\"T_b56ef514_ed16_11ea_8bcf_31c983403a9frow4_col9\" class=\"data row4 col9\" >True</td>\n",
       "                        <td id=\"T_b56ef514_ed16_11ea_8bcf_31c983403a9frow4_col10\" class=\"data row4 col10\" >False</td>\n",
       "                        <td id=\"T_b56ef514_ed16_11ea_8bcf_31c983403a9frow4_col11\" class=\"data row4 col11\" >False</td>\n",
       "                        <td id=\"T_b56ef514_ed16_11ea_8bcf_31c983403a9frow4_col12\" class=\"data row4 col12\" >False</td>\n",
       "                        <td id=\"T_b56ef514_ed16_11ea_8bcf_31c983403a9frow4_col13\" class=\"data row4 col13\" >True</td>\n",
       "                        <td id=\"T_b56ef514_ed16_11ea_8bcf_31c983403a9frow4_col14\" class=\"data row4 col14\" >False</td>\n",
       "                        <td id=\"T_b56ef514_ed16_11ea_8bcf_31c983403a9frow4_col15\" class=\"data row4 col15\" >36.750000</td>\n",
       "                        <td id=\"T_b56ef514_ed16_11ea_8bcf_31c983403a9frow4_col16\" class=\"data row4 col16\" >86.000000</td>\n",
       "                        <td id=\"T_b56ef514_ed16_11ea_8bcf_31c983403a9frow4_col17\" class=\"data row4 col17\" >124.000000</td>\n",
       "                        <td id=\"T_b56ef514_ed16_11ea_8bcf_31c983403a9frow4_col18\" class=\"data row4 col18\" >80.000000</td>\n",
       "                        <td id=\"T_b56ef514_ed16_11ea_8bcf_31c983403a9frow4_col19\" class=\"data row4 col19\" >16.000000</td>\n",
       "                        <td id=\"T_b56ef514_ed16_11ea_8bcf_31c983403a9frow4_col20\" class=\"data row4 col20\" >98.000000</td>\n",
       "                        <td id=\"T_b56ef514_ed16_11ea_8bcf_31c983403a9frow4_col21\" class=\"data row4 col21\" >nan</td>\n",
       "                        <td id=\"T_b56ef514_ed16_11ea_8bcf_31c983403a9frow4_col22\" class=\"data row4 col22\" >nan</td>\n",
       "                        <td id=\"T_b56ef514_ed16_11ea_8bcf_31c983403a9frow4_col23\" class=\"data row4 col23\" >nan</td>\n",
       "                        <td id=\"T_b56ef514_ed16_11ea_8bcf_31c983403a9frow4_col24\" class=\"data row4 col24\" >False</td>\n",
       "                        <td id=\"T_b56ef514_ed16_11ea_8bcf_31c983403a9frow4_col25\" class=\"data row4 col25\" >nan</td>\n",
       "                        <td id=\"T_b56ef514_ed16_11ea_8bcf_31c983403a9frow4_col26\" class=\"data row4 col26\" >nan</td>\n",
       "                        <td id=\"T_b56ef514_ed16_11ea_8bcf_31c983403a9frow4_col27\" class=\"data row4 col27\" >5.000000</td>\n",
       "                        <td id=\"T_b56ef514_ed16_11ea_8bcf_31c983403a9frow4_col28\" class=\"data row4 col28\" >True</td>\n",
       "                        <td id=\"T_b56ef514_ed16_11ea_8bcf_31c983403a9frow4_col29\" class=\"data row4 col29\" >Mild</td>\n",
       "                        <td id=\"T_b56ef514_ed16_11ea_8bcf_31c983403a9frow4_col30\" class=\"data row4 col30\" >False</td>\n",
       "                        <td id=\"T_b56ef514_ed16_11ea_8bcf_31c983403a9frow4_col31\" class=\"data row4 col31\" >False</td>\n",
       "                        <td id=\"T_b56ef514_ed16_11ea_8bcf_31c983403a9frow4_col32\" class=\"data row4 col32\" >nan</td>\n",
       "                        <td id=\"T_b56ef514_ed16_11ea_8bcf_31c983403a9frow4_col33\" class=\"data row4 col33\" >False</td>\n",
       "                        <td id=\"T_b56ef514_ed16_11ea_8bcf_31c983403a9frow4_col34\" class=\"data row4 col34\" >False</td>\n",
       "                        <td id=\"T_b56ef514_ed16_11ea_8bcf_31c983403a9frow4_col35\" class=\"data row4 col35\" >True</td>\n",
       "                        <td id=\"T_b56ef514_ed16_11ea_8bcf_31c983403a9frow4_col36\" class=\"data row4 col36\" >False</td>\n",
       "                        <td id=\"T_b56ef514_ed16_11ea_8bcf_31c983403a9frow4_col37\" class=\"data row4 col37\" >False</td>\n",
       "                        <td id=\"T_b56ef514_ed16_11ea_8bcf_31c983403a9frow4_col38\" class=\"data row4 col38\" >True</td>\n",
       "                        <td id=\"T_b56ef514_ed16_11ea_8bcf_31c983403a9frow4_col39\" class=\"data row4 col39\" >True</td>\n",
       "                        <td id=\"T_b56ef514_ed16_11ea_8bcf_31c983403a9frow4_col40\" class=\"data row4 col40\" >False</td>\n",
       "                        <td id=\"T_b56ef514_ed16_11ea_8bcf_31c983403a9frow4_col41\" class=\"data row4 col41\" >False</td>\n",
       "            </tr>\n",
       "            <tr>\n",
       "                        <th id=\"T_b56ef514_ed16_11ea_8bcf_31c983403a9flevel0_row5\" class=\"row_heading level0 row5\" >2793</th>\n",
       "                        <td id=\"T_b56ef514_ed16_11ea_8bcf_31c983403a9frow5_col0\" class=\"data row5 col0\" >2020-04-28</td>\n",
       "                        <td id=\"T_b56ef514_ed16_11ea_8bcf_31c983403a9frow5_col1\" class=\"data row5 col1\" >Rapid COVID-19 Test</td>\n",
       "                        <td id=\"T_b56ef514_ed16_11ea_8bcf_31c983403a9frow5_col2\" class=\"data row5 col2\" >Nasal</td>\n",
       "                        <td id=\"T_b56ef514_ed16_11ea_8bcf_31c983403a9frow5_col3\" class=\"data row5 col3\" >False</td>\n",
       "                        <td id=\"T_b56ef514_ed16_11ea_8bcf_31c983403a9frow5_col4\" class=\"data row5 col4\" >25</td>\n",
       "                        <td id=\"T_b56ef514_ed16_11ea_8bcf_31c983403a9frow5_col5\" class=\"data row5 col5\" >True</td>\n",
       "                        <td id=\"T_b56ef514_ed16_11ea_8bcf_31c983403a9frow5_col6\" class=\"data row5 col6\" >False</td>\n",
       "                        <td id=\"T_b56ef514_ed16_11ea_8bcf_31c983403a9frow5_col7\" class=\"data row5 col7\" >False</td>\n",
       "                        <td id=\"T_b56ef514_ed16_11ea_8bcf_31c983403a9frow5_col8\" class=\"data row5 col8\" >False</td>\n",
       "                        <td id=\"T_b56ef514_ed16_11ea_8bcf_31c983403a9frow5_col9\" class=\"data row5 col9\" >False</td>\n",
       "                        <td id=\"T_b56ef514_ed16_11ea_8bcf_31c983403a9frow5_col10\" class=\"data row5 col10\" >False</td>\n",
       "                        <td id=\"T_b56ef514_ed16_11ea_8bcf_31c983403a9frow5_col11\" class=\"data row5 col11\" >False</td>\n",
       "                        <td id=\"T_b56ef514_ed16_11ea_8bcf_31c983403a9frow5_col12\" class=\"data row5 col12\" >False</td>\n",
       "                        <td id=\"T_b56ef514_ed16_11ea_8bcf_31c983403a9frow5_col13\" class=\"data row5 col13\" >False</td>\n",
       "                        <td id=\"T_b56ef514_ed16_11ea_8bcf_31c983403a9frow5_col14\" class=\"data row5 col14\" >False</td>\n",
       "                        <td id=\"T_b56ef514_ed16_11ea_8bcf_31c983403a9frow5_col15\" class=\"data row5 col15\" >nan</td>\n",
       "                        <td id=\"T_b56ef514_ed16_11ea_8bcf_31c983403a9frow5_col16\" class=\"data row5 col16\" >nan</td>\n",
       "                        <td id=\"T_b56ef514_ed16_11ea_8bcf_31c983403a9frow5_col17\" class=\"data row5 col17\" >nan</td>\n",
       "                        <td id=\"T_b56ef514_ed16_11ea_8bcf_31c983403a9frow5_col18\" class=\"data row5 col18\" >nan</td>\n",
       "                        <td id=\"T_b56ef514_ed16_11ea_8bcf_31c983403a9frow5_col19\" class=\"data row5 col19\" >nan</td>\n",
       "                        <td id=\"T_b56ef514_ed16_11ea_8bcf_31c983403a9frow5_col20\" class=\"data row5 col20\" >nan</td>\n",
       "                        <td id=\"T_b56ef514_ed16_11ea_8bcf_31c983403a9frow5_col21\" class=\"data row5 col21\" >nan</td>\n",
       "                        <td id=\"T_b56ef514_ed16_11ea_8bcf_31c983403a9frow5_col22\" class=\"data row5 col22\" >nan</td>\n",
       "                        <td id=\"T_b56ef514_ed16_11ea_8bcf_31c983403a9frow5_col23\" class=\"data row5 col23\" >nan</td>\n",
       "                        <td id=\"T_b56ef514_ed16_11ea_8bcf_31c983403a9frow5_col24\" class=\"data row5 col24\" >nan</td>\n",
       "                        <td id=\"T_b56ef514_ed16_11ea_8bcf_31c983403a9frow5_col25\" class=\"data row5 col25\" >nan</td>\n",
       "                        <td id=\"T_b56ef514_ed16_11ea_8bcf_31c983403a9frow5_col26\" class=\"data row5 col26\" >nan</td>\n",
       "                        <td id=\"T_b56ef514_ed16_11ea_8bcf_31c983403a9frow5_col27\" class=\"data row5 col27\" >nan</td>\n",
       "                        <td id=\"T_b56ef514_ed16_11ea_8bcf_31c983403a9frow5_col28\" class=\"data row5 col28\" >False</td>\n",
       "                        <td id=\"T_b56ef514_ed16_11ea_8bcf_31c983403a9frow5_col29\" class=\"data row5 col29\" >nan</td>\n",
       "                        <td id=\"T_b56ef514_ed16_11ea_8bcf_31c983403a9frow5_col30\" class=\"data row5 col30\" >False</td>\n",
       "                        <td id=\"T_b56ef514_ed16_11ea_8bcf_31c983403a9frow5_col31\" class=\"data row5 col31\" >False</td>\n",
       "                        <td id=\"T_b56ef514_ed16_11ea_8bcf_31c983403a9frow5_col32\" class=\"data row5 col32\" >nan</td>\n",
       "                        <td id=\"T_b56ef514_ed16_11ea_8bcf_31c983403a9frow5_col33\" class=\"data row5 col33\" >False</td>\n",
       "                        <td id=\"T_b56ef514_ed16_11ea_8bcf_31c983403a9frow5_col34\" class=\"data row5 col34\" >False</td>\n",
       "                        <td id=\"T_b56ef514_ed16_11ea_8bcf_31c983403a9frow5_col35\" class=\"data row5 col35\" >False</td>\n",
       "                        <td id=\"T_b56ef514_ed16_11ea_8bcf_31c983403a9frow5_col36\" class=\"data row5 col36\" >False</td>\n",
       "                        <td id=\"T_b56ef514_ed16_11ea_8bcf_31c983403a9frow5_col37\" class=\"data row5 col37\" >False</td>\n",
       "                        <td id=\"T_b56ef514_ed16_11ea_8bcf_31c983403a9frow5_col38\" class=\"data row5 col38\" >False</td>\n",
       "                        <td id=\"T_b56ef514_ed16_11ea_8bcf_31c983403a9frow5_col39\" class=\"data row5 col39\" >False</td>\n",
       "                        <td id=\"T_b56ef514_ed16_11ea_8bcf_31c983403a9frow5_col40\" class=\"data row5 col40\" >False</td>\n",
       "                        <td id=\"T_b56ef514_ed16_11ea_8bcf_31c983403a9frow5_col41\" class=\"data row5 col41\" >False</td>\n",
       "            </tr>\n",
       "            <tr>\n",
       "                        <th id=\"T_b56ef514_ed16_11ea_8bcf_31c983403a9flevel0_row6\" class=\"row_heading level0 row6\" >5583</th>\n",
       "                        <td id=\"T_b56ef514_ed16_11ea_8bcf_31c983403a9frow6_col0\" class=\"data row6 col0\" >2020-05-19</td>\n",
       "                        <td id=\"T_b56ef514_ed16_11ea_8bcf_31c983403a9frow6_col1\" class=\"data row6 col1\" >SARS-CoV-2, NAA</td>\n",
       "                        <td id=\"T_b56ef514_ed16_11ea_8bcf_31c983403a9frow6_col2\" class=\"data row6 col2\" >Nasal</td>\n",
       "                        <td id=\"T_b56ef514_ed16_11ea_8bcf_31c983403a9frow6_col3\" class=\"data row6 col3\" >False</td>\n",
       "                        <td id=\"T_b56ef514_ed16_11ea_8bcf_31c983403a9frow6_col4\" class=\"data row6 col4\" >62</td>\n",
       "                        <td id=\"T_b56ef514_ed16_11ea_8bcf_31c983403a9frow6_col5\" class=\"data row6 col5\" >True</td>\n",
       "                        <td id=\"T_b56ef514_ed16_11ea_8bcf_31c983403a9frow6_col6\" class=\"data row6 col6\" >False</td>\n",
       "                        <td id=\"T_b56ef514_ed16_11ea_8bcf_31c983403a9frow6_col7\" class=\"data row6 col7\" >False</td>\n",
       "                        <td id=\"T_b56ef514_ed16_11ea_8bcf_31c983403a9frow6_col8\" class=\"data row6 col8\" >False</td>\n",
       "                        <td id=\"T_b56ef514_ed16_11ea_8bcf_31c983403a9frow6_col9\" class=\"data row6 col9\" >False</td>\n",
       "                        <td id=\"T_b56ef514_ed16_11ea_8bcf_31c983403a9frow6_col10\" class=\"data row6 col10\" >False</td>\n",
       "                        <td id=\"T_b56ef514_ed16_11ea_8bcf_31c983403a9frow6_col11\" class=\"data row6 col11\" >False</td>\n",
       "                        <td id=\"T_b56ef514_ed16_11ea_8bcf_31c983403a9frow6_col12\" class=\"data row6 col12\" >False</td>\n",
       "                        <td id=\"T_b56ef514_ed16_11ea_8bcf_31c983403a9frow6_col13\" class=\"data row6 col13\" >False</td>\n",
       "                        <td id=\"T_b56ef514_ed16_11ea_8bcf_31c983403a9frow6_col14\" class=\"data row6 col14\" >False</td>\n",
       "                        <td id=\"T_b56ef514_ed16_11ea_8bcf_31c983403a9frow6_col15\" class=\"data row6 col15\" >37.000000</td>\n",
       "                        <td id=\"T_b56ef514_ed16_11ea_8bcf_31c983403a9frow6_col16\" class=\"data row6 col16\" >100.000000</td>\n",
       "                        <td id=\"T_b56ef514_ed16_11ea_8bcf_31c983403a9frow6_col17\" class=\"data row6 col17\" >110.000000</td>\n",
       "                        <td id=\"T_b56ef514_ed16_11ea_8bcf_31c983403a9frow6_col18\" class=\"data row6 col18\" >76.000000</td>\n",
       "                        <td id=\"T_b56ef514_ed16_11ea_8bcf_31c983403a9frow6_col19\" class=\"data row6 col19\" >16.000000</td>\n",
       "                        <td id=\"T_b56ef514_ed16_11ea_8bcf_31c983403a9frow6_col20\" class=\"data row6 col20\" >98.000000</td>\n",
       "                        <td id=\"T_b56ef514_ed16_11ea_8bcf_31c983403a9frow6_col21\" class=\"data row6 col21\" >nan</td>\n",
       "                        <td id=\"T_b56ef514_ed16_11ea_8bcf_31c983403a9frow6_col22\" class=\"data row6 col22\" >nan</td>\n",
       "                        <td id=\"T_b56ef514_ed16_11ea_8bcf_31c983403a9frow6_col23\" class=\"data row6 col23\" >False</td>\n",
       "                        <td id=\"T_b56ef514_ed16_11ea_8bcf_31c983403a9frow6_col24\" class=\"data row6 col24\" >False</td>\n",
       "                        <td id=\"T_b56ef514_ed16_11ea_8bcf_31c983403a9frow6_col25\" class=\"data row6 col25\" >False</td>\n",
       "                        <td id=\"T_b56ef514_ed16_11ea_8bcf_31c983403a9frow6_col26\" class=\"data row6 col26\" >False</td>\n",
       "                        <td id=\"T_b56ef514_ed16_11ea_8bcf_31c983403a9frow6_col27\" class=\"data row6 col27\" >nan</td>\n",
       "                        <td id=\"T_b56ef514_ed16_11ea_8bcf_31c983403a9frow6_col28\" class=\"data row6 col28\" >False</td>\n",
       "                        <td id=\"T_b56ef514_ed16_11ea_8bcf_31c983403a9frow6_col29\" class=\"data row6 col29\" >nan</td>\n",
       "                        <td id=\"T_b56ef514_ed16_11ea_8bcf_31c983403a9frow6_col30\" class=\"data row6 col30\" >nan</td>\n",
       "                        <td id=\"T_b56ef514_ed16_11ea_8bcf_31c983403a9frow6_col31\" class=\"data row6 col31\" >False</td>\n",
       "                        <td id=\"T_b56ef514_ed16_11ea_8bcf_31c983403a9frow6_col32\" class=\"data row6 col32\" >nan</td>\n",
       "                        <td id=\"T_b56ef514_ed16_11ea_8bcf_31c983403a9frow6_col33\" class=\"data row6 col33\" >True</td>\n",
       "                        <td id=\"T_b56ef514_ed16_11ea_8bcf_31c983403a9frow6_col34\" class=\"data row6 col34\" >False</td>\n",
       "                        <td id=\"T_b56ef514_ed16_11ea_8bcf_31c983403a9frow6_col35\" class=\"data row6 col35\" >True</td>\n",
       "                        <td id=\"T_b56ef514_ed16_11ea_8bcf_31c983403a9frow6_col36\" class=\"data row6 col36\" >False</td>\n",
       "                        <td id=\"T_b56ef514_ed16_11ea_8bcf_31c983403a9frow6_col37\" class=\"data row6 col37\" >False</td>\n",
       "                        <td id=\"T_b56ef514_ed16_11ea_8bcf_31c983403a9frow6_col38\" class=\"data row6 col38\" >True</td>\n",
       "                        <td id=\"T_b56ef514_ed16_11ea_8bcf_31c983403a9frow6_col39\" class=\"data row6 col39\" >True</td>\n",
       "                        <td id=\"T_b56ef514_ed16_11ea_8bcf_31c983403a9frow6_col40\" class=\"data row6 col40\" >False</td>\n",
       "                        <td id=\"T_b56ef514_ed16_11ea_8bcf_31c983403a9frow6_col41\" class=\"data row6 col41\" >False</td>\n",
       "            </tr>\n",
       "            <tr>\n",
       "                        <th id=\"T_b56ef514_ed16_11ea_8bcf_31c983403a9flevel0_row7\" class=\"row_heading level0 row7\" >5584</th>\n",
       "                        <td id=\"T_b56ef514_ed16_11ea_8bcf_31c983403a9frow7_col0\" class=\"data row7 col0\" >2020-05-19</td>\n",
       "                        <td id=\"T_b56ef514_ed16_11ea_8bcf_31c983403a9frow7_col1\" class=\"data row7 col1\" >SARS COV2 NAAT</td>\n",
       "                        <td id=\"T_b56ef514_ed16_11ea_8bcf_31c983403a9frow7_col2\" class=\"data row7 col2\" >Nasopharyngeal</td>\n",
       "                        <td id=\"T_b56ef514_ed16_11ea_8bcf_31c983403a9frow7_col3\" class=\"data row7 col3\" >False</td>\n",
       "                        <td id=\"T_b56ef514_ed16_11ea_8bcf_31c983403a9frow7_col4\" class=\"data row7 col4\" >33</td>\n",
       "                        <td id=\"T_b56ef514_ed16_11ea_8bcf_31c983403a9frow7_col5\" class=\"data row7 col5\" >False</td>\n",
       "                        <td id=\"T_b56ef514_ed16_11ea_8bcf_31c983403a9frow7_col6\" class=\"data row7 col6\" >nan</td>\n",
       "                        <td id=\"T_b56ef514_ed16_11ea_8bcf_31c983403a9frow7_col7\" class=\"data row7 col7\" >False</td>\n",
       "                        <td id=\"T_b56ef514_ed16_11ea_8bcf_31c983403a9frow7_col8\" class=\"data row7 col8\" >False</td>\n",
       "                        <td id=\"T_b56ef514_ed16_11ea_8bcf_31c983403a9frow7_col9\" class=\"data row7 col9\" >False</td>\n",
       "                        <td id=\"T_b56ef514_ed16_11ea_8bcf_31c983403a9frow7_col10\" class=\"data row7 col10\" >False</td>\n",
       "                        <td id=\"T_b56ef514_ed16_11ea_8bcf_31c983403a9frow7_col11\" class=\"data row7 col11\" >False</td>\n",
       "                        <td id=\"T_b56ef514_ed16_11ea_8bcf_31c983403a9frow7_col12\" class=\"data row7 col12\" >False</td>\n",
       "                        <td id=\"T_b56ef514_ed16_11ea_8bcf_31c983403a9frow7_col13\" class=\"data row7 col13\" >False</td>\n",
       "                        <td id=\"T_b56ef514_ed16_11ea_8bcf_31c983403a9frow7_col14\" class=\"data row7 col14\" >False</td>\n",
       "                        <td id=\"T_b56ef514_ed16_11ea_8bcf_31c983403a9frow7_col15\" class=\"data row7 col15\" >36.950000</td>\n",
       "                        <td id=\"T_b56ef514_ed16_11ea_8bcf_31c983403a9frow7_col16\" class=\"data row7 col16\" >79.000000</td>\n",
       "                        <td id=\"T_b56ef514_ed16_11ea_8bcf_31c983403a9frow7_col17\" class=\"data row7 col17\" >123.000000</td>\n",
       "                        <td id=\"T_b56ef514_ed16_11ea_8bcf_31c983403a9frow7_col18\" class=\"data row7 col18\" >79.000000</td>\n",
       "                        <td id=\"T_b56ef514_ed16_11ea_8bcf_31c983403a9frow7_col19\" class=\"data row7 col19\" >12.000000</td>\n",
       "                        <td id=\"T_b56ef514_ed16_11ea_8bcf_31c983403a9frow7_col20\" class=\"data row7 col20\" >99.000000</td>\n",
       "                        <td id=\"T_b56ef514_ed16_11ea_8bcf_31c983403a9frow7_col21\" class=\"data row7 col21\" >nan</td>\n",
       "                        <td id=\"T_b56ef514_ed16_11ea_8bcf_31c983403a9frow7_col22\" class=\"data row7 col22\" >nan</td>\n",
       "                        <td id=\"T_b56ef514_ed16_11ea_8bcf_31c983403a9frow7_col23\" class=\"data row7 col23\" >nan</td>\n",
       "                        <td id=\"T_b56ef514_ed16_11ea_8bcf_31c983403a9frow7_col24\" class=\"data row7 col24\" >False</td>\n",
       "                        <td id=\"T_b56ef514_ed16_11ea_8bcf_31c983403a9frow7_col25\" class=\"data row7 col25\" >nan</td>\n",
       "                        <td id=\"T_b56ef514_ed16_11ea_8bcf_31c983403a9frow7_col26\" class=\"data row7 col26\" >nan</td>\n",
       "                        <td id=\"T_b56ef514_ed16_11ea_8bcf_31c983403a9frow7_col27\" class=\"data row7 col27\" >nan</td>\n",
       "                        <td id=\"T_b56ef514_ed16_11ea_8bcf_31c983403a9frow7_col28\" class=\"data row7 col28\" >False</td>\n",
       "                        <td id=\"T_b56ef514_ed16_11ea_8bcf_31c983403a9frow7_col29\" class=\"data row7 col29\" >nan</td>\n",
       "                        <td id=\"T_b56ef514_ed16_11ea_8bcf_31c983403a9frow7_col30\" class=\"data row7 col30\" >nan</td>\n",
       "                        <td id=\"T_b56ef514_ed16_11ea_8bcf_31c983403a9frow7_col31\" class=\"data row7 col31\" >False</td>\n",
       "                        <td id=\"T_b56ef514_ed16_11ea_8bcf_31c983403a9frow7_col32\" class=\"data row7 col32\" >nan</td>\n",
       "                        <td id=\"T_b56ef514_ed16_11ea_8bcf_31c983403a9frow7_col33\" class=\"data row7 col33\" >False</td>\n",
       "                        <td id=\"T_b56ef514_ed16_11ea_8bcf_31c983403a9frow7_col34\" class=\"data row7 col34\" >False</td>\n",
       "                        <td id=\"T_b56ef514_ed16_11ea_8bcf_31c983403a9frow7_col35\" class=\"data row7 col35\" >False</td>\n",
       "                        <td id=\"T_b56ef514_ed16_11ea_8bcf_31c983403a9frow7_col36\" class=\"data row7 col36\" >False</td>\n",
       "                        <td id=\"T_b56ef514_ed16_11ea_8bcf_31c983403a9frow7_col37\" class=\"data row7 col37\" >False</td>\n",
       "                        <td id=\"T_b56ef514_ed16_11ea_8bcf_31c983403a9frow7_col38\" class=\"data row7 col38\" >False</td>\n",
       "                        <td id=\"T_b56ef514_ed16_11ea_8bcf_31c983403a9frow7_col39\" class=\"data row7 col39\" >False</td>\n",
       "                        <td id=\"T_b56ef514_ed16_11ea_8bcf_31c983403a9frow7_col40\" class=\"data row7 col40\" >False</td>\n",
       "                        <td id=\"T_b56ef514_ed16_11ea_8bcf_31c983403a9frow7_col41\" class=\"data row7 col41\" >False</td>\n",
       "            </tr>\n",
       "            <tr>\n",
       "                        <th id=\"T_b56ef514_ed16_11ea_8bcf_31c983403a9flevel0_row8\" class=\"row_heading level0 row8\" >5585</th>\n",
       "                        <td id=\"T_b56ef514_ed16_11ea_8bcf_31c983403a9frow8_col0\" class=\"data row8 col0\" >2020-05-19</td>\n",
       "                        <td id=\"T_b56ef514_ed16_11ea_8bcf_31c983403a9frow8_col1\" class=\"data row8 col1\" >SARS COV2 NAAT</td>\n",
       "                        <td id=\"T_b56ef514_ed16_11ea_8bcf_31c983403a9frow8_col2\" class=\"data row8 col2\" >Nasopharyngeal</td>\n",
       "                        <td id=\"T_b56ef514_ed16_11ea_8bcf_31c983403a9frow8_col3\" class=\"data row8 col3\" >True</td>\n",
       "                        <td id=\"T_b56ef514_ed16_11ea_8bcf_31c983403a9frow8_col4\" class=\"data row8 col4\" >20</td>\n",
       "                        <td id=\"T_b56ef514_ed16_11ea_8bcf_31c983403a9frow8_col5\" class=\"data row8 col5\" >True</td>\n",
       "                        <td id=\"T_b56ef514_ed16_11ea_8bcf_31c983403a9frow8_col6\" class=\"data row8 col6\" >True</td>\n",
       "                        <td id=\"T_b56ef514_ed16_11ea_8bcf_31c983403a9frow8_col7\" class=\"data row8 col7\" >False</td>\n",
       "                        <td id=\"T_b56ef514_ed16_11ea_8bcf_31c983403a9frow8_col8\" class=\"data row8 col8\" >False</td>\n",
       "                        <td id=\"T_b56ef514_ed16_11ea_8bcf_31c983403a9frow8_col9\" class=\"data row8 col9\" >False</td>\n",
       "                        <td id=\"T_b56ef514_ed16_11ea_8bcf_31c983403a9frow8_col10\" class=\"data row8 col10\" >False</td>\n",
       "                        <td id=\"T_b56ef514_ed16_11ea_8bcf_31c983403a9frow8_col11\" class=\"data row8 col11\" >False</td>\n",
       "                        <td id=\"T_b56ef514_ed16_11ea_8bcf_31c983403a9frow8_col12\" class=\"data row8 col12\" >False</td>\n",
       "                        <td id=\"T_b56ef514_ed16_11ea_8bcf_31c983403a9frow8_col13\" class=\"data row8 col13\" >False</td>\n",
       "                        <td id=\"T_b56ef514_ed16_11ea_8bcf_31c983403a9frow8_col14\" class=\"data row8 col14\" >False</td>\n",
       "                        <td id=\"T_b56ef514_ed16_11ea_8bcf_31c983403a9frow8_col15\" class=\"data row8 col15\" >36.900000</td>\n",
       "                        <td id=\"T_b56ef514_ed16_11ea_8bcf_31c983403a9frow8_col16\" class=\"data row8 col16\" >60.000000</td>\n",
       "                        <td id=\"T_b56ef514_ed16_11ea_8bcf_31c983403a9frow8_col17\" class=\"data row8 col17\" >114.000000</td>\n",
       "                        <td id=\"T_b56ef514_ed16_11ea_8bcf_31c983403a9frow8_col18\" class=\"data row8 col18\" >75.000000</td>\n",
       "                        <td id=\"T_b56ef514_ed16_11ea_8bcf_31c983403a9frow8_col19\" class=\"data row8 col19\" >12.000000</td>\n",
       "                        <td id=\"T_b56ef514_ed16_11ea_8bcf_31c983403a9frow8_col20\" class=\"data row8 col20\" >97.000000</td>\n",
       "                        <td id=\"T_b56ef514_ed16_11ea_8bcf_31c983403a9frow8_col21\" class=\"data row8 col21\" >nan</td>\n",
       "                        <td id=\"T_b56ef514_ed16_11ea_8bcf_31c983403a9frow8_col22\" class=\"data row8 col22\" >nan</td>\n",
       "                        <td id=\"T_b56ef514_ed16_11ea_8bcf_31c983403a9frow8_col23\" class=\"data row8 col23\" >False</td>\n",
       "                        <td id=\"T_b56ef514_ed16_11ea_8bcf_31c983403a9frow8_col24\" class=\"data row8 col24\" >nan</td>\n",
       "                        <td id=\"T_b56ef514_ed16_11ea_8bcf_31c983403a9frow8_col25\" class=\"data row8 col25\" >nan</td>\n",
       "                        <td id=\"T_b56ef514_ed16_11ea_8bcf_31c983403a9frow8_col26\" class=\"data row8 col26\" >nan</td>\n",
       "                        <td id=\"T_b56ef514_ed16_11ea_8bcf_31c983403a9frow8_col27\" class=\"data row8 col27\" >3.000000</td>\n",
       "                        <td id=\"T_b56ef514_ed16_11ea_8bcf_31c983403a9frow8_col28\" class=\"data row8 col28\" >True</td>\n",
       "                        <td id=\"T_b56ef514_ed16_11ea_8bcf_31c983403a9frow8_col29\" class=\"data row8 col29\" >Mild</td>\n",
       "                        <td id=\"T_b56ef514_ed16_11ea_8bcf_31c983403a9frow8_col30\" class=\"data row8 col30\" >True</td>\n",
       "                        <td id=\"T_b56ef514_ed16_11ea_8bcf_31c983403a9frow8_col31\" class=\"data row8 col31\" >False</td>\n",
       "                        <td id=\"T_b56ef514_ed16_11ea_8bcf_31c983403a9frow8_col32\" class=\"data row8 col32\" >nan</td>\n",
       "                        <td id=\"T_b56ef514_ed16_11ea_8bcf_31c983403a9frow8_col33\" class=\"data row8 col33\" >True</td>\n",
       "                        <td id=\"T_b56ef514_ed16_11ea_8bcf_31c983403a9frow8_col34\" class=\"data row8 col34\" >False</td>\n",
       "                        <td id=\"T_b56ef514_ed16_11ea_8bcf_31c983403a9frow8_col35\" class=\"data row8 col35\" >True</td>\n",
       "                        <td id=\"T_b56ef514_ed16_11ea_8bcf_31c983403a9frow8_col36\" class=\"data row8 col36\" >True</td>\n",
       "                        <td id=\"T_b56ef514_ed16_11ea_8bcf_31c983403a9frow8_col37\" class=\"data row8 col37\" >True</td>\n",
       "                        <td id=\"T_b56ef514_ed16_11ea_8bcf_31c983403a9frow8_col38\" class=\"data row8 col38\" >False</td>\n",
       "                        <td id=\"T_b56ef514_ed16_11ea_8bcf_31c983403a9frow8_col39\" class=\"data row8 col39\" >False</td>\n",
       "                        <td id=\"T_b56ef514_ed16_11ea_8bcf_31c983403a9frow8_col40\" class=\"data row8 col40\" >False</td>\n",
       "                        <td id=\"T_b56ef514_ed16_11ea_8bcf_31c983403a9frow8_col41\" class=\"data row8 col41\" >False</td>\n",
       "            </tr>\n",
       "            <tr>\n",
       "                        <th id=\"T_b56ef514_ed16_11ea_8bcf_31c983403a9flevel0_row9\" class=\"row_heading level0 row9\" >8374</th>\n",
       "                        <td id=\"T_b56ef514_ed16_11ea_8bcf_31c983403a9frow9_col0\" class=\"data row9 col0\" >2020-06-09</td>\n",
       "                        <td id=\"T_b56ef514_ed16_11ea_8bcf_31c983403a9frow9_col1\" class=\"data row9 col1\" >SARS COV2 NAAT</td>\n",
       "                        <td id=\"T_b56ef514_ed16_11ea_8bcf_31c983403a9frow9_col2\" class=\"data row9 col2\" >Nasopharyngeal</td>\n",
       "                        <td id=\"T_b56ef514_ed16_11ea_8bcf_31c983403a9frow9_col3\" class=\"data row9 col3\" >False</td>\n",
       "                        <td id=\"T_b56ef514_ed16_11ea_8bcf_31c983403a9frow9_col4\" class=\"data row9 col4\" >28</td>\n",
       "                        <td id=\"T_b56ef514_ed16_11ea_8bcf_31c983403a9frow9_col5\" class=\"data row9 col5\" >False</td>\n",
       "                        <td id=\"T_b56ef514_ed16_11ea_8bcf_31c983403a9frow9_col6\" class=\"data row9 col6\" >False</td>\n",
       "                        <td id=\"T_b56ef514_ed16_11ea_8bcf_31c983403a9frow9_col7\" class=\"data row9 col7\" >False</td>\n",
       "                        <td id=\"T_b56ef514_ed16_11ea_8bcf_31c983403a9frow9_col8\" class=\"data row9 col8\" >False</td>\n",
       "                        <td id=\"T_b56ef514_ed16_11ea_8bcf_31c983403a9frow9_col9\" class=\"data row9 col9\" >False</td>\n",
       "                        <td id=\"T_b56ef514_ed16_11ea_8bcf_31c983403a9frow9_col10\" class=\"data row9 col10\" >False</td>\n",
       "                        <td id=\"T_b56ef514_ed16_11ea_8bcf_31c983403a9frow9_col11\" class=\"data row9 col11\" >True</td>\n",
       "                        <td id=\"T_b56ef514_ed16_11ea_8bcf_31c983403a9frow9_col12\" class=\"data row9 col12\" >False</td>\n",
       "                        <td id=\"T_b56ef514_ed16_11ea_8bcf_31c983403a9frow9_col13\" class=\"data row9 col13\" >False</td>\n",
       "                        <td id=\"T_b56ef514_ed16_11ea_8bcf_31c983403a9frow9_col14\" class=\"data row9 col14\" >False</td>\n",
       "                        <td id=\"T_b56ef514_ed16_11ea_8bcf_31c983403a9frow9_col15\" class=\"data row9 col15\" >36.750000</td>\n",
       "                        <td id=\"T_b56ef514_ed16_11ea_8bcf_31c983403a9frow9_col16\" class=\"data row9 col16\" >100.000000</td>\n",
       "                        <td id=\"T_b56ef514_ed16_11ea_8bcf_31c983403a9frow9_col17\" class=\"data row9 col17\" >119.000000</td>\n",
       "                        <td id=\"T_b56ef514_ed16_11ea_8bcf_31c983403a9frow9_col18\" class=\"data row9 col18\" >85.000000</td>\n",
       "                        <td id=\"T_b56ef514_ed16_11ea_8bcf_31c983403a9frow9_col19\" class=\"data row9 col19\" >16.000000</td>\n",
       "                        <td id=\"T_b56ef514_ed16_11ea_8bcf_31c983403a9frow9_col20\" class=\"data row9 col20\" >99.000000</td>\n",
       "                        <td id=\"T_b56ef514_ed16_11ea_8bcf_31c983403a9frow9_col21\" class=\"data row9 col21\" >nan</td>\n",
       "                        <td id=\"T_b56ef514_ed16_11ea_8bcf_31c983403a9frow9_col22\" class=\"data row9 col22\" >nan</td>\n",
       "                        <td id=\"T_b56ef514_ed16_11ea_8bcf_31c983403a9frow9_col23\" class=\"data row9 col23\" >False</td>\n",
       "                        <td id=\"T_b56ef514_ed16_11ea_8bcf_31c983403a9frow9_col24\" class=\"data row9 col24\" >False</td>\n",
       "                        <td id=\"T_b56ef514_ed16_11ea_8bcf_31c983403a9frow9_col25\" class=\"data row9 col25\" >False</td>\n",
       "                        <td id=\"T_b56ef514_ed16_11ea_8bcf_31c983403a9frow9_col26\" class=\"data row9 col26\" >False</td>\n",
       "                        <td id=\"T_b56ef514_ed16_11ea_8bcf_31c983403a9frow9_col27\" class=\"data row9 col27\" >nan</td>\n",
       "                        <td id=\"T_b56ef514_ed16_11ea_8bcf_31c983403a9frow9_col28\" class=\"data row9 col28\" >False</td>\n",
       "                        <td id=\"T_b56ef514_ed16_11ea_8bcf_31c983403a9frow9_col29\" class=\"data row9 col29\" >nan</td>\n",
       "                        <td id=\"T_b56ef514_ed16_11ea_8bcf_31c983403a9frow9_col30\" class=\"data row9 col30\" >False</td>\n",
       "                        <td id=\"T_b56ef514_ed16_11ea_8bcf_31c983403a9frow9_col31\" class=\"data row9 col31\" >False</td>\n",
       "                        <td id=\"T_b56ef514_ed16_11ea_8bcf_31c983403a9frow9_col32\" class=\"data row9 col32\" >nan</td>\n",
       "                        <td id=\"T_b56ef514_ed16_11ea_8bcf_31c983403a9frow9_col33\" class=\"data row9 col33\" >False</td>\n",
       "                        <td id=\"T_b56ef514_ed16_11ea_8bcf_31c983403a9frow9_col34\" class=\"data row9 col34\" >False</td>\n",
       "                        <td id=\"T_b56ef514_ed16_11ea_8bcf_31c983403a9frow9_col35\" class=\"data row9 col35\" >False</td>\n",
       "                        <td id=\"T_b56ef514_ed16_11ea_8bcf_31c983403a9frow9_col36\" class=\"data row9 col36\" >False</td>\n",
       "                        <td id=\"T_b56ef514_ed16_11ea_8bcf_31c983403a9frow9_col37\" class=\"data row9 col37\" >False</td>\n",
       "                        <td id=\"T_b56ef514_ed16_11ea_8bcf_31c983403a9frow9_col38\" class=\"data row9 col38\" >False</td>\n",
       "                        <td id=\"T_b56ef514_ed16_11ea_8bcf_31c983403a9frow9_col39\" class=\"data row9 col39\" >False</td>\n",
       "                        <td id=\"T_b56ef514_ed16_11ea_8bcf_31c983403a9frow9_col40\" class=\"data row9 col40\" >False</td>\n",
       "                        <td id=\"T_b56ef514_ed16_11ea_8bcf_31c983403a9frow9_col41\" class=\"data row9 col41\" >False</td>\n",
       "            </tr>\n",
       "            <tr>\n",
       "                        <th id=\"T_b56ef514_ed16_11ea_8bcf_31c983403a9flevel0_row10\" class=\"row_heading level0 row10\" >8375</th>\n",
       "                        <td id=\"T_b56ef514_ed16_11ea_8bcf_31c983403a9frow10_col0\" class=\"data row10 col0\" >2020-06-09</td>\n",
       "                        <td id=\"T_b56ef514_ed16_11ea_8bcf_31c983403a9frow10_col1\" class=\"data row10 col1\" >SARS-CoV-2, NAA</td>\n",
       "                        <td id=\"T_b56ef514_ed16_11ea_8bcf_31c983403a9frow10_col2\" class=\"data row10 col2\" >Nasal</td>\n",
       "                        <td id=\"T_b56ef514_ed16_11ea_8bcf_31c983403a9frow10_col3\" class=\"data row10 col3\" >False</td>\n",
       "                        <td id=\"T_b56ef514_ed16_11ea_8bcf_31c983403a9frow10_col4\" class=\"data row10 col4\" >32</td>\n",
       "                        <td id=\"T_b56ef514_ed16_11ea_8bcf_31c983403a9frow10_col5\" class=\"data row10 col5\" >False</td>\n",
       "                        <td id=\"T_b56ef514_ed16_11ea_8bcf_31c983403a9frow10_col6\" class=\"data row10 col6\" >False</td>\n",
       "                        <td id=\"T_b56ef514_ed16_11ea_8bcf_31c983403a9frow10_col7\" class=\"data row10 col7\" >False</td>\n",
       "                        <td id=\"T_b56ef514_ed16_11ea_8bcf_31c983403a9frow10_col8\" class=\"data row10 col8\" >False</td>\n",
       "                        <td id=\"T_b56ef514_ed16_11ea_8bcf_31c983403a9frow10_col9\" class=\"data row10 col9\" >False</td>\n",
       "                        <td id=\"T_b56ef514_ed16_11ea_8bcf_31c983403a9frow10_col10\" class=\"data row10 col10\" >False</td>\n",
       "                        <td id=\"T_b56ef514_ed16_11ea_8bcf_31c983403a9frow10_col11\" class=\"data row10 col11\" >False</td>\n",
       "                        <td id=\"T_b56ef514_ed16_11ea_8bcf_31c983403a9frow10_col12\" class=\"data row10 col12\" >False</td>\n",
       "                        <td id=\"T_b56ef514_ed16_11ea_8bcf_31c983403a9frow10_col13\" class=\"data row10 col13\" >False</td>\n",
       "                        <td id=\"T_b56ef514_ed16_11ea_8bcf_31c983403a9frow10_col14\" class=\"data row10 col14\" >False</td>\n",
       "                        <td id=\"T_b56ef514_ed16_11ea_8bcf_31c983403a9frow10_col15\" class=\"data row10 col15\" >nan</td>\n",
       "                        <td id=\"T_b56ef514_ed16_11ea_8bcf_31c983403a9frow10_col16\" class=\"data row10 col16\" >nan</td>\n",
       "                        <td id=\"T_b56ef514_ed16_11ea_8bcf_31c983403a9frow10_col17\" class=\"data row10 col17\" >nan</td>\n",
       "                        <td id=\"T_b56ef514_ed16_11ea_8bcf_31c983403a9frow10_col18\" class=\"data row10 col18\" >nan</td>\n",
       "                        <td id=\"T_b56ef514_ed16_11ea_8bcf_31c983403a9frow10_col19\" class=\"data row10 col19\" >nan</td>\n",
       "                        <td id=\"T_b56ef514_ed16_11ea_8bcf_31c983403a9frow10_col20\" class=\"data row10 col20\" >nan</td>\n",
       "                        <td id=\"T_b56ef514_ed16_11ea_8bcf_31c983403a9frow10_col21\" class=\"data row10 col21\" >nan</td>\n",
       "                        <td id=\"T_b56ef514_ed16_11ea_8bcf_31c983403a9frow10_col22\" class=\"data row10 col22\" >nan</td>\n",
       "                        <td id=\"T_b56ef514_ed16_11ea_8bcf_31c983403a9frow10_col23\" class=\"data row10 col23\" >nan</td>\n",
       "                        <td id=\"T_b56ef514_ed16_11ea_8bcf_31c983403a9frow10_col24\" class=\"data row10 col24\" >nan</td>\n",
       "                        <td id=\"T_b56ef514_ed16_11ea_8bcf_31c983403a9frow10_col25\" class=\"data row10 col25\" >nan</td>\n",
       "                        <td id=\"T_b56ef514_ed16_11ea_8bcf_31c983403a9frow10_col26\" class=\"data row10 col26\" >nan</td>\n",
       "                        <td id=\"T_b56ef514_ed16_11ea_8bcf_31c983403a9frow10_col27\" class=\"data row10 col27\" >nan</td>\n",
       "                        <td id=\"T_b56ef514_ed16_11ea_8bcf_31c983403a9frow10_col28\" class=\"data row10 col28\" >False</td>\n",
       "                        <td id=\"T_b56ef514_ed16_11ea_8bcf_31c983403a9frow10_col29\" class=\"data row10 col29\" >nan</td>\n",
       "                        <td id=\"T_b56ef514_ed16_11ea_8bcf_31c983403a9frow10_col30\" class=\"data row10 col30\" >False</td>\n",
       "                        <td id=\"T_b56ef514_ed16_11ea_8bcf_31c983403a9frow10_col31\" class=\"data row10 col31\" >False</td>\n",
       "                        <td id=\"T_b56ef514_ed16_11ea_8bcf_31c983403a9frow10_col32\" class=\"data row10 col32\" >nan</td>\n",
       "                        <td id=\"T_b56ef514_ed16_11ea_8bcf_31c983403a9frow10_col33\" class=\"data row10 col33\" >False</td>\n",
       "                        <td id=\"T_b56ef514_ed16_11ea_8bcf_31c983403a9frow10_col34\" class=\"data row10 col34\" >False</td>\n",
       "                        <td id=\"T_b56ef514_ed16_11ea_8bcf_31c983403a9frow10_col35\" class=\"data row10 col35\" >False</td>\n",
       "                        <td id=\"T_b56ef514_ed16_11ea_8bcf_31c983403a9frow10_col36\" class=\"data row10 col36\" >False</td>\n",
       "                        <td id=\"T_b56ef514_ed16_11ea_8bcf_31c983403a9frow10_col37\" class=\"data row10 col37\" >False</td>\n",
       "                        <td id=\"T_b56ef514_ed16_11ea_8bcf_31c983403a9frow10_col38\" class=\"data row10 col38\" >False</td>\n",
       "                        <td id=\"T_b56ef514_ed16_11ea_8bcf_31c983403a9frow10_col39\" class=\"data row10 col39\" >False</td>\n",
       "                        <td id=\"T_b56ef514_ed16_11ea_8bcf_31c983403a9frow10_col40\" class=\"data row10 col40\" >False</td>\n",
       "                        <td id=\"T_b56ef514_ed16_11ea_8bcf_31c983403a9frow10_col41\" class=\"data row10 col41\" >False</td>\n",
       "            </tr>\n",
       "            <tr>\n",
       "                        <th id=\"T_b56ef514_ed16_11ea_8bcf_31c983403a9flevel0_row11\" class=\"row_heading level0 row11\" >8376</th>\n",
       "                        <td id=\"T_b56ef514_ed16_11ea_8bcf_31c983403a9frow11_col0\" class=\"data row11 col0\" >2020-06-09</td>\n",
       "                        <td id=\"T_b56ef514_ed16_11ea_8bcf_31c983403a9frow11_col1\" class=\"data row11 col1\" >SARS COV2 NAAT</td>\n",
       "                        <td id=\"T_b56ef514_ed16_11ea_8bcf_31c983403a9frow11_col2\" class=\"data row11 col2\" >Nasopharyngeal</td>\n",
       "                        <td id=\"T_b56ef514_ed16_11ea_8bcf_31c983403a9frow11_col3\" class=\"data row11 col3\" >False</td>\n",
       "                        <td id=\"T_b56ef514_ed16_11ea_8bcf_31c983403a9frow11_col4\" class=\"data row11 col4\" >34</td>\n",
       "                        <td id=\"T_b56ef514_ed16_11ea_8bcf_31c983403a9frow11_col5\" class=\"data row11 col5\" >True</td>\n",
       "                        <td id=\"T_b56ef514_ed16_11ea_8bcf_31c983403a9frow11_col6\" class=\"data row11 col6\" >True</td>\n",
       "                        <td id=\"T_b56ef514_ed16_11ea_8bcf_31c983403a9frow11_col7\" class=\"data row11 col7\" >False</td>\n",
       "                        <td id=\"T_b56ef514_ed16_11ea_8bcf_31c983403a9frow11_col8\" class=\"data row11 col8\" >False</td>\n",
       "                        <td id=\"T_b56ef514_ed16_11ea_8bcf_31c983403a9frow11_col9\" class=\"data row11 col9\" >False</td>\n",
       "                        <td id=\"T_b56ef514_ed16_11ea_8bcf_31c983403a9frow11_col10\" class=\"data row11 col10\" >False</td>\n",
       "                        <td id=\"T_b56ef514_ed16_11ea_8bcf_31c983403a9frow11_col11\" class=\"data row11 col11\" >False</td>\n",
       "                        <td id=\"T_b56ef514_ed16_11ea_8bcf_31c983403a9frow11_col12\" class=\"data row11 col12\" >False</td>\n",
       "                        <td id=\"T_b56ef514_ed16_11ea_8bcf_31c983403a9frow11_col13\" class=\"data row11 col13\" >False</td>\n",
       "                        <td id=\"T_b56ef514_ed16_11ea_8bcf_31c983403a9frow11_col14\" class=\"data row11 col14\" >False</td>\n",
       "                        <td id=\"T_b56ef514_ed16_11ea_8bcf_31c983403a9frow11_col15\" class=\"data row11 col15\" >36.900000</td>\n",
       "                        <td id=\"T_b56ef514_ed16_11ea_8bcf_31c983403a9frow11_col16\" class=\"data row11 col16\" >69.000000</td>\n",
       "                        <td id=\"T_b56ef514_ed16_11ea_8bcf_31c983403a9frow11_col17\" class=\"data row11 col17\" >103.000000</td>\n",
       "                        <td id=\"T_b56ef514_ed16_11ea_8bcf_31c983403a9frow11_col18\" class=\"data row11 col18\" >66.000000</td>\n",
       "                        <td id=\"T_b56ef514_ed16_11ea_8bcf_31c983403a9frow11_col19\" class=\"data row11 col19\" >17.000000</td>\n",
       "                        <td id=\"T_b56ef514_ed16_11ea_8bcf_31c983403a9frow11_col20\" class=\"data row11 col20\" >98.000000</td>\n",
       "                        <td id=\"T_b56ef514_ed16_11ea_8bcf_31c983403a9frow11_col21\" class=\"data row11 col21\" >nan</td>\n",
       "                        <td id=\"T_b56ef514_ed16_11ea_8bcf_31c983403a9frow11_col22\" class=\"data row11 col22\" >nan</td>\n",
       "                        <td id=\"T_b56ef514_ed16_11ea_8bcf_31c983403a9frow11_col23\" class=\"data row11 col23\" >False</td>\n",
       "                        <td id=\"T_b56ef514_ed16_11ea_8bcf_31c983403a9frow11_col24\" class=\"data row11 col24\" >False</td>\n",
       "                        <td id=\"T_b56ef514_ed16_11ea_8bcf_31c983403a9frow11_col25\" class=\"data row11 col25\" >False</td>\n",
       "                        <td id=\"T_b56ef514_ed16_11ea_8bcf_31c983403a9frow11_col26\" class=\"data row11 col26\" >False</td>\n",
       "                        <td id=\"T_b56ef514_ed16_11ea_8bcf_31c983403a9frow11_col27\" class=\"data row11 col27\" >1.000000</td>\n",
       "                        <td id=\"T_b56ef514_ed16_11ea_8bcf_31c983403a9frow11_col28\" class=\"data row11 col28\" >False</td>\n",
       "                        <td id=\"T_b56ef514_ed16_11ea_8bcf_31c983403a9frow11_col29\" class=\"data row11 col29\" >nan</td>\n",
       "                        <td id=\"T_b56ef514_ed16_11ea_8bcf_31c983403a9frow11_col30\" class=\"data row11 col30\" >False</td>\n",
       "                        <td id=\"T_b56ef514_ed16_11ea_8bcf_31c983403a9frow11_col31\" class=\"data row11 col31\" >False</td>\n",
       "                        <td id=\"T_b56ef514_ed16_11ea_8bcf_31c983403a9frow11_col32\" class=\"data row11 col32\" >nan</td>\n",
       "                        <td id=\"T_b56ef514_ed16_11ea_8bcf_31c983403a9frow11_col33\" class=\"data row11 col33\" >False</td>\n",
       "                        <td id=\"T_b56ef514_ed16_11ea_8bcf_31c983403a9frow11_col34\" class=\"data row11 col34\" >True</td>\n",
       "                        <td id=\"T_b56ef514_ed16_11ea_8bcf_31c983403a9frow11_col35\" class=\"data row11 col35\" >True</td>\n",
       "                        <td id=\"T_b56ef514_ed16_11ea_8bcf_31c983403a9frow11_col36\" class=\"data row11 col36\" >False</td>\n",
       "                        <td id=\"T_b56ef514_ed16_11ea_8bcf_31c983403a9frow11_col37\" class=\"data row11 col37\" >False</td>\n",
       "                        <td id=\"T_b56ef514_ed16_11ea_8bcf_31c983403a9frow11_col38\" class=\"data row11 col38\" >False</td>\n",
       "                        <td id=\"T_b56ef514_ed16_11ea_8bcf_31c983403a9frow11_col39\" class=\"data row11 col39\" >True</td>\n",
       "                        <td id=\"T_b56ef514_ed16_11ea_8bcf_31c983403a9frow11_col40\" class=\"data row11 col40\" >False</td>\n",
       "                        <td id=\"T_b56ef514_ed16_11ea_8bcf_31c983403a9frow11_col41\" class=\"data row11 col41\" >False</td>\n",
       "            </tr>\n",
       "            <tr>\n",
       "                        <th id=\"T_b56ef514_ed16_11ea_8bcf_31c983403a9flevel0_row12\" class=\"row_heading level0 row12\" >11166</th>\n",
       "                        <td id=\"T_b56ef514_ed16_11ea_8bcf_31c983403a9frow12_col0\" class=\"data row12 col0\" >2020-06-16</td>\n",
       "                        <td id=\"T_b56ef514_ed16_11ea_8bcf_31c983403a9frow12_col1\" class=\"data row12 col1\" >SARS COV2 NAAT</td>\n",
       "                        <td id=\"T_b56ef514_ed16_11ea_8bcf_31c983403a9frow12_col2\" class=\"data row12 col2\" >Nasopharyngeal</td>\n",
       "                        <td id=\"T_b56ef514_ed16_11ea_8bcf_31c983403a9frow12_col3\" class=\"data row12 col3\" >False</td>\n",
       "                        <td id=\"T_b56ef514_ed16_11ea_8bcf_31c983403a9frow12_col4\" class=\"data row12 col4\" >38</td>\n",
       "                        <td id=\"T_b56ef514_ed16_11ea_8bcf_31c983403a9frow12_col5\" class=\"data row12 col5\" >False</td>\n",
       "                        <td id=\"T_b56ef514_ed16_11ea_8bcf_31c983403a9frow12_col6\" class=\"data row12 col6\" >nan</td>\n",
       "                        <td id=\"T_b56ef514_ed16_11ea_8bcf_31c983403a9frow12_col7\" class=\"data row12 col7\" >False</td>\n",
       "                        <td id=\"T_b56ef514_ed16_11ea_8bcf_31c983403a9frow12_col8\" class=\"data row12 col8\" >False</td>\n",
       "                        <td id=\"T_b56ef514_ed16_11ea_8bcf_31c983403a9frow12_col9\" class=\"data row12 col9\" >False</td>\n",
       "                        <td id=\"T_b56ef514_ed16_11ea_8bcf_31c983403a9frow12_col10\" class=\"data row12 col10\" >False</td>\n",
       "                        <td id=\"T_b56ef514_ed16_11ea_8bcf_31c983403a9frow12_col11\" class=\"data row12 col11\" >False</td>\n",
       "                        <td id=\"T_b56ef514_ed16_11ea_8bcf_31c983403a9frow12_col12\" class=\"data row12 col12\" >False</td>\n",
       "                        <td id=\"T_b56ef514_ed16_11ea_8bcf_31c983403a9frow12_col13\" class=\"data row12 col13\" >False</td>\n",
       "                        <td id=\"T_b56ef514_ed16_11ea_8bcf_31c983403a9frow12_col14\" class=\"data row12 col14\" >False</td>\n",
       "                        <td id=\"T_b56ef514_ed16_11ea_8bcf_31c983403a9frow12_col15\" class=\"data row12 col15\" >36.850000</td>\n",
       "                        <td id=\"T_b56ef514_ed16_11ea_8bcf_31c983403a9frow12_col16\" class=\"data row12 col16\" >84.000000</td>\n",
       "                        <td id=\"T_b56ef514_ed16_11ea_8bcf_31c983403a9frow12_col17\" class=\"data row12 col17\" >106.000000</td>\n",
       "                        <td id=\"T_b56ef514_ed16_11ea_8bcf_31c983403a9frow12_col18\" class=\"data row12 col18\" >71.000000</td>\n",
       "                        <td id=\"T_b56ef514_ed16_11ea_8bcf_31c983403a9frow12_col19\" class=\"data row12 col19\" >16.000000</td>\n",
       "                        <td id=\"T_b56ef514_ed16_11ea_8bcf_31c983403a9frow12_col20\" class=\"data row12 col20\" >98.000000</td>\n",
       "                        <td id=\"T_b56ef514_ed16_11ea_8bcf_31c983403a9frow12_col21\" class=\"data row12 col21\" >nan</td>\n",
       "                        <td id=\"T_b56ef514_ed16_11ea_8bcf_31c983403a9frow12_col22\" class=\"data row12 col22\" >nan</td>\n",
       "                        <td id=\"T_b56ef514_ed16_11ea_8bcf_31c983403a9frow12_col23\" class=\"data row12 col23\" >nan</td>\n",
       "                        <td id=\"T_b56ef514_ed16_11ea_8bcf_31c983403a9frow12_col24\" class=\"data row12 col24\" >False</td>\n",
       "                        <td id=\"T_b56ef514_ed16_11ea_8bcf_31c983403a9frow12_col25\" class=\"data row12 col25\" >nan</td>\n",
       "                        <td id=\"T_b56ef514_ed16_11ea_8bcf_31c983403a9frow12_col26\" class=\"data row12 col26\" >nan</td>\n",
       "                        <td id=\"T_b56ef514_ed16_11ea_8bcf_31c983403a9frow12_col27\" class=\"data row12 col27\" >nan</td>\n",
       "                        <td id=\"T_b56ef514_ed16_11ea_8bcf_31c983403a9frow12_col28\" class=\"data row12 col28\" >False</td>\n",
       "                        <td id=\"T_b56ef514_ed16_11ea_8bcf_31c983403a9frow12_col29\" class=\"data row12 col29\" >nan</td>\n",
       "                        <td id=\"T_b56ef514_ed16_11ea_8bcf_31c983403a9frow12_col30\" class=\"data row12 col30\" >False</td>\n",
       "                        <td id=\"T_b56ef514_ed16_11ea_8bcf_31c983403a9frow12_col31\" class=\"data row12 col31\" >False</td>\n",
       "                        <td id=\"T_b56ef514_ed16_11ea_8bcf_31c983403a9frow12_col32\" class=\"data row12 col32\" >nan</td>\n",
       "                        <td id=\"T_b56ef514_ed16_11ea_8bcf_31c983403a9frow12_col33\" class=\"data row12 col33\" >False</td>\n",
       "                        <td id=\"T_b56ef514_ed16_11ea_8bcf_31c983403a9frow12_col34\" class=\"data row12 col34\" >False</td>\n",
       "                        <td id=\"T_b56ef514_ed16_11ea_8bcf_31c983403a9frow12_col35\" class=\"data row12 col35\" >False</td>\n",
       "                        <td id=\"T_b56ef514_ed16_11ea_8bcf_31c983403a9frow12_col36\" class=\"data row12 col36\" >False</td>\n",
       "                        <td id=\"T_b56ef514_ed16_11ea_8bcf_31c983403a9frow12_col37\" class=\"data row12 col37\" >False</td>\n",
       "                        <td id=\"T_b56ef514_ed16_11ea_8bcf_31c983403a9frow12_col38\" class=\"data row12 col38\" >False</td>\n",
       "                        <td id=\"T_b56ef514_ed16_11ea_8bcf_31c983403a9frow12_col39\" class=\"data row12 col39\" >False</td>\n",
       "                        <td id=\"T_b56ef514_ed16_11ea_8bcf_31c983403a9frow12_col40\" class=\"data row12 col40\" >False</td>\n",
       "                        <td id=\"T_b56ef514_ed16_11ea_8bcf_31c983403a9frow12_col41\" class=\"data row12 col41\" >False</td>\n",
       "            </tr>\n",
       "            <tr>\n",
       "                        <th id=\"T_b56ef514_ed16_11ea_8bcf_31c983403a9flevel0_row13\" class=\"row_heading level0 row13\" >11167</th>\n",
       "                        <td id=\"T_b56ef514_ed16_11ea_8bcf_31c983403a9frow13_col0\" class=\"data row13 col0\" >2020-06-16</td>\n",
       "                        <td id=\"T_b56ef514_ed16_11ea_8bcf_31c983403a9frow13_col1\" class=\"data row13 col1\" >SARS-CoV-2, NAA</td>\n",
       "                        <td id=\"T_b56ef514_ed16_11ea_8bcf_31c983403a9frow13_col2\" class=\"data row13 col2\" >Nasal</td>\n",
       "                        <td id=\"T_b56ef514_ed16_11ea_8bcf_31c983403a9frow13_col3\" class=\"data row13 col3\" >False</td>\n",
       "                        <td id=\"T_b56ef514_ed16_11ea_8bcf_31c983403a9frow13_col4\" class=\"data row13 col4\" >34</td>\n",
       "                        <td id=\"T_b56ef514_ed16_11ea_8bcf_31c983403a9frow13_col5\" class=\"data row13 col5\" >False</td>\n",
       "                        <td id=\"T_b56ef514_ed16_11ea_8bcf_31c983403a9frow13_col6\" class=\"data row13 col6\" >False</td>\n",
       "                        <td id=\"T_b56ef514_ed16_11ea_8bcf_31c983403a9frow13_col7\" class=\"data row13 col7\" >False</td>\n",
       "                        <td id=\"T_b56ef514_ed16_11ea_8bcf_31c983403a9frow13_col8\" class=\"data row13 col8\" >False</td>\n",
       "                        <td id=\"T_b56ef514_ed16_11ea_8bcf_31c983403a9frow13_col9\" class=\"data row13 col9\" >False</td>\n",
       "                        <td id=\"T_b56ef514_ed16_11ea_8bcf_31c983403a9frow13_col10\" class=\"data row13 col10\" >False</td>\n",
       "                        <td id=\"T_b56ef514_ed16_11ea_8bcf_31c983403a9frow13_col11\" class=\"data row13 col11\" >False</td>\n",
       "                        <td id=\"T_b56ef514_ed16_11ea_8bcf_31c983403a9frow13_col12\" class=\"data row13 col12\" >False</td>\n",
       "                        <td id=\"T_b56ef514_ed16_11ea_8bcf_31c983403a9frow13_col13\" class=\"data row13 col13\" >False</td>\n",
       "                        <td id=\"T_b56ef514_ed16_11ea_8bcf_31c983403a9frow13_col14\" class=\"data row13 col14\" >False</td>\n",
       "                        <td id=\"T_b56ef514_ed16_11ea_8bcf_31c983403a9frow13_col15\" class=\"data row13 col15\" >37.450000</td>\n",
       "                        <td id=\"T_b56ef514_ed16_11ea_8bcf_31c983403a9frow13_col16\" class=\"data row13 col16\" >81.000000</td>\n",
       "                        <td id=\"T_b56ef514_ed16_11ea_8bcf_31c983403a9frow13_col17\" class=\"data row13 col17\" >123.000000</td>\n",
       "                        <td id=\"T_b56ef514_ed16_11ea_8bcf_31c983403a9frow13_col18\" class=\"data row13 col18\" >85.000000</td>\n",
       "                        <td id=\"T_b56ef514_ed16_11ea_8bcf_31c983403a9frow13_col19\" class=\"data row13 col19\" >nan</td>\n",
       "                        <td id=\"T_b56ef514_ed16_11ea_8bcf_31c983403a9frow13_col20\" class=\"data row13 col20\" >98.000000</td>\n",
       "                        <td id=\"T_b56ef514_ed16_11ea_8bcf_31c983403a9frow13_col21\" class=\"data row13 col21\" >nan</td>\n",
       "                        <td id=\"T_b56ef514_ed16_11ea_8bcf_31c983403a9frow13_col22\" class=\"data row13 col22\" >Negative</td>\n",
       "                        <td id=\"T_b56ef514_ed16_11ea_8bcf_31c983403a9frow13_col23\" class=\"data row13 col23\" >False</td>\n",
       "                        <td id=\"T_b56ef514_ed16_11ea_8bcf_31c983403a9frow13_col24\" class=\"data row13 col24\" >False</td>\n",
       "                        <td id=\"T_b56ef514_ed16_11ea_8bcf_31c983403a9frow13_col25\" class=\"data row13 col25\" >nan</td>\n",
       "                        <td id=\"T_b56ef514_ed16_11ea_8bcf_31c983403a9frow13_col26\" class=\"data row13 col26\" >nan</td>\n",
       "                        <td id=\"T_b56ef514_ed16_11ea_8bcf_31c983403a9frow13_col27\" class=\"data row13 col27\" >5.000000</td>\n",
       "                        <td id=\"T_b56ef514_ed16_11ea_8bcf_31c983403a9frow13_col28\" class=\"data row13 col28\" >False</td>\n",
       "                        <td id=\"T_b56ef514_ed16_11ea_8bcf_31c983403a9frow13_col29\" class=\"data row13 col29\" >nan</td>\n",
       "                        <td id=\"T_b56ef514_ed16_11ea_8bcf_31c983403a9frow13_col30\" class=\"data row13 col30\" >True</td>\n",
       "                        <td id=\"T_b56ef514_ed16_11ea_8bcf_31c983403a9frow13_col31\" class=\"data row13 col31\" >False</td>\n",
       "                        <td id=\"T_b56ef514_ed16_11ea_8bcf_31c983403a9frow13_col32\" class=\"data row13 col32\" >nan</td>\n",
       "                        <td id=\"T_b56ef514_ed16_11ea_8bcf_31c983403a9frow13_col33\" class=\"data row13 col33\" >True</td>\n",
       "                        <td id=\"T_b56ef514_ed16_11ea_8bcf_31c983403a9frow13_col34\" class=\"data row13 col34\" >False</td>\n",
       "                        <td id=\"T_b56ef514_ed16_11ea_8bcf_31c983403a9frow13_col35\" class=\"data row13 col35\" >False</td>\n",
       "                        <td id=\"T_b56ef514_ed16_11ea_8bcf_31c983403a9frow13_col36\" class=\"data row13 col36\" >False</td>\n",
       "                        <td id=\"T_b56ef514_ed16_11ea_8bcf_31c983403a9frow13_col37\" class=\"data row13 col37\" >False</td>\n",
       "                        <td id=\"T_b56ef514_ed16_11ea_8bcf_31c983403a9frow13_col38\" class=\"data row13 col38\" >False</td>\n",
       "                        <td id=\"T_b56ef514_ed16_11ea_8bcf_31c983403a9frow13_col39\" class=\"data row13 col39\" >True</td>\n",
       "                        <td id=\"T_b56ef514_ed16_11ea_8bcf_31c983403a9frow13_col40\" class=\"data row13 col40\" >True</td>\n",
       "                        <td id=\"T_b56ef514_ed16_11ea_8bcf_31c983403a9frow13_col41\" class=\"data row13 col41\" >False</td>\n",
       "            </tr>\n",
       "            <tr>\n",
       "                        <th id=\"T_b56ef514_ed16_11ea_8bcf_31c983403a9flevel0_row14\" class=\"row_heading level0 row14\" >11168</th>\n",
       "                        <td id=\"T_b56ef514_ed16_11ea_8bcf_31c983403a9frow14_col0\" class=\"data row14 col0\" >2020-06-16</td>\n",
       "                        <td id=\"T_b56ef514_ed16_11ea_8bcf_31c983403a9frow14_col1\" class=\"data row14 col1\" >SARS COV2 NAAT</td>\n",
       "                        <td id=\"T_b56ef514_ed16_11ea_8bcf_31c983403a9frow14_col2\" class=\"data row14 col2\" >Nasopharyngeal</td>\n",
       "                        <td id=\"T_b56ef514_ed16_11ea_8bcf_31c983403a9frow14_col3\" class=\"data row14 col3\" >False</td>\n",
       "                        <td id=\"T_b56ef514_ed16_11ea_8bcf_31c983403a9frow14_col4\" class=\"data row14 col4\" >80</td>\n",
       "                        <td id=\"T_b56ef514_ed16_11ea_8bcf_31c983403a9frow14_col5\" class=\"data row14 col5\" >False</td>\n",
       "                        <td id=\"T_b56ef514_ed16_11ea_8bcf_31c983403a9frow14_col6\" class=\"data row14 col6\" >False</td>\n",
       "                        <td id=\"T_b56ef514_ed16_11ea_8bcf_31c983403a9frow14_col7\" class=\"data row14 col7\" >False</td>\n",
       "                        <td id=\"T_b56ef514_ed16_11ea_8bcf_31c983403a9frow14_col8\" class=\"data row14 col8\" >False</td>\n",
       "                        <td id=\"T_b56ef514_ed16_11ea_8bcf_31c983403a9frow14_col9\" class=\"data row14 col9\" >False</td>\n",
       "                        <td id=\"T_b56ef514_ed16_11ea_8bcf_31c983403a9frow14_col10\" class=\"data row14 col10\" >False</td>\n",
       "                        <td id=\"T_b56ef514_ed16_11ea_8bcf_31c983403a9frow14_col11\" class=\"data row14 col11\" >False</td>\n",
       "                        <td id=\"T_b56ef514_ed16_11ea_8bcf_31c983403a9frow14_col12\" class=\"data row14 col12\" >False</td>\n",
       "                        <td id=\"T_b56ef514_ed16_11ea_8bcf_31c983403a9frow14_col13\" class=\"data row14 col13\" >False</td>\n",
       "                        <td id=\"T_b56ef514_ed16_11ea_8bcf_31c983403a9frow14_col14\" class=\"data row14 col14\" >False</td>\n",
       "                        <td id=\"T_b56ef514_ed16_11ea_8bcf_31c983403a9frow14_col15\" class=\"data row14 col15\" >36.600000</td>\n",
       "                        <td id=\"T_b56ef514_ed16_11ea_8bcf_31c983403a9frow14_col16\" class=\"data row14 col16\" >68.000000</td>\n",
       "                        <td id=\"T_b56ef514_ed16_11ea_8bcf_31c983403a9frow14_col17\" class=\"data row14 col17\" >160.000000</td>\n",
       "                        <td id=\"T_b56ef514_ed16_11ea_8bcf_31c983403a9frow14_col18\" class=\"data row14 col18\" >76.000000</td>\n",
       "                        <td id=\"T_b56ef514_ed16_11ea_8bcf_31c983403a9frow14_col19\" class=\"data row14 col19\" >14.000000</td>\n",
       "                        <td id=\"T_b56ef514_ed16_11ea_8bcf_31c983403a9frow14_col20\" class=\"data row14 col20\" >97.000000</td>\n",
       "                        <td id=\"T_b56ef514_ed16_11ea_8bcf_31c983403a9frow14_col21\" class=\"data row14 col21\" >nan</td>\n",
       "                        <td id=\"T_b56ef514_ed16_11ea_8bcf_31c983403a9frow14_col22\" class=\"data row14 col22\" >nan</td>\n",
       "                        <td id=\"T_b56ef514_ed16_11ea_8bcf_31c983403a9frow14_col23\" class=\"data row14 col23\" >False</td>\n",
       "                        <td id=\"T_b56ef514_ed16_11ea_8bcf_31c983403a9frow14_col24\" class=\"data row14 col24\" >False</td>\n",
       "                        <td id=\"T_b56ef514_ed16_11ea_8bcf_31c983403a9frow14_col25\" class=\"data row14 col25\" >True</td>\n",
       "                        <td id=\"T_b56ef514_ed16_11ea_8bcf_31c983403a9frow14_col26\" class=\"data row14 col26\" >True</td>\n",
       "                        <td id=\"T_b56ef514_ed16_11ea_8bcf_31c983403a9frow14_col27\" class=\"data row14 col27\" >nan</td>\n",
       "                        <td id=\"T_b56ef514_ed16_11ea_8bcf_31c983403a9frow14_col28\" class=\"data row14 col28\" >False</td>\n",
       "                        <td id=\"T_b56ef514_ed16_11ea_8bcf_31c983403a9frow14_col29\" class=\"data row14 col29\" >nan</td>\n",
       "                        <td id=\"T_b56ef514_ed16_11ea_8bcf_31c983403a9frow14_col30\" class=\"data row14 col30\" >False</td>\n",
       "                        <td id=\"T_b56ef514_ed16_11ea_8bcf_31c983403a9frow14_col31\" class=\"data row14 col31\" >False</td>\n",
       "                        <td id=\"T_b56ef514_ed16_11ea_8bcf_31c983403a9frow14_col32\" class=\"data row14 col32\" >nan</td>\n",
       "                        <td id=\"T_b56ef514_ed16_11ea_8bcf_31c983403a9frow14_col33\" class=\"data row14 col33\" >False</td>\n",
       "                        <td id=\"T_b56ef514_ed16_11ea_8bcf_31c983403a9frow14_col34\" class=\"data row14 col34\" >False</td>\n",
       "                        <td id=\"T_b56ef514_ed16_11ea_8bcf_31c983403a9frow14_col35\" class=\"data row14 col35\" >False</td>\n",
       "                        <td id=\"T_b56ef514_ed16_11ea_8bcf_31c983403a9frow14_col36\" class=\"data row14 col36\" >False</td>\n",
       "                        <td id=\"T_b56ef514_ed16_11ea_8bcf_31c983403a9frow14_col37\" class=\"data row14 col37\" >False</td>\n",
       "                        <td id=\"T_b56ef514_ed16_11ea_8bcf_31c983403a9frow14_col38\" class=\"data row14 col38\" >False</td>\n",
       "                        <td id=\"T_b56ef514_ed16_11ea_8bcf_31c983403a9frow14_col39\" class=\"data row14 col39\" >False</td>\n",
       "                        <td id=\"T_b56ef514_ed16_11ea_8bcf_31c983403a9frow14_col40\" class=\"data row14 col40\" >False</td>\n",
       "                        <td id=\"T_b56ef514_ed16_11ea_8bcf_31c983403a9frow14_col41\" class=\"data row14 col41\" >False</td>\n",
       "            </tr>\n",
       "    </tbody></table>"
      ],
      "text/plain": [
       "<pandas.io.formats.style.Styler at 0x7fcc1ab56880>"
      ]
     },
     "execution_count": 5,
     "metadata": {},
     "output_type": "execute_result"
    }
   ],
   "source": [
    "data_chunks = get_scattered_chunks(data, n_chunks=5, chunk_size=3)\n",
    "print_table(data_chunks)"
   ]
  },
  {
   "cell_type": "code",
   "execution_count": 6,
   "metadata": {
    "hide_input": false,
    "tags": [
     "remove-input"
    ]
   },
   "outputs": [
    {
     "data": {
      "application/papermill.record/text/plain": "11169"
     },
     "metadata": {
      "scrapbook": {
       "mime_prefix": "application/papermill.record/",
       "name": "n_observations"
      }
     },
     "output_type": "display_data"
    },
    {
     "data": {
      "application/papermill.record/text/plain": "42"
     },
     "metadata": {
      "scrapbook": {
       "mime_prefix": "application/papermill.record/",
       "name": "n_columns"
      }
     },
     "output_type": "display_data"
    },
    {
     "data": {
      "application/papermill.record/text/plain": "'covid19_test_results'"
     },
     "metadata": {
      "scrapbook": {
       "mime_prefix": "application/papermill.record/",
       "name": "target_column_name"
      }
     },
     "output_type": "display_data"
    }
   ],
   "source": [
    "from configuration import TARGET_COLUMN_NAME\n",
    "from myst_nb import glue\n",
    "\n",
    "glue(\"n_observations\", len(data), display=False)\n",
    "glue(\"n_columns\", len(data.columns), display=False)\n",
    "glue(\"target_column_name\", TARGET_COLUMN_NAME, display=False)"
   ]
  },
  {
   "cell_type": "markdown",
   "metadata": {},
   "source": [
    "Alright! Some things that we can already learn about our dataset from this table are:\n",
    "* It contains a total of {glue:}`n_observations` observations.\n",
    "* There are {glue:}`n_columns` columns with mixed data types (nemeric and categorical).\n",
    "* Missing values certainly exist (we can easily spot `nan` entries).\n",
    "* The subsample raises a strong suspicion that dataset is imbalanced, i.e. when examining our target variable ({glue:}`target_column_name`) it seems there are far more negative observations than positive ones."
   ]
  },
  {
   "cell_type": "markdown",
   "metadata": {},
   "source": [
    "There are at least two more built-in methods we could use to get a better sense of the information contained within each column are. The first is:"
   ]
  },
  {
   "cell_type": "code",
   "execution_count": 7,
   "metadata": {
    "tags": []
   },
   "outputs": [
    {
     "name": "stdout",
     "output_type": "stream",
     "text": [
      "<class 'pandas.core.frame.DataFrame'>\n",
      "Int64Index: 11169 entries, 0 to 11168\n",
      "Data columns (total 42 columns):\n",
      " #   Column                         Non-Null Count  Dtype  \n",
      "---  ------                         --------------  -----  \n",
      " 0   batch_date                     11169 non-null  object \n",
      " 1   test_name                      11169 non-null  object \n",
      " 2   swab_type                      11169 non-null  object \n",
      " 3   covid19_test_results           11169 non-null  bool   \n",
      " 4   age                            11169 non-null  int64  \n",
      " 5   high_risk_exposure_occupation  11000 non-null  object \n",
      " 6   high_risk_interactions         9668 non-null   object \n",
      " 7   diabetes                       11169 non-null  bool   \n",
      " 8   chd                            11169 non-null  bool   \n",
      " 9   htn                            11169 non-null  bool   \n",
      " 10  cancer                         11169 non-null  bool   \n",
      " 11  asthma                         11169 non-null  bool   \n",
      " 12  copd                           11169 non-null  bool   \n",
      " 13  autoimmune_dis                 11169 non-null  bool   \n",
      " 14  smoker                         11169 non-null  bool   \n",
      " 15  temperature                    6542 non-null   float64\n",
      " 16  pulse                          6525 non-null   float64\n",
      " 17  sys                            6551 non-null   float64\n",
      " 18  dia                            6551 non-null   float64\n",
      " 19  rr                             5762 non-null   float64\n",
      " 20  sats                           6386 non-null   float64\n",
      " 21  rapid_flu_results              165 non-null    object \n",
      " 22  rapid_strep_results            86 non-null     object \n",
      " 23  ctab                           5876 non-null   object \n",
      " 24  labored_respiration            7023 non-null   object \n",
      " 25  rhonchi                        4511 non-null   object \n",
      " 26  wheezes                        4825 non-null   object \n",
      " 27  days_since_symptom_onset       3573 non-null   float64\n",
      " 28  cough                          11154 non-null  object \n",
      " 29  cough_severity                 1662 non-null   object \n",
      " 30  fever                          8637 non-null   object \n",
      " 31  sob                            10963 non-null  object \n",
      " 32  sob_severity                   949 non-null    object \n",
      " 33  diarrhea                       10982 non-null  object \n",
      " 34  fatigue                        10993 non-null  object \n",
      " 35  headache                       10986 non-null  object \n",
      " 36  loss_of_smell                  10979 non-null  object \n",
      " 37  loss_of_taste                  10979 non-null  object \n",
      " 38  runny_nose                     10982 non-null  object \n",
      " 39  muscle_sore                    10987 non-null  object \n",
      " 40  sore_throat                    10986 non-null  object \n",
      " 41  er_referral                    11169 non-null  bool   \n",
      "dtypes: bool(10), float64(7), int64(1), object(24)\n",
      "memory usage: 2.9+ MB\n"
     ]
    }
   ],
   "source": [
    "data.info()"
   ]
  },
  {
   "cell_type": "markdown",
   "metadata": {},
   "source": [
    "This simple table allows us to easily infer that:\n",
    "* Most of the collected features are categorial (their data type is `object` or `bool`).\n",
    "* Some features contain relatively few non-null values."
   ]
  },
  {
   "cell_type": "markdown",
   "metadata": {},
   "source": [
    "To select columns by data type we can use the DataFrame object's `select_dtypes()` method:"
   ]
  },
  {
   "cell_type": "code",
   "execution_count": 8,
   "metadata": {},
   "outputs": [],
   "source": [
    "categorial_columns = data.select_dtypes([\"object\", \"bool\"]).columns\n",
    "numerical_columns = data.select_dtypes(exclude=[\"object\", \"bool\"]).columns"
   ]
  },
  {
   "cell_type": "code",
   "execution_count": 9,
   "metadata": {
    "tags": [
     "hide-input"
    ]
   },
   "outputs": [
    {
     "data": {
      "application/papermill.record/text/plain": "33"
     },
     "metadata": {
      "scrapbook": {
       "mime_prefix": "application/papermill.record/",
       "name": "n_categorical"
      }
     },
     "output_type": "display_data"
    },
    {
     "data": {
      "application/papermill.record/text/plain": "8"
     },
     "metadata": {
      "scrapbook": {
       "mime_prefix": "application/papermill.record/",
       "name": "n_numerical"
      }
     },
     "output_type": "display_data"
    }
   ],
   "source": [
    "glue(\"n_categorical\", len(categorial_columns) - 1, display=False)\n",
    "glue(\"n_numerical\", len(numerical_columns), display=False)"
   ]
  },
  {
   "cell_type": "markdown",
   "metadata": {},
   "source": [
    "This way we can determine that {glue:}`n_numerical` of the collected features are numerical and {glue:}`n_categorical` are categorical."
   ]
  },
  {
   "cell_type": "markdown",
   "metadata": {},
   "source": [
    "Another useful method we can use is:"
   ]
  },
  {
   "cell_type": "code",
   "execution_count": 10,
   "metadata": {
    "tags": [
     "remove-output"
    ]
   },
   "outputs": [
    {
     "data": {
      "text/html": [
       "<div>\n",
       "<style scoped>\n",
       "    .dataframe tbody tr th:only-of-type {\n",
       "        vertical-align: middle;\n",
       "    }\n",
       "\n",
       "    .dataframe tbody tr th {\n",
       "        vertical-align: top;\n",
       "    }\n",
       "\n",
       "    .dataframe thead th {\n",
       "        text-align: right;\n",
       "    }\n",
       "</style>\n",
       "<table border=\"1\" class=\"dataframe\">\n",
       "  <thead>\n",
       "    <tr style=\"text-align: right;\">\n",
       "      <th></th>\n",
       "      <th>age</th>\n",
       "      <th>temperature</th>\n",
       "      <th>pulse</th>\n",
       "      <th>sys</th>\n",
       "      <th>dia</th>\n",
       "      <th>rr</th>\n",
       "      <th>sats</th>\n",
       "      <th>days_since_symptom_onset</th>\n",
       "    </tr>\n",
       "  </thead>\n",
       "  <tbody>\n",
       "    <tr>\n",
       "      <th>count</th>\n",
       "      <td>11169.000000</td>\n",
       "      <td>6542.000000</td>\n",
       "      <td>6525.000000</td>\n",
       "      <td>6551.000000</td>\n",
       "      <td>6551.000000</td>\n",
       "      <td>5762.000000</td>\n",
       "      <td>6386.000000</td>\n",
       "      <td>3573.000000</td>\n",
       "    </tr>\n",
       "    <tr>\n",
       "      <th>mean</th>\n",
       "      <td>42.178172</td>\n",
       "      <td>36.875268</td>\n",
       "      <td>78.730115</td>\n",
       "      <td>126.043505</td>\n",
       "      <td>79.706457</td>\n",
       "      <td>15.049462</td>\n",
       "      <td>98.108988</td>\n",
       "      <td>10.142177</td>\n",
       "    </tr>\n",
       "    <tr>\n",
       "      <th>std</th>\n",
       "      <td>16.107779</td>\n",
       "      <td>0.316541</td>\n",
       "      <td>13.823534</td>\n",
       "      <td>16.789703</td>\n",
       "      <td>9.865094</td>\n",
       "      <td>2.092585</td>\n",
       "      <td>1.446847</td>\n",
       "      <td>19.023191</td>\n",
       "    </tr>\n",
       "    <tr>\n",
       "      <th>min</th>\n",
       "      <td>-3.000000</td>\n",
       "      <td>34.950000</td>\n",
       "      <td>40.000000</td>\n",
       "      <td>75.000000</td>\n",
       "      <td>36.000000</td>\n",
       "      <td>10.000000</td>\n",
       "      <td>76.000000</td>\n",
       "      <td>1.000000</td>\n",
       "    </tr>\n",
       "    <tr>\n",
       "      <th>25%</th>\n",
       "      <td>30.000000</td>\n",
       "      <td>36.700000</td>\n",
       "      <td>69.000000</td>\n",
       "      <td>115.000000</td>\n",
       "      <td>74.000000</td>\n",
       "      <td>14.000000</td>\n",
       "      <td>97.000000</td>\n",
       "      <td>2.000000</td>\n",
       "    </tr>\n",
       "    <tr>\n",
       "      <th>50%</th>\n",
       "      <td>40.000000</td>\n",
       "      <td>36.850000</td>\n",
       "      <td>78.000000</td>\n",
       "      <td>124.000000</td>\n",
       "      <td>80.000000</td>\n",
       "      <td>16.000000</td>\n",
       "      <td>98.000000</td>\n",
       "      <td>4.000000</td>\n",
       "    </tr>\n",
       "    <tr>\n",
       "      <th>75%</th>\n",
       "      <td>54.000000</td>\n",
       "      <td>37.000000</td>\n",
       "      <td>87.000000</td>\n",
       "      <td>135.000000</td>\n",
       "      <td>85.000000</td>\n",
       "      <td>16.000000</td>\n",
       "      <td>99.000000</td>\n",
       "      <td>10.000000</td>\n",
       "    </tr>\n",
       "    <tr>\n",
       "      <th>max</th>\n",
       "      <td>90.000000</td>\n",
       "      <td>39.400000</td>\n",
       "      <td>150.000000</td>\n",
       "      <td>235.000000</td>\n",
       "      <td>135.000000</td>\n",
       "      <td>32.000000</td>\n",
       "      <td>100.000000</td>\n",
       "      <td>300.000000</td>\n",
       "    </tr>\n",
       "  </tbody>\n",
       "</table>\n",
       "</div>"
      ],
      "text/plain": [
       "                age  temperature        pulse          sys          dia  \\\n",
       "count  11169.000000  6542.000000  6525.000000  6551.000000  6551.000000   \n",
       "mean      42.178172    36.875268    78.730115   126.043505    79.706457   \n",
       "std       16.107779     0.316541    13.823534    16.789703     9.865094   \n",
       "min       -3.000000    34.950000    40.000000    75.000000    36.000000   \n",
       "25%       30.000000    36.700000    69.000000   115.000000    74.000000   \n",
       "50%       40.000000    36.850000    78.000000   124.000000    80.000000   \n",
       "75%       54.000000    37.000000    87.000000   135.000000    85.000000   \n",
       "max       90.000000    39.400000   150.000000   235.000000   135.000000   \n",
       "\n",
       "                rr         sats  days_since_symptom_onset  \n",
       "count  5762.000000  6386.000000               3573.000000  \n",
       "mean     15.049462    98.108988                 10.142177  \n",
       "std       2.092585     1.446847                 19.023191  \n",
       "min      10.000000    76.000000                  1.000000  \n",
       "25%      14.000000    97.000000                  2.000000  \n",
       "50%      16.000000    98.000000                  4.000000  \n",
       "75%      16.000000    99.000000                 10.000000  \n",
       "max      32.000000   100.000000                300.000000  "
      ]
     },
     "execution_count": 10,
     "metadata": {},
     "output_type": "execute_result"
    }
   ],
   "source": [
    "data.describe()"
   ]
  },
  {
   "cell_type": "code",
   "execution_count": 11,
   "metadata": {
    "tags": [
     "remove-input"
    ]
   },
   "outputs": [
    {
     "data": {
      "text/html": [
       "<style  type=\"text/css\" >\n",
       "    #T_b56ef515_ed16_11ea_8bcf_31c983403a9f th {\n",
       "          font-size: 12px;\n",
       "    }    #T_b56ef515_ed16_11ea_8bcf_31c983403a9f td {\n",
       "          font-size: 11px;\n",
       "    }#T_b56ef515_ed16_11ea_8bcf_31c983403a9frow0_col0,#T_b56ef515_ed16_11ea_8bcf_31c983403a9frow0_col1,#T_b56ef515_ed16_11ea_8bcf_31c983403a9frow0_col2,#T_b56ef515_ed16_11ea_8bcf_31c983403a9frow0_col3,#T_b56ef515_ed16_11ea_8bcf_31c983403a9frow0_col4,#T_b56ef515_ed16_11ea_8bcf_31c983403a9frow0_col5,#T_b56ef515_ed16_11ea_8bcf_31c983403a9frow0_col6,#T_b56ef515_ed16_11ea_8bcf_31c983403a9frow0_col7,#T_b56ef515_ed16_11ea_8bcf_31c983403a9frow1_col0,#T_b56ef515_ed16_11ea_8bcf_31c983403a9frow1_col1,#T_b56ef515_ed16_11ea_8bcf_31c983403a9frow1_col2,#T_b56ef515_ed16_11ea_8bcf_31c983403a9frow1_col3,#T_b56ef515_ed16_11ea_8bcf_31c983403a9frow1_col4,#T_b56ef515_ed16_11ea_8bcf_31c983403a9frow1_col5,#T_b56ef515_ed16_11ea_8bcf_31c983403a9frow1_col6,#T_b56ef515_ed16_11ea_8bcf_31c983403a9frow1_col7,#T_b56ef515_ed16_11ea_8bcf_31c983403a9frow2_col0,#T_b56ef515_ed16_11ea_8bcf_31c983403a9frow2_col1,#T_b56ef515_ed16_11ea_8bcf_31c983403a9frow2_col2,#T_b56ef515_ed16_11ea_8bcf_31c983403a9frow2_col3,#T_b56ef515_ed16_11ea_8bcf_31c983403a9frow2_col4,#T_b56ef515_ed16_11ea_8bcf_31c983403a9frow2_col5,#T_b56ef515_ed16_11ea_8bcf_31c983403a9frow2_col6,#T_b56ef515_ed16_11ea_8bcf_31c983403a9frow2_col7,#T_b56ef515_ed16_11ea_8bcf_31c983403a9frow3_col0,#T_b56ef515_ed16_11ea_8bcf_31c983403a9frow3_col1,#T_b56ef515_ed16_11ea_8bcf_31c983403a9frow3_col2,#T_b56ef515_ed16_11ea_8bcf_31c983403a9frow3_col3,#T_b56ef515_ed16_11ea_8bcf_31c983403a9frow3_col4,#T_b56ef515_ed16_11ea_8bcf_31c983403a9frow3_col5,#T_b56ef515_ed16_11ea_8bcf_31c983403a9frow3_col6,#T_b56ef515_ed16_11ea_8bcf_31c983403a9frow3_col7,#T_b56ef515_ed16_11ea_8bcf_31c983403a9frow4_col0,#T_b56ef515_ed16_11ea_8bcf_31c983403a9frow4_col1,#T_b56ef515_ed16_11ea_8bcf_31c983403a9frow4_col2,#T_b56ef515_ed16_11ea_8bcf_31c983403a9frow4_col3,#T_b56ef515_ed16_11ea_8bcf_31c983403a9frow4_col4,#T_b56ef515_ed16_11ea_8bcf_31c983403a9frow4_col5,#T_b56ef515_ed16_11ea_8bcf_31c983403a9frow4_col6,#T_b56ef515_ed16_11ea_8bcf_31c983403a9frow4_col7,#T_b56ef515_ed16_11ea_8bcf_31c983403a9frow5_col0,#T_b56ef515_ed16_11ea_8bcf_31c983403a9frow5_col1,#T_b56ef515_ed16_11ea_8bcf_31c983403a9frow5_col2,#T_b56ef515_ed16_11ea_8bcf_31c983403a9frow5_col3,#T_b56ef515_ed16_11ea_8bcf_31c983403a9frow5_col4,#T_b56ef515_ed16_11ea_8bcf_31c983403a9frow5_col5,#T_b56ef515_ed16_11ea_8bcf_31c983403a9frow5_col6,#T_b56ef515_ed16_11ea_8bcf_31c983403a9frow5_col7,#T_b56ef515_ed16_11ea_8bcf_31c983403a9frow6_col0,#T_b56ef515_ed16_11ea_8bcf_31c983403a9frow6_col1,#T_b56ef515_ed16_11ea_8bcf_31c983403a9frow6_col2,#T_b56ef515_ed16_11ea_8bcf_31c983403a9frow6_col3,#T_b56ef515_ed16_11ea_8bcf_31c983403a9frow6_col4,#T_b56ef515_ed16_11ea_8bcf_31c983403a9frow6_col5,#T_b56ef515_ed16_11ea_8bcf_31c983403a9frow6_col6,#T_b56ef515_ed16_11ea_8bcf_31c983403a9frow6_col7,#T_b56ef515_ed16_11ea_8bcf_31c983403a9frow7_col0,#T_b56ef515_ed16_11ea_8bcf_31c983403a9frow7_col1,#T_b56ef515_ed16_11ea_8bcf_31c983403a9frow7_col2,#T_b56ef515_ed16_11ea_8bcf_31c983403a9frow7_col3,#T_b56ef515_ed16_11ea_8bcf_31c983403a9frow7_col4,#T_b56ef515_ed16_11ea_8bcf_31c983403a9frow7_col5,#T_b56ef515_ed16_11ea_8bcf_31c983403a9frow7_col6,#T_b56ef515_ed16_11ea_8bcf_31c983403a9frow7_col7{\n",
       "            text-align:  center;\n",
       "        }</style><table id=\"T_b56ef515_ed16_11ea_8bcf_31c983403a9f\" ><thead>    <tr>        <th class=\"blank level0\" ></th>        <th class=\"col_heading level0 col0\" >age</th>        <th class=\"col_heading level0 col1\" >temperature</th>        <th class=\"col_heading level0 col2\" >pulse</th>        <th class=\"col_heading level0 col3\" >sys</th>        <th class=\"col_heading level0 col4\" >dia</th>        <th class=\"col_heading level0 col5\" >rr</th>        <th class=\"col_heading level0 col6\" >sats</th>        <th class=\"col_heading level0 col7\" >days_since_symptom_onset</th>    </tr></thead><tbody>\n",
       "                <tr>\n",
       "                        <th id=\"T_b56ef515_ed16_11ea_8bcf_31c983403a9flevel0_row0\" class=\"row_heading level0 row0\" >count</th>\n",
       "                        <td id=\"T_b56ef515_ed16_11ea_8bcf_31c983403a9frow0_col0\" class=\"data row0 col0\" >11169.000000</td>\n",
       "                        <td id=\"T_b56ef515_ed16_11ea_8bcf_31c983403a9frow0_col1\" class=\"data row0 col1\" >6542.000000</td>\n",
       "                        <td id=\"T_b56ef515_ed16_11ea_8bcf_31c983403a9frow0_col2\" class=\"data row0 col2\" >6525.000000</td>\n",
       "                        <td id=\"T_b56ef515_ed16_11ea_8bcf_31c983403a9frow0_col3\" class=\"data row0 col3\" >6551.000000</td>\n",
       "                        <td id=\"T_b56ef515_ed16_11ea_8bcf_31c983403a9frow0_col4\" class=\"data row0 col4\" >6551.000000</td>\n",
       "                        <td id=\"T_b56ef515_ed16_11ea_8bcf_31c983403a9frow0_col5\" class=\"data row0 col5\" >5762.000000</td>\n",
       "                        <td id=\"T_b56ef515_ed16_11ea_8bcf_31c983403a9frow0_col6\" class=\"data row0 col6\" >6386.000000</td>\n",
       "                        <td id=\"T_b56ef515_ed16_11ea_8bcf_31c983403a9frow0_col7\" class=\"data row0 col7\" >3573.000000</td>\n",
       "            </tr>\n",
       "            <tr>\n",
       "                        <th id=\"T_b56ef515_ed16_11ea_8bcf_31c983403a9flevel0_row1\" class=\"row_heading level0 row1\" >mean</th>\n",
       "                        <td id=\"T_b56ef515_ed16_11ea_8bcf_31c983403a9frow1_col0\" class=\"data row1 col0\" >42.178172</td>\n",
       "                        <td id=\"T_b56ef515_ed16_11ea_8bcf_31c983403a9frow1_col1\" class=\"data row1 col1\" >36.875268</td>\n",
       "                        <td id=\"T_b56ef515_ed16_11ea_8bcf_31c983403a9frow1_col2\" class=\"data row1 col2\" >78.730115</td>\n",
       "                        <td id=\"T_b56ef515_ed16_11ea_8bcf_31c983403a9frow1_col3\" class=\"data row1 col3\" >126.043505</td>\n",
       "                        <td id=\"T_b56ef515_ed16_11ea_8bcf_31c983403a9frow1_col4\" class=\"data row1 col4\" >79.706457</td>\n",
       "                        <td id=\"T_b56ef515_ed16_11ea_8bcf_31c983403a9frow1_col5\" class=\"data row1 col5\" >15.049462</td>\n",
       "                        <td id=\"T_b56ef515_ed16_11ea_8bcf_31c983403a9frow1_col6\" class=\"data row1 col6\" >98.108988</td>\n",
       "                        <td id=\"T_b56ef515_ed16_11ea_8bcf_31c983403a9frow1_col7\" class=\"data row1 col7\" >10.142177</td>\n",
       "            </tr>\n",
       "            <tr>\n",
       "                        <th id=\"T_b56ef515_ed16_11ea_8bcf_31c983403a9flevel0_row2\" class=\"row_heading level0 row2\" >std</th>\n",
       "                        <td id=\"T_b56ef515_ed16_11ea_8bcf_31c983403a9frow2_col0\" class=\"data row2 col0\" >16.107779</td>\n",
       "                        <td id=\"T_b56ef515_ed16_11ea_8bcf_31c983403a9frow2_col1\" class=\"data row2 col1\" >0.316541</td>\n",
       "                        <td id=\"T_b56ef515_ed16_11ea_8bcf_31c983403a9frow2_col2\" class=\"data row2 col2\" >13.823534</td>\n",
       "                        <td id=\"T_b56ef515_ed16_11ea_8bcf_31c983403a9frow2_col3\" class=\"data row2 col3\" >16.789703</td>\n",
       "                        <td id=\"T_b56ef515_ed16_11ea_8bcf_31c983403a9frow2_col4\" class=\"data row2 col4\" >9.865094</td>\n",
       "                        <td id=\"T_b56ef515_ed16_11ea_8bcf_31c983403a9frow2_col5\" class=\"data row2 col5\" >2.092585</td>\n",
       "                        <td id=\"T_b56ef515_ed16_11ea_8bcf_31c983403a9frow2_col6\" class=\"data row2 col6\" >1.446847</td>\n",
       "                        <td id=\"T_b56ef515_ed16_11ea_8bcf_31c983403a9frow2_col7\" class=\"data row2 col7\" >19.023191</td>\n",
       "            </tr>\n",
       "            <tr>\n",
       "                        <th id=\"T_b56ef515_ed16_11ea_8bcf_31c983403a9flevel0_row3\" class=\"row_heading level0 row3\" >min</th>\n",
       "                        <td id=\"T_b56ef515_ed16_11ea_8bcf_31c983403a9frow3_col0\" class=\"data row3 col0\" >-3.000000</td>\n",
       "                        <td id=\"T_b56ef515_ed16_11ea_8bcf_31c983403a9frow3_col1\" class=\"data row3 col1\" >34.950000</td>\n",
       "                        <td id=\"T_b56ef515_ed16_11ea_8bcf_31c983403a9frow3_col2\" class=\"data row3 col2\" >40.000000</td>\n",
       "                        <td id=\"T_b56ef515_ed16_11ea_8bcf_31c983403a9frow3_col3\" class=\"data row3 col3\" >75.000000</td>\n",
       "                        <td id=\"T_b56ef515_ed16_11ea_8bcf_31c983403a9frow3_col4\" class=\"data row3 col4\" >36.000000</td>\n",
       "                        <td id=\"T_b56ef515_ed16_11ea_8bcf_31c983403a9frow3_col5\" class=\"data row3 col5\" >10.000000</td>\n",
       "                        <td id=\"T_b56ef515_ed16_11ea_8bcf_31c983403a9frow3_col6\" class=\"data row3 col6\" >76.000000</td>\n",
       "                        <td id=\"T_b56ef515_ed16_11ea_8bcf_31c983403a9frow3_col7\" class=\"data row3 col7\" >1.000000</td>\n",
       "            </tr>\n",
       "            <tr>\n",
       "                        <th id=\"T_b56ef515_ed16_11ea_8bcf_31c983403a9flevel0_row4\" class=\"row_heading level0 row4\" >25%</th>\n",
       "                        <td id=\"T_b56ef515_ed16_11ea_8bcf_31c983403a9frow4_col0\" class=\"data row4 col0\" >30.000000</td>\n",
       "                        <td id=\"T_b56ef515_ed16_11ea_8bcf_31c983403a9frow4_col1\" class=\"data row4 col1\" >36.700000</td>\n",
       "                        <td id=\"T_b56ef515_ed16_11ea_8bcf_31c983403a9frow4_col2\" class=\"data row4 col2\" >69.000000</td>\n",
       "                        <td id=\"T_b56ef515_ed16_11ea_8bcf_31c983403a9frow4_col3\" class=\"data row4 col3\" >115.000000</td>\n",
       "                        <td id=\"T_b56ef515_ed16_11ea_8bcf_31c983403a9frow4_col4\" class=\"data row4 col4\" >74.000000</td>\n",
       "                        <td id=\"T_b56ef515_ed16_11ea_8bcf_31c983403a9frow4_col5\" class=\"data row4 col5\" >14.000000</td>\n",
       "                        <td id=\"T_b56ef515_ed16_11ea_8bcf_31c983403a9frow4_col6\" class=\"data row4 col6\" >97.000000</td>\n",
       "                        <td id=\"T_b56ef515_ed16_11ea_8bcf_31c983403a9frow4_col7\" class=\"data row4 col7\" >2.000000</td>\n",
       "            </tr>\n",
       "            <tr>\n",
       "                        <th id=\"T_b56ef515_ed16_11ea_8bcf_31c983403a9flevel0_row5\" class=\"row_heading level0 row5\" >50%</th>\n",
       "                        <td id=\"T_b56ef515_ed16_11ea_8bcf_31c983403a9frow5_col0\" class=\"data row5 col0\" >40.000000</td>\n",
       "                        <td id=\"T_b56ef515_ed16_11ea_8bcf_31c983403a9frow5_col1\" class=\"data row5 col1\" >36.850000</td>\n",
       "                        <td id=\"T_b56ef515_ed16_11ea_8bcf_31c983403a9frow5_col2\" class=\"data row5 col2\" >78.000000</td>\n",
       "                        <td id=\"T_b56ef515_ed16_11ea_8bcf_31c983403a9frow5_col3\" class=\"data row5 col3\" >124.000000</td>\n",
       "                        <td id=\"T_b56ef515_ed16_11ea_8bcf_31c983403a9frow5_col4\" class=\"data row5 col4\" >80.000000</td>\n",
       "                        <td id=\"T_b56ef515_ed16_11ea_8bcf_31c983403a9frow5_col5\" class=\"data row5 col5\" >16.000000</td>\n",
       "                        <td id=\"T_b56ef515_ed16_11ea_8bcf_31c983403a9frow5_col6\" class=\"data row5 col6\" >98.000000</td>\n",
       "                        <td id=\"T_b56ef515_ed16_11ea_8bcf_31c983403a9frow5_col7\" class=\"data row5 col7\" >4.000000</td>\n",
       "            </tr>\n",
       "            <tr>\n",
       "                        <th id=\"T_b56ef515_ed16_11ea_8bcf_31c983403a9flevel0_row6\" class=\"row_heading level0 row6\" >75%</th>\n",
       "                        <td id=\"T_b56ef515_ed16_11ea_8bcf_31c983403a9frow6_col0\" class=\"data row6 col0\" >54.000000</td>\n",
       "                        <td id=\"T_b56ef515_ed16_11ea_8bcf_31c983403a9frow6_col1\" class=\"data row6 col1\" >37.000000</td>\n",
       "                        <td id=\"T_b56ef515_ed16_11ea_8bcf_31c983403a9frow6_col2\" class=\"data row6 col2\" >87.000000</td>\n",
       "                        <td id=\"T_b56ef515_ed16_11ea_8bcf_31c983403a9frow6_col3\" class=\"data row6 col3\" >135.000000</td>\n",
       "                        <td id=\"T_b56ef515_ed16_11ea_8bcf_31c983403a9frow6_col4\" class=\"data row6 col4\" >85.000000</td>\n",
       "                        <td id=\"T_b56ef515_ed16_11ea_8bcf_31c983403a9frow6_col5\" class=\"data row6 col5\" >16.000000</td>\n",
       "                        <td id=\"T_b56ef515_ed16_11ea_8bcf_31c983403a9frow6_col6\" class=\"data row6 col6\" >99.000000</td>\n",
       "                        <td id=\"T_b56ef515_ed16_11ea_8bcf_31c983403a9frow6_col7\" class=\"data row6 col7\" >10.000000</td>\n",
       "            </tr>\n",
       "            <tr>\n",
       "                        <th id=\"T_b56ef515_ed16_11ea_8bcf_31c983403a9flevel0_row7\" class=\"row_heading level0 row7\" >max</th>\n",
       "                        <td id=\"T_b56ef515_ed16_11ea_8bcf_31c983403a9frow7_col0\" class=\"data row7 col0\" >90.000000</td>\n",
       "                        <td id=\"T_b56ef515_ed16_11ea_8bcf_31c983403a9frow7_col1\" class=\"data row7 col1\" >39.400000</td>\n",
       "                        <td id=\"T_b56ef515_ed16_11ea_8bcf_31c983403a9frow7_col2\" class=\"data row7 col2\" >150.000000</td>\n",
       "                        <td id=\"T_b56ef515_ed16_11ea_8bcf_31c983403a9frow7_col3\" class=\"data row7 col3\" >235.000000</td>\n",
       "                        <td id=\"T_b56ef515_ed16_11ea_8bcf_31c983403a9frow7_col4\" class=\"data row7 col4\" >135.000000</td>\n",
       "                        <td id=\"T_b56ef515_ed16_11ea_8bcf_31c983403a9frow7_col5\" class=\"data row7 col5\" >32.000000</td>\n",
       "                        <td id=\"T_b56ef515_ed16_11ea_8bcf_31c983403a9frow7_col6\" class=\"data row7 col6\" >100.000000</td>\n",
       "                        <td id=\"T_b56ef515_ed16_11ea_8bcf_31c983403a9frow7_col7\" class=\"data row7 col7\" >300.000000</td>\n",
       "            </tr>\n",
       "    </tbody></table>"
      ],
      "text/plain": [
       "<pandas.io.formats.style.Styler at 0x7fcc17964820>"
      ]
     },
     "execution_count": 11,
     "metadata": {},
     "output_type": "execute_result"
    }
   ],
   "source": [
    "from print_table import get_table_styles\n",
    "\n",
    "table_styles = get_table_styles()\n",
    "data.describe().style.set_table_styles(table_styles).set_properties(\n",
    "    **{\"text-align\": 'center'})"
   ]
  },
  {
   "cell_type": "markdown",
   "metadata": {},
   "source": [
    "This table summarizes the basic properties of each of the numerical columns contained in the dataset and gives a brief overview of the observed variance."
   ]
  },
  {
   "cell_type": "markdown",
   "metadata": {},
   "source": [
    "### Missing Values"
   ]
  },
  {
   "cell_type": "markdown",
   "metadata": {},
   "source": [
    "Handling missing values requires careful judgement. Possible solutions include:\n",
    "* Removing the entire feature (column) containing the missing values.\n",
    "* Removing all observations with missing values.\n",
    "* \"Filling in\" missing values with some constant or statistic, such as the mean or the mode. \n",
    "\n",
    "There is not one correct method, as different circumstances call for different approaches. If a column contains a small number of observations (relative to the size of the dataset) and our dataset is rich enough and offers more features that could be expected to be informative, we might decide to remove it. Or, if we have a large dataset and the feature in question is crucial for the purposes of our analysis, we might decide to remove all rows with a missing value. Finally, Filling in missing values might be a good trade-off if we have good reason to believe some statistic may adequately approximate the missing values. \n",
    "\n",
    "Let's first get a better sense of what fraction of the values is missing in each of the relevant columns:"
   ]
  },
  {
   "cell_type": "markdown",
   "metadata": {},
   "source": [
    "````{toggle}\n",
    "    :show:\n",
    "```{literalinclude} missing_values.py\n",
    "    :pyobject: calculate_nan_fractions\n",
    "```\n",
    "````"
   ]
  },
  {
   "cell_type": "code",
   "execution_count": 12,
   "metadata": {
    "tags": [
     "remove-input"
    ]
   },
   "outputs": [],
   "source": [
    "from missing_values import calculate_nan_fractions"
   ]
  },
  {
   "cell_type": "code",
   "execution_count": 13,
   "metadata": {},
   "outputs": [
    {
     "data": {
      "text/html": [
       "<style  type=\"text/css\" >\n",
       "</style><table id=\"T_b56ef516_ed16_11ea_8bcf_31c983403a9f\" ><thead>    <tr>        <th class=\"blank level0\" ></th>        <th class=\"col_heading level0 col0\" >Total Missing</th>        <th class=\"col_heading level0 col1\" >Negatives Fraction</th>        <th class=\"col_heading level0 col2\" >Positives Fraction</th>    </tr>    <tr>        <th class=\"index_name level0\" >Column Name</th>        <th class=\"blank\" ></th>        <th class=\"blank\" ></th>        <th class=\"blank\" ></th>    </tr></thead><tbody>\n",
       "                <tr>\n",
       "                        <th id=\"T_b56ef516_ed16_11ea_8bcf_31c983403a9flevel0_row0\" class=\"row_heading level0 row0\" >rapid_strep_results</th>\n",
       "                        <td id=\"T_b56ef516_ed16_11ea_8bcf_31c983403a9frow0_col0\" class=\"data row0 col0\" >99.23%</td>\n",
       "                        <td id=\"T_b56ef516_ed16_11ea_8bcf_31c983403a9frow0_col1\" class=\"data row0 col1\" >97.20%</td>\n",
       "                        <td id=\"T_b56ef516_ed16_11ea_8bcf_31c983403a9frow0_col2\" class=\"data row0 col2\" >2.80%</td>\n",
       "            </tr>\n",
       "            <tr>\n",
       "                        <th id=\"T_b56ef516_ed16_11ea_8bcf_31c983403a9flevel0_row1\" class=\"row_heading level0 row1\" >rapid_flu_results</th>\n",
       "                        <td id=\"T_b56ef516_ed16_11ea_8bcf_31c983403a9frow1_col0\" class=\"data row1 col0\" >98.52%</td>\n",
       "                        <td id=\"T_b56ef516_ed16_11ea_8bcf_31c983403a9frow1_col1\" class=\"data row1 col1\" >97.26%</td>\n",
       "                        <td id=\"T_b56ef516_ed16_11ea_8bcf_31c983403a9frow1_col2\" class=\"data row1 col2\" >2.74%</td>\n",
       "            </tr>\n",
       "            <tr>\n",
       "                        <th id=\"T_b56ef516_ed16_11ea_8bcf_31c983403a9flevel0_row2\" class=\"row_heading level0 row2\" >sob_severity</th>\n",
       "                        <td id=\"T_b56ef516_ed16_11ea_8bcf_31c983403a9frow2_col0\" class=\"data row2 col0\" >91.50%</td>\n",
       "                        <td id=\"T_b56ef516_ed16_11ea_8bcf_31c983403a9frow2_col1\" class=\"data row2 col1\" >97.24%</td>\n",
       "                        <td id=\"T_b56ef516_ed16_11ea_8bcf_31c983403a9frow2_col2\" class=\"data row2 col2\" >2.76%</td>\n",
       "            </tr>\n",
       "            <tr>\n",
       "                        <th id=\"T_b56ef516_ed16_11ea_8bcf_31c983403a9flevel0_row3\" class=\"row_heading level0 row3\" >cough_severity</th>\n",
       "                        <td id=\"T_b56ef516_ed16_11ea_8bcf_31c983403a9frow3_col0\" class=\"data row3 col0\" >85.12%</td>\n",
       "                        <td id=\"T_b56ef516_ed16_11ea_8bcf_31c983403a9frow3_col1\" class=\"data row3 col1\" >97.69%</td>\n",
       "                        <td id=\"T_b56ef516_ed16_11ea_8bcf_31c983403a9frow3_col2\" class=\"data row3 col2\" >2.31%</td>\n",
       "            </tr>\n",
       "            <tr>\n",
       "                        <th id=\"T_b56ef516_ed16_11ea_8bcf_31c983403a9flevel0_row4\" class=\"row_heading level0 row4\" >days_since_symptom_onset</th>\n",
       "                        <td id=\"T_b56ef516_ed16_11ea_8bcf_31c983403a9frow4_col0\" class=\"data row4 col0\" >68.01%</td>\n",
       "                        <td id=\"T_b56ef516_ed16_11ea_8bcf_31c983403a9frow4_col1\" class=\"data row4 col1\" >97.72%</td>\n",
       "                        <td id=\"T_b56ef516_ed16_11ea_8bcf_31c983403a9frow4_col2\" class=\"data row4 col2\" >2.28%</td>\n",
       "            </tr>\n",
       "            <tr>\n",
       "                        <th id=\"T_b56ef516_ed16_11ea_8bcf_31c983403a9flevel0_row5\" class=\"row_heading level0 row5\" >rhonchi</th>\n",
       "                        <td id=\"T_b56ef516_ed16_11ea_8bcf_31c983403a9frow5_col0\" class=\"data row5 col0\" >59.61%</td>\n",
       "                        <td id=\"T_b56ef516_ed16_11ea_8bcf_31c983403a9frow5_col1\" class=\"data row5 col1\" >97.93%</td>\n",
       "                        <td id=\"T_b56ef516_ed16_11ea_8bcf_31c983403a9frow5_col2\" class=\"data row5 col2\" >2.07%</td>\n",
       "            </tr>\n",
       "            <tr>\n",
       "                        <th id=\"T_b56ef516_ed16_11ea_8bcf_31c983403a9flevel0_row6\" class=\"row_heading level0 row6\" >wheezes</th>\n",
       "                        <td id=\"T_b56ef516_ed16_11ea_8bcf_31c983403a9frow6_col0\" class=\"data row6 col0\" >56.80%</td>\n",
       "                        <td id=\"T_b56ef516_ed16_11ea_8bcf_31c983403a9frow6_col1\" class=\"data row6 col1\" >98.03%</td>\n",
       "                        <td id=\"T_b56ef516_ed16_11ea_8bcf_31c983403a9frow6_col2\" class=\"data row6 col2\" >1.97%</td>\n",
       "            </tr>\n",
       "            <tr>\n",
       "                        <th id=\"T_b56ef516_ed16_11ea_8bcf_31c983403a9flevel0_row7\" class=\"row_heading level0 row7\" >rr</th>\n",
       "                        <td id=\"T_b56ef516_ed16_11ea_8bcf_31c983403a9frow7_col0\" class=\"data row7 col0\" >48.41%</td>\n",
       "                        <td id=\"T_b56ef516_ed16_11ea_8bcf_31c983403a9frow7_col1\" class=\"data row7 col1\" >98.02%</td>\n",
       "                        <td id=\"T_b56ef516_ed16_11ea_8bcf_31c983403a9frow7_col2\" class=\"data row7 col2\" >1.98%</td>\n",
       "            </tr>\n",
       "            <tr>\n",
       "                        <th id=\"T_b56ef516_ed16_11ea_8bcf_31c983403a9flevel0_row8\" class=\"row_heading level0 row8\" >ctab</th>\n",
       "                        <td id=\"T_b56ef516_ed16_11ea_8bcf_31c983403a9frow8_col0\" class=\"data row8 col0\" >47.39%</td>\n",
       "                        <td id=\"T_b56ef516_ed16_11ea_8bcf_31c983403a9frow8_col1\" class=\"data row8 col1\" >98.34%</td>\n",
       "                        <td id=\"T_b56ef516_ed16_11ea_8bcf_31c983403a9frow8_col2\" class=\"data row8 col2\" >1.66%</td>\n",
       "            </tr>\n",
       "            <tr>\n",
       "                        <th id=\"T_b56ef516_ed16_11ea_8bcf_31c983403a9flevel0_row9\" class=\"row_heading level0 row9\" >sats</th>\n",
       "                        <td id=\"T_b56ef516_ed16_11ea_8bcf_31c983403a9frow9_col0\" class=\"data row9 col0\" >42.82%</td>\n",
       "                        <td id=\"T_b56ef516_ed16_11ea_8bcf_31c983403a9frow9_col1\" class=\"data row9 col1\" >98.49%</td>\n",
       "                        <td id=\"T_b56ef516_ed16_11ea_8bcf_31c983403a9frow9_col2\" class=\"data row9 col2\" >1.51%</td>\n",
       "            </tr>\n",
       "            <tr>\n",
       "                        <th id=\"T_b56ef516_ed16_11ea_8bcf_31c983403a9flevel0_row10\" class=\"row_heading level0 row10\" >pulse</th>\n",
       "                        <td id=\"T_b56ef516_ed16_11ea_8bcf_31c983403a9frow10_col0\" class=\"data row10 col0\" >41.58%</td>\n",
       "                        <td id=\"T_b56ef516_ed16_11ea_8bcf_31c983403a9frow10_col1\" class=\"data row10 col1\" >98.49%</td>\n",
       "                        <td id=\"T_b56ef516_ed16_11ea_8bcf_31c983403a9frow10_col2\" class=\"data row10 col2\" >1.51%</td>\n",
       "            </tr>\n",
       "            <tr>\n",
       "                        <th id=\"T_b56ef516_ed16_11ea_8bcf_31c983403a9flevel0_row11\" class=\"row_heading level0 row11\" >temperature</th>\n",
       "                        <td id=\"T_b56ef516_ed16_11ea_8bcf_31c983403a9frow11_col0\" class=\"data row11 col0\" >41.43%</td>\n",
       "                        <td id=\"T_b56ef516_ed16_11ea_8bcf_31c983403a9frow11_col1\" class=\"data row11 col1\" >98.38%</td>\n",
       "                        <td id=\"T_b56ef516_ed16_11ea_8bcf_31c983403a9frow11_col2\" class=\"data row11 col2\" >1.62%</td>\n",
       "            </tr>\n",
       "            <tr>\n",
       "                        <th id=\"T_b56ef516_ed16_11ea_8bcf_31c983403a9flevel0_row12\" class=\"row_heading level0 row12\" >sys</th>\n",
       "                        <td id=\"T_b56ef516_ed16_11ea_8bcf_31c983403a9frow12_col0\" class=\"data row12 col0\" >41.35%</td>\n",
       "                        <td id=\"T_b56ef516_ed16_11ea_8bcf_31c983403a9frow12_col1\" class=\"data row12 col1\" >98.44%</td>\n",
       "                        <td id=\"T_b56ef516_ed16_11ea_8bcf_31c983403a9frow12_col2\" class=\"data row12 col2\" >1.56%</td>\n",
       "            </tr>\n",
       "            <tr>\n",
       "                        <th id=\"T_b56ef516_ed16_11ea_8bcf_31c983403a9flevel0_row13\" class=\"row_heading level0 row13\" >dia</th>\n",
       "                        <td id=\"T_b56ef516_ed16_11ea_8bcf_31c983403a9frow13_col0\" class=\"data row13 col0\" >41.35%</td>\n",
       "                        <td id=\"T_b56ef516_ed16_11ea_8bcf_31c983403a9frow13_col1\" class=\"data row13 col1\" >98.44%</td>\n",
       "                        <td id=\"T_b56ef516_ed16_11ea_8bcf_31c983403a9frow13_col2\" class=\"data row13 col2\" >1.56%</td>\n",
       "            </tr>\n",
       "            <tr>\n",
       "                        <th id=\"T_b56ef516_ed16_11ea_8bcf_31c983403a9flevel0_row14\" class=\"row_heading level0 row14\" >labored_respiration</th>\n",
       "                        <td id=\"T_b56ef516_ed16_11ea_8bcf_31c983403a9frow14_col0\" class=\"data row14 col0\" >37.12%</td>\n",
       "                        <td id=\"T_b56ef516_ed16_11ea_8bcf_31c983403a9frow14_col1\" class=\"data row14 col1\" >98.63%</td>\n",
       "                        <td id=\"T_b56ef516_ed16_11ea_8bcf_31c983403a9frow14_col2\" class=\"data row14 col2\" >1.37%</td>\n",
       "            </tr>\n",
       "            <tr>\n",
       "                        <th id=\"T_b56ef516_ed16_11ea_8bcf_31c983403a9flevel0_row15\" class=\"row_heading level0 row15\" >fever</th>\n",
       "                        <td id=\"T_b56ef516_ed16_11ea_8bcf_31c983403a9frow15_col0\" class=\"data row15 col0\" >22.67%</td>\n",
       "                        <td id=\"T_b56ef516_ed16_11ea_8bcf_31c983403a9frow15_col1\" class=\"data row15 col1\" >95.18%</td>\n",
       "                        <td id=\"T_b56ef516_ed16_11ea_8bcf_31c983403a9frow15_col2\" class=\"data row15 col2\" >4.82%</td>\n",
       "            </tr>\n",
       "            <tr>\n",
       "                        <th id=\"T_b56ef516_ed16_11ea_8bcf_31c983403a9flevel0_row16\" class=\"row_heading level0 row16\" >high_risk_interactions</th>\n",
       "                        <td id=\"T_b56ef516_ed16_11ea_8bcf_31c983403a9frow16_col0\" class=\"data row16 col0\" >13.44%</td>\n",
       "                        <td id=\"T_b56ef516_ed16_11ea_8bcf_31c983403a9frow16_col1\" class=\"data row16 col1\" >94.40%</td>\n",
       "                        <td id=\"T_b56ef516_ed16_11ea_8bcf_31c983403a9frow16_col2\" class=\"data row16 col2\" >5.60%</td>\n",
       "            </tr>\n",
       "            <tr>\n",
       "                        <th id=\"T_b56ef516_ed16_11ea_8bcf_31c983403a9flevel0_row17\" class=\"row_heading level0 row17\" >sob</th>\n",
       "                        <td id=\"T_b56ef516_ed16_11ea_8bcf_31c983403a9frow17_col0\" class=\"data row17 col0\" >1.84%</td>\n",
       "                        <td id=\"T_b56ef516_ed16_11ea_8bcf_31c983403a9frow17_col1\" class=\"data row17 col1\" >97.57%</td>\n",
       "                        <td id=\"T_b56ef516_ed16_11ea_8bcf_31c983403a9frow17_col2\" class=\"data row17 col2\" >2.43%</td>\n",
       "            </tr>\n",
       "            <tr>\n",
       "                        <th id=\"T_b56ef516_ed16_11ea_8bcf_31c983403a9flevel0_row18\" class=\"row_heading level0 row18\" >loss_of_smell</th>\n",
       "                        <td id=\"T_b56ef516_ed16_11ea_8bcf_31c983403a9frow18_col0\" class=\"data row18 col0\" >1.70%</td>\n",
       "                        <td id=\"T_b56ef516_ed16_11ea_8bcf_31c983403a9frow18_col1\" class=\"data row18 col1\" >97.37%</td>\n",
       "                        <td id=\"T_b56ef516_ed16_11ea_8bcf_31c983403a9frow18_col2\" class=\"data row18 col2\" >2.63%</td>\n",
       "            </tr>\n",
       "            <tr>\n",
       "                        <th id=\"T_b56ef516_ed16_11ea_8bcf_31c983403a9flevel0_row19\" class=\"row_heading level0 row19\" >loss_of_taste</th>\n",
       "                        <td id=\"T_b56ef516_ed16_11ea_8bcf_31c983403a9frow19_col0\" class=\"data row19 col0\" >1.70%</td>\n",
       "                        <td id=\"T_b56ef516_ed16_11ea_8bcf_31c983403a9frow19_col1\" class=\"data row19 col1\" >97.37%</td>\n",
       "                        <td id=\"T_b56ef516_ed16_11ea_8bcf_31c983403a9frow19_col2\" class=\"data row19 col2\" >2.63%</td>\n",
       "            </tr>\n",
       "            <tr>\n",
       "                        <th id=\"T_b56ef516_ed16_11ea_8bcf_31c983403a9flevel0_row20\" class=\"row_heading level0 row20\" >runny_nose</th>\n",
       "                        <td id=\"T_b56ef516_ed16_11ea_8bcf_31c983403a9frow20_col0\" class=\"data row20 col0\" >1.67%</td>\n",
       "                        <td id=\"T_b56ef516_ed16_11ea_8bcf_31c983403a9frow20_col1\" class=\"data row20 col1\" >97.33%</td>\n",
       "                        <td id=\"T_b56ef516_ed16_11ea_8bcf_31c983403a9frow20_col2\" class=\"data row20 col2\" >2.67%</td>\n",
       "            </tr>\n",
       "            <tr>\n",
       "                        <th id=\"T_b56ef516_ed16_11ea_8bcf_31c983403a9flevel0_row21\" class=\"row_heading level0 row21\" >diarrhea</th>\n",
       "                        <td id=\"T_b56ef516_ed16_11ea_8bcf_31c983403a9frow21_col0\" class=\"data row21 col0\" >1.67%</td>\n",
       "                        <td id=\"T_b56ef516_ed16_11ea_8bcf_31c983403a9frow21_col1\" class=\"data row21 col1\" >97.33%</td>\n",
       "                        <td id=\"T_b56ef516_ed16_11ea_8bcf_31c983403a9frow21_col2\" class=\"data row21 col2\" >2.67%</td>\n",
       "            </tr>\n",
       "            <tr>\n",
       "                        <th id=\"T_b56ef516_ed16_11ea_8bcf_31c983403a9flevel0_row22\" class=\"row_heading level0 row22\" >sore_throat</th>\n",
       "                        <td id=\"T_b56ef516_ed16_11ea_8bcf_31c983403a9frow22_col0\" class=\"data row22 col0\" >1.64%</td>\n",
       "                        <td id=\"T_b56ef516_ed16_11ea_8bcf_31c983403a9frow22_col1\" class=\"data row22 col1\" >97.27%</td>\n",
       "                        <td id=\"T_b56ef516_ed16_11ea_8bcf_31c983403a9frow22_col2\" class=\"data row22 col2\" >2.73%</td>\n",
       "            </tr>\n",
       "            <tr>\n",
       "                        <th id=\"T_b56ef516_ed16_11ea_8bcf_31c983403a9flevel0_row23\" class=\"row_heading level0 row23\" >headache</th>\n",
       "                        <td id=\"T_b56ef516_ed16_11ea_8bcf_31c983403a9frow23_col0\" class=\"data row23 col0\" >1.64%</td>\n",
       "                        <td id=\"T_b56ef516_ed16_11ea_8bcf_31c983403a9frow23_col1\" class=\"data row23 col1\" >97.27%</td>\n",
       "                        <td id=\"T_b56ef516_ed16_11ea_8bcf_31c983403a9frow23_col2\" class=\"data row23 col2\" >2.73%</td>\n",
       "            </tr>\n",
       "            <tr>\n",
       "                        <th id=\"T_b56ef516_ed16_11ea_8bcf_31c983403a9flevel0_row24\" class=\"row_heading level0 row24\" >muscle_sore</th>\n",
       "                        <td id=\"T_b56ef516_ed16_11ea_8bcf_31c983403a9frow24_col0\" class=\"data row24 col0\" >1.63%</td>\n",
       "                        <td id=\"T_b56ef516_ed16_11ea_8bcf_31c983403a9frow24_col1\" class=\"data row24 col1\" >97.25%</td>\n",
       "                        <td id=\"T_b56ef516_ed16_11ea_8bcf_31c983403a9frow24_col2\" class=\"data row24 col2\" >2.75%</td>\n",
       "            </tr>\n",
       "            <tr>\n",
       "                        <th id=\"T_b56ef516_ed16_11ea_8bcf_31c983403a9flevel0_row25\" class=\"row_heading level0 row25\" >fatigue</th>\n",
       "                        <td id=\"T_b56ef516_ed16_11ea_8bcf_31c983403a9frow25_col0\" class=\"data row25 col0\" >1.58%</td>\n",
       "                        <td id=\"T_b56ef516_ed16_11ea_8bcf_31c983403a9frow25_col1\" class=\"data row25 col1\" >97.16%</td>\n",
       "                        <td id=\"T_b56ef516_ed16_11ea_8bcf_31c983403a9frow25_col2\" class=\"data row25 col2\" >2.84%</td>\n",
       "            </tr>\n",
       "            <tr>\n",
       "                        <th id=\"T_b56ef516_ed16_11ea_8bcf_31c983403a9flevel0_row26\" class=\"row_heading level0 row26\" >high_risk_exposure_occupation</th>\n",
       "                        <td id=\"T_b56ef516_ed16_11ea_8bcf_31c983403a9frow26_col0\" class=\"data row26 col0\" >1.51%</td>\n",
       "                        <td id=\"T_b56ef516_ed16_11ea_8bcf_31c983403a9frow26_col1\" class=\"data row26 col1\" >97.04%</td>\n",
       "                        <td id=\"T_b56ef516_ed16_11ea_8bcf_31c983403a9frow26_col2\" class=\"data row26 col2\" >2.96%</td>\n",
       "            </tr>\n",
       "            <tr>\n",
       "                        <th id=\"T_b56ef516_ed16_11ea_8bcf_31c983403a9flevel0_row27\" class=\"row_heading level0 row27\" >cough</th>\n",
       "                        <td id=\"T_b56ef516_ed16_11ea_8bcf_31c983403a9frow27_col0\" class=\"data row27 col0\" >0.13%</td>\n",
       "                        <td id=\"T_b56ef516_ed16_11ea_8bcf_31c983403a9frow27_col1\" class=\"data row27 col1\" >100.00%</td>\n",
       "                        <td id=\"T_b56ef516_ed16_11ea_8bcf_31c983403a9frow27_col2\" class=\"data row27 col2\" >0.00%</td>\n",
       "            </tr>\n",
       "    </tbody></table>"
      ],
      "text/plain": [
       "<pandas.io.formats.style.Styler at 0x7fcc17964070>"
      ]
     },
     "execution_count": 13,
     "metadata": {},
     "output_type": "execute_result"
    }
   ],
   "source": [
    "missing_fractions_df = calculate_nan_fractions(data, target_column=TARGET_COLUMN_NAME)\n",
    "missing_fractions_df.style.format(\"{:,.2%}\")"
   ]
  },
  {
   "cell_type": "code",
   "execution_count": 14,
   "metadata": {
    "tags": [
     "remove-input"
    ]
   },
   "outputs": [
    {
     "data": {
      "application/papermill.record/text/plain": "'2.40%'"
     },
     "metadata": {
      "scrapbook": {
       "mime_prefix": "application/papermill.record/",
       "name": "mean_positives_null_fraction"
      }
     },
     "output_type": "display_data"
    },
    {
     "data": {
      "application/papermill.record/text/plain": "'2.82%'"
     },
     "metadata": {
      "scrapbook": {
       "mime_prefix": "application/papermill.record/",
       "name": "positives_fraction"
      }
     },
     "output_type": "display_data"
    }
   ],
   "source": [
    "positives_fraction = \"{:,.2%}\".format(len(data[data[TARGET_COLUMN_NAME]]) / len(data))\n",
    "mean_positives_null_fraction = \"{:,.2%}\".format(missing_fractions_df[\"Positives Fraction\"].mean())\n",
    "\n",
    "glue(\"mean_positives_null_fraction\", mean_positives_null_fraction, display=False)\n",
    "glue(\"positives_fraction\", positives_fraction, display=False)"
   ]
  },
  {
   "cell_type": "markdown",
   "metadata": {},
   "source": [
    "This table allows us to easily see which columns containt a large fraction of missing values, but also shows us that the mean relative fraction of missing values in Coronavirus-positive observations ({glue:}`mean_positives_null_fraction`) isn't far from the general fraction of positives ({glue:}`positives_fraction`). This is very good sign of the quality of the data, and assures us the dataset does not include a [\"missing not at random\"](https://en.wikipedia.org/wiki/Missing_data#Missing_not_at_random) bias."
   ]
  },
  {
   "cell_type": "code",
   "execution_count": 15,
   "metadata": {
    "tags": [
     "remove-input"
    ]
   },
   "outputs": [
    {
     "data": {
      "application/papermill.record/text/plain": "'10.00%'"
     },
     "metadata": {
      "scrapbook": {
       "mime_prefix": "application/papermill.record/",
       "name": "nan_fraction_threshold"
      }
     },
     "output_type": "display_data"
    }
   ],
   "source": [
    "from configuration import NAN_FRACTION_THRESHOLD\n",
    "\n",
    "glue(\"nan_fraction_threshold\", \"{:,.2%}\".format(NAN_FRACTION_THRESHOLD), display=False)"
   ]
  },
  {
   "cell_type": "markdown",
   "metadata": {},
   "source": [
    "Now, we will create a simple function to remove all columns with more than {glue:}`nan_fraction_threshold` of missing values:"
   ]
  },
  {
   "cell_type": "markdown",
   "metadata": {},
   "source": [
    "````{toggle}\n",
    "    :show:\n",
    "```{literalinclude} missing_values.py\n",
    "    :pyobject: remove_missing_data_columns\n",
    "```\n",
    "````"
   ]
  },
  {
   "cell_type": "code",
   "execution_count": 16,
   "metadata": {
    "tags": [
     "remove-input"
    ]
   },
   "outputs": [],
   "source": [
    "from missing_values import remove_missing_data_columns"
   ]
  },
  {
   "cell_type": "code",
   "execution_count": 17,
   "metadata": {},
   "outputs": [
    {
     "data": {
      "text/plain": [
       "(11169, 25)"
      ]
     },
     "execution_count": 17,
     "metadata": {},
     "output_type": "execute_result"
    }
   ],
   "source": [
    "data = remove_missing_data_columns(data)\n",
    "data.shape"
   ]
  },
  {
   "cell_type": "markdown",
   "metadata": {},
   "source": [
    "For the rest of the columns (with a fraction of missing values that is lower than the threshold), we will simply remove observations with missing values from the dataset:"
   ]
  },
  {
   "cell_type": "code",
   "execution_count": 18,
   "metadata": {},
   "outputs": [
    {
     "data": {
      "text/plain": [
       "(10959, 25)"
      ]
     },
     "execution_count": 18,
     "metadata": {},
     "output_type": "execute_result"
    }
   ],
   "source": [
    "data = data.dropna(axis=0, how=\"any\").reset_index(drop=True)\n",
    "data.shape"
   ]
  },
  {
   "cell_type": "markdown",
   "metadata": {},
   "source": [
    "Our dataset is now clean from any missing values and ready for further inspection."
   ]
  },
  {
   "cell_type": "markdown",
   "metadata": {},
   "source": [
    "### Data Leakage"
   ]
  },
  {
   "cell_type": "markdown",
   "metadata": {},
   "source": [
    "Now that we have a basic understanding of the dataset, we should consider whether all of the features are indeed informative and make sure we get rid of any noise or potential data leakage."
   ]
  },
  {
   "cell_type": "markdown",
   "metadata": {},
   "source": [
    "```{important}\n",
    "> \"In statistics and machine learning, **leakage** (also **data leakage**, or **target leakage**)\n",
    "> is the use of information in the model training process which would not be expected\n",
    "> to be available at prediction time, causing the predictive scores (metrics) to\n",
    "> overestimate the model's utility when run in a production environment.\" {cite}`data_leakage`\n",
    "```\n",
    "\n",
    "```{seealso}\n",
    "* [Wikipedia](https://en.wikipedia.org/wiki/Leakage_(machine_learning))\n",
    "* [Kaggle tutorial](https://www.kaggle.com/alexisbcook/data-leakage)\n",
    "```"
   ]
  },
  {
   "cell_type": "markdown",
   "metadata": {},
   "source": [
    "So, what predictors are we left with?"
   ]
  },
  {
   "cell_type": "code",
   "execution_count": 23,
   "metadata": {},
   "outputs": [
    {
     "name": "stdout",
     "output_type": "stream",
     "text": [
      "Categorial features:\n",
      "batch_date, test_name, swab_type, high_risk_exposure_occupation, cough, sob, diarrhea, fatigue, headache, loss_of_smell, loss_of_taste, runny_nose, muscle_sore, sore_throat\n",
      "\n",
      "Numerical features:\n",
      "covid19_test_results, age, diabetes, chd, htn, cancer, asthma, copd, autoimmune_dis, smoker, er_referral\n"
     ]
    }
   ],
   "source": [
    "print(\"Categorial features:\\n\" + \", \".join(data.select_dtypes([\"object\"]).columns))\n",
    "print(\"\\nNumerical features:\\n\" + \", \".join(data.select_dtypes(exclude=[\"object\"]).columns))"
   ]
  }
 ],
 "metadata": {
  "celltoolbar": "Tags",
  "kernelspec": {
   "display_name": "Python 3",
   "language": "python",
   "name": "python3"
  },
  "language_info": {
   "codemirror_mode": {
    "name": "ipython",
    "version": 3
   },
   "file_extension": ".py",
   "mimetype": "text/x-python",
   "name": "python",
   "nbconvert_exporter": "python",
   "pygments_lexer": "ipython3",
   "version": "3.8.0"
  },
  "widgets": {
   "application/vnd.jupyter.widget-state+json": {
    "state": {},
    "version_major": 2,
    "version_minor": 0
   }
  }
 },
 "nbformat": 4,
 "nbformat_minor": 4
}
