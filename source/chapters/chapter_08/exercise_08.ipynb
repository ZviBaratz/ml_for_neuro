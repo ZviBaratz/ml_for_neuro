{
 "cells": [
  {
   "cell_type": "markdown",
   "metadata": {},
   "source": [
    "# Exercise VIII: K-Means Clustering and PCA"
   ]
  },
  {
   "cell_type": "markdown",
   "metadata": {},
   "source": [
    "## Iris Dataset"
   ]
  },
  {
   "cell_type": "markdown",
   "metadata": {},
   "source": [
    "Let's start things off with a simple application of our subject material on the iris dataset to better understand our workflow and the relevant metrics."
   ]
  },
  {
   "cell_type": "markdown",
   "metadata": {},
   "source": [
    "### Set up"
   ]
  },
  {
   "cell_type": "code",
   "execution_count": 23,
   "metadata": {},
   "outputs": [],
   "source": [
    "import pandas as pd\n",
    "\n",
    "from sklearn.datasets import load_iris\n",
    "from sklearn.preprocessing import StandardScaler\n",
    "\n",
    "data = load_iris(as_frame=True)\n",
    "\n",
    "X_iris, y_iris = data.data, data.target\n",
    "y_iris = y_iris.replace(\n",
    "    {index: name\n",
    "     for index, name in enumerate(data[\"target_names\"])})\n",
    "\n",
    "# Feature scaling\n",
    "scaler = StandardScaler()\n",
    "X_iris = scaler.fit_transform(X_iris.loc[:, :])"
   ]
  },
  {
   "cell_type": "markdown",
   "metadata": {},
   "source": [
    "### Dimensionality Reduction using [Principal Component Analysis (PCA)](https://en.wikipedia.org/wiki/Principal_component_analysis)"
   ]
  },
  {
   "cell_type": "code",
   "execution_count": 24,
   "metadata": {},
   "outputs": [],
   "source": [
    "from sklearn.decomposition import PCA\n",
    "\n",
    "IRIS_N_COMPONENTS = 4\n",
    "\n",
    "iris_pca = PCA(n_components=IRIS_N_COMPONENTS)\n",
    "_ = iris_pca.fit(X_iris)"
   ]
  },
  {
   "cell_type": "markdown",
   "metadata": {},
   "source": [
    "Let's try and evaluate how well did PCA manage to find small number of components to explain the variance:"
   ]
  },
  {
   "cell_type": "code",
   "execution_count": 68,
   "metadata": {
    "tags": [
     "hide-input"
    ]
   },
   "outputs": [],
   "source": [
    "from typing import Union\n",
    "\n",
    "DEFAULT_FIG_KWARGS = {\"figsize\": (9, 6)}\n",
    "DEFAULT_COMPONENT_AX_KWARGS = {\n",
    "    \"color\": \"purple\",\n",
    "    \"linewidth\": 2,\n",
    "    \"label\": \"Individual Component\"\n",
    "}\n",
    "DEFAULT_CUMULATIVE_AX_KWARGS = {\n",
    "    \"color\": \"orange\",\n",
    "    \"linewidth\": 2,\n",
    "    \"label\": \"Cumulative\"\n",
    "}\n",
    "DEFAULT_CUSTOMIZATIONS = {\n",
    "    \"title\": \"Explained Variance Ratio by Number of Principal Components\",\n",
    "    \"xlabel\": \"Number of Principal Components\",\n",
    "    \"ylabel\": \"Explained Variance Ratio\"\n",
    "}\n",
    "DEFAULT_LEGEND_LOCATION = (0.85, 0.7)\n",
    "\n",
    "\n",
    "def organize_kwargs(user_kwargs: Union[dict, None],\n",
    "                    default_kwargs: dict = None) -> dict:\n",
    "    \"\"\"\n",
    "    Update default keyword argument configuration with user provided\n",
    "    configuration.\n",
    "    \n",
    "    Parameters\n",
    "    ----------\n",
    "    user_kwargs: Union[dict, None]\n",
    "        Dictionary of user provided keyword argument configurations, or\n",
    "        None\n",
    "    default_kwargs: dict\n",
    "        Default keyword argument configuration to be updated with user\n",
    "        configuration\n",
    "    \n",
    "    Returns\n",
    "    -------\n",
    "    dict\n",
    "        Complete keyword argument configuration\n",
    "    \"\"\"\n",
    "    kwargs = user_kwargs or {}\n",
    "    default_kwargs = default_kwargs or {}\n",
    "    return {**default_kwargs, **kwargs}\n",
    "\n",
    "\n",
    "def plot_explained_variance_ratio(\n",
    "        pca: PCA,\n",
    "        fig_kwargs: dict = None,\n",
    "        component_ax_kwargs: dict = None,\n",
    "        cumulative_ax_kwargs: dict = None,\n",
    "        customizations: dict = None,\n",
    "        legend_location: tuple = DEFAULT_LEGEND_LOCATION) -> tuple:\n",
    "    \"\"\"\n",
    "    Plot explained variance by component number for a fitted PCA estimator.\n",
    "    \n",
    "    Parameters\n",
    "    ----------\n",
    "    pca : PCA\n",
    "        Fitted PCA model\n",
    "    fig_kwargs : dict\n",
    "        Keyword arguments passed to the created figure\n",
    "    component_ax_kwargs : dict\n",
    "        Keyword arguments passed in the explained variance by individual\n",
    "        component plot call\n",
    "    cumulative_ax_kwargs : dict\n",
    "        Keyword arguments passed in the cumulative explained variance by\n",
    "        component plot call\n",
    "    customizations : dict\n",
    "        Keyword arguments passed to the axis' `set()` method\n",
    "    legend_location: Tuple(float, float)\n",
    "        Legend location within figure\n",
    "    \n",
    "    Returns\n",
    "    -------\n",
    "    Tuple(Figure, Axes)\n",
    "        Create figure and axes\n",
    "    \"\"\"\n",
    "    # Prepare figure and axes kwargs\n",
    "    fig_kwargs = organize_kwargs(fig_kwargs, DEFAULT_FIG_KWARGS)\n",
    "    component_ax_kwargs = organize_kwargs(component_ax_kwargs,\n",
    "                                          DEFAULT_COMPONENT_AX_KWARGS)\n",
    "    cumulative_ax_kwargs = organize_kwargs(cumulative_ax_kwargs,\n",
    "                                           DEFAULT_CUMULATIVE_AX_KWARGS)\n",
    "    customizations = organize_kwargs(customizations, DEFAULT_CUSTOMIZATIONS)\n",
    "\n",
    "    # Create figure\n",
    "    fig, ax = plt.subplots(**fig_kwargs)\n",
    "    x_range = range(1, pca.n_components_ + 1)\n",
    "\n",
    "    # Plot explained variance ratio by component\n",
    "    ax.plot(x_range, pca.explained_variance_ratio_, **component_ax_kwargs)\n",
    "\n",
    "    # Plot cumulative explained variance\n",
    "    cumulative_sum = np.cumsum(pca.explained_variance_ratio_)\n",
    "    ax.plot(x_range, cumulative_sum, **cumulative_ax_kwargs)\n",
    "\n",
    "    #\n",
    "    # Customizations\n",
    "    #\n",
    "    ax.set(**customizations)\n",
    "\n",
    "    # Add legend\n",
    "    fig.legend(bbox_to_anchor=legend_location)\n",
    "\n",
    "    # Fix x-axis tick labels to show integers\n",
    "    ax.set_xticks(x_range)\n",
    "    ax.set_xticklabels(x_range)\n",
    "\n",
    "    return fig, ax"
   ]
  },
  {
   "cell_type": "code",
   "execution_count": 74,
   "metadata": {
    "scrolled": false,
    "tags": [
     "hide-input",
     "remove-output"
    ]
   },
   "outputs": [
    {
     "data": {
      "image/png": "[encoded data removed]",
      "text/plain": [
       "<Figure size 432x432 with 1 Axes>"
      ]
     },
     "metadata": {
      "needs_background": "light"
     },
     "output_type": "display_data"
    }
   ],
   "source": [
    "import matplotlib.pyplot as plt\n",
    "import numpy as np\n",
    "\n",
    "fig_kwargs = {\"figsize\": (6, 6)}\n",
    "iris_explained_variance_fig, iris_explained_variance_ax = plot_explained_variance_ratio(\n",
    "    iris_pca, fig_kwargs=fig_kwargs)"
   ]
  },
  {
   "cell_type": "code",
   "execution_count": 73,
   "metadata": {},
   "outputs": [
    {
     "data": {
      "application/papermill.record/image/png": "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\n",
      "application/papermill.record/text/plain": "<Figure size 864x432 with 1 Axes>"
     },
     "metadata": {
      "scrapbook": {
       "mime_prefix": "application/papermill.record/",
       "name": "iris_explained_variance_fig"
      }
     },
     "output_type": "display_data"
    }
   ],
   "source": [
    "from myst_nb import glue\n",
    "\n",
    "glue(\"iris_explained_variance_fig\", pca_fig, display=False)"
   ]
  },
  {
   "cell_type": "code",
   "execution_count": 72,
   "metadata": {
    "tags": [
     "hide-input"
    ]
   },
   "outputs": [
    {
     "data": {
      "application/papermill.record/text/html": "<style  type=\"text/css\" >\n    #T_8487b0f6_43a8_11eb_9b2b_4b5891e32d9c th {\n          font-size: 12px;\n    }    #T_8487b0f6_43a8_11eb_9b2b_4b5891e32d9c td {\n          font-size: 12px;\n    }</style><table id=\"T_8487b0f6_43a8_11eb_9b2b_4b5891e32d9c\" ><thead>    <tr>        <th class=\"blank level0\" ></th>        <th class=\"col_heading level0 col0\" >Explained Variance Ratio</th>        <th class=\"col_heading level0 col1\" >Cumulative Explained Variance Ratio</th>    </tr>    <tr>        <th class=\"index_name level0\" ># Components</th>        <th class=\"blank\" ></th>        <th class=\"blank\" ></th>    </tr></thead><tbody>\n                <tr>\n                        <th id=\"T_8487b0f6_43a8_11eb_9b2b_4b5891e32d9clevel0_row0\" class=\"row_heading level0 row0\" >1</th>\n                        <td id=\"T_8487b0f6_43a8_11eb_9b2b_4b5891e32d9crow0_col0\" class=\"data row0 col0\" >0.729624</td>\n                        <td id=\"T_8487b0f6_43a8_11eb_9b2b_4b5891e32d9crow0_col1\" class=\"data row0 col1\" >0.729624</td>\n            </tr>\n            <tr>\n                        <th id=\"T_8487b0f6_43a8_11eb_9b2b_4b5891e32d9clevel0_row1\" class=\"row_heading level0 row1\" >2</th>\n                        <td id=\"T_8487b0f6_43a8_11eb_9b2b_4b5891e32d9crow1_col0\" class=\"data row1 col0\" >0.228508</td>\n                        <td id=\"T_8487b0f6_43a8_11eb_9b2b_4b5891e32d9crow1_col1\" class=\"data row1 col1\" >0.958132</td>\n            </tr>\n            <tr>\n                        <th id=\"T_8487b0f6_43a8_11eb_9b2b_4b5891e32d9clevel0_row2\" class=\"row_heading level0 row2\" >3</th>\n                        <td id=\"T_8487b0f6_43a8_11eb_9b2b_4b5891e32d9crow2_col0\" class=\"data row2 col0\" >0.036689</td>\n                        <td id=\"T_8487b0f6_43a8_11eb_9b2b_4b5891e32d9crow2_col1\" class=\"data row2 col1\" >0.994821</td>\n            </tr>\n            <tr>\n                        <th id=\"T_8487b0f6_43a8_11eb_9b2b_4b5891e32d9clevel0_row3\" class=\"row_heading level0 row3\" >4</th>\n                        <td id=\"T_8487b0f6_43a8_11eb_9b2b_4b5891e32d9crow3_col0\" class=\"data row3 col0\" >0.005179</td>\n                        <td id=\"T_8487b0f6_43a8_11eb_9b2b_4b5891e32d9crow3_col1\" class=\"data row3 col1\" >1.000000</td>\n            </tr>\n    </tbody></table>",
      "application/papermill.record/text/plain": "<pandas.io.formats.style.Styler at 0x7f1746ca95b0>"
     },
     "metadata": {
      "scrapbook": {
       "mime_prefix": "application/papermill.record/",
       "name": "iris_explained_variance_df"
      }
     },
     "output_type": "display_data"
    }
   ],
   "source": [
    "def create_explained_variance_df(pca: PCA) -> pd.DataFrame:\n",
    "    \"\"\"\n",
    "    Create a formatted dataframe to display the plot's information conveniently\n",
    "    \n",
    "    Parameters\n",
    "    ----------\n",
    "    pca : PCA\n",
    "        Fitted PCA model\n",
    "        \n",
    "    Returns\n",
    "    -------\n",
    "    pd.DataFrame\n",
    "        Explained variance (per component and cumulative)\n",
    "    \"\"\"\n",
    "    results_dict = {\n",
    "        \"Individual Component\": pca.explained_variance_ratio_,\n",
    "        \"Cumulative\": np.cumsum(pca.explained_variance_ratio_)\n",
    "    }\n",
    "    df = pd.DataFrame(explained_variance_dict,\n",
    "                      index=range(1, iris_pca.n_components_ + 1))\n",
    "    df.index.name = \"# Components\"\n",
    "    return df\n",
    "\n",
    "\n",
    "explained_variance_df = create_explained_variance_df(iris_pca)\n",
    "explained_variance_df_repr = explained_variance_df.style.set_table_styles([\n",
    "    dict(selector=\"th\", props=[(\"font-size\", \"12px\")]),\n",
    "    dict(selector=\"td\", props=[(\"font-size\", \"12px\")]),\n",
    "])\n",
    "\n",
    "glue(\"iris_explained_variance_df\", explained_variance_df_repr, display=False)"
   ]
  },
  {
   "cell_type": "markdown",
   "metadata": {},
   "source": [
    "````{panels}\n",
    "```{glue:figure} iris_explained_variance_df\n",
    "    :figwidth: 300px\n",
    "    :name: \"iris-explained_variance-df\"\n",
    "```\n",
    "---\n",
    "```{glue:figure} iris_explained_variance_fig\n",
    "    :figwidth: 300px\n",
    "    :name: \"iris-explained_variance-fig\"\n",
    "```\n",
    "````"
   ]
  },
  {
   "cell_type": "code",
   "execution_count": 28,
   "metadata": {
    "tags": [
     "remove-input"
    ]
   },
   "outputs": [
    {
     "data": {
      "application/papermill.record/text/plain": "95.81320720000164"
     },
     "metadata": {
      "scrapbook": {
       "mime_prefix": "application/papermill.record/",
       "name": "iris_explained_variance_2"
      }
     },
     "output_type": "display_data"
    },
    {
     "data": {
      "application/papermill.record/text/plain": "99.48212908928451"
     },
     "metadata": {
      "scrapbook": {
       "mime_prefix": "application/papermill.record/",
       "name": "iris_explained_variance_3"
      }
     },
     "output_type": "display_data"
    }
   ],
   "source": [
    "iris_explained_variance_2 = explained_variance_df.loc[2, \"Cumulative\"] * 100\n",
    "iris_explained_variance_3 = explained_variance_df.loc[3, \"Cumulative\"] * 100\n",
    "\n",
    "glue(\"iris_explained_variance_2\", iris_explained_variance_2, display=False)\n",
    "glue(\"iris_explained_variance_3\", iris_explained_variance_3, display=False)"
   ]
  },
  {
   "cell_type": "markdown",
   "metadata": {},
   "source": [
    "We've managed to capture {glue:text}`iris_explained_variance_2:.2f`% of the variance using only 2 components, and {glue:text}`iris_explained_variance_3:.2f`% percent using 3, not bad at all!\n",
    "\n",
    "To calculate the coordinates of the dataset in the dimensions of the calculated principal components, we have to call [`tranform()`](https://scikit-learn.org/stable/modules/generated/sklearn.decomposition.PCA.html#sklearn.decomposition.PCA.transform):"
   ]
  },
  {
   "cell_type": "code",
   "execution_count": 29,
   "metadata": {},
   "outputs": [
    {
     "data": {
      "text/plain": [
       "(150, 4)"
      ]
     },
     "execution_count": 29,
     "metadata": {},
     "output_type": "execute_result"
    }
   ],
   "source": [
    "X_iris_reduced = iris_pca.transform(X_iris)\n",
    "X_iris_reduced.shape"
   ]
  },
  {
   "cell_type": "markdown",
   "metadata": {},
   "source": [
    "```{note}\n",
    "As with many other classes that implement this general procedure, `sklearn` also provides a [`fit_transform()`](https://scikit-learn.org/stable/modules/generated/sklearn.decomposition.PCA.html#sklearn.decomposition.PCA.fit_transform) function to do both more conveniently.\n",
    "```"
   ]
  },
  {
   "cell_type": "markdown",
   "metadata": {},
   "source": [
    "Fortunately, 2 and 3 dimensions are also simple enough to visualize:"
   ]
  },
  {
   "cell_type": "code",
   "execution_count": 30,
   "metadata": {
    "tags": [
     "hide-input"
    ]
   },
   "outputs": [
    {
     "data": {
      "application/vnd.jupyter.widget-view+json": {
       "model_id": "e997429a5d35471398457accac6e17a1",
       "version_major": 2,
       "version_minor": 0
      },
      "text/plain": [
       "interactive(children=(IntSlider(value=10, description='elev', max=30, min=-10), IntSlider(value=-90, descripti…"
      ]
     },
     "metadata": {},
     "output_type": "display_data"
    }
   ],
   "source": [
    "from ipywidgets import interact\n",
    "\n",
    "x1, x2, x3 = X_iris_reduced[:, :3].T\n",
    "\n",
    "\n",
    "def plot_3d_scatter(elev=10, azim=-90):\n",
    "    fig = plt.figure(figsize=(8, 8))\n",
    "    ax_3d = fig.add_subplot(111, projection=\"3d\")\n",
    "    ax_3d.scatter(x1, x2, x3)\n",
    "    ax_3d.set(xlabel=\"Principal Component #1\",\n",
    "              ylabel=\"Principal Component #2\",\n",
    "              zlabel=\"Principal Component #3\")\n",
    "    ax_3d.view_init(elev, azim)\n",
    "    ax_3d.set_title(\"Iris Dataset Projected Over 3 Dimensions Using PCA\")\n",
    "\n",
    "\n",
    "_ = interact(plot_3d_scatter)"
   ]
  },
  {
   "cell_type": "code",
   "execution_count": 31,
   "metadata": {
    "tags": [
     "hide-input"
    ]
   },
   "outputs": [
    {
     "data": {
      "image/png": "[encoded data removed]",
      "text/plain": [
       "<Figure size 432x288 with 1 Axes>"
      ]
     },
     "metadata": {
      "needs_background": "light"
     },
     "output_type": "display_data"
    }
   ],
   "source": [
    "iris_2d_fig, iris_2d_ax = plt.subplots(figsize=(6, 4))\n",
    "iris_2d_ax.scatter(X_iris_reduced[:, 0], X_iris_reduced[:, 1])\n",
    "_ = iris_2d_ax.set(title=\"Iris Dataset Projected Over 2 Dimensions Using PCA\",\n",
    "                   xlabel=\"Principal Component #1\",\n",
    "                   ylabel=\"Principal Component #2\")"
   ]
  },
  {
   "cell_type": "markdown",
   "metadata": {},
   "source": [
    "Ah, we can already guess the `setosa` class to be that discernible cloud on the left of both dimensionality-reduced scatters."
   ]
  },
  {
   "cell_type": "markdown",
   "metadata": {},
   "source": [
    "### [K-means](https://en.wikipedia.org/wiki/K-means_clustering) Clustering"
   ]
  },
  {
   "cell_type": "code",
   "execution_count": 32,
   "metadata": {},
   "outputs": [],
   "source": [
    "from sklearn.cluster import KMeans\n",
    "\n",
    "N_IRIS_CLASSES = 3\n",
    "\n",
    "iris_kmeans = KMeans(n_clusters=N_IRIS_CLASSES, random_state=0)\n",
    "\n",
    "iris_labels_4 = iris_kmeans.fit_predict(X_iris_reduced[:, :4])\n",
    "iris_labels_3 = iris_kmeans.fit_predict(X_iris_reduced[:, :3])\n",
    "iris_labels_2 = iris_kmeans.fit_predict(X_iris_reduced[:, :2])\n",
    "iris_labels_1 = iris_kmeans.fit_predict(X_iris_reduced[:, :1].reshape(-1, 1))"
   ]
  },
  {
   "cell_type": "code",
   "execution_count": 33,
   "metadata": {
    "tags": [
     "hide-input"
    ]
   },
   "outputs": [
    {
     "data": {
      "application/vnd.jupyter.widget-view+json": {
       "model_id": "f47b1a8167144abb8577dfd56c7a57d2",
       "version_major": 2,
       "version_minor": 0
      },
      "text/plain": [
       "interactive(children=(IntSlider(value=10, description='elev', max=30, min=-10), IntSlider(value=-90, descripti…"
      ]
     },
     "metadata": {},
     "output_type": "display_data"
    }
   ],
   "source": [
    "y_iris_labels = y_iris.replace({\"setosa\": 1, \"versicolor\": 2, \"virginica\": 0})\n",
    "\n",
    "classification_success_3 = y_iris_labels == iris_labels_3\n",
    "\n",
    "\n",
    "def plot_3d_scatter(elev=10, azim=-90):\n",
    "    fig = plt.figure(figsize=(12, 12))\n",
    "    ax_3d = fig.add_subplot(111, projection=\"3d\")\n",
    "    # Plot correct labels\n",
    "    ax_3d.scatter(x1[classification_success_3],\n",
    "                  x2[classification_success_3],\n",
    "                  x3[classification_success_3],\n",
    "                  s=60,\n",
    "                  c=iris_labels_3[classification_success_3])\n",
    "    # Plot incorrect labels\n",
    "    ax_3d.scatter(x1[~classification_success_3],\n",
    "                  x2[~classification_success_3],\n",
    "                  x3[~classification_success_3],\n",
    "                  c=iris_labels_3[~classification_success_3],\n",
    "                  s=60,\n",
    "                  marker=\"x\")\n",
    "    # Customization\n",
    "    ax_3d.set(xlabel=\"Principal Component #1\",\n",
    "              ylabel=\"Principal Component #2\",\n",
    "              zlabel=\"Principal Component #3\")\n",
    "    ax_3d.view_init(elev, azim)\n",
    "    ax_3d.set_title(\"Iris Dataset Projected Over 3 Dimensions Using PCA\")\n",
    "\n",
    "\n",
    "_ = interact(plot_3d_scatter)"
   ]
  },
  {
   "cell_type": "code",
   "execution_count": 34,
   "metadata": {
    "tags": [
     "hide-input"
    ]
   },
   "outputs": [
    {
     "data": {
      "image/png": "[encoded data removed]",
      "text/plain": [
       "<Figure size 720x576 with 1 Axes>"
      ]
     },
     "metadata": {
      "needs_background": "light"
     },
     "output_type": "display_data"
    }
   ],
   "source": [
    "classification_success_2 = y_iris_labels == iris_labels_2\n",
    "\n",
    "X_success_2 = X_iris_reduced[classification_success_2]\n",
    "X_misclassified_2 = X_iris_reduced[~classification_success_2]\n",
    "\n",
    "iris_2d_fig, iris_2d_ax = plt.subplots(figsize=(10, 8))\n",
    "# Plot correct labels\n",
    "iris_2d_ax.scatter(X_success_2[:, 0],\n",
    "                   X_success_2[:, 1],\n",
    "                   c=iris_labels_2[classification_success_2],\n",
    "                   label=\"Corrent Label\")\n",
    "# Plot incorrect labels\n",
    "iris_2d_ax.scatter(X_misclassified_2[:, 0],\n",
    "                   X_misclassified_2[:, 1],\n",
    "                   c=iris_labels_2[~classification_success_2],\n",
    "                   marker=\"x\",\n",
    "                   label=\"Incorrent Label\")\n",
    "iris_2d_ax.legend(loc=\"upper center\")\n",
    "_ = iris_2d_ax.set(title=\"Iris Dataset Projected Over 2 Dimensions Using PCA\",\n",
    "                   xlabel=\"Principal Component #1\",\n",
    "                   ylabel=\"Principal Component #2\")"
   ]
  },
  {
   "cell_type": "markdown",
   "metadata": {},
   "source": [
    "#### Clustering Evaluation"
   ]
  },
  {
   "cell_type": "markdown",
   "metadata": {},
   "source": [
    "How do you think we did relative to the baseline (clustering using all 4 features)?"
   ]
  },
  {
   "cell_type": "code",
   "execution_count": 35,
   "metadata": {
    "tags": [
     "hide-input"
    ]
   },
   "outputs": [
    {
     "data": {
      "image/png": "[encoded data removed]",
      "text/plain": [
       "<Figure size 576x432 with 1 Axes>"
      ]
     },
     "metadata": {
      "needs_background": "light"
     },
     "output_type": "display_data"
    }
   ],
   "source": [
    "from sklearn.metrics import accuracy_score\n",
    "\n",
    "# Accuracy scores\n",
    "iris_accuracies = [\n",
    "    accuracy_score(clustering_labels, y_iris_labels)\n",
    "    for clustering_labels in (iris_labels_1, iris_labels_2, iris_labels_3,\n",
    "                              iris_labels_4)\n",
    "]\n",
    "\n",
    "# Plot accuracy scores\n",
    "iris_accuracy_fig, iris_accuracy_ax = plt.subplots(figsize=(8, 6))\n",
    "iris_accuracy_ax.plot(IRIS_PCA_X_RANGE, iris_accuracies, \"o-\")\n",
    "iris_accuracy_ax.set(title=\"Accuracy by Number of Principal Components\",\n",
    "                     xlabel=\"Number of Principal Components\",\n",
    "                     ylabel=\"Accuracy Score\")\n",
    "\n",
    "# Fix x-axis tick labels to show integers\n",
    "iris_accuracy_ax.set_xticks(IRIS_PCA_X_RANGE)\n",
    "_ = iris_accuracy_ax.set_xticklabels(IRIS_PCA_X_RANGE)"
   ]
  },
  {
   "cell_type": "markdown",
   "metadata": {},
   "source": [
    "Amazingly, dropping the dimensionality of our dataset did not effect our ability to identify clusters of iris classes at all for 3 or 2 dimensions, but actually **increased** our accuracy in 1 dimension.\n",
    "\n",
    "`sklearn`'s `metrics` module also provides us with the `silhouette_score` metric for evaluating the degree of separation between the clusters:"
   ]
  },
  {
   "cell_type": "code",
   "execution_count": 36,
   "metadata": {
    "tags": [
     "hide-input"
    ]
   },
   "outputs": [
    {
     "data": {
      "image/png": "[encoded data removed]",
      "text/plain": [
       "<Figure size 576x360 with 1 Axes>"
      ]
     },
     "metadata": {
      "needs_background": "light"
     },
     "output_type": "display_data"
    }
   ],
   "source": [
    "from sklearn.metrics import silhouette_score\n",
    "\n",
    "scores = []\n",
    "for i in IRIS_PCA_X_RANGE:\n",
    "    X_subset = X_iris_reduced[:, :i]\n",
    "    if i == 1:\n",
    "        X_subset = X_subset.reshape(-1, 1)\n",
    "    score = silhouette_score(iris_kmeans.fit_transform(X_subset),\n",
    "                             y_iris_labels)\n",
    "    scores.append(score)\n",
    "\n",
    "scores_fig, scores_ax = plt.subplots(figsize=(8, 5))\n",
    "scores_ax.plot(IRIS_PCA_X_RANGE, scores, \"o-\")\n",
    "_ = scores_ax.set(title=\"Silhouette Score by Number of Principal Components\",\n",
    "                  xlabel=\"Number of Principal Components\",\n",
    "                  ylabel=\"Silhouette Score\")"
   ]
  },
  {
   "cell_type": "markdown",
   "metadata": {},
   "source": [
    "## ASD Subtypes Classification"
   ]
  },
  {
   "cell_type": "markdown",
   "metadata": {},
   "source": [
    "So, now we know how to implement PCA and K-means clustering using `sklearn`. Next, we will try and explore the possibility of identifying ASD subtypes using  and  on the [ABIDE II](http://fcon_1000.projects.nitrc.org/indi/abide/abide_II.html) dataset, again, based on [Prof. Tal Yarkoni](https://talyarkoni.org/)'s workshop in  the [NeuroHackademy](https://neurohackademy.org/) 2020 (available [here](https://github.com/neurohackademy/nh2020-curriculum/tree/master/tu-machine-learning-yarkoni))."
   ]
  },
  {
   "cell_type": "markdown",
   "metadata": {},
   "source": [
    "First, as always, we have to load the data and clean it up a little bit:"
   ]
  },
  {
   "cell_type": "code",
   "execution_count": 37,
   "metadata": {},
   "outputs": [],
   "source": [
    "TSV_URL = \"https://raw.githubusercontent.com/neurohackademy/nh2020-curriculum/master/tu-machine-learning-yarkoni/data/abide2.tsv\"\n",
    "data = pd.read_csv(TSV_URL, delimiter=\"\\t\")\n",
    "\n",
    "# Clean\n",
    "IGNORED_COLUMNS = [\"age_resid\", \"sex\"]\n",
    "REPLACE_DICT = {\"group\": {1: \"ASD\", 2: \"Control\"}}\n",
    "data.drop(columns=IGNORED_COLUMNS, inplace=True)\n",
    "data.replace(REPLACE_DICT, inplace=True)"
   ]
  },
  {
   "cell_type": "markdown",
   "metadata": {},
   "source": [
    "This time, however, we're only interested in ASD positive observations:"
   ]
  },
  {
   "cell_type": "code",
   "execution_count": 38,
   "metadata": {},
   "outputs": [
    {
     "data": {
      "text/html": [
       "<div>\n",
       "<style scoped>\n",
       "    .dataframe tbody tr th:only-of-type {\n",
       "        vertical-align: middle;\n",
       "    }\n",
       "\n",
       "    .dataframe tbody tr th {\n",
       "        vertical-align: top;\n",
       "    }\n",
       "\n",
       "    .dataframe thead th {\n",
       "        text-align: right;\n",
       "    }\n",
       "</style>\n",
       "<table border=\"1\" class=\"dataframe\">\n",
       "  <thead>\n",
       "    <tr style=\"text-align: right;\">\n",
       "      <th></th>\n",
       "      <th>fsArea_L_V1_ROI</th>\n",
       "      <th>fsArea_L_MST_ROI</th>\n",
       "      <th>fsArea_L_V6_ROI</th>\n",
       "      <th>fsArea_L_V2_ROI</th>\n",
       "      <th>fsArea_L_V3_ROI</th>\n",
       "      <th>fsArea_L_V4_ROI</th>\n",
       "      <th>fsArea_L_V8_ROI</th>\n",
       "      <th>fsArea_L_4_ROI</th>\n",
       "      <th>fsArea_L_3b_ROI</th>\n",
       "      <th>fsArea_L_FEF_ROI</th>\n",
       "      <th>...</th>\n",
       "      <th>fsCT_R_p47r_ROI</th>\n",
       "      <th>fsCT_R_TGv_ROI</th>\n",
       "      <th>fsCT_R_MBelt_ROI</th>\n",
       "      <th>fsCT_R_LBelt_ROI</th>\n",
       "      <th>fsCT_R_A4_ROI</th>\n",
       "      <th>fsCT_R_STSva_ROI</th>\n",
       "      <th>fsCT_R_TE1m_ROI</th>\n",
       "      <th>fsCT_R_PI_ROI</th>\n",
       "      <th>fsCT_R_a32pr_ROI</th>\n",
       "      <th>fsCT_R_p24_ROI</th>\n",
       "    </tr>\n",
       "  </thead>\n",
       "  <tbody>\n",
       "    <tr>\n",
       "      <th>0</th>\n",
       "      <td>-0.731130</td>\n",
       "      <td>1.179502</td>\n",
       "      <td>-0.584671</td>\n",
       "      <td>-1.308675</td>\n",
       "      <td>-1.206924</td>\n",
       "      <td>-0.816245</td>\n",
       "      <td>0.154402</td>\n",
       "      <td>-0.258584</td>\n",
       "      <td>-0.278607</td>\n",
       "      <td>1.829968</td>\n",
       "      <td>...</td>\n",
       "      <td>2.186101</td>\n",
       "      <td>-0.720148</td>\n",
       "      <td>0.369192</td>\n",
       "      <td>-0.522160</td>\n",
       "      <td>0.104033</td>\n",
       "      <td>0.704565</td>\n",
       "      <td>0.793778</td>\n",
       "      <td>-0.167456</td>\n",
       "      <td>-0.420926</td>\n",
       "      <td>0.018466</td>\n",
       "    </tr>\n",
       "    <tr>\n",
       "      <th>1</th>\n",
       "      <td>-0.564107</td>\n",
       "      <td>-0.540347</td>\n",
       "      <td>-0.584671</td>\n",
       "      <td>-0.931977</td>\n",
       "      <td>-0.671912</td>\n",
       "      <td>-0.283729</td>\n",
       "      <td>-0.011425</td>\n",
       "      <td>-1.119532</td>\n",
       "      <td>-1.417950</td>\n",
       "      <td>-1.229992</td>\n",
       "      <td>...</td>\n",
       "      <td>0.701741</td>\n",
       "      <td>0.676280</td>\n",
       "      <td>0.889796</td>\n",
       "      <td>0.150595</td>\n",
       "      <td>1.071329</td>\n",
       "      <td>0.863305</td>\n",
       "      <td>0.607744</td>\n",
       "      <td>-0.046772</td>\n",
       "      <td>-0.292914</td>\n",
       "      <td>0.378526</td>\n",
       "    </tr>\n",
       "    <tr>\n",
       "      <th>3</th>\n",
       "      <td>0.496296</td>\n",
       "      <td>0.606219</td>\n",
       "      <td>0.385436</td>\n",
       "      <td>0.228145</td>\n",
       "      <td>0.571085</td>\n",
       "      <td>0.272350</td>\n",
       "      <td>-0.425994</td>\n",
       "      <td>0.257985</td>\n",
       "      <td>0.733599</td>\n",
       "      <td>-0.256369</td>\n",
       "      <td>...</td>\n",
       "      <td>2.151207</td>\n",
       "      <td>0.293831</td>\n",
       "      <td>0.110449</td>\n",
       "      <td>0.873185</td>\n",
       "      <td>0.269181</td>\n",
       "      <td>-0.016980</td>\n",
       "      <td>0.868708</td>\n",
       "      <td>0.029759</td>\n",
       "      <td>0.437027</td>\n",
       "      <td>0.229536</td>\n",
       "    </tr>\n",
       "    <tr>\n",
       "      <th>5</th>\n",
       "      <td>-0.206755</td>\n",
       "      <td>2.383396</td>\n",
       "      <td>0.185708</td>\n",
       "      <td>-0.402415</td>\n",
       "      <td>-0.619618</td>\n",
       "      <td>-0.387405</td>\n",
       "      <td>0.336812</td>\n",
       "      <td>1.249947</td>\n",
       "      <td>1.652897</td>\n",
       "      <td>0.865617</td>\n",
       "      <td>...</td>\n",
       "      <td>1.260053</td>\n",
       "      <td>0.015330</td>\n",
       "      <td>1.818779</td>\n",
       "      <td>-0.045971</td>\n",
       "      <td>-0.388462</td>\n",
       "      <td>0.623752</td>\n",
       "      <td>0.553485</td>\n",
       "      <td>1.837080</td>\n",
       "      <td>0.848299</td>\n",
       "      <td>-1.327417</td>\n",
       "    </tr>\n",
       "    <tr>\n",
       "      <th>6</th>\n",
       "      <td>0.768194</td>\n",
       "      <td>-1.199622</td>\n",
       "      <td>1.084483</td>\n",
       "      <td>0.907840</td>\n",
       "      <td>1.029667</td>\n",
       "      <td>0.856704</td>\n",
       "      <td>-1.072720</td>\n",
       "      <td>-0.415800</td>\n",
       "      <td>-0.205259</td>\n",
       "      <td>0.114536</td>\n",
       "      <td>...</td>\n",
       "      <td>-0.562516</td>\n",
       "      <td>0.201651</td>\n",
       "      <td>0.880444</td>\n",
       "      <td>-0.081962</td>\n",
       "      <td>0.334060</td>\n",
       "      <td>0.381312</td>\n",
       "      <td>-1.353356</td>\n",
       "      <td>1.919499</td>\n",
       "      <td>0.197345</td>\n",
       "      <td>0.400875</td>\n",
       "    </tr>\n",
       "    <tr>\n",
       "      <th>...</th>\n",
       "      <td>...</td>\n",
       "      <td>...</td>\n",
       "      <td>...</td>\n",
       "      <td>...</td>\n",
       "      <td>...</td>\n",
       "      <td>...</td>\n",
       "      <td>...</td>\n",
       "      <td>...</td>\n",
       "      <td>...</td>\n",
       "      <td>...</td>\n",
       "      <td>...</td>\n",
       "      <td>...</td>\n",
       "      <td>...</td>\n",
       "      <td>...</td>\n",
       "      <td>...</td>\n",
       "      <td>...</td>\n",
       "      <td>...</td>\n",
       "      <td>...</td>\n",
       "      <td>...</td>\n",
       "      <td>...</td>\n",
       "      <td>...</td>\n",
       "    </tr>\n",
       "    <tr>\n",
       "      <th>992</th>\n",
       "      <td>0.203034</td>\n",
       "      <td>-0.311034</td>\n",
       "      <td>0.043045</td>\n",
       "      <td>0.263631</td>\n",
       "      <td>-0.671912</td>\n",
       "      <td>-1.334624</td>\n",
       "      <td>-2.034519</td>\n",
       "      <td>0.643540</td>\n",
       "      <td>-0.083012</td>\n",
       "      <td>1.134522</td>\n",
       "      <td>...</td>\n",
       "      <td>2.097523</td>\n",
       "      <td>-0.004283</td>\n",
       "      <td>-0.759303</td>\n",
       "      <td>-0.045971</td>\n",
       "      <td>0.186607</td>\n",
       "      <td>0.101353</td>\n",
       "      <td>-0.751332</td>\n",
       "      <td>0.547819</td>\n",
       "      <td>0.690327</td>\n",
       "      <td>-0.254684</td>\n",
       "    </tr>\n",
       "    <tr>\n",
       "      <th>995</th>\n",
       "      <td>-0.869021</td>\n",
       "      <td>-0.081721</td>\n",
       "      <td>-1.226653</td>\n",
       "      <td>-1.532510</td>\n",
       "      <td>-1.118425</td>\n",
       "      <td>-0.948196</td>\n",
       "      <td>-0.459159</td>\n",
       "      <td>-0.333449</td>\n",
       "      <td>-1.036539</td>\n",
       "      <td>0.012537</td>\n",
       "      <td>...</td>\n",
       "      <td>0.036060</td>\n",
       "      <td>0.517417</td>\n",
       "      <td>0.309962</td>\n",
       "      <td>0.114604</td>\n",
       "      <td>-0.653879</td>\n",
       "      <td>-0.634623</td>\n",
       "      <td>-1.022630</td>\n",
       "      <td>0.050364</td>\n",
       "      <td>-1.649296</td>\n",
       "      <td>0.592080</td>\n",
       "    </tr>\n",
       "    <tr>\n",
       "      <th>996</th>\n",
       "      <td>-2.694622</td>\n",
       "      <td>0.075932</td>\n",
       "      <td>0.841957</td>\n",
       "      <td>-2.736307</td>\n",
       "      <td>-2.997000</td>\n",
       "      <td>-2.574020</td>\n",
       "      <td>-1.603368</td>\n",
       "      <td>-0.756436</td>\n",
       "      <td>-0.567110</td>\n",
       "      <td>-0.682908</td>\n",
       "      <td>...</td>\n",
       "      <td>0.959423</td>\n",
       "      <td>0.825337</td>\n",
       "      <td>-0.001778</td>\n",
       "      <td>-0.599679</td>\n",
       "      <td>0.979907</td>\n",
       "      <td>1.873468</td>\n",
       "      <td>0.196921</td>\n",
       "      <td>-0.514792</td>\n",
       "      <td>1.842434</td>\n",
       "      <td>0.418257</td>\n",
       "    </tr>\n",
       "    <tr>\n",
       "      <th>998</th>\n",
       "      <td>0.517659</td>\n",
       "      <td>1.365819</td>\n",
       "      <td>2.682306</td>\n",
       "      <td>1.074351</td>\n",
       "      <td>1.230799</td>\n",
       "      <td>0.705903</td>\n",
       "      <td>-0.011425</td>\n",
       "      <td>-0.176232</td>\n",
       "      <td>0.293509</td>\n",
       "      <td>2.108146</td>\n",
       "      <td>...</td>\n",
       "      <td>0.366216</td>\n",
       "      <td>-0.002321</td>\n",
       "      <td>0.515709</td>\n",
       "      <td>0.037085</td>\n",
       "      <td>1.153903</td>\n",
       "      <td>0.020540</td>\n",
       "      <td>1.855717</td>\n",
       "      <td>0.609633</td>\n",
       "      <td>-0.603411</td>\n",
       "      <td>0.778318</td>\n",
       "    </tr>\n",
       "    <tr>\n",
       "      <th>1003</th>\n",
       "      <td>-0.927285</td>\n",
       "      <td>-1.199622</td>\n",
       "      <td>-1.255185</td>\n",
       "      <td>-0.664466</td>\n",
       "      <td>-1.227037</td>\n",
       "      <td>-1.405312</td>\n",
       "      <td>-1.022972</td>\n",
       "      <td>-0.048961</td>\n",
       "      <td>-0.342176</td>\n",
       "      <td>-0.367640</td>\n",
       "      <td>...</td>\n",
       "      <td>1.984787</td>\n",
       "      <td>-0.047431</td>\n",
       "      <td>-0.513030</td>\n",
       "      <td>0.028780</td>\n",
       "      <td>0.915028</td>\n",
       "      <td>0.202369</td>\n",
       "      <td>1.674852</td>\n",
       "      <td>-0.143908</td>\n",
       "      <td>1.115218</td>\n",
       "      <td>-0.473204</td>\n",
       "    </tr>\n",
       "  </tbody>\n",
       "</table>\n",
       "<p>463 rows × 1440 columns</p>\n",
       "</div>"
      ],
      "text/plain": [
       "      fsArea_L_V1_ROI  fsArea_L_MST_ROI  fsArea_L_V6_ROI  fsArea_L_V2_ROI  \\\n",
       "0           -0.731130          1.179502        -0.584671        -1.308675   \n",
       "1           -0.564107         -0.540347        -0.584671        -0.931977   \n",
       "3            0.496296          0.606219         0.385436         0.228145   \n",
       "5           -0.206755          2.383396         0.185708        -0.402415   \n",
       "6            0.768194         -1.199622         1.084483         0.907840   \n",
       "...               ...               ...              ...              ...   \n",
       "992          0.203034         -0.311034         0.043045         0.263631   \n",
       "995         -0.869021         -0.081721        -1.226653        -1.532510   \n",
       "996         -2.694622          0.075932         0.841957        -2.736307   \n",
       "998          0.517659          1.365819         2.682306         1.074351   \n",
       "1003        -0.927285         -1.199622        -1.255185        -0.664466   \n",
       "\n",
       "      fsArea_L_V3_ROI  fsArea_L_V4_ROI  fsArea_L_V8_ROI  fsArea_L_4_ROI  \\\n",
       "0           -1.206924        -0.816245         0.154402       -0.258584   \n",
       "1           -0.671912        -0.283729        -0.011425       -1.119532   \n",
       "3            0.571085         0.272350        -0.425994        0.257985   \n",
       "5           -0.619618        -0.387405         0.336812        1.249947   \n",
       "6            1.029667         0.856704        -1.072720       -0.415800   \n",
       "...               ...              ...              ...             ...   \n",
       "992         -0.671912        -1.334624        -2.034519        0.643540   \n",
       "995         -1.118425        -0.948196        -0.459159       -0.333449   \n",
       "996         -2.997000        -2.574020        -1.603368       -0.756436   \n",
       "998          1.230799         0.705903        -0.011425       -0.176232   \n",
       "1003        -1.227037        -1.405312        -1.022972       -0.048961   \n",
       "\n",
       "      fsArea_L_3b_ROI  fsArea_L_FEF_ROI  ...  fsCT_R_p47r_ROI  fsCT_R_TGv_ROI  \\\n",
       "0           -0.278607          1.829968  ...         2.186101       -0.720148   \n",
       "1           -1.417950         -1.229992  ...         0.701741        0.676280   \n",
       "3            0.733599         -0.256369  ...         2.151207        0.293831   \n",
       "5            1.652897          0.865617  ...         1.260053        0.015330   \n",
       "6           -0.205259          0.114536  ...        -0.562516        0.201651   \n",
       "...               ...               ...  ...              ...             ...   \n",
       "992         -0.083012          1.134522  ...         2.097523       -0.004283   \n",
       "995         -1.036539          0.012537  ...         0.036060        0.517417   \n",
       "996         -0.567110         -0.682908  ...         0.959423        0.825337   \n",
       "998          0.293509          2.108146  ...         0.366216       -0.002321   \n",
       "1003        -0.342176         -0.367640  ...         1.984787       -0.047431   \n",
       "\n",
       "      fsCT_R_MBelt_ROI  fsCT_R_LBelt_ROI  fsCT_R_A4_ROI  fsCT_R_STSva_ROI  \\\n",
       "0             0.369192         -0.522160       0.104033          0.704565   \n",
       "1             0.889796          0.150595       1.071329          0.863305   \n",
       "3             0.110449          0.873185       0.269181         -0.016980   \n",
       "5             1.818779         -0.045971      -0.388462          0.623752   \n",
       "6             0.880444         -0.081962       0.334060          0.381312   \n",
       "...                ...               ...            ...               ...   \n",
       "992          -0.759303         -0.045971       0.186607          0.101353   \n",
       "995           0.309962          0.114604      -0.653879         -0.634623   \n",
       "996          -0.001778         -0.599679       0.979907          1.873468   \n",
       "998           0.515709          0.037085       1.153903          0.020540   \n",
       "1003         -0.513030          0.028780       0.915028          0.202369   \n",
       "\n",
       "      fsCT_R_TE1m_ROI  fsCT_R_PI_ROI  fsCT_R_a32pr_ROI  fsCT_R_p24_ROI  \n",
       "0            0.793778      -0.167456         -0.420926        0.018466  \n",
       "1            0.607744      -0.046772         -0.292914        0.378526  \n",
       "3            0.868708       0.029759          0.437027        0.229536  \n",
       "5            0.553485       1.837080          0.848299       -1.327417  \n",
       "6           -1.353356       1.919499          0.197345        0.400875  \n",
       "...               ...            ...               ...             ...  \n",
       "992         -0.751332       0.547819          0.690327       -0.254684  \n",
       "995         -1.022630       0.050364         -1.649296        0.592080  \n",
       "996          0.196921      -0.514792          1.842434        0.418257  \n",
       "998          1.855717       0.609633         -0.603411        0.778318  \n",
       "1003         1.674852      -0.143908          1.115218       -0.473204  \n",
       "\n",
       "[463 rows x 1440 columns]"
      ]
     },
     "execution_count": 38,
     "metadata": {},
     "output_type": "execute_result"
    }
   ],
   "source": [
    "from sklearn.preprocessing import StandardScaler\n",
    "\n",
    "asd_positive = data[\"group\"] == \"ASD\"\n",
    "\n",
    "# Feature matrix\n",
    "X = data[asd_positive].filter(regex=\"^fs\").copy()\n",
    "\n",
    "# Feature scaling\n",
    "scaler = StandardScaler()\n",
    "X.loc[:, :] = scaler.fit_transform(X.loc[:, :])\n",
    "\n",
    "X"
   ]
  },
  {
   "cell_type": "markdown",
   "metadata": {},
   "source": [
    "### Principal Component Analysis (PCA)"
   ]
  },
  {
   "cell_type": "markdown",
   "metadata": {},
   "source": [
    "We will use PCA to try and \"capture\" as much of the variance of our 1,440 features using a limited number of principal components."
   ]
  },
  {
   "cell_type": "code",
   "execution_count": 39,
   "metadata": {},
   "outputs": [],
   "source": [
    "from sklearn.decomposition import PCA\n",
    "\n",
    "N_COMPONENTS = 20\n",
    "\n",
    "pca = PCA(n_components=N_COMPONENTS)\n",
    "X_reduced = pca.fit_transform(X)"
   ]
  },
  {
   "cell_type": "markdown",
   "metadata": {},
   "source": [
    "Let's try and evaluate how well did PCA manage to find small number of components to explain the variance:"
   ]
  },
  {
   "cell_type": "code",
   "execution_count": 75,
   "metadata": {
    "scrolled": true
   },
   "outputs": [
    {
     "data": {
      "image/png": "[encoded data removed]",
      "text/plain": [
       "<Figure size 648x432 with 1 Axes>"
      ]
     },
     "metadata": {
      "needs_background": "light"
     },
     "output_type": "display_data"
    }
   ],
   "source": [
    "_ = plot_explained_variance_ratio(pca)"
   ]
  },
  {
   "cell_type": "code",
   "execution_count": 41,
   "metadata": {
    "tags": [
     "remove-input"
    ]
   },
   "outputs": [
    {
     "data": {
      "application/papermill.record/text/plain": "'42.15'"
     },
     "metadata": {
      "scrapbook": {
       "mime_prefix": "application/papermill.record/",
       "name": "k_3_explained"
      }
     },
     "output_type": "display_data"
    }
   ],
   "source": [
    "k_3_explained = f\"{cumulative_explained[3] * 100:.2f}\"\n",
    "\n",
    "glue(\"k_3_explained\", k_3_explained, display=False)"
   ]
  },
  {
   "cell_type": "markdown",
   "metadata": {},
   "source": [
    "It seems like the added value of using more than 2 or 3 components is relatively negligible, with 3 components explaining a total of {glue:text}`k_3_explained:.2f`% of the total variance. "
   ]
  },
  {
   "cell_type": "markdown",
   "metadata": {},
   "source": [
    "### K-Means Clustering"
   ]
  },
  {
   "cell_type": "code",
   "execution_count": 42,
   "metadata": {},
   "outputs": [],
   "source": [
    "from sklearn.cluster import KMeans\n",
    "\n",
    "X_3 = X_reduced[:, :3]\n",
    "MAX_N_CLUSTERS = 10\n",
    "\n",
    "models = [KMeans(n_clusters=i).fit(X_3) for i in range(2, MAX_N_CLUSTERS + 1)]"
   ]
  },
  {
   "cell_type": "markdown",
   "metadata": {},
   "source": [
    "#### Clustering Evaluation"
   ]
  },
  {
   "cell_type": "code",
   "execution_count": 43,
   "metadata": {},
   "outputs": [
    {
     "data": {
      "image/png": "[encoded data removed]",
      "text/plain": [
       "<Figure size 576x360 with 1 Axes>"
      ]
     },
     "metadata": {
      "needs_background": "light"
     },
     "output_type": "display_data"
    }
   ],
   "source": [
    "from sklearn.metrics import silhouette_score\n",
    "\n",
    "scores = [silhouette_score(X_3, model.labels_) for model in models]\n",
    "\n",
    "scores_fig, scores_ax = plt.subplots(figsize=(8, 5))\n",
    "scores_ax.plot(range(2, MAX_N_CLUSTERS + 1), scores, \"o-\")\n",
    "_ = scores_ax.set(title=\"Silhouette Score by $k$\",\n",
    "                  xlabel=\"$k$\",\n",
    "                  ylabel=\"Silhouette Score\")"
   ]
  },
  {
   "cell_type": "markdown",
   "metadata": {},
   "source": [
    "It seems like the best degree of separation was obtained for $k=2$. Let's visualize the two clusters and to obtain some qualitative understanding of how well (or badly) our model did:"
   ]
  },
  {
   "cell_type": "code",
   "execution_count": 44,
   "metadata": {},
   "outputs": [
    {
     "data": {
      "application/vnd.jupyter.widget-view+json": {
       "model_id": "dde0663840e3462b8df849e0cb331677",
       "version_major": 2,
       "version_minor": 0
      },
      "text/plain": [
       "interactive(children=(IntSlider(value=10, description='elev', max=30, min=-10), IntSlider(value=-90, descripti…"
      ]
     },
     "metadata": {},
     "output_type": "display_data"
    }
   ],
   "source": [
    "from ipywidgets import interact\n",
    "\n",
    "x1, x2, x3 = X_3.T\n",
    "\n",
    "\n",
    "def plot_3d_scatter(elev=10, azim=-90):\n",
    "    fig = plt.figure(figsize=(8, 8))\n",
    "    ax = fig.add_subplot(111, projection=\"3d\")\n",
    "    ax.scatter(x1, x2, x3, s=15, marker=\"o\", c=models[0].labels_)\n",
    "    ax.set(xlabel=\"Principal Component #1\",\n",
    "           ylabel=\"Principal Component #2\",\n",
    "           zlabel=\"Principal Component #3\")\n",
    "    ax.view_init(elev, azim)\n",
    "\n",
    "\n",
    "_ = interact(plot_3d_scatter)"
   ]
  },
  {
   "cell_type": "markdown",
   "metadata": {},
   "source": [
    "Indeed, it seems our model's ability to cluster ASD subtypes using three principal components is rather poor."
   ]
  }
 ],
 "metadata": {
  "celltoolbar": "Tags",
  "kernelspec": {
   "display_name": "Python 3",
   "language": "python",
   "name": "python3"
  },
  "language_info": {
   "codemirror_mode": {
    "name": "ipython",
    "version": 3
   },
   "file_extension": ".py",
   "mimetype": "text/x-python",
   "name": "python",
   "nbconvert_exporter": "python",
   "pygments_lexer": "ipython3",
   "version": "3.8.0"
  }
 },
 "nbformat": 4,
 "nbformat_minor": 4
}
