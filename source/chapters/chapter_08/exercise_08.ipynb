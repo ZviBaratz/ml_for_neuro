{
 "cells": [
  {
   "cell_type": "markdown",
   "metadata": {},
   "source": [
    "# Exercise VIII: K-Means Clustering and PCA"
   ]
  },
  {
   "cell_type": "markdown",
   "metadata": {},
   "source": [
    "## Iris Dataset"
   ]
  },
  {
   "cell_type": "markdown",
   "metadata": {},
   "source": [
    "Let's start things off with a simple application of our subject material on the iris dataset to better understand our workflow and the relevant metrics."
   ]
  },
  {
   "cell_type": "markdown",
   "metadata": {},
   "source": [
    "### Set up"
   ]
  },
  {
   "cell_type": "code",
   "execution_count": 1,
   "metadata": {},
   "outputs": [],
   "source": [
    "import pandas as pd\n",
    "\n",
    "from sklearn.datasets import load_iris\n",
    "from sklearn.preprocessing import StandardScaler\n",
    "\n",
    "data = load_iris(as_frame=True)\n",
    "\n",
    "X_iris, y_iris = data.data, data.target\n",
    "y_iris = y_iris.replace(\n",
    "    {index: name\n",
    "     for index, name in enumerate(data[\"target_names\"])})\n",
    "\n",
    "# Feature scaling\n",
    "scaler = StandardScaler()\n",
    "X_iris = scaler.fit_transform(X_iris.loc[:, :])"
   ]
  },
  {
   "cell_type": "markdown",
   "metadata": {},
   "source": [
    "### Dimensionality Reduction using [Principal Component Analysis (PCA)](https://en.wikipedia.org/wiki/Principal_component_analysis)"
   ]
  },
  {
   "cell_type": "code",
   "execution_count": 2,
   "metadata": {},
   "outputs": [],
   "source": [
    "from sklearn.decomposition import PCA\n",
    "\n",
    "iris_pca = PCA(n_components=X_iris.shape[1])\n",
    "_ = iris_pca.fit(X_iris)"
   ]
  },
  {
   "cell_type": "markdown",
   "metadata": {},
   "source": [
    "Let's try and evaluate how well did PCA manage to find small number of components to explain the variance:"
   ]
  },
  {
   "cell_type": "code",
   "execution_count": 3,
   "metadata": {
    "tags": [
     "hide-input"
    ]
   },
   "outputs": [],
   "source": [
    "from typing import Union\n",
    "\n",
    "DEFAULT_FIG_KWARGS = {\"figsize\": (9, 6)}\n",
    "DEFAULT_COMPONENT_AX_KWARGS = {\n",
    "    \"color\": \"purple\",\n",
    "    \"linewidth\": 2,\n",
    "    \"label\": \"Individual Component\"\n",
    "}\n",
    "DEFAULT_CUMULATIVE_AX_KWARGS = {\n",
    "    \"color\": \"orange\",\n",
    "    \"linewidth\": 2,\n",
    "    \"label\": \"Cumulative\"\n",
    "}\n",
    "DEFAULT_CUSTOMIZATIONS = {\n",
    "    \"title\": \"Explained Variance Ratio by Number of Principal Components\",\n",
    "    \"xlabel\": \"Number of Principal Components\",\n",
    "    \"ylabel\": \"Explained Variance Ratio\"\n",
    "}\n",
    "DEFAULT_LEGEND_LOCATION = (0.85, 0.7)\n",
    "\n",
    "\n",
    "def organize_kwargs(user_kwargs: Union[dict, None],\n",
    "                    default_kwargs: dict = None) -> dict:\n",
    "    \"\"\"\n",
    "    Update default keyword argument configuration with user provided\n",
    "    configuration.\n",
    "    \n",
    "    Parameters\n",
    "    ----------\n",
    "    user_kwargs: Union[dict, None]\n",
    "        Dictionary of user provided keyword argument configurations, or\n",
    "        None\n",
    "    default_kwargs: dict\n",
    "        Default keyword argument configuration to be updated with user\n",
    "        configuration\n",
    "    \n",
    "    Returns\n",
    "    -------\n",
    "    dict\n",
    "        Complete keyword argument configuration\n",
    "    \"\"\"\n",
    "    kwargs = user_kwargs or {}\n",
    "    default_kwargs = default_kwargs or {}\n",
    "    return {**default_kwargs, **kwargs}\n",
    "\n",
    "\n",
    "def plot_explained_variance_ratio(\n",
    "        pca: PCA,\n",
    "        fig_kwargs: dict = None,\n",
    "        component_ax_kwargs: dict = None,\n",
    "        cumulative_ax_kwargs: dict = None,\n",
    "        customizations: dict = None,\n",
    "        legend_location: tuple = DEFAULT_LEGEND_LOCATION) -> tuple:\n",
    "    \"\"\"\n",
    "    Plot explained variance by component number for a fitted PCA estimator.\n",
    "    \n",
    "    Parameters\n",
    "    ----------\n",
    "    pca : PCA\n",
    "        Fitted PCA model\n",
    "    fig_kwargs : dict\n",
    "        Keyword arguments passed to the created figure\n",
    "    component_ax_kwargs : dict\n",
    "        Keyword arguments passed in the explained variance by individual\n",
    "        component plot call\n",
    "    cumulative_ax_kwargs : dict\n",
    "        Keyword arguments passed in the cumulative explained variance by\n",
    "        component plot call\n",
    "    customizations : dict\n",
    "        Keyword arguments passed to the axis' `set()` method\n",
    "    legend_location: Tuple(float, float)\n",
    "        Legend location within figure\n",
    "    \n",
    "    Returns\n",
    "    -------\n",
    "    Tuple(Figure, Axes)\n",
    "        Create figure and axes\n",
    "    \"\"\"\n",
    "    # Prepare figure and axes kwargs\n",
    "    fig_kwargs = organize_kwargs(fig_kwargs, DEFAULT_FIG_KWARGS)\n",
    "    component_ax_kwargs = organize_kwargs(component_ax_kwargs,\n",
    "                                          DEFAULT_COMPONENT_AX_KWARGS)\n",
    "    cumulative_ax_kwargs = organize_kwargs(cumulative_ax_kwargs,\n",
    "                                           DEFAULT_CUMULATIVE_AX_KWARGS)\n",
    "    customizations = organize_kwargs(customizations, DEFAULT_CUSTOMIZATIONS)\n",
    "\n",
    "    # Create figure\n",
    "    fig, ax = plt.subplots(**fig_kwargs)\n",
    "    x_range = range(1, pca.n_components_ + 1)\n",
    "\n",
    "    # Plot explained variance ratio by component\n",
    "    ax.plot(x_range, pca.explained_variance_ratio_, **component_ax_kwargs)\n",
    "\n",
    "    # Plot cumulative explained variance\n",
    "    cumulative_sum = np.cumsum(pca.explained_variance_ratio_)\n",
    "    ax.plot(x_range, cumulative_sum, **cumulative_ax_kwargs)\n",
    "\n",
    "    #\n",
    "    # Customizations\n",
    "    #\n",
    "    ax.set(**customizations)\n",
    "\n",
    "    # Add legend\n",
    "    fig.legend(bbox_to_anchor=legend_location)\n",
    "\n",
    "    # Fix x-axis tick labels to show integers\n",
    "    ax.set_xticks(x_range)\n",
    "    ax.set_xticklabels(x_range)\n",
    "\n",
    "    return fig, ax"
   ]
  },
  {
   "cell_type": "code",
   "execution_count": 4,
   "metadata": {
    "scrolled": false,
    "tags": [
     "hide-input",
     "remove-output"
    ]
   },
   "outputs": [
    {
     "data": {
      "image/png": "[encoded data removed]",
      "text/plain": [
       "<Figure size 432x432 with 1 Axes>"
      ]
     },
     "metadata": {
      "needs_background": "light"
     },
     "output_type": "display_data"
    }
   ],
   "source": [
    "import matplotlib.pyplot as plt\n",
    "import numpy as np\n",
    "\n",
    "fig_kwargs = {\"figsize\": (6, 6)}\n",
    "iris_explained_variance_fig, iris_explained_variance_ax = plot_explained_variance_ratio(\n",
    "    iris_pca, fig_kwargs=fig_kwargs)"
   ]
  },
  {
   "cell_type": "code",
   "execution_count": 5,
   "metadata": {},
   "outputs": [
    {
     "data": {
      "application/papermill.record/image/png": "iVBORw0KGgoAAAANSUhEUgAAAZQAAAGDCAYAAAAMFuaDAAAAOXRFWHRTb2Z0d2FyZQBNYXRwbG90bGliIHZlcnNpb24zLjMuMywgaHR0cHM6Ly9tYXRwbG90bGliLm9yZy/Il7ecAAAACXBIWXMAAAsTAAALEwEAmpwYAABO2ElEQVR4nO3dd3gVZfbA8e9JgUAIvffQRHoJTUWaCII0y2JZFWxYAPWnrrquddW1r6tgQUXEhixqQEBAELAgJVTpzQiRHukQIMn5/TET9hJvkhvIzdwk5/M889w7/dyZuXPmnXeKqCrGGGPMuQrzOgBjjDGFgyUUY4wxecISijHGmDxhCcUYY0yesIRijDEmT1hCMcYYkycKRUIRkXEi8kyAw34jIjcFIYa6IqIiEpHX085ifkdEpF5+zMsLIvJ3EXnvLMdVEWmQ1zEFW35vQ37mf6GIbHK3rYF5ML1z3kbPZTvwM60CuV0UJPmaUEQkUUSOuxtaRjMqP2NQ1ctU9cP8nKeIzBCRp/10HyAiu85mB6KqpVR1a95EeO5EZJ6IpLjrdJ+IfCki1QIct6uIJPl2U9XnVPXW4EQbGBEZ4u6E/pape5KIdPUmqqB6GhjlblvxmXtm+v/udg/kSmU1sbzYRvNzOxCRXiLyvYgcFpG9IjJfRPrnx7xDgbt+LzmXaXhRQunnbmgZzXAPYshvHwJ/FRHJ1P0G4BNVTQ10Ql4dvQZouKqWAhoApYCXPY4nL/wB/E1EYrwOJDfOcjupA6zJYZh+7jpuA8QB/8ijeXtKRK4C/guMB2oCVYDHgX5exlXgqGq+NUAicEkW/d4CvvBpfwGYAwjQFUgC/g7sc6dzvc+w44Bn3O/lgKnAXmC/+72mz7DzgFvd70OAH3F2fPuBX4HLfIYtA7wP7AR+B54Bwt1+4e54+4CtwN2AAhF+flsJ4CBwsU+3ckAK0BJoD/wMHHDnNQoo5jOsutPfBPzq062B+70vsBw4BGwHnvQZt6477E3ANjfeR336h7vLdQtwGFgK1HL7NQa+xdmpbgD+ks26Pb1c3fa7gDU+7UOBde48tgLD3O7RwHEgHTjiNtWBJ4GPfcbvj7OzO+DO6/xsYlFgpDuffcBLOAdPxdzf0txn2MrAMaCSn+lkbB9fA0/4dE8Cumbe9tz2rkBSpm3+QWAVcBRne6oCfOMui9lAuUzr6nZgh7stPOAzrTDgYXddJQMTgfKZxr3FXc/fZ7FsbgM2u8thClDd7b7FXQfH3XVQPKf/r7tcpwa4jY4DRgPT3N+9CKjvM62m/G9b2w383e1+ejsIYPkE8j9q4Od3ibvMHsxmmwrDSZ6/AXtwEk+ZTHENxfn/7QfuANq56/0ATsnPd7v6yY3vILAe6OHTv7q7bv5w19VtPv2edNf7eHc5rgHiMo37Bc7+71dgZCDjAh9lWv9/A6KAj3G2tQPAEqBKtvv47HrmdZN5g8zUrySw0V3YnXF2BDV9/qSpwKtAcaALzp/zvMx/aqACcKU7vRico454fzs+d16ncP5k4cCdOBuquP2/At7B2elVBhbzvx3hHe6GUAsoD8wli4TiDv8u8J5P+zBghfu9LdARiMDZONcB92b6I3zrzqeEnz9rV6A5zkbfAucPOTDTxv4uTmJrCZzA3SHj7Ox+Ac7D+WO1dJdhNM6fY6gbV2t3nTTJ4vf5LtcKODvKyT79+wL13Xl0wdmJt/G3E/azI2nkru+eQCTOxr4Zn51FpnHVXR/lgdo421VGbG8CL/gMew/wdRbTGYKTUFrh7CQydt65TSgLcZJIDZyd0TJ3eUYB3+EmK5919Zm7/Jvj7Bgu8Yl1Ic4RdHGcbfOzTOOOd8ct4ef3dHfXYRt3/DfwSTxk8//M3B9nu18D/DPAbXQczo6pPc729Akwwe0Xg5MA7neXSQzQwc92kNPyCeR/5C+hNHb7xWbz22/G2ebq4ZS+vwQ+yhTX2278l+IcLMbj7Dcy1nsXn+0qFbgPZ3sejJNYMrav73G20yicbW8v0N1neaQAfXD2Wf8CFrr9wnAOCB/HOXiqh3NQ1Suncf2tf5x91Nc4+9Jwd/mWznYffy4JIreNG/ARnGyX0fhm3w44Wfk34NpMf9JUINqn20TgMX9/6kzzbAXsz2LHNwTY7NOvpLthVMXZAZzA548JXAvMdb9/B9zh0+9Ssk8oF7m/N8pt/wm4L4th7wW+yvRH6J5pGL9/Drffa8C/M23svqW0xcA17vcNwAA/0xgM/JCp2zv4HKln6jcPJ0kcdOe3AqidzbYQD9zjs36zSyiPARN9+oXhlBi7ZjFtBXr7tN8FzPHZxrbxv4OGBLIoebnbx48+29sL7vfcJhTf0vQXwFs+7SNwD3h81lVjn/4vAu+739dx5pFsNZwDogifcetls8zfB170aS/ljl/XJ9acEkrG//c3nJ2eb/LIcht1l5PvAVUfYL3P/2p5FvP03Q6yXT4B/o/8JZQL3X5R2fz2OcBdPu3n+Vn2NXz6JwODM633e322q9MHrj7/yRtwEnUaEOPT71/AOJ/lMdunXxPguO+2nSnuR4APchrX3/rHSaILgBZZLZfMjRfnOgeq6mx/PVR1kYhsxcnqEzP13q+qR33af8Mp3p1BREoC/wZ645xWAogRkXBVTfMz210+8z/mVnOUwjnSigR2+lR9hOEctePOe/v/JsNv/n6Tz7R/FJF9wEARWYJzpHaFG3MjnNJXHE5Si8A50vC1nSyISAfgeaAZzpFJcZySmd/fibPjz6hMrYVzuiOzOkAHETng0y0Cp2iclZGq+p6INMc91Yiz80ZELgOewClthOH8zl+ymZav6vgsX1VNF5HtOEd+Wcm8bqq74y4SkWNAVxHZiVPfMyWAGB4HFovIqwHG7Gu3z/fjftozV2xnjr25+70O8JWIpPv0T8M5+PE3bmbVcUpHAKjqERFJxlmOidmM5yvL/28O84bcb4NZ8bt8Avwf+ZPsflbDOU3kzxnboPs9gjOXfW7W8+/q7rV9plfdbf5Q1cOZ+sX5tGdejlFuvVUdoHqm/2w48ENO46r/etyPcNbNBBEpi3P661FVPeVnWCDELhsWkbtxdoY7cE5r+ConItE+7bXd4TK7H+fooYOqlgYuzph8LsPZjlNCqaiqZd2mtKo2dfvvxFnYvvHkZDxwI/BXYKaqZmxwb+GcPmvoxvx3P/EqWfsUZ6dYS1XL4BS9A/2923FORfnrPt/nt5dV5yKKO3OaoKr+glPfNFocxXGO0F7GOQdbFpjuE2N2vw2c9Vwno8W9uKEWTiklK5nXje+28iHOOrgBmKSqKQH8pvU4pzkezdTrKM7OK0PVnKYVgKxi345Tx+e7TqJU1Xc5ZLcsMy/HaJzTk9ktx9zIaT1mZTvO6ZlAZbV8Avkf+bPBjeHKbIY5Y9m5803lzKSRGzUyXaST8Tt2AOUzXQRSm8DW0Xac+ivf7SNGVfsEGNMZ609VT6nqU6raBLgAuBxn/5WlkEko7tHFM/zvj/43EWmVabCnRKSYiHTG+XGZj8LBOf96HDggIuVxjopzTVV3ArOAV0SktIiEiUh9EeniDjIRGCkiNUWkHE5laU7GA5fg1Nn4Xrocg1OhfkREGuPU5eRGDM5RTYqItAeuy8W47wH/FJGG7s6/hYhUwClhNBKRG0Qk0m3aicj5AU73Q5yjt/78r9S0F0h1SyuX+gy7G6ggImWymNZEoK+I9BCRSJyDhhM4xfGsPCgi5USkFk7dw+c+/T4GBuFsa+MD/D0AT+HUKZX16bYC6CMi5UWkKs5plnP1mIiUFJGm7vwyYn8beFZE6gCISCURGZCL6X4GDBWRVm6Sfw5YpKqJeRDzuZgKVBORe0WkuIjEuKXurGS1fM7qf+SWFP7Pne5Qn//7RSIyxh3sM+A+EYl1L5V+Dvg8iyP7QFTG2X9EisjVwPnAdFXdjrNd/0tEokSkBc6FFh8HMM3FwGEReUhESohIuIg0E5F2Aca0G5/ELiLdRKS5iITjLNdTOBX3WfIioXwtZ96H8pVbXPsY5xz1SlXdhHN08ZG74YNTVNuPk8E/wam/WO9n+q/hVD7vw6nAnHEOsd6IszNc6857Ek6xGJxK7pnASpzTCF/mNDH3j7sAp0LR9zTLAzhJ4LA73c//NHL27gKeFpHDOKdmMp8uzM6r7vCzcDaa93HOix/G2elfg7PMd+FceVc8i+mcQVVPAv/Bqec6jHPV1USc5XgdPr/fXY+fAVtF5ICIVM80rQ04O/83cNZrP5zLV09mE8JknNMdK3CuLHrfZ3rbcdaZcubpgJx+0684pwF8S8of4WwDiTjLMLfrzp/5OBXAc4CXVXWW2/0/OMttlruuF+KcNw+Ie6rqMZzS4k6ckuk1eRDvOXG3j54463UXzpVi3bIZJavlc9b/I1WdhFNveDPO9r4b5wB3sjvIWJx1/T3OabEUnPqvs7UIaIizPT8LXKWqGafersWpl9mBc2HQE9mcZvT9DWk4B9qt3Bj34RwwZnWgltm/gH+4/8EHcErbk3D2C+twlnt2p7xPV0yGNHFuIvtYVWt6HIopJERkLLBDVf90H4UJTSJSF2dHGXkOJQPPicgQnAuDLvI6lrxW4G5AMuZcuTumK3Au3TXG5JGQqUMxJj+IyD+B1cBL7iksY0weKRCnvIwxxoQ+K6EYY4zJE5ZQjDHG5IkCVylfsWJFrVu3rtdhGGNMgbJ06dJ9qlopmPMocAmlbt26JCQkeB2GMcYUKCKS7eOh8oKd8jLGGJMnLKEYY4zJE5ZQjDHG5AlLKMYYY/KEJRRjjDF5whKKMcaYPGEJxRhjTJ6whGKMMSZPWEIxxhiTJ4KWUERkrIjsEZHVWfQXEXldRDaLyCoRaROsWIwxxgRfMEso44De2fS/DOcVmA2B24G3ghiLMcaYIAvas7xU9Xv3zXhZGQCMV+eFLAtFpKyIVFPVncGKyRhjckUVNBXSU0HTfL6nnvndt5um/bn7n8YJcFrpaWf2L9sCYq/3eqlkycuHQ9YAtvu0J7nd/pRQROR2nFIMtWvXzpfgjCnSVP+30/O3g/S7A0w7u51tXk7rbHfcWcWl6V6viTPVHmwJ5Vyp6hhgDEBcXJy9YtKYs6UKpw7Csd/hWBIcdz99vx//HU4kex1p6JBwkAgIizjz84zv4f67/6lbeNbTOKNbuP/+pc/3emlky8uE8jtQy6e9ptvNGHM2NB1S9sJxN0FkThoZn6lHA5uehGW/0/PdiWa7g8xih3y208ppZ5yn0woDkeCut0LEy4QyBRguIhOADsBBqz8xJgtpJyFlp/9EkfH9+A5IP5XztCKioWRNKFETStZwvpesCSVq/O8zqpKzMzUmF4KWUETkM6ArUFFEkoAngEgAVX0bmA70ATYDx4ChwYrFmJCWejRTovCTNFJ2Bzat4hXOTBRnfHc/I0vbUbcJimBe5XVtDv0VuDtY8zfGc6pw8o/sE8WxJKdOIycSBlHV3NJEDf+lixLVIaJE8H+XMVkoEJXyxoSc9DRI2eUkCN9EkbnOIi0l52mFFc8+UZSsCVFVnHP7xoQw20KNySwtxamPOJZNoji+07nUNCeRZXwShZ/TTyVqOKep7BSUKQQsoZii5dSh/yWIrK6COrEvsGlFVc46UWR8jywV3N9jTAixhGIKB013EkFGosjqNFTqkZynJRFOfcQZp6EyJY0S1SG8WPB/lzEFiCUUE/rSTzmnmE4nCn+lix2QfjLnaYWXzD5RlKzplDzsklljcs0SivFWWgoc3Z51ojh9yWwAD0goVj7TaSc/l85GlrH6CmOCxBKK8Yamw8bRsPLvAZyGEucUU3aJokR1iCiZL6EbY/yzhGLy35GtsPBm2DPfaY+uCyVrZX3pbFRVu2TWmALA/qUm/2g6bH4Hlj/o3B0eVRnavQO1BnodmTEmD1hCMfnjSCIsugV2f+e017kG2r4BURU9DcsYk3csoZjgUoUt78Ky+526kuIVod1bUPsqryMzxuQxSygmeI5ud0olu7512mtdCe3edE51GWMKHUsoJu+pwtaxsOz/nDvTi1eAuNFQ+y92ya4xhZglFJO3jiXBottg5wynveZAaPc2lKjiaVjGmOCzhGLyhir8Oh6W3uM8jr1YOYgbBXWutVKJMUWEJRRz7o7tgMXDYMdUp71GP2j/DpSo5m1cxph8ZQnFnD1VSPwUlo6Ak/udx5q0fR1ib7BSiTFFkCUUc3aO74Yld0BSvNNe7TLo8K5zh7sxpkiyhGJyRxV++xyWDocTyc77ydv8G+oNtVKJMUWcJRQTuJQ9sOQu2P6F0171UujwHkTX8jYuY0xIsIRiArPtv04yObEPIkpBm1eh/q1WKjHGnGYJxWQvZR8kDIdtnzvtVXpAx/chuo63cRljQo4lFJO17V85Fe8peyAiGlq/DA2GWanEGOOXJRTzZyeSIWEk/Pap0165K3QcC6ViPQ3LGBPaLKGYMyVNcW5STNnlvH+91QvQ6C57x7oxJkeWUIzj5H5Yeq/z+BSAShdBxw8gpoGnYRljCg5LKAZ+nw6Lb4PjOyA8Clr+C84baaUSY0yuWEIpyk4ehGX3wdYPnPaKFzilktKNvI3LGFMgWUIpqnbMhMW3Oo+bDysOLZ+F8+6FsHCvIzPGFFCWUIqaU4dg2QPOa3kBKrSHjh9CmcbexmWMKfAsoRQlu2bDwlvg2DYIKwYtnobG90OYbQbGmHNne5Ki4NQRWPE32PSW014+DjqOg7JNPQ3LGFO4WEIp7HbPhYU3w9FECIuE5k/C+X+zUokxJs/ZXqWwSj0KKx6GjaOc9nKtodOHULa5t3EZYwotSyiF0Z4fYOEQOLIVJAKaPQZNH3FKKMYYEySWUAqT1GOw8lHY8B9AoWwLp1RSrpXXkRljigBLKIXF3p9g4VA4vAkkHJo+6jThxbyOzBhTRFhCKehSj8Oqx2D9q4BCmWbQaRyUb+t1ZMaYIsYSSkG2b6FTV3Jog/PcrSaPQLPHIby415EZY4ogSygFUVoK/PIkrHsJNB1Kn+/UlVRo53VkxpgizBJKQZO8xCmVHFzrlErO/xu0eMp5SrAxxnjIEkpBkXYCVj8Na18ATYPS5zl3u1fs6HVkxhgDWEIpGP5YBj/fBAdXA+I8f6vFPyGihNeRGWPMaZZQQlnaSVjzrNNoGpRq4FzBVelCryMzxpg/sYQSqvavdEolB1YCAufdAy2fg4iSXkdmjDF+WUIJNemnYM3zTn2JpkKpes5bFCtf7HVkxhiTLUsooeTAL/DzENi/zGlvNBxaPQ8R0Z6GZYwxgbCEEgrSU2Hdi869JemnILoudBwLVbp5HZkxxgTMEorXDq516kr+SHDaG9wBrV+EyBhv4zLGmFyyhOKV9FRY/wqsehzST0LJ2tDxfah6ideRGWPMWbGE4oWD65273ZMXOe31b4M2L0NkaU/DMsaYcxEWzImLSG8R2SAim0XkYT/9a4vIXBFZLiKrRKRPMOPxXHoarHsFvmnlJJMSNaDrDOgwxpKJMabAC1oJRUTCgdFATyAJWCIiU1R1rc9g/wAmqupbItIEmA7UDVZMnjq00Xlfyb4FTnu9odDmVShW1tOwjDEmrwTzlFd7YLOqbgUQkQnAAMA3oSiQcWheBtgRxHi8oemw4Q1Y+QikHYcS1aH9u1CjcBfGjDFFTzATSg1gu097EtAh0zBPArNEZAQQDfitkRaR24HbAWrXrp3ngQbN4S1OqWTvD0577I3Q9jUoVs7TsIwxJhiCWocSgGuBcapaE+gDfCQif4pJVceoapyqxlWqVCnfg8w1TYcNo2B6CyeZRFWFiyc77yyxZGKMKaSCWUL5Hajl017T7ebrFqA3gKr+LCJRQEVgTxDjCq4jv8LCm2HPPKe9znUQ9zoUr+BpWMYYE2zBLKEsARqKSKyIFAOuAaZkGmYb0ANARM4HooC9QYwpeFRh09swvbmTTIpXgs5fwIWfWDIxxhQJQSuhqGqqiAwHZgLhwFhVXSMiTwMJqjoFuB94V0Tuw6mgH6KqGqyYgubob7DoVtg122mv/ReIGwVRBeD0nDHG5JGg3tioqtNxLgX27fa4z/e1QMF9uYcqbHkPlt0PqYeheEVo9ybUvtrryIwxJt/ZnfJn6+h2WHwb7JzptNe6Atq9BVGVvY3LGGM8Ygklt1Rh6zhYdi+cOgTFykPcaKgzGES8js4YYzxjCSU3jv0Oi2+HHe5ZvJoDoN3bUKKqt3EZT5w6dYqkpCRSUlK8DsUUQFFRUdSsWZPIyEivQ8kzllACoQq/fgRL74FTByCyLMS9AXWvt1JJEZaUlERMTAx169ZFbDswuaCqJCcnk5SURGxsrNfh5BlLKDk5vhMWD4Pfv3baq18O7d+BktW9jct4LiUlxZKJOSsiQoUKFdi7t2DeJZEVSyhZUYXfPoOE4XByP0SWgbb/cR6fYjsQ47JkYs5WYdx2LKH4c3w3LLkTkr5y2qv1hg7vQsma3sZljDEhzOtneYWe3z6H6U2dZBIRAx3eg67TLZmYkFSqVKlcDT9v3jwuv/xyAKZMmcLzzz+f7fCPP/44s2fPznY6Z6Nu3brs27fvT92PHDnCsGHDqF+/Pm3btqVr164sWrTorOcTClasWMH06dNzHrAQsBJKhpS9kHA3bPuv0161p5NMogvQ042NyYX+/fvTv3//bId5+umn8ykax6233kpsbCybNm0iLCyMX3/9lbVr1+Y8YghbsWIFCQkJ9OlT+F9ZYSUUgG1fwLSmTjKJKOVUunebacnEFBjz5s2ja9euXHXVVTRu3Jjrr7+ejKcYzZgxg8aNG9OmTRu+/PLL0+OMGzeO4cOHc/DgQerUqUN6ejoAR48epVatWpw6dYohQ4YwadKkbKfz5JNP8vLLL59ub9asGYmJiQAMHDiQtm3b0rRpU8aMGZPtb9iyZQuLFi3imWeeISzM2TXFxsbSt29fAF599VWaNWtGs2bNeO211wBITEykcePGDBkyhEaNGnH99dcze/ZsLrzwQho2bMjixYtPx3jDDTfQqVMnGjZsyLvvvgs4V1s9+OCDNGvWjObNm/P555/nuDyXLl1Kly5daNu2Lb169WLnzp0AdO3alYceeoj27dvTqFEjfvjhB06ePMnjjz/O559/TqtWrU5Pv7Aq2iWUE8lOpftvE5z2Kt2hw/tQqq6nYZmC5yl5KijTfUKfCHjY5cuXs2bNGqpXr86FF17ITz/9RFxcHLfddhvfffcdDRo0YPDgwX8ar0yZMrRq1Yr58+fTrVs3pk6dSq9evc64PyIlJSXH6fgzduxYypcvz/Hjx2nXrh1XXnklFSr4f1jqmjVraNWqFeHh4X/qt3TpUj744AMWLVqEqtKhQwe6dOlCuXLl2Lx5M//9738ZO3Ys7dq149NPP+XHH39kypQpPPfcc8THxwOwatUqFi5cyNGjR2ndujV9+/bl559/ZsWKFaxcuZJ9+/bRrl07Lr744iyXZ4cOHRgxYgSTJ0+mUqVKfP755zz66KOMHTsWgNTUVBYvXsz06dN56qmnmD17Nk8//TQJCQmMGjUqoGVWkBXdEkrSZKdU8tsECC/p3O3e/VtLJqbAat++PTVr1iQsLIxWrVqRmJjI+vXriY2NpWHDhogIf/3rX/2OO3jw4NNHzxMmTPhTwgh0Opm9/vrrtGzZko4dO7J9+3Y2bdp0Vr/txx9/ZNCgQURHR1OqVCmuuOIKfvjBeXFdbGwszZs3JywsjKZNm9KjRw9EhObNm58uKQEMGDCAEiVKULFiRbp168bixYv58ccfufbaawkPD6dKlSp06dKFJUuWAP6X54YNG1i9ejU9e/akVatWPPPMMyQlJZ2exxVXXAFA27Ztz5h3UVH0Sign/oClIyHxE6e9chfoOBZK1fM2LlOg5aYkESzFixc//T08PJzU1NSAx+3fvz9///vf+eOPP1i6dCndu3cPeNyIiIjTp8uA008OmDdvHrNnz+bnn3+mZMmSdO3aNdunCjRt2pSVK1eSlpbmt5SSFd/fHRYWdro9LCzsjGWQ+TLdnC7b9bc8VZWmTZvy888/ZztObpd/YVGkSihHlk1wSiWJn0B4CWj7OvT4zpKJKbQaN25MYmIiW7ZsAeCzzz7zO1ypUqVo164d99xzD5dffvmfdujZTadu3bosW7YMgGXLlvHrr78CcPDgQcqVK0fJkiVZv349CxcuzDbW+vXrExcXxxNPPHG6viIxMZFp06bRuXNn4uPjOXbsGEePHuWrr76ic+fOuVoWkydPJiUlheTkZObNm0e7du3o3Lkzn3/+OWlpaezdu5fvv/+e9u3bZzmN8847j717955OKKdOnWLNmjXZzjcmJobDhw/nKtaCqkgklPRTp9j2cndKrb8WUnZBpQuhzyo4bwT8+Y3DxhQaUVFRjBkzhr59+9KmTRsqV876adiDBw/m448/9ls/kt10rrzySv744w+aNm3KqFGjaNSoEQC9e/cmNTWV888/n4cffpiOHTvmGO97773H7t27adCgAc2aNWPIkCFUrlyZNm3aMGTIENq3b0+HDh249dZbad26da6WRYsWLejWrRsdO3bkscceo3r16gwaNIgWLVrQsmVLunfvzosvvkjVqlk/m69YsWJMmjSJhx56iJYtW9KqVSsWLFiQ7Xy7devG2rVri0SlvBS091nFxcVpQkJCrsf77eVLqF5xPgkLBtFh1CeEFSs8D2Qz3li3bh3nn3++12GYADz55JOUKlWKBx54wOtQzpCf25CILFXVuGDOo8jUoVQd+imfXvoaicuKc6r2z1z8j4u9DskYYwqVIpNQileoTOcXbyXxko+Y/9R8Gl3eiKqt7LHzxhQFTz75pNchFAlFqgKhXo96tLu7Hemp6cTfFE/qiaJ3FYYxxgRLkUooAJe8cAnl6pdj96rdzH96vtfhGGNMoVHkEkqx6GIM/HAgCPz0/E8kLUrKcRxjjDE5K3IJBaD2hbW54IEL0HQl/sZ4Th075XVIxhhT4OWYUEQkUkRGisgktxkhIgX+mttuT3ejUpNKJG9MZs6jc7wOx5izsmvXLq655prTj3vv06cPGzduDNr8unbtSk6X7b/22mscO3bsdHufPn04cOBA0GIyoSOQEspbQFvgTbdp43Yr0CKiIhg4fiASLix6bRGJ8xK9DsmYXFFVBg0aRNeuXdmyZQtLly7lX//6F7t37/Y0rswJZfr06ZQtW9a7gEy+CSShtFPVm1T1O7cZCrQLdmD5oXrb6qfvR5k8dDInDp/wOCJjAjd37lwiIyO54447Tndr2bIlaWlpZ7z8avjw4YwbNw5wHpPyyCOP0KpVK+Li4li2bBm9evWifv36vP3228CfX57lO76vO++8k7i4OJo2bcoTTzjPMnv99dfZsWMH3bp1o1u3bqfnuW/fPh5++GFGjx59enzfx96/9NJLtGvXjhYtWpyelil4ArkPJU1E6qvqFgARqQekBTes/NP50c5smLKBXct3MeuBWfR7p5/XIZmC6NMgvR/8uqyfZLF69Wratm2b60nWrl2bFStWcN999zFkyBB++uknUlJSaNas2RnJKSfPPvss5cuXJy0tjR49erBq1SpGjhzJq6++yty5c6lYseIZww8ePJh7772Xu+++G4CJEycyc+ZMZs2axaZNm1i8eDGqSv/+/fn+++9PP0beFByBlFAeBOaKyDwRmQ98B9wf3LDyT3hkOIPGDyK8WDjLxixj84zNXodkTFBlvKWxefPmdOjQgZiYGCpVqkTx4sVzVdcxceJE2rRpQ+vWrVmzZk2Ob1Zs3bo1e/bsYceOHaxcuZJy5cpRq1YtZs2axaxZs2jdujVt2rRh/fr1Z/2Ye+OtHEsoqjpHRBoC57mdNqhqoTo3VLlZZbr9sxuzH5rNlFuncOcvd1KiXAmvwzIFSTYliWBp2rTp6bcp+srqcfIZfB/vnvnR76mpqTmOD/Drr7/y8ssvs2TJEsqVK8eQIUOyfTR9hquvvppJkyaxa9eu0w+hVFUeeeQRhg0bluP4JrRlWUIRke7u5xVAX6CB2/R1uxUqne7vRM1ONTn8+2Fm3DPD63CMyVH37t05ceLEGa/WXbVqFarK2rVrOXHiBAcOHGDOnNxdxVinTp0cxz906BDR0dGUKVOG3bt3880335zul93j2gcPHsyECROYNGkSV199NQC9evVi7NixHDlyBIDff/+dPXv25CpmExqyK6F0wTm95a9SQYEv/XQvsMLCwxg4biBvt3qbVR+tovGgxpw/yJ4ka0KXiPDVV19x77338sILLxAVFUXdunV57bXX+Mtf/kKzZs2IjY3N9WPea9WqleP4LVu2pHXr1jRu3JhatWpx4YUXnu53++2307t3b6pXr87cuXPPGK9p06YcPnyYGjVqUK1aNQAuvfRS1q1bR6dOnQDn3Swff/xxto/aN6Epx8fXi0isqv6aU7f8craPrw/UojcWMWPkDEpWKslda+4iulJ00OZlCjZ7fL05V4Xt8fWBVMp/4afbn0/cFhLt725P3W51Obb3GNPumEZBe1+MMcZ4Jbs6lMYiciVQRkSu8GmGAFH5FmE+kzBhwNgBFIspxrov17H6s9Veh2SMMQVCdiWU84DLgbI49SgZTRvgtqBH5qGydcvS69+9AJh+93QO7yga74M2uWclWHO2CuO2k2WlvKpOBiaLSCdV/TkfYwoJrW9uzfov17Np+iam3DqF66Zdh0iQbl4zBVJUVBTJyclUqFDBtg2TK6pKcnIyUVGF62RPIHfKLxeRu4Gm+JzqUtWbgxZVCBAR+r3bjzebvcnmbzaz/P3ltLm1jddhmRBSs2ZNkpKS2Lt3r9ehmAIoKiqKmjVreh1GngokoXwErAd6AU8D1wPrghlUqIipHkOf0X348rovmXnfTOpdUo+ydct6HZYJEZGRkcTGxnodhjEhI5CrvBqo6mPAUVX9EOcmxw7BDSt0NLumGedfeT4nj5xk8s2T0fTCd97TGGPyQiAJJePtUwdEpBlQBigydxyJCH3f6kvJSiVJnJvI4tGLvQ7JGGNCUiAJZYyIlAP+AUwB1gIvBDWqEBNdKZp+Y5wHBsx+aDbJG5M9jsgYY0JPjglFVd9T1f2q+r2q1lPVysA3OY1X2DQe2JgWN7Qg9Xgq8TfFk56WnvNIxhhThGSbUESkk4hcJSKV3fYWIvIp8FO+RBdiev+nNzE1YkhamMSClxd4HY4xxoSU7O6UfwkYC1wJTBORZ4BZwCKgYf6EF1pKlCtB//edd0nMe3weu3/x9lWrxhgTSrIrofQFWqvqtcClwL1AR1X9j6rm/OKDQqpBrwa0HdaWtJNpxN8UT9rJQvPySmOMOSfZJZSUjMShqvuBTaqamC9RhbieL/WkbGxZdi3fxffPfu91OMYYExKySyj1RGRKRgPEZmovsorHFGfABwNA4Idnf2DH0h1eh2SMMZ7L7k75AZnaXwlmIAVN3S516XhvRxb+eyHxN8Zz+9LbiYgK5MEDxhhTOGX3cMj5+RlIQdT92e5smr6JvWv3MvfxufR8safXIRljjGcCubHRZCGyRCQDPxyIhAkLXl7Atp+2eR2SMcZ4xhLKOarZoSYXPnwhKMTfFM/Joye9DskYYzwRcEIRkZK5nbiI9BaRDSKyWUQezmKYv4jIWhFZ4940WeB0ebwLVVpUYf+W/cx+aLbX4RhjjCdyTCgicoGIrMV5hD0i0lJE3gxgvHBgNHAZ0AS4VkSaZBqmIfAIcKGqNsW516XAiSgewcDxAwmLDGPJ6CVsnb3V65CMMSbfBVJC+TfOu1CSAVR1JXBxAOO1Bzar6lZVPQlM4M9Xjt0GjHbvc0FV9wQaeKip2rIqXZ7oAsDkmyeTcrDI3vtpjCmiAjrlparbM3UK5PbwGoDveEluN1+NgEYi8pOILBSR3oHEE6oueugiqrerzqHth5h530yvwzHGmHwVSELZLiIXACoikSLyAHn3xsYInOeCdQWuBd4VkbKZBxKR20UkQUQSQvl1q2ERYQwaP4iIqAhWfLCCjVM3eh2SMcbkm0ASyh3A3Tili9+BVm57Tn4Havm013S7+UoCpqjqKVX9FdiInwdPquoYVY1T1bhKlSoFMGvvVGxcke7PdQfg69u+5ljyMY8jMsaY/BHI+1D2qer1qlpFVSur6l9VNZA3TC0BGopIrIgUA67BeUGXr3ic0gkiUhHnFFiBr9HueE9HaneuzZFdR/hmeJF7dYwxpogK5CqvD31PQ4lIOREZm9N4qpoKDAdm4pwim6iqa0TkaRHp7w42E0h2ryKbCzwYYLIKaRImDPhgAJHRkayesJo1E9d4HZIxxgSdqGr2A4gsV9XWOXXLL3FxcZqQkODFrHMt4e0Ept05jRIVSnDX6rsoVbWU1yEZY4ooEVmqqnHBnEcgdShh7jvlARCR8mT/UEnjajusLfV61uN48nGmDptKTsnbGGMKskASyivAzyLyT/etjQuAF4MbVuEgIvR/vz/FyxRnw5QNrBy/0uuQjDEmaAKplB+P8xrg3cAu4ApV/SjYgRUWZWqV4bLXLwNgxsgZHNx+0OOIjDEmOAJ9ltd64Eucq7SOiEjt4IVU+LS4oQXnDTiPE4dOMOWWKXbqyxhTKAVyldcInNLJt8BUYJr7aQIkIlz+zuWUqFCCrd9uZek7S70OyRhj8lwgJZR7gPNUtamqtlDV5qraItiBFTalqpTi8rcvB2DWA7P4Y8sfHkdkjDF5K6BHrwB24j8PNLmqCc2ubcapo6eYPHQy6WnpXodkjDF5JpCEshWYJyKPiMj/ZTTBDqyw6jOqD6WqlmLbD9tY9J9FXodjjDF5JpCEsg2n/qQYEOPTmLNQonwJ+r3bD4A5f5/D3nWh+7BLY4zJjRxvUFTVp/IjkKKk0eWNaHVzK1aMXUH8jfHc8vMthEXY25iNMQVbIFd5VRKRl0Rkuoh8l9HkR3CFWe9/96ZM7TLsSNjBj8//6HU4xhhzzgI5LP4E5z6UWOApIBHnScLmHBQvXZz+Y51nZM5/aj67VuzyOCJjjDk3gSSUCqr6PnBKVeer6s1A9yDHVSTU61GPdsPbkZ6azlc3fkXqiVSvQzLGmLMWSEI55X7uFJG+ItIaKB/EmIqUS56/hPINyrPnlz3Mf3q+1+EYY8xZCyShPCMiZYD7gQeA94D7ghpVEVIsuhgDPxyIhAk/Pf8TSYuSvA7JGGPOSiAPh5yqqgdVdbWqdlPVtqqa+c2L5hzUuqAWnR7ohKYr8TfGc+rYqZxHMsaYEJNlQhGRv7mfb4jI65mb/AuxaOj2VDcqNa1E8sZk5jw6x+twjDEm17IroaxzPxOApX4ak4cioiKcU1/hwqLXFpE4L9HrkIwxJleyTCiq+rWIhAPNVfXDzE0+xlhkVG9bnYv/cTEAk4dO5sThEx5HZIwxgcu2DkVV04AL8ykWA3R+tDNVW1flQOIBZj0wy+twjDEmYIFc5bVCRKaIyA0ickVGE/TIiqjwyHAGjR9EeLFwlo1ZxuYZm70OyRhjAhJIQokCknFuZuznNpcHM6iirnKzynT7ZzcAptwyheP7j3sckTHG5CyQh0MOzY9AzJk63d+J9fHrSfo5iRn3zGDQ+EFeh2SMMdkK5OGQUSJyt4i8KSJjM5r8CK4oCwsPY+CHA4koEcGqj1ax7qt1OY9kjDEeCuSU10dAVaAXMB+oCRwOZlDGUaFhBXq+2BOAqcOmcnTvUY8jMsaYrAWSUBqo6mPAUfdy4b5Ah+CGZTK0u6sdsd1jObb3GNPumIaqeh2SMcb4lZuHQx4QkWZAGaBy8EIyviRM6D+2P8ViirHuy3Ws/my11yEZY4xfgSSUMSJSDngMmAKsBV4IalTmDGXrlKXXv3sBMP3u6RzeYWccjTGhJ7tnea0VkX8Ac1V1v/sulHqqWllV38nHGA3Q+ubWNOzTkJQDKUy5dYqd+jLGhJzsSijXAtHALBFZLCL3iUi1fIrLZCIi9Hu3H1Hlotj8zWaWv7/c65CMMeYM2T3La6WqPqKq9YGRQG1gkYjMFZHb8i1Cc1pM9Rj6jO4DwMz7ZnIg8YC3ARljjI9A6lBQ1YWqeh9wI1AWGBXMoEzWml3TjCZXNeHkkZNMvnkymm6nvowxoSGQGxvbicirIvIb8CTwDlA92IEZ/0SEPm/2IbpyNIlzE1k8erHXIRljDJB9pfxzIrIFeBP4HbhQVbuq6tuqmpxvEZo/ia4UzeXvOI9Tm/3QbJI32uowxngvuxJKCtBbVdup6iuqai87DyGNBzam5Y0tST2eSvxN8aSnpXsdkjGmiMuuUv5pVd2Un8GY3On9n97E1IghaWESC15e4HU4xpgiLqBKeROaospG0f/9/gDMe3weu3/Z7XFExpiizBJKAdegVwPaDmtL2sk04m+KJ+1kmtchGWOKqOwq5dtk1+RnkCZ7PV/qSdnYsuxavovvn/3e63CMMUVUdiWUV9xmNLAIGAO8634fHfzQTKCKxxRnwAcDQOCHZ39gR8IOr0MyxhRB2VXKd1PVbsBOoI2qxqlqW6A1zmXEJoTU7VKXjvd2RNOU+JviSU1J9TokY0wRE0gdynmq+ktGi6quBs4PXkjmbHV/tjsVzqvA3rV7mfv4XK/DMcYUMYEklFUi8p6IdHWbd4FVwQ7M5F5kiUgGjR+EhAkLXl7Atp+2eR2SMaYICSShDAXWAPe4zVq3mwlBNdrX4KJHLgKF+JviOXn0pNchGWOKiBwTiqqmAG8DD6vqIFX9t9vNhKguj3ehSosq7N+yn9kPzfY6HGNMERHIwyH7AyuAGW57KxGZEuS4zDkILxbOwPEDCYsMY8noJWydvdXrkIwxRUAgp7yeANoDBwBUdQUQG7yQTF6o2rIqXZ7oAsDkmyeTctAKlcaY4AokoZxS1YOZutlLOAqAix66iOrtqnNo+yFm3jfT63CMMYVcIAlljYhcB4SLSEMReQOwJxEWAGERYQwaP4iIqAhWfLCCjVM3eh2SMaYQCyShjACaAieAz4BDwL1BjMnkoYqNK9L9ue4AfH3b1xxLPuZxRMaYwiqQq7yOqeqj7ntR4tzvdkK+AOl4T0fqXFyHI7uO8M3wb7wOxxhTSAVylVcjERkjIrNE5LuMJpCJi0hvEdkgIptF5OFshrtSRFRE4nITvAmMhAkDPhhAZHQkqyesZs3ENV6HZIwphAI55fVfYDnwD+BBnyZbIhKO8xDJy4AmwLUi0sTPcDE4N0wuCjxsk1vl6pXj0lcuBWDaXdM4suuIxxEZYwqbQBJKqqq+paqLVXVpRhPAeO2Bzaq6VVVPAhOAAX6G+yfwAs4rh00Qtb29LfUvrc/x5ONMHTYVVbtYzxiTdwJJKF+LyF0iUk1Eymc0AYxXA9ju057kdjvNfa9KLVWdlt2EROR2EUkQkYS9e/cGMGvjj4jQ//3+FC9TnA1TNrBy/EqvQzLGFCKBJJSbcE5xLQCWuk3Cuc5YRMKAV4H7cxpWVce4FwTEVapU6VxnXaSVrlmay16/DIAZI2dwcHvmW4yMMebsBHKVV6yfpl4A0/4dqOXTXpMz36MSAzQD5olIItARmGIV88HX4oYWnDfgPE4cOsGUm6fYqS9jTJ7I7hXA3d3PK/w1AUx7CdBQRGJFpBhwDXD6GWCqelBVK6pqXVWtCywE+qvqOZd+TPZEhMvfuZwSFUqwdfZWEt62RW6MOXfZlVC6uJ/9/DSX5zRhVU0FhgMzgXXARFVdIyJPuw+cNB4qVaUUl7/trMZvH/yWP7b84XFExpiCTgra6Y64uDhNSLAj6rzyxXVfsPqz1dTuXJub5t5EWHgg1WrGmIJGRJaqalCrFCICDKQvzuNXojK6qerTwQrK5J8+o/qQODeRbT9sY9F/FtHp/zp5HZIxpoAK5E75t4HBOM/0EuBqoE6Q4zL5pET5EvR7rx8Ac/4+h73r7LJsY8zZCeT8xgWqeiOwX1WfAjoBjYIblslPjfo2ovUtrUk7kUb8jfGkp6Z7HZIxpgAKJKEcdz+PiUh14BRQLXghGS/0erUXZWqXYUfCDn58/kevwzHGFECBJJSpIlIWeAlYBiTiPMbeFCLFSxdnwAfOk3HmPzWfXSt2eRyRMaagCeTGxn+q6gFV/QKn7qSxqj4W/NBMfovtHku74e1IT03nqxu/IvVEqtchGWMKkCyv8sru5kURQVW/DE5IxkuXPH8JW2ZsYc8ve5j/1Hx6PNfD65CMMQVEdpcN98umnwKWUAqhYtHFGPjhQD7o/AE/vfAT5w04j5odanodljGmAMgyoajq0PwMxISOWhfUotMDnVjw4gLib4xn2PJhRJaM9DosY0yIC+Q+lAoi8rqILBORpSLyHxGpkB/BGe90e6oblZpWInljMnMeneN1OMaYAiCQq7wmAHuBK4Gr3O+fBzMo472IqAgGfjiQsIgwFr22iMR5iV6HZIwJcYEklGrulV6/us0zQJVgB2a8V71tdTr/ozMAk4dO5sThEx5HZIwJZYEklFkico2IhLnNX3CeIGyKgM5/70y1NtU4kHiAWQ/M8jocY0wICySh3AZ8CpxwmwnAMBE5LCKHghmc8V54ZDgDxw8kvFg4y8YsY/OMzV6HZIwJUYHc2BijqmGqGuk2YW63GFUtnR9BGm9VblqZbv/sBsCUW6ZwfP/xHMYwxhRFgVzldUum9nAReSJ4IZlQ1On+TtTsVJPDOw4zY+QMr8MxxoSgQE559RCR6SJSTUSa4byqNybIcZkQExYexsAPBxJRIoJVH69i3VfrvA7JGBNiAjnldR3wIfALMA24V1UfCHZgJvRUaFiBni/2BGDqsKkc3XvU44iMMaEkkFNeDYF7gC+A34AbRKRksAMzoandXe2I7R7Lsb3HmHbHNAraK6SNMcETyCmvr4HHVHUY0AXYBCwJalQmZEmY0H9sf4rFFGPdl+tY/dlqr0MyxoSIQBJKe1WdA6COV4BBwQ3LhLKydcrS+7XeAEy/ezqHdxz2OCJjTCjIMqGIyN8AVPWQiFydqfeQYAZlQl+roa1o2LchKQdSmHLrFDv1ZYzJtoRyjc/3RzL16x2EWEwBIiL0e7cfUeWi2PzNZpa/v9zrkIwxHssuoUgW3/21myIoploMfd/sC8DM+2ZyIPGAtwEZYzyVXULRLL77azdFVNPBTWlyVRNOHjnJ5KGT0XTbNIwpqrJLKC1F5JCIHAZauN8z2pvnU3wmxIkIfd7sQ3TlaBLnJbJ49GKvQzLGeCTLhKKq4apa2n1mV4T7PaPdXt9nTouuFM3l71wOwOyHZpO8MdnjiIwxXgjksmFjctR4YGNa3tiS1OOpxN8UT3pautchGWPymSUUk2d6/6c3MTViSFqYxIKXF3gdjjEmn1lCMXkmqmwUA8YOAGDe4/PY/ctujyMyxuQnSygmT9W/tD5t72hL2sk04m+KJ+1kmtchGWPyiSUUk+cufelSysaWZdfyXXz/7Pdeh2OMySeWUEyeK1aqGAPHDQSBH579gR0JO7wOyRiTDyyhmKCoc3EdOt7XEU1TvrrxK1JTUr0OyRgTZJZQTNB0f6Y7FRtXZN+6fcx9fK7X4RhjgswSigmayBKRDPxwIBImLHh5Adt+2uZ1SMaYILKEYoKqRvsaXPTIRaAQf1M8J4+e9DokY0yQWEIxQdfl8S5UaVGF/Vv2M/uh2V6HY4wJEksoJujCi4UzcPxAwiLDWDJ6CVtnb/U6JGNMEFhCMfmiasuqdH2yKwCTb55MysEUbwMyxuQ5Sygm31z4twup0b4Gh7YfYuZ9M70OxxiTxyyhmHwTFhHGwA8HEhEVwYoPVrDh6w1eh2SMyUOWUEy+qti4Ij3+1QOAr2/7mmPJxzyOyBiTVyyhmHzXYWQH6lxch6O7j/LN8G+8DscYk0csoZh8J2HCgA8GEBkdyeoJq0l4JwFVexe9MQWdJRTjiXL1ynHpK5cCMO2OaYzvPp6dy3Z6HJUx5lxYQjGeaXt7W/q+1ZcSFUqQOC+RMXFjmDx0Mod3HPY6NGPMWbCEYjwjIsTdEcfIzSPpdH8nwiLCWDFuBW80fIN5T82zx7QYU8BIQTt3HRcXpwkJCV6HYYLgjy1/MPuh2az7Yh0AMTVi6PFcD1r8tQUSJh5HZ0zBJiJLVTUumPOwEooJGeXrl+cvk/7CkO+HUD2uOod/P0z8TfG82+5dfvv+N6/DM8bkIKgJRUR6i8gGEdksIg/76f9/IrJWRFaJyBwRqRPMeEzBUKdzHW5ddCsDxw8kpkYMO5ftZFyXcUy8ciJ/bP7D6/CMMVkIWkIRkXBgNHAZ0AS4VkSaZBpsORCnqi2AScCLwYrHFCwSJrS8oSUjNo6g69NdiSwZybov1zG6yWhm3j+T4/uPex2iMSaTYJZQ2gObVXWrqp4EJgADfAdQ1bmqmnGr9EKgZhDjMQVQZMlIujzWhRGbRtBqaCvSU9NZ+OpC3mj4BotHLSbtVJrXIRpjXMFMKDWA7T7tSW63rNwC2G3Txq+Y6jEMGDuA25feTt2udTmefJxvRnzDW83fYuPUjXZjpDEhICQq5UXkr0Ac8FIW/W8XkQQRSdi7d2/+BmdCSrXW1bjxuxsZHD+Y8g3Lk7whmc/6fcZHPT9i18pdXodnTJEWzITyO1DLp72m2+0MInIJ8CjQX1VP+JuQqo5R1ThVjatUqVJQgjUFh4jQeEBj7lp9F71e60VUuSh+nfMr77R+hym3TeHIriNeh2hMkRTMhLIEaCgisSJSDLgGmOI7gIi0Bt7BSSZ7ghiLKYTCi4XT8Z6OjNw8kg73diAsPIzl7y3njYZv8MNzP3Dq+CmvQzSmSAnqjY0i0gd4DQgHxqrqsyLyNJCgqlNEZDbQHMh4iNM2Ve2f3TTtxkaTleSNyXz7t2/ZMNl5z0rpWqW55PlLaHZNM7sx0hR5+XFjo90pbwqdX7/7lVn3z2LXCqdOpUb7Glz66qXUvrC2x5EZ4x27U96YsxDbPZbbEm6j/9j+lKpWit8X/84HF33ApMGT2P/rfq/DM6bQsoRiCqWw8DBaD23NiI0juPjxi4koEcGaiWsY3Xg03z70LSkHU7wO0ZhCx055mSLh4PaDfPfod6z6aBUAJSuVpNvT3WhzaxvCIuy4yhR+dsrLmDxSplYZBo0fxG1LbqP2RbU5tvcY0+6cxtst32bzjM1eh2dMoWAJxRQp1eOqM+T7IVw96WrK1SvH3rV7+eSyT/jksk/Ys8auXDfmXFhCMUWOiNDkyibctfYuer7ck+JlirN5xmbebvE2U++cytE9R70O0ZgCyRKKKbIiikdwwf0XMGLTCNrd3Q4Elr69lNcbvM6PL/xIakqq1yEaU6BYpbwxrr3r9vLtg9+yadomAMrWLcslL1xCk6ubIGI3RpqCzSrljclHlc6vxHVTr+Ovs/5K5eaVOZB4gEmDJzH2wrEkLUryOjxjQp4lFGMyqd+zPsOWD+PyMZcTXTmapJ+TeL/j+3x5/Zcc3HbQ6/CMCVmWUIzxIyw8jLa3tWXEphFc9MhFhBcP55dPf2HUeaOY8+gcThz2+2BsY4o0q0MxJgAHfjvAnEfmsPqz1QBEV4mm+zPdaTW0FWHhdlxmQp/VoRgTIsrWKcuVn17JLT/fQs1ONTm6+yhf3/Y177R+h62zt3odnjEhwRKKMblQs2NNbv7pZq6ccCVl6pRhzy97+KjnR3zW7zP2rd/ndXjGeMoSijG5JCI0G9yM4euH0+P5HhSLKcbGqRt5s9mbTB8xnWP7jnkdojGesIRizFmKiIrgoocuYsSmEbQd1hYUloxawusNXmfBKwtIPWE3RpqixSrljckje1bvYdb9s9gyawsA5eqXo+eLPWk8qLHdGGk8Z5XyxhQglZtV5voZ13Pd9OuoeH5F9m/Zz8QrJ/Jh1w/ZsXSH1+EZE3SWUIzJQyJCw8sacueqO+nzZh9KVizJb9//xrtx7xJ/UzyHkg55HaIxQWMJxZggCIsIo92d7RixeQQXPHgB4cXCWTl+JW80eoO5T8zl5NGTXodoTJ6zOhRj8sH+rfuZ/dBs1k5aC0CpaqXo8VwPWt7YEgmz+hUTfFaHYkwhUa5eOa7+79UM/WEo1dtV58jOI0weOpkxcWNInJfodXjG5AlLKMbko9oX1ebWhbcy6ONBlK5Zml3Ld/Fhtw/5fNDnJG9K9jo8Y86JJRRj8pmECS2ub8HwDcPp9s9uREZHsj5+PW82eZMZ983g+B/HvQ7RmLNidSjGeOzwzsPMfWwuy8cuB4WoclF0eaIL7e5qR3hkuNfhmULC6lCMKQJiqsXQ/73+DFs2jNjusaTsT2HmvTN5q9lbbJiygYJ20GeKLksoxoSIqq2qcsPsG7hmyjVUaFSB5I3JTBgwgfE9xrNrxS6vwzMmR5ZQjAkhIsJ5/c7jztV30vs/vYkqF0Xi3ETeafMOk2+ZzOGdh70O0ZgsWUIxJgSFR4bTYWQHRm4eScf7OhIWHsaKsSt4o+EbzP/nfE4dO+V1iMb8iVXKG1MAJG9KZvZDs1n/1XoAStcsTY9/9aD5dc3txkgTEKuUN8YAUKFhBQZ/OZib5t5E1dZVOZR0iK9u+Ir3OrzHbz/85nV4xgCWUIwpUOp2rcvtCbcz4IMBlKpWih0JOxh38TgmXjWR/Vv3ex2eKeIsoRhTwEiY0GpIK0ZsGkGXJ7oQUSKCdV+sY/T5o5n14CxSDqR4HaIpoqwOxZgC7tDvh/ju0e9Y+eFKAEpUKEHXp7oSNyyOsAg7ZjQOq0MxxuSodI3SDBw3kNsSbqPOxXU4nnycb4Z/w1st3mLT9E12Y6TJN5ZQjCkkqretzk3zbuIvX/6FcvXLsW/dPj7t+ykf9/qY3b/s9jo8UwRYQjGmEBERzh90PnetuYtLX7mU4mWKs/XbrbzT6h2+HvY1R3Yf8TpEU4hZQjGmEIooHkGn/+vEyM0jaT+iPQgsG7OMNxq8wQ//+oHUlFSvQzSFkFXKG1ME7Fu/j28f/JaNUzcCUKZOGS55/hKaDm6KiN0YWRRYpbwxJk9UbFyRa7++lhu+vYEqLapw8LeDfHHtF4y9YCzbf97udXimkLCEYkwRUu+Sety+7Hb6vdeP6CrRJC1MYuwFY5l0zSQOJB7wOjxTwFlCMaaICQsPo80tbRixaQSdH+1MRFQEaz5fw6jGo5j9yGxOHDrhdYimgLI6FGOKuIPbDjLnkTn88ukvAERXjqbT/Z2o2LgipaqWIrpKNKWqlCIiKsLjSM25yI86FEsoxhgAkhYlMev/ZrF9gf86laiyUU5yqVrqdHNGexW3W+Vou0M/BFlC8cMSijHBo6qs+3Idm6Zv4uiuoxzZfYQju45wdPdR0lPTA5uIQMkKJf0nnUztJSuUtMfv5xNLKH5YQjEm/2m6cnz/cY7sOnK6Obr7qP/ve49CgLsVCReiK59ZyomuGn1GiScjCUWVjbJLnM9BfiQUOylqjMmRhAklK5SkZIWSVG5aOdth01PTObbv2P+Sz+6sk9DxP45zZOcRjuzM+Q7+8GLhfks5/k67FStVLK9+uskFSyjGmDwVFhF2egefk9QTqRzdc/RPyebI7iPOKTefhHTy8EkObjvIwW0Hc5xuZHTkmSWcqtF/KvFkJCC72CDv2JI0xngmongEZWqVoUytMjkOe/LoSSfpZFPiyfh+6ugp9m/dH9BLx4qXKZ7jhQalqpaiZKWShEeG58XPLrQsoRhjCoRi0cUoVq8Y5eqVy3Y4VeXEoRN/KvFklYROHDzBiYMnSN6QnGMMJSv6v9gg84UHRfViA0soxphCRUSIKhNFVJkoKjSqkO2wmS82yKrEk3GxwbF9xzi27xh7Vu/JPgbfiw2qZH/arTBdbBDUhCIivYH/AOHAe6r6fKb+xYHxQFsgGRisqonBjMkYYzKc9cUGWZR4zuVig5wuNCgIFxsELaGISDgwGugJJAFLRGSKqq71GewWYL+qNhCRa4AXgMHBiskYY87W2Vxs4O+027lcbNB4UGMGfxm6u8hgllDaA5tVdSuAiEwABgC+CWUA8KT7fRIwSkREC9rNMcYY4yM3FxucOnYqxxJPxvcS5UvkQ/RnL5gJpQbg+wyHJKBDVsOoaqqIHAQqAPuCGJcxxoSMyJKRlIstR7nYnC82SD8V4NMKPFIgHrgjIreLSIKIJOzdu9frcIwxJt+JCOHFQvuy5WAmlN+BWj7tNd1ufocRkQigDE7l/BlUdYyqxqlqXKVKlYIUrjHGmHMRzISyBGgoIrEiUgy4BpiSaZgpwE3u96uA76z+xBhjCqag1aG4dSLDgZk4lw2PVdU1IvI0kKCqU4D3gY9EZDPwB07SMcYYUwAF9T4UVZ0OTM/U7XGf7ynA1cGMwRhjTP4oEJXyxhhjQp8lFGOMMXnCEooxxpg8YQnFGGNMnrCEYowxJk9YQjHGGJMnLKEYY4zJE5ZQjDHG5AkpaE86EZG9wG9nOXpF7EnGocjWS+ixdRKazmW91FHVoD4MscAllHMhIgmqGud1HOZMtl5Cj62T0BTq68VOeRljjMkTllCMMcbkiaKWUMZ4HYDxy9ZL6LF1EppCer0UqToUY4wxwVPUSijGGGOCpEgkFBEZKyJ7RGS117EYh4jUEpG5IrJWRNaIyD1ex2RARKJEZLGIrHTXy1Nex2QcIhIuIstFZKrXsWSlSCQUYBzQ2+sgzBlSgftVtQnQEbhbRJp4HJOBE0B3VW0JtAJ6i0hHb0MyrnuAdV4HkZ0ikVBU9XucVwybEKGqO1V1mfv9MM4fpYa3URl1HHFbI93GKlo9JiI1gb7Ae17Hkp0ikVBMaBORukBrYJHHoRhOn1pZAewBvlVVWy/eew34G5DucRzZsoRiPCUipYAvgHtV9ZDX8RhQ1TRVbQXUBNqLSDOPQyrSRORyYI+qLvU6lpxYQjGeEZFInGTyiap+6XU85kyqegCYi9U/eu1CoL+IJAITgO4i8rG3IflnCcV4QkQEeB9Yp6qveh2PcYhIJREp634vAfQE1nsaVBGnqo+oak1VrQtcA3ynqn/1OCy/ikRCEZHPgJ+B80QkSURu8Tomw4XADThHWyvcpo/XQRmqAXNFZBWwBKcOJWQvUzWhxe6UN8YYkyeKRAnFGGNM8FlCMcYYkycsoRhjjMkTllCMMcbkCUsoxhhj8oQlFAOAiKiIvOLT/oCIPJlH0x4nIlflxbRymM/VIrJOROZm6l5XRI67lyavFZG3ReRP276IVBeRSWc57/4i8vBZjls3qydhi0gjEZkuIptEZJmITBSRKmczn1AhIgPtQaCFkyUUk+EEcIWIVPQ6EF8iEpGLwW8BblPVbn76bXEfJ9ICaAIMzDwfVd2hqmeV+FR1iqo+fzbjZkVEooBpwFuq2lBV2wBvApXycj4eGIizDkwhYwnFZEjFeb3ofZl7ZC5hiMgR97OriMwXkckislVEnheR6933afwiIvV9JnOJiCSIyEb32UQZDyF8SUSWiMgqERnmM90fRGQKsNZPPNe6018tIi+43R4HLgLeF5GXsvqRqpoKLAAaiMgQEZkiIt8Bc3xLCm6/L0Vkhls6eNFn/r3d0sJKEZnjM/won+X1tp/fW9f9Xcvc5oIc1sl1wM+q+rVP/PNUdbX73pIP3OWwXES6+cQRLyLfikiiiAwXkf9zh1koIuXd4eaJyH/cUttqEWnvdi/vjr/KHb6F2/1Jcd4rNM9d1yN9lsdf3XW+QkTeEZHwjO1ERJ51l9NCEani/ub+wEvu8PVFZKRbclwlIhNyWCYmlKmqNdYAHAFKA4lAGeAB4Em33zjgKt9h3c+uwAGcu6uLA78DT7n97gFe8xl/Bs4BTEMgCYgCbgf+4Q5THEgAYt3pHgVi/cRZHdiGc5QeAXwHDHT7zQPi/IxTF1jtfi+Jcwf4ZcAQN5byfoYbAmx1l0UU8BtQy53v9ozYfMYdAozK4feWBKLcYRoCCZnnmynuV4F7slhf9wNj3e+N3WUS5caxGYhxYz0I3OEO92+ch3BmLKt33e8X+/zuN4An3O/dgRXu9ydxEnFxoCKQjPNo+/OBr4FId7g3gRvd7wr0c7+/6LOux3Hm9rQDKO5+L+v1f8Gas29yczrBFHKqekhExgMjgeMBjrZEVXcCiMgWYJbb/RfA99TTRFVNBzaJyFacneClQAuf0k8ZnB3tSWCxqv7qZ37tgHmquted5yc4O8T4HOKsL84j2RWYrKrfiMgQnEeLZPWunDmqetCdz1qgDlAO+D4jtmzG9fd7fwVGiUgrIA1olEPM2bkIZ+ePqq4Xkd98pjdXnXfMHBaRgzg7fHDWSQufaXzmjv+9iJQW5xleFwFXut2/E5EKIlLaHX6aqp4ATojIHqAK0ANoCywREYASOI+9B2c9Zjy2ZSnOc8H8WQV8IiLx5LweTQizhGIyew1YBnzg0y0V9/SoOJXZxXz6nfD5nu7Tns6Z21fmZ/woIMAIVZ3p20NEuuKUUPJSRh1KZtnNx/e3pZG7/4u/33sfsBtoibM8U3KYxhqgSy7mmeFc1kmg081YHgJ8qKqP+Bn+lKpqpuH96YtzUNAPeFREmqtzatIUMFaHYs7gHnFPxKngzpCIcxQKzvnvyLOY9NUiEubWq9QDNgAzgTvFeYx9xhVN0TlMZzHQRUQquufqrwXmn0U8Z2shcLGIxIJT55DFcP5+bxlgp1tyuQEIz2FenwIXiEjfjA4icrE47yf5Abje7dYIqO3OIzcGu+NfBBx0S2O+0+0K7NPs31MzB7hKRCq745QXkTo5zPcwzim5jAOUWqo6F3gIZxmVyuXvMCHCSijGn1eA4T7t7wKTRWQlTt3A2ZQetuEkg9I45/RTROQ9nPqDZeKcL9lLpquvMlPVneJcnjsX5+h4mqpOPot4zoqq7hWR24Ev3Z3hHvyfyvH3e98EvhCRGwlgOarqcbdC/zUReQ04hXN66B6cuoq3ROQXnBLkEFU94Z52ClSKiCzHOUC42e32JDBWnKcNHwNuyiHGtSLyD2CWuzxOAXfj1DllZQLwrluxfw3OhRRlcNbn6+q8h8UUQPa0YWPymIiMA6aq6lnd05IfRGQe8ICqJngdiyk87JSXMcaYPGElFGOMMXnCSijGGGPyhCUUY4wxecISijHGmDxhCcUYY0yesIRijDEmT1hCMcYYkyf+H17X0fYfAqnyAAAAAElFTkSuQmCC\n",
      "application/papermill.record/text/plain": "<Figure size 432x432 with 1 Axes>"
     },
     "metadata": {
      "scrapbook": {
       "mime_prefix": "application/papermill.record/",
       "name": "iris_explained_variance_fig"
      }
     },
     "output_type": "display_data"
    }
   ],
   "source": [
    "from myst_nb import glue\n",
    "\n",
    "glue(\"iris_explained_variance_fig\", iris_explained_variance_fig, display=False)"
   ]
  },
  {
   "cell_type": "code",
   "execution_count": 6,
   "metadata": {
    "tags": [
     "hide-input"
    ]
   },
   "outputs": [
    {
     "data": {
      "application/papermill.record/text/html": "<style  type=\"text/css\" >\n    #T_e789742a_4432_11eb_9b2b_4b5891e32d9c th {\n          font-size: 12px;\n    }    #T_e789742a_4432_11eb_9b2b_4b5891e32d9c td {\n          font-size: 12px;\n    }</style><table id=\"T_e789742a_4432_11eb_9b2b_4b5891e32d9c\" ><thead>    <tr>        <th class=\"blank level0\" ></th>        <th class=\"col_heading level0 col0\" >Individual Component</th>        <th class=\"col_heading level0 col1\" >Cumulative</th>    </tr>    <tr>        <th class=\"index_name level0\" ># Components</th>        <th class=\"blank\" ></th>        <th class=\"blank\" ></th>    </tr></thead><tbody>\n                <tr>\n                        <th id=\"T_e789742a_4432_11eb_9b2b_4b5891e32d9clevel0_row0\" class=\"row_heading level0 row0\" >1</th>\n                        <td id=\"T_e789742a_4432_11eb_9b2b_4b5891e32d9crow0_col0\" class=\"data row0 col0\" >0.729624</td>\n                        <td id=\"T_e789742a_4432_11eb_9b2b_4b5891e32d9crow0_col1\" class=\"data row0 col1\" >0.729624</td>\n            </tr>\n            <tr>\n                        <th id=\"T_e789742a_4432_11eb_9b2b_4b5891e32d9clevel0_row1\" class=\"row_heading level0 row1\" >2</th>\n                        <td id=\"T_e789742a_4432_11eb_9b2b_4b5891e32d9crow1_col0\" class=\"data row1 col0\" >0.228508</td>\n                        <td id=\"T_e789742a_4432_11eb_9b2b_4b5891e32d9crow1_col1\" class=\"data row1 col1\" >0.958132</td>\n            </tr>\n            <tr>\n                        <th id=\"T_e789742a_4432_11eb_9b2b_4b5891e32d9clevel0_row2\" class=\"row_heading level0 row2\" >3</th>\n                        <td id=\"T_e789742a_4432_11eb_9b2b_4b5891e32d9crow2_col0\" class=\"data row2 col0\" >0.036689</td>\n                        <td id=\"T_e789742a_4432_11eb_9b2b_4b5891e32d9crow2_col1\" class=\"data row2 col1\" >0.994821</td>\n            </tr>\n            <tr>\n                        <th id=\"T_e789742a_4432_11eb_9b2b_4b5891e32d9clevel0_row3\" class=\"row_heading level0 row3\" >4</th>\n                        <td id=\"T_e789742a_4432_11eb_9b2b_4b5891e32d9crow3_col0\" class=\"data row3 col0\" >0.005179</td>\n                        <td id=\"T_e789742a_4432_11eb_9b2b_4b5891e32d9crow3_col1\" class=\"data row3 col1\" >1.000000</td>\n            </tr>\n    </tbody></table>",
      "application/papermill.record/text/plain": "<pandas.io.formats.style.Styler at 0x7f75a4393490>"
     },
     "metadata": {
      "scrapbook": {
       "mime_prefix": "application/papermill.record/",
       "name": "iris_explained_variance_df"
      }
     },
     "output_type": "display_data"
    }
   ],
   "source": [
    "def create_explained_variance_df(pca: PCA) -> pd.DataFrame:\n",
    "    \"\"\"\n",
    "    Create a formatted dataframe to display the plot's information conveniently\n",
    "    \n",
    "    Parameters\n",
    "    ----------\n",
    "    pca : PCA\n",
    "        Fitted PCA model\n",
    "        \n",
    "    Returns\n",
    "    -------\n",
    "    pd.DataFrame\n",
    "        Explained variance (per component and cumulative)\n",
    "    \"\"\"\n",
    "    results_dict = {\n",
    "        \"Individual Component\": pca.explained_variance_ratio_,\n",
    "        \"Cumulative\": np.cumsum(pca.explained_variance_ratio_)\n",
    "    }\n",
    "    df = pd.DataFrame(results_dict, index=range(1, pca.n_components_ + 1))\n",
    "    df.index.name = \"# Components\"\n",
    "    return df\n",
    "\n",
    "\n",
    "explained_variance_df = create_explained_variance_df(iris_pca)\n",
    "explained_variance_df_repr = explained_variance_df.style.set_table_styles([\n",
    "    dict(selector=\"th\", props=[(\"font-size\", \"12px\")]),\n",
    "    dict(selector=\"td\", props=[(\"font-size\", \"12px\")]),\n",
    "])\n",
    "\n",
    "glue(\"iris_explained_variance_df\", explained_variance_df_repr, display=False)"
   ]
  },
  {
   "cell_type": "markdown",
   "metadata": {},
   "source": [
    "````{panels}\n",
    "```{glue:figure} iris_explained_variance_df\n",
    "    :figwidth: 300px\n",
    "    :name: \"iris-explained_variance-df\"\n",
    "```\n",
    "---\n",
    "```{glue:figure} iris_explained_variance_fig\n",
    "    :figwidth: 300px\n",
    "    :name: \"iris-explained_variance-fig\"\n",
    "```\n",
    "````"
   ]
  },
  {
   "cell_type": "code",
   "execution_count": 7,
   "metadata": {
    "tags": [
     "remove-input"
    ]
   },
   "outputs": [
    {
     "data": {
      "application/papermill.record/text/plain": "95.81320720000164"
     },
     "metadata": {
      "scrapbook": {
       "mime_prefix": "application/papermill.record/",
       "name": "iris_explained_variance_2"
      }
     },
     "output_type": "display_data"
    },
    {
     "data": {
      "application/papermill.record/text/plain": "99.48212908928451"
     },
     "metadata": {
      "scrapbook": {
       "mime_prefix": "application/papermill.record/",
       "name": "iris_explained_variance_3"
      }
     },
     "output_type": "display_data"
    }
   ],
   "source": [
    "iris_explained_variance_2 = explained_variance_df.loc[2, \"Cumulative\"] * 100\n",
    "iris_explained_variance_3 = explained_variance_df.loc[3, \"Cumulative\"] * 100\n",
    "\n",
    "glue(\"iris_explained_variance_2\", iris_explained_variance_2, display=False)\n",
    "glue(\"iris_explained_variance_3\", iris_explained_variance_3, display=False)"
   ]
  },
  {
   "cell_type": "markdown",
   "metadata": {},
   "source": [
    "We've managed to capture {glue:text}`iris_explained_variance_2:.2f`% of the variance using only 2 components, and {glue:text}`iris_explained_variance_3:.2f`% percent using 3, not bad at all!\n",
    "\n",
    "To calculate the coordinates of the dataset in the dimensions of the calculated principal components, we have to call [`tranform()`](https://scikit-learn.org/stable/modules/generated/sklearn.decomposition.PCA.html#sklearn.decomposition.PCA.transform):"
   ]
  },
  {
   "cell_type": "code",
   "execution_count": 8,
   "metadata": {},
   "outputs": [
    {
     "data": {
      "text/plain": [
       "(150, 4)"
      ]
     },
     "execution_count": 8,
     "metadata": {},
     "output_type": "execute_result"
    }
   ],
   "source": [
    "X_iris_reduced = iris_pca.transform(X_iris)\n",
    "X_iris_reduced.shape"
   ]
  },
  {
   "cell_type": "markdown",
   "metadata": {},
   "source": [
    "```{note}\n",
    "As with many other classes that implement this general procedure, `sklearn` also provides a [`fit_transform()`](https://scikit-learn.org/stable/modules/generated/sklearn.decomposition.PCA.html#sklearn.decomposition.PCA.fit_transform) function to do both more conveniently.\n",
    "```"
   ]
  },
  {
   "cell_type": "markdown",
   "metadata": {},
   "source": [
    "Fortunately, 2 and 3 dimensions are also simple enough to visualize:"
   ]
  },
  {
   "cell_type": "code",
   "execution_count": 9,
   "metadata": {
    "tags": [
     "hide-input"
    ]
   },
   "outputs": [
    {
     "data": {
      "application/vnd.jupyter.widget-view+json": {
       "model_id": "d6f8eaba8c6747559a89095f0c008192",
       "version_major": 2,
       "version_minor": 0
      },
      "text/plain": [
       "interactive(children=(IntSlider(value=10, description='elev', max=30, min=-10), IntSlider(value=-90, descripti…"
      ]
     },
     "metadata": {},
     "output_type": "display_data"
    }
   ],
   "source": [
    "from ipywidgets import interact\n",
    "\n",
    "x1, x2, x3 = X_iris_reduced[:, :3].T\n",
    "\n",
    "\n",
    "def plot_3d_scatter(elev=10, azim=-90):\n",
    "    fig = plt.figure(figsize=(8, 8))\n",
    "    ax_3d = fig.add_subplot(111, projection=\"3d\")\n",
    "    ax_3d.scatter(x1, x2, x3)\n",
    "    ax_3d.set(title=\"Iris Dataset Projected Over 3 Dimensions Using PCA\",\n",
    "              xlabel=\"Principal Component #1\",\n",
    "              ylabel=\"Principal Component #2\",\n",
    "              zlabel=\"Principal Component #3\")\n",
    "    ax_3d.view_init(elev, azim)\n",
    "\n",
    "\n",
    "_ = interact(plot_3d_scatter)"
   ]
  },
  {
   "cell_type": "code",
   "execution_count": 10,
   "metadata": {
    "tags": [
     "hide-input"
    ]
   },
   "outputs": [
    {
     "data": {
      "image/png": "[encoded data removed]",
      "text/plain": [
       "<Figure size 432x288 with 1 Axes>"
      ]
     },
     "metadata": {
      "needs_background": "light"
     },
     "output_type": "display_data"
    }
   ],
   "source": [
    "iris_2d_fig, iris_2d_ax = plt.subplots(figsize=(6, 4))\n",
    "iris_2d_ax.scatter(X_iris_reduced[:, 0], X_iris_reduced[:, 1])\n",
    "_ = iris_2d_ax.set(title=\"Iris Dataset Projected Over 2 Dimensions Using PCA\",\n",
    "                   xlabel=\"Principal Component #1\",\n",
    "                   ylabel=\"Principal Component #2\")"
   ]
  },
  {
   "cell_type": "markdown",
   "metadata": {},
   "source": [
    "Ah, we can already guess the `setosa` class to be that discernible cloud on the left of both dimensionality-reduced scatters."
   ]
  },
  {
   "cell_type": "markdown",
   "metadata": {},
   "source": [
    "### [K-means](https://en.wikipedia.org/wiki/K-means_clustering) Clustering"
   ]
  },
  {
   "cell_type": "code",
   "execution_count": 11,
   "metadata": {},
   "outputs": [],
   "source": [
    "from sklearn.cluster import KMeans\n",
    "\n",
    "N_IRIS_CLASSES = 3\n",
    "\n",
    "iris_kmeans = KMeans(n_clusters=N_IRIS_CLASSES, random_state=0)\n",
    "\n",
    "iris_labels_4 = iris_kmeans.fit_predict(X_iris_reduced[:, :4])\n",
    "iris_labels_3 = iris_kmeans.fit_predict(X_iris_reduced[:, :3])\n",
    "iris_labels_2 = iris_kmeans.fit_predict(X_iris_reduced[:, :2])\n",
    "iris_labels_1 = iris_kmeans.fit_predict(X_iris_reduced[:, :1].reshape(-1, 1))"
   ]
  },
  {
   "cell_type": "code",
   "execution_count": 12,
   "metadata": {
    "tags": [
     "hide-input"
    ]
   },
   "outputs": [
    {
     "data": {
      "application/vnd.jupyter.widget-view+json": {
       "model_id": "a0d74eb0e8b74455b686f9b60a21babf",
       "version_major": 2,
       "version_minor": 0
      },
      "text/plain": [
       "interactive(children=(IntSlider(value=10, description='elev', max=30, min=-10), IntSlider(value=-90, descripti…"
      ]
     },
     "metadata": {},
     "output_type": "display_data"
    }
   ],
   "source": [
    "y_iris_labels = y_iris.replace({\"setosa\": 1, \"versicolor\": 2, \"virginica\": 0})\n",
    "\n",
    "classification_success_3 = y_iris_labels == iris_labels_3\n",
    "\n",
    "\n",
    "def plot_3d_scatter(elev=10, azim=-90):\n",
    "    fig = plt.figure(figsize=(12, 12))\n",
    "    ax_3d = fig.add_subplot(111, projection=\"3d\")\n",
    "    # Plot correct labels\n",
    "    ax_3d.scatter(x1[classification_success_3],\n",
    "                  x2[classification_success_3],\n",
    "                  x3[classification_success_3],\n",
    "                  s=60,\n",
    "                  c=iris_labels_3[classification_success_3])\n",
    "    # Plot incorrect labels\n",
    "    ax_3d.scatter(x1[~classification_success_3],\n",
    "                  x2[~classification_success_3],\n",
    "                  x3[~classification_success_3],\n",
    "                  c=iris_labels_3[~classification_success_3],\n",
    "                  s=60,\n",
    "                  marker=\"x\")\n",
    "    # Customization\n",
    "    ax_3d.set(xlabel=\"Principal Component #1\",\n",
    "              ylabel=\"Principal Component #2\",\n",
    "              zlabel=\"Principal Component #3\")\n",
    "    ax_3d.view_init(elev, azim)\n",
    "    ax_3d.set_title(\"Iris Dataset Projected Over 3 Dimensions Using PCA\")\n",
    "\n",
    "\n",
    "_ = interact(plot_3d_scatter)"
   ]
  },
  {
   "cell_type": "code",
   "execution_count": 13,
   "metadata": {
    "tags": [
     "hide-input"
    ]
   },
   "outputs": [
    {
     "data": {
      "image/png": "[encoded data removed]",
      "text/plain": [
       "<Figure size 720x576 with 1 Axes>"
      ]
     },
     "metadata": {
      "needs_background": "light"
     },
     "output_type": "display_data"
    }
   ],
   "source": [
    "classification_success_2 = y_iris_labels == iris_labels_2\n",
    "\n",
    "X_success_2 = X_iris_reduced[classification_success_2]\n",
    "X_misclassified_2 = X_iris_reduced[~classification_success_2]\n",
    "\n",
    "iris_2d_fig, iris_2d_ax = plt.subplots(figsize=(10, 8))\n",
    "# Plot correct labels\n",
    "iris_2d_ax.scatter(X_success_2[:, 0],\n",
    "                   X_success_2[:, 1],\n",
    "                   c=iris_labels_2[classification_success_2],\n",
    "                   label=\"Corrent Label\")\n",
    "# Plot incorrect labels\n",
    "iris_2d_ax.scatter(X_misclassified_2[:, 0],\n",
    "                   X_misclassified_2[:, 1],\n",
    "                   c=iris_labels_2[~classification_success_2],\n",
    "                   marker=\"x\",\n",
    "                   label=\"Incorrent Label\")\n",
    "iris_2d_ax.legend(loc=\"upper center\")\n",
    "_ = iris_2d_ax.set(title=\"Iris Dataset Projected Over 2 Dimensions Using PCA\",\n",
    "                   xlabel=\"Principal Component #1\",\n",
    "                   ylabel=\"Principal Component #2\")"
   ]
  },
  {
   "cell_type": "markdown",
   "metadata": {},
   "source": [
    "#### Clustering Evaluation"
   ]
  },
  {
   "cell_type": "markdown",
   "metadata": {},
   "source": [
    "How do you think we did relative to the baseline (clustering using all 4 features) as we reduced the dimensionality of the dataset?"
   ]
  },
  {
   "cell_type": "code",
   "execution_count": 14,
   "metadata": {
    "tags": [
     "hide-input"
    ]
   },
   "outputs": [],
   "source": [
    "from sklearn.metrics import accuracy_score\n",
    "from typing import Iterable\n",
    "\n",
    "DEFAULT_FIGURE_KWARGS = {\"figsize\": (10, 5)}\n",
    "DEFAULT_AXES_KWARGS = {\"marker\": \"o\"}\n",
    "\n",
    "\n",
    "def plot_accuracy(classification_labels: Iterable,\n",
    "                  true_labels: pd.Series,\n",
    "                  fig_kwargs: dict = None,\n",
    "                  ax_kwargs: dict = None) -> tuple:\n",
    "    fig_kwargs = organize_kwargs(fig_kwargs, DEFAULT_FIGURE_KWARGS)\n",
    "    ax_kwargs = organize_kwargs(ax_kwargs, DEFAULT_AXES_KWARGS)\n",
    "    scores = [\n",
    "        accuracy_score(labels, true_labels) for labels in classification_labels\n",
    "    ]\n",
    "\n",
    "    # Plot accuracy scores\n",
    "    fig, ax = plt.subplots(**fig_kwargs)\n",
    "    x_range = range(1, len(scores) + 1)\n",
    "    ax.plot(x_range, scores, **ax_kwargs)\n",
    "    ax.set(title=\"Accuracy by Number of Principal Components\",\n",
    "           xlabel=\"Number of Principal Components\",\n",
    "           ylabel=\"Accuracy Score\",\n",
    "           xticks=x_range,\n",
    "           xticklabels=x_range)\n",
    "    return fig, ax"
   ]
  },
  {
   "cell_type": "code",
   "execution_count": 15,
   "metadata": {},
   "outputs": [
    {
     "data": {
      "image/png": "[encoded data removed]",
      "text/plain": [
       "<Figure size 720x360 with 1 Axes>"
      ]
     },
     "metadata": {
      "needs_background": "light"
     },
     "output_type": "display_data"
    }
   ],
   "source": [
    "classification_labels = (iris_labels_1, iris_labels_2, iris_labels_3,\n",
    "                         iris_labels_4)\n",
    "_ = plot_accuracy(classification_labels, y_iris_labels)"
   ]
  },
  {
   "cell_type": "markdown",
   "metadata": {},
   "source": [
    "Amazingly, dropping the dimensionality of our dataset did not effect our ability to identify clusters of iris classes at all for 3 or 2 dimensions, but actually **increased** our accuracy in 1 dimension.\n",
    "\n",
    "`sklearn`'s `metrics` module also provides us with the `silhouette_score` metric for evaluating the degree of separation between the clusters:"
   ]
  },
  {
   "cell_type": "code",
   "execution_count": 16,
   "metadata": {
    "tags": [
     "hide-input"
    ]
   },
   "outputs": [],
   "source": [
    "from sklearn.metrics import silhouette_score\n",
    "\n",
    "DEFAULT_FIGURE_KWARGS = {\"figsize\": (10, 5)}\n",
    "DEFAULT_AXES_KWARGS = {\"marker\": \"o\"}\n",
    "DEFAULT_CUSTOMIZATIONS = {\n",
    "    \"title\": \"Silhouette Score by Number of Principal Components\",\n",
    "    \"xlabel\": \"Number of Principal Components\",\n",
    "    \"ylabel\": \"Silhouette Score\"\n",
    "}\n",
    "\n",
    "\n",
    "def plot_silhouette_scores(model: KMeans,\n",
    "                           X: np.ndarray,\n",
    "                           true_labels: pd.Series,\n",
    "                           fig_kwargs: dict = None,\n",
    "                           ax_kwargs: dict = None,\n",
    "                           customizations: dict = None) -> tuple:\n",
    "    fig_kwargs = organize_kwargs(fig_kwargs, DEFAULT_FIGURE_KWARGS)\n",
    "    ax_kwargs = organize_kwargs(ax_kwargs, DEFAULT_AXES_KWARGS)\n",
    "    customizations = organize_kwargs(customizations, DEFAULT_CUSTOMIZATIONS)\n",
    "    scores = []\n",
    "    x_range = range(1, X.shape[1] + 1)\n",
    "    for i in x_range:\n",
    "        X_subset = X[:, :i]\n",
    "        if i == 1:\n",
    "            X_subset = X_subset.reshape(-1, 1)\n",
    "        labels = model.fit_transform(X_subset)\n",
    "        score = silhouette_score(labels, true_labels)\n",
    "        scores.append(score)\n",
    "    fig, ax = plt.subplots(**fig_kwargs)\n",
    "    ax.plot(x_range, scores, **ax_kwargs)\n",
    "    ax.set(**customizations)\n",
    "    return fig, ax"
   ]
  },
  {
   "cell_type": "code",
   "execution_count": 17,
   "metadata": {},
   "outputs": [
    {
     "data": {
      "image/png": "[encoded data removed]",
      "text/plain": [
       "<Figure size 720x360 with 1 Axes>"
      ]
     },
     "metadata": {
      "needs_background": "light"
     },
     "output_type": "display_data"
    }
   ],
   "source": [
    "_ = plot_silhouette_scores(iris_kmeans, X_iris_reduced, y_iris_labels)"
   ]
  },
  {
   "cell_type": "markdown",
   "metadata": {},
   "source": [
    "## ASD Subtypes Classification"
   ]
  },
  {
   "cell_type": "markdown",
   "metadata": {},
   "source": [
    "So, now we know how to implement PCA and K-means clustering using `sklearn`. Next, we will try and explore the possibility of identifying ASD subtypes using  and  on the [ABIDE II](http://fcon_1000.projects.nitrc.org/indi/abide/abide_II.html) dataset, again, based on [Prof. Tal Yarkoni](https://talyarkoni.org/)'s workshop in  the [NeuroHackademy](https://neurohackademy.org/) 2020 (available [here](https://github.com/neurohackademy/nh2020-curriculum/tree/master/tu-machine-learning-yarkoni))."
   ]
  },
  {
   "cell_type": "markdown",
   "metadata": {},
   "source": [
    "First, as always, we have to load the data and clean it up a little bit:"
   ]
  },
  {
   "cell_type": "code",
   "execution_count": 18,
   "metadata": {},
   "outputs": [],
   "source": [
    "TSV_URL = \"https://raw.githubusercontent.com/neurohackademy/nh2020-curriculum/master/tu-machine-learning-yarkoni/data/abide2.tsv\"\n",
    "data = pd.read_csv(TSV_URL, delimiter=\"\\t\")\n",
    "\n",
    "# Clean\n",
    "IGNORED_COLUMNS = [\"age_resid\", \"sex\"]\n",
    "REPLACE_DICT = {\"group\": {1: \"ASD\", 2: \"Control\"}}\n",
    "data.drop(columns=IGNORED_COLUMNS, inplace=True)\n",
    "data.replace(REPLACE_DICT, inplace=True)"
   ]
  },
  {
   "cell_type": "markdown",
   "metadata": {},
   "source": [
    "This time, however, we're only interested in ASD positive observations:"
   ]
  },
  {
   "cell_type": "code",
   "execution_count": 19,
   "metadata": {},
   "outputs": [
    {
     "data": {
      "text/html": [
       "<div>\n",
       "<style scoped>\n",
       "    .dataframe tbody tr th:only-of-type {\n",
       "        vertical-align: middle;\n",
       "    }\n",
       "\n",
       "    .dataframe tbody tr th {\n",
       "        vertical-align: top;\n",
       "    }\n",
       "\n",
       "    .dataframe thead th {\n",
       "        text-align: right;\n",
       "    }\n",
       "</style>\n",
       "<table border=\"1\" class=\"dataframe\">\n",
       "  <thead>\n",
       "    <tr style=\"text-align: right;\">\n",
       "      <th></th>\n",
       "      <th>fsArea_L_V1_ROI</th>\n",
       "      <th>fsArea_L_MST_ROI</th>\n",
       "      <th>fsArea_L_V6_ROI</th>\n",
       "      <th>fsArea_L_V2_ROI</th>\n",
       "      <th>fsArea_L_V3_ROI</th>\n",
       "      <th>fsArea_L_V4_ROI</th>\n",
       "      <th>fsArea_L_V8_ROI</th>\n",
       "      <th>fsArea_L_4_ROI</th>\n",
       "      <th>fsArea_L_3b_ROI</th>\n",
       "      <th>fsArea_L_FEF_ROI</th>\n",
       "      <th>...</th>\n",
       "      <th>fsCT_R_p47r_ROI</th>\n",
       "      <th>fsCT_R_TGv_ROI</th>\n",
       "      <th>fsCT_R_MBelt_ROI</th>\n",
       "      <th>fsCT_R_LBelt_ROI</th>\n",
       "      <th>fsCT_R_A4_ROI</th>\n",
       "      <th>fsCT_R_STSva_ROI</th>\n",
       "      <th>fsCT_R_TE1m_ROI</th>\n",
       "      <th>fsCT_R_PI_ROI</th>\n",
       "      <th>fsCT_R_a32pr_ROI</th>\n",
       "      <th>fsCT_R_p24_ROI</th>\n",
       "    </tr>\n",
       "  </thead>\n",
       "  <tbody>\n",
       "    <tr>\n",
       "      <th>0</th>\n",
       "      <td>-0.731130</td>\n",
       "      <td>1.179502</td>\n",
       "      <td>-0.584671</td>\n",
       "      <td>-1.308675</td>\n",
       "      <td>-1.206924</td>\n",
       "      <td>-0.816245</td>\n",
       "      <td>0.154402</td>\n",
       "      <td>-0.258584</td>\n",
       "      <td>-0.278607</td>\n",
       "      <td>1.829968</td>\n",
       "      <td>...</td>\n",
       "      <td>2.186101</td>\n",
       "      <td>-0.720148</td>\n",
       "      <td>0.369192</td>\n",
       "      <td>-0.522160</td>\n",
       "      <td>0.104033</td>\n",
       "      <td>0.704565</td>\n",
       "      <td>0.793778</td>\n",
       "      <td>-0.167456</td>\n",
       "      <td>-0.420926</td>\n",
       "      <td>0.018466</td>\n",
       "    </tr>\n",
       "    <tr>\n",
       "      <th>1</th>\n",
       "      <td>-0.564107</td>\n",
       "      <td>-0.540347</td>\n",
       "      <td>-0.584671</td>\n",
       "      <td>-0.931977</td>\n",
       "      <td>-0.671912</td>\n",
       "      <td>-0.283729</td>\n",
       "      <td>-0.011425</td>\n",
       "      <td>-1.119532</td>\n",
       "      <td>-1.417950</td>\n",
       "      <td>-1.229992</td>\n",
       "      <td>...</td>\n",
       "      <td>0.701741</td>\n",
       "      <td>0.676280</td>\n",
       "      <td>0.889796</td>\n",
       "      <td>0.150595</td>\n",
       "      <td>1.071329</td>\n",
       "      <td>0.863305</td>\n",
       "      <td>0.607744</td>\n",
       "      <td>-0.046772</td>\n",
       "      <td>-0.292914</td>\n",
       "      <td>0.378526</td>\n",
       "    </tr>\n",
       "    <tr>\n",
       "      <th>3</th>\n",
       "      <td>0.496296</td>\n",
       "      <td>0.606219</td>\n",
       "      <td>0.385436</td>\n",
       "      <td>0.228145</td>\n",
       "      <td>0.571085</td>\n",
       "      <td>0.272350</td>\n",
       "      <td>-0.425994</td>\n",
       "      <td>0.257985</td>\n",
       "      <td>0.733599</td>\n",
       "      <td>-0.256369</td>\n",
       "      <td>...</td>\n",
       "      <td>2.151207</td>\n",
       "      <td>0.293831</td>\n",
       "      <td>0.110449</td>\n",
       "      <td>0.873185</td>\n",
       "      <td>0.269181</td>\n",
       "      <td>-0.016980</td>\n",
       "      <td>0.868708</td>\n",
       "      <td>0.029759</td>\n",
       "      <td>0.437027</td>\n",
       "      <td>0.229536</td>\n",
       "    </tr>\n",
       "    <tr>\n",
       "      <th>5</th>\n",
       "      <td>-0.206755</td>\n",
       "      <td>2.383396</td>\n",
       "      <td>0.185708</td>\n",
       "      <td>-0.402415</td>\n",
       "      <td>-0.619618</td>\n",
       "      <td>-0.387405</td>\n",
       "      <td>0.336812</td>\n",
       "      <td>1.249947</td>\n",
       "      <td>1.652897</td>\n",
       "      <td>0.865617</td>\n",
       "      <td>...</td>\n",
       "      <td>1.260053</td>\n",
       "      <td>0.015330</td>\n",
       "      <td>1.818779</td>\n",
       "      <td>-0.045971</td>\n",
       "      <td>-0.388462</td>\n",
       "      <td>0.623752</td>\n",
       "      <td>0.553485</td>\n",
       "      <td>1.837080</td>\n",
       "      <td>0.848299</td>\n",
       "      <td>-1.327417</td>\n",
       "    </tr>\n",
       "    <tr>\n",
       "      <th>6</th>\n",
       "      <td>0.768194</td>\n",
       "      <td>-1.199622</td>\n",
       "      <td>1.084483</td>\n",
       "      <td>0.907840</td>\n",
       "      <td>1.029667</td>\n",
       "      <td>0.856704</td>\n",
       "      <td>-1.072720</td>\n",
       "      <td>-0.415800</td>\n",
       "      <td>-0.205259</td>\n",
       "      <td>0.114536</td>\n",
       "      <td>...</td>\n",
       "      <td>-0.562516</td>\n",
       "      <td>0.201651</td>\n",
       "      <td>0.880444</td>\n",
       "      <td>-0.081962</td>\n",
       "      <td>0.334060</td>\n",
       "      <td>0.381312</td>\n",
       "      <td>-1.353356</td>\n",
       "      <td>1.919499</td>\n",
       "      <td>0.197345</td>\n",
       "      <td>0.400875</td>\n",
       "    </tr>\n",
       "    <tr>\n",
       "      <th>...</th>\n",
       "      <td>...</td>\n",
       "      <td>...</td>\n",
       "      <td>...</td>\n",
       "      <td>...</td>\n",
       "      <td>...</td>\n",
       "      <td>...</td>\n",
       "      <td>...</td>\n",
       "      <td>...</td>\n",
       "      <td>...</td>\n",
       "      <td>...</td>\n",
       "      <td>...</td>\n",
       "      <td>...</td>\n",
       "      <td>...</td>\n",
       "      <td>...</td>\n",
       "      <td>...</td>\n",
       "      <td>...</td>\n",
       "      <td>...</td>\n",
       "      <td>...</td>\n",
       "      <td>...</td>\n",
       "      <td>...</td>\n",
       "      <td>...</td>\n",
       "    </tr>\n",
       "    <tr>\n",
       "      <th>992</th>\n",
       "      <td>0.203034</td>\n",
       "      <td>-0.311034</td>\n",
       "      <td>0.043045</td>\n",
       "      <td>0.263631</td>\n",
       "      <td>-0.671912</td>\n",
       "      <td>-1.334624</td>\n",
       "      <td>-2.034519</td>\n",
       "      <td>0.643540</td>\n",
       "      <td>-0.083012</td>\n",
       "      <td>1.134522</td>\n",
       "      <td>...</td>\n",
       "      <td>2.097523</td>\n",
       "      <td>-0.004283</td>\n",
       "      <td>-0.759303</td>\n",
       "      <td>-0.045971</td>\n",
       "      <td>0.186607</td>\n",
       "      <td>0.101353</td>\n",
       "      <td>-0.751332</td>\n",
       "      <td>0.547819</td>\n",
       "      <td>0.690327</td>\n",
       "      <td>-0.254684</td>\n",
       "    </tr>\n",
       "    <tr>\n",
       "      <th>995</th>\n",
       "      <td>-0.869021</td>\n",
       "      <td>-0.081721</td>\n",
       "      <td>-1.226653</td>\n",
       "      <td>-1.532510</td>\n",
       "      <td>-1.118425</td>\n",
       "      <td>-0.948196</td>\n",
       "      <td>-0.459159</td>\n",
       "      <td>-0.333449</td>\n",
       "      <td>-1.036539</td>\n",
       "      <td>0.012537</td>\n",
       "      <td>...</td>\n",
       "      <td>0.036060</td>\n",
       "      <td>0.517417</td>\n",
       "      <td>0.309962</td>\n",
       "      <td>0.114604</td>\n",
       "      <td>-0.653879</td>\n",
       "      <td>-0.634623</td>\n",
       "      <td>-1.022630</td>\n",
       "      <td>0.050364</td>\n",
       "      <td>-1.649296</td>\n",
       "      <td>0.592080</td>\n",
       "    </tr>\n",
       "    <tr>\n",
       "      <th>996</th>\n",
       "      <td>-2.694622</td>\n",
       "      <td>0.075932</td>\n",
       "      <td>0.841957</td>\n",
       "      <td>-2.736307</td>\n",
       "      <td>-2.997000</td>\n",
       "      <td>-2.574020</td>\n",
       "      <td>-1.603368</td>\n",
       "      <td>-0.756436</td>\n",
       "      <td>-0.567110</td>\n",
       "      <td>-0.682908</td>\n",
       "      <td>...</td>\n",
       "      <td>0.959423</td>\n",
       "      <td>0.825337</td>\n",
       "      <td>-0.001778</td>\n",
       "      <td>-0.599679</td>\n",
       "      <td>0.979907</td>\n",
       "      <td>1.873468</td>\n",
       "      <td>0.196921</td>\n",
       "      <td>-0.514792</td>\n",
       "      <td>1.842434</td>\n",
       "      <td>0.418257</td>\n",
       "    </tr>\n",
       "    <tr>\n",
       "      <th>998</th>\n",
       "      <td>0.517659</td>\n",
       "      <td>1.365819</td>\n",
       "      <td>2.682306</td>\n",
       "      <td>1.074351</td>\n",
       "      <td>1.230799</td>\n",
       "      <td>0.705903</td>\n",
       "      <td>-0.011425</td>\n",
       "      <td>-0.176232</td>\n",
       "      <td>0.293509</td>\n",
       "      <td>2.108146</td>\n",
       "      <td>...</td>\n",
       "      <td>0.366216</td>\n",
       "      <td>-0.002321</td>\n",
       "      <td>0.515709</td>\n",
       "      <td>0.037085</td>\n",
       "      <td>1.153903</td>\n",
       "      <td>0.020540</td>\n",
       "      <td>1.855717</td>\n",
       "      <td>0.609633</td>\n",
       "      <td>-0.603411</td>\n",
       "      <td>0.778318</td>\n",
       "    </tr>\n",
       "    <tr>\n",
       "      <th>1003</th>\n",
       "      <td>-0.927285</td>\n",
       "      <td>-1.199622</td>\n",
       "      <td>-1.255185</td>\n",
       "      <td>-0.664466</td>\n",
       "      <td>-1.227037</td>\n",
       "      <td>-1.405312</td>\n",
       "      <td>-1.022972</td>\n",
       "      <td>-0.048961</td>\n",
       "      <td>-0.342176</td>\n",
       "      <td>-0.367640</td>\n",
       "      <td>...</td>\n",
       "      <td>1.984787</td>\n",
       "      <td>-0.047431</td>\n",
       "      <td>-0.513030</td>\n",
       "      <td>0.028780</td>\n",
       "      <td>0.915028</td>\n",
       "      <td>0.202369</td>\n",
       "      <td>1.674852</td>\n",
       "      <td>-0.143908</td>\n",
       "      <td>1.115218</td>\n",
       "      <td>-0.473204</td>\n",
       "    </tr>\n",
       "  </tbody>\n",
       "</table>\n",
       "<p>463 rows × 1440 columns</p>\n",
       "</div>"
      ],
      "text/plain": [
       "      fsArea_L_V1_ROI  fsArea_L_MST_ROI  fsArea_L_V6_ROI  fsArea_L_V2_ROI  \\\n",
       "0           -0.731130          1.179502        -0.584671        -1.308675   \n",
       "1           -0.564107         -0.540347        -0.584671        -0.931977   \n",
       "3            0.496296          0.606219         0.385436         0.228145   \n",
       "5           -0.206755          2.383396         0.185708        -0.402415   \n",
       "6            0.768194         -1.199622         1.084483         0.907840   \n",
       "...               ...               ...              ...              ...   \n",
       "992          0.203034         -0.311034         0.043045         0.263631   \n",
       "995         -0.869021         -0.081721        -1.226653        -1.532510   \n",
       "996         -2.694622          0.075932         0.841957        -2.736307   \n",
       "998          0.517659          1.365819         2.682306         1.074351   \n",
       "1003        -0.927285         -1.199622        -1.255185        -0.664466   \n",
       "\n",
       "      fsArea_L_V3_ROI  fsArea_L_V4_ROI  fsArea_L_V8_ROI  fsArea_L_4_ROI  \\\n",
       "0           -1.206924        -0.816245         0.154402       -0.258584   \n",
       "1           -0.671912        -0.283729        -0.011425       -1.119532   \n",
       "3            0.571085         0.272350        -0.425994        0.257985   \n",
       "5           -0.619618        -0.387405         0.336812        1.249947   \n",
       "6            1.029667         0.856704        -1.072720       -0.415800   \n",
       "...               ...              ...              ...             ...   \n",
       "992         -0.671912        -1.334624        -2.034519        0.643540   \n",
       "995         -1.118425        -0.948196        -0.459159       -0.333449   \n",
       "996         -2.997000        -2.574020        -1.603368       -0.756436   \n",
       "998          1.230799         0.705903        -0.011425       -0.176232   \n",
       "1003        -1.227037        -1.405312        -1.022972       -0.048961   \n",
       "\n",
       "      fsArea_L_3b_ROI  fsArea_L_FEF_ROI  ...  fsCT_R_p47r_ROI  fsCT_R_TGv_ROI  \\\n",
       "0           -0.278607          1.829968  ...         2.186101       -0.720148   \n",
       "1           -1.417950         -1.229992  ...         0.701741        0.676280   \n",
       "3            0.733599         -0.256369  ...         2.151207        0.293831   \n",
       "5            1.652897          0.865617  ...         1.260053        0.015330   \n",
       "6           -0.205259          0.114536  ...        -0.562516        0.201651   \n",
       "...               ...               ...  ...              ...             ...   \n",
       "992         -0.083012          1.134522  ...         2.097523       -0.004283   \n",
       "995         -1.036539          0.012537  ...         0.036060        0.517417   \n",
       "996         -0.567110         -0.682908  ...         0.959423        0.825337   \n",
       "998          0.293509          2.108146  ...         0.366216       -0.002321   \n",
       "1003        -0.342176         -0.367640  ...         1.984787       -0.047431   \n",
       "\n",
       "      fsCT_R_MBelt_ROI  fsCT_R_LBelt_ROI  fsCT_R_A4_ROI  fsCT_R_STSva_ROI  \\\n",
       "0             0.369192         -0.522160       0.104033          0.704565   \n",
       "1             0.889796          0.150595       1.071329          0.863305   \n",
       "3             0.110449          0.873185       0.269181         -0.016980   \n",
       "5             1.818779         -0.045971      -0.388462          0.623752   \n",
       "6             0.880444         -0.081962       0.334060          0.381312   \n",
       "...                ...               ...            ...               ...   \n",
       "992          -0.759303         -0.045971       0.186607          0.101353   \n",
       "995           0.309962          0.114604      -0.653879         -0.634623   \n",
       "996          -0.001778         -0.599679       0.979907          1.873468   \n",
       "998           0.515709          0.037085       1.153903          0.020540   \n",
       "1003         -0.513030          0.028780       0.915028          0.202369   \n",
       "\n",
       "      fsCT_R_TE1m_ROI  fsCT_R_PI_ROI  fsCT_R_a32pr_ROI  fsCT_R_p24_ROI  \n",
       "0            0.793778      -0.167456         -0.420926        0.018466  \n",
       "1            0.607744      -0.046772         -0.292914        0.378526  \n",
       "3            0.868708       0.029759          0.437027        0.229536  \n",
       "5            0.553485       1.837080          0.848299       -1.327417  \n",
       "6           -1.353356       1.919499          0.197345        0.400875  \n",
       "...               ...            ...               ...             ...  \n",
       "992         -0.751332       0.547819          0.690327       -0.254684  \n",
       "995         -1.022630       0.050364         -1.649296        0.592080  \n",
       "996          0.196921      -0.514792          1.842434        0.418257  \n",
       "998          1.855717       0.609633         -0.603411        0.778318  \n",
       "1003         1.674852      -0.143908          1.115218       -0.473204  \n",
       "\n",
       "[463 rows x 1440 columns]"
      ]
     },
     "execution_count": 19,
     "metadata": {},
     "output_type": "execute_result"
    }
   ],
   "source": [
    "from sklearn.preprocessing import StandardScaler\n",
    "\n",
    "asd_positive = data[\"group\"] == \"ASD\"\n",
    "\n",
    "# Feature matrix\n",
    "X = data[asd_positive].filter(regex=\"^fs\").copy()\n",
    "\n",
    "# Feature scaling\n",
    "scaler = StandardScaler()\n",
    "X.loc[:, :] = scaler.fit_transform(X.loc[:, :])\n",
    "\n",
    "X"
   ]
  },
  {
   "cell_type": "markdown",
   "metadata": {},
   "source": [
    "### Principal Component Analysis (PCA)"
   ]
  },
  {
   "cell_type": "markdown",
   "metadata": {},
   "source": [
    "We will use PCA to try and \"capture\" as much of the variance of our 1,440 features using a limited number of principal components."
   ]
  },
  {
   "cell_type": "code",
   "execution_count": 20,
   "metadata": {},
   "outputs": [],
   "source": [
    "from sklearn.decomposition import PCA\n",
    "\n",
    "N_COMPONENTS = 20\n",
    "\n",
    "pca = PCA(n_components=N_COMPONENTS)\n",
    "X_reduced = pca.fit_transform(X)"
   ]
  },
  {
   "cell_type": "markdown",
   "metadata": {},
   "source": [
    "Let's try and evaluate how well did PCA manage to find small number of components to explain the variance:"
   ]
  },
  {
   "cell_type": "code",
   "execution_count": 21,
   "metadata": {
    "scrolled": true
   },
   "outputs": [
    {
     "data": {
      "image/png": "[encoded data removed]",
      "text/plain": [
       "<Figure size 648x432 with 1 Axes>"
      ]
     },
     "metadata": {
      "needs_background": "light"
     },
     "output_type": "display_data"
    }
   ],
   "source": [
    "_ = plot_explained_variance_ratio(pca)"
   ]
  },
  {
   "cell_type": "code",
   "execution_count": 22,
   "metadata": {
    "tags": [
     "remove-input"
    ]
   },
   "outputs": [
    {
     "data": {
      "application/papermill.record/text/plain": "'42.15'"
     },
     "metadata": {
      "scrapbook": {
       "mime_prefix": "application/papermill.record/",
       "name": "k_3_explained"
      }
     },
     "output_type": "display_data"
    }
   ],
   "source": [
    "k_3_explained = f\"{np.cumsum(pca.explained_variance_ratio_)[3] * 100:.2f}\"\n",
    "\n",
    "glue(\"k_3_explained\", k_3_explained, display=False)"
   ]
  },
  {
   "cell_type": "markdown",
   "metadata": {},
   "source": [
    "It seems like the added value of using more than 2 or 3 components is relatively negligible, with 3 components explaining a total of {glue:text}`k_3_explained:.2f`% of the total variance. "
   ]
  },
  {
   "cell_type": "markdown",
   "metadata": {},
   "source": [
    "### K-Means Clustering"
   ]
  },
  {
   "cell_type": "code",
   "execution_count": 23,
   "metadata": {},
   "outputs": [],
   "source": [
    "from sklearn.cluster import KMeans\n",
    "\n",
    "X_3 = X_reduced[:, :3]\n",
    "MAX_N_CLUSTERS = 10\n",
    "\n",
    "models = [KMeans(n_clusters=i).fit(X_3) for i in range(2, MAX_N_CLUSTERS + 1)]"
   ]
  },
  {
   "cell_type": "markdown",
   "metadata": {},
   "source": [
    "#### Clustering Evaluation"
   ]
  },
  {
   "cell_type": "code",
   "execution_count": 24,
   "metadata": {},
   "outputs": [
    {
     "data": {
      "image/png": "[encoded data removed]",
      "text/plain": [
       "<Figure size 576x360 with 1 Axes>"
      ]
     },
     "metadata": {
      "needs_background": "light"
     },
     "output_type": "display_data"
    }
   ],
   "source": [
    "from sklearn.metrics import silhouette_score\n",
    "\n",
    "scores = [silhouette_score(X_3, model.labels_) for model in models]\n",
    "\n",
    "scores_fig, scores_ax = plt.subplots(figsize=(8, 5))\n",
    "scores_ax.plot(range(2, MAX_N_CLUSTERS + 1), scores, \"o-\")\n",
    "_ = scores_ax.set(title=\"Silhouette Score by $k$\",\n",
    "                  xlabel=\"$k$\",\n",
    "                  ylabel=\"Silhouette Score\")"
   ]
  },
  {
   "cell_type": "markdown",
   "metadata": {},
   "source": [
    "It seems like the best degree of separation was obtained for $k=2$. Let's visualize the two clusters and to obtain some qualitative understanding of how well (or badly) our model did:"
   ]
  },
  {
   "cell_type": "code",
   "execution_count": 25,
   "metadata": {},
   "outputs": [
    {
     "data": {
      "application/vnd.jupyter.widget-view+json": {
       "model_id": "0ad134022575404ca0827b9a4ad9864b",
       "version_major": 2,
       "version_minor": 0
      },
      "text/plain": [
       "interactive(children=(IntSlider(value=10, description='elev', max=30, min=-10), IntSlider(value=-90, descripti…"
      ]
     },
     "metadata": {},
     "output_type": "display_data"
    }
   ],
   "source": [
    "from ipywidgets import interact\n",
    "\n",
    "x1, x2, x3 = X_3.T\n",
    "\n",
    "\n",
    "def plot_3d_scatter(elev=10, azim=-90):\n",
    "    fig = plt.figure(figsize=(8, 8))\n",
    "    ax = fig.add_subplot(111, projection=\"3d\")\n",
    "    ax.scatter(x1, x2, x3, s=15, marker=\"o\", c=models[0].labels_)\n",
    "    ax.set(xlabel=\"Principal Component #1\",\n",
    "           ylabel=\"Principal Component #2\",\n",
    "           zlabel=\"Principal Component #3\")\n",
    "    ax.view_init(elev, azim)\n",
    "\n",
    "\n",
    "_ = interact(plot_3d_scatter)"
   ]
  },
  {
   "cell_type": "markdown",
   "metadata": {},
   "source": [
    "Indeed, it seems our model's ability to cluster ASD subtypes using three principal components is rather poor."
   ]
  }
 ],
 "metadata": {
  "celltoolbar": "Tags",
  "kernelspec": {
   "display_name": "Python 3",
   "language": "python",
   "name": "python3"
  },
  "language_info": {
   "codemirror_mode": {
    "name": "ipython",
    "version": 3
   },
   "file_extension": ".py",
   "mimetype": "text/x-python",
   "name": "python",
   "nbconvert_exporter": "python",
   "pygments_lexer": "ipython3",
   "version": "3.8.0"
  }
 },
 "nbformat": 4,
 "nbformat_minor": 4
}
