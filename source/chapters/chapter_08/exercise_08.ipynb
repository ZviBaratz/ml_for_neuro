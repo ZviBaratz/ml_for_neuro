{
 "cells": [
  {
   "cell_type": "markdown",
   "metadata": {},
   "source": [
    "# Exercise VIII: K-Means Clustering and PCA"
   ]
  },
  {
   "cell_type": "markdown",
   "metadata": {},
   "source": [
    "In this exercise, we will try to identify subtypes of ASD using [Principal Component Analysis (PCA)](https://en.wikipedia.org/wiki/Principal_component_analysis) and [K-means clustering](https://en.wikipedia.org/wiki/K-means_clustering). This time, we will use `sklearn`'s [`Pipeline`](https://scikit-learn.org/stable/modules/generated/sklearn.pipeline.Pipeline.html#sklearn.pipeline.Pipeline) class to create an even more verbose and easily reproducible workflow."
   ]
  },
  {
   "cell_type": "markdown",
   "metadata": {},
   "source": [
    "First, as always, we have to load the data and clean it up a little bit:"
   ]
  },
  {
   "cell_type": "code",
   "execution_count": 1,
   "metadata": {},
   "outputs": [],
   "source": [
    "import pandas as pd\n",
    "\n",
    "TSV_URL = \"https://raw.githubusercontent.com/neurohackademy/nh2020-curriculum/master/tu-machine-learning-yarkoni/data/abide2.tsv\"\n",
    "data = pd.read_csv(TSV_URL, delimiter=\"\\t\")\n",
    "\n",
    "# Clean\n",
    "IGNORED_COLUMNS = [\"age_resid\", \"sex\"]\n",
    "REPLACE_DICT = {\"group\": {1: \"ASD\", 2: \"Control\"}}\n",
    "data.drop(columns=IGNORED_COLUMNS, inplace=True)\n",
    "data.replace(REPLACE_DICT, inplace=True)"
   ]
  },
  {
   "cell_type": "markdown",
   "metadata": {},
   "source": [
    "This time, however, we're only interested in ASD positive observations:"
   ]
  },
  {
   "cell_type": "code",
   "execution_count": 38,
   "metadata": {},
   "outputs": [
    {
     "data": {
      "text/html": [
       "<div>\n",
       "<style scoped>\n",
       "    .dataframe tbody tr th:only-of-type {\n",
       "        vertical-align: middle;\n",
       "    }\n",
       "\n",
       "    .dataframe tbody tr th {\n",
       "        vertical-align: top;\n",
       "    }\n",
       "\n",
       "    .dataframe thead th {\n",
       "        text-align: right;\n",
       "    }\n",
       "</style>\n",
       "<table border=\"1\" class=\"dataframe\">\n",
       "  <thead>\n",
       "    <tr style=\"text-align: right;\">\n",
       "      <th></th>\n",
       "      <th>fsArea_L_V1_ROI</th>\n",
       "      <th>fsArea_L_MST_ROI</th>\n",
       "      <th>fsArea_L_V6_ROI</th>\n",
       "      <th>fsArea_L_V2_ROI</th>\n",
       "      <th>fsArea_L_V3_ROI</th>\n",
       "      <th>fsArea_L_V4_ROI</th>\n",
       "      <th>fsArea_L_V8_ROI</th>\n",
       "      <th>fsArea_L_4_ROI</th>\n",
       "      <th>fsArea_L_3b_ROI</th>\n",
       "      <th>fsArea_L_FEF_ROI</th>\n",
       "      <th>...</th>\n",
       "      <th>fsCT_R_p47r_ROI</th>\n",
       "      <th>fsCT_R_TGv_ROI</th>\n",
       "      <th>fsCT_R_MBelt_ROI</th>\n",
       "      <th>fsCT_R_LBelt_ROI</th>\n",
       "      <th>fsCT_R_A4_ROI</th>\n",
       "      <th>fsCT_R_STSva_ROI</th>\n",
       "      <th>fsCT_R_TE1m_ROI</th>\n",
       "      <th>fsCT_R_PI_ROI</th>\n",
       "      <th>fsCT_R_a32pr_ROI</th>\n",
       "      <th>fsCT_R_p24_ROI</th>\n",
       "    </tr>\n",
       "  </thead>\n",
       "  <tbody>\n",
       "    <tr>\n",
       "      <th>0</th>\n",
       "      <td>-0.731130</td>\n",
       "      <td>1.179502</td>\n",
       "      <td>-0.584671</td>\n",
       "      <td>-1.308675</td>\n",
       "      <td>-1.206924</td>\n",
       "      <td>-0.816245</td>\n",
       "      <td>0.154402</td>\n",
       "      <td>-0.258584</td>\n",
       "      <td>-0.278607</td>\n",
       "      <td>1.829968</td>\n",
       "      <td>...</td>\n",
       "      <td>2.186101</td>\n",
       "      <td>-0.720148</td>\n",
       "      <td>0.369192</td>\n",
       "      <td>-0.522160</td>\n",
       "      <td>0.104033</td>\n",
       "      <td>0.704565</td>\n",
       "      <td>0.793778</td>\n",
       "      <td>-0.167456</td>\n",
       "      <td>-0.420926</td>\n",
       "      <td>0.018466</td>\n",
       "    </tr>\n",
       "    <tr>\n",
       "      <th>1</th>\n",
       "      <td>-0.564107</td>\n",
       "      <td>-0.540347</td>\n",
       "      <td>-0.584671</td>\n",
       "      <td>-0.931977</td>\n",
       "      <td>-0.671912</td>\n",
       "      <td>-0.283729</td>\n",
       "      <td>-0.011425</td>\n",
       "      <td>-1.119532</td>\n",
       "      <td>-1.417950</td>\n",
       "      <td>-1.229992</td>\n",
       "      <td>...</td>\n",
       "      <td>0.701741</td>\n",
       "      <td>0.676280</td>\n",
       "      <td>0.889796</td>\n",
       "      <td>0.150595</td>\n",
       "      <td>1.071329</td>\n",
       "      <td>0.863305</td>\n",
       "      <td>0.607744</td>\n",
       "      <td>-0.046772</td>\n",
       "      <td>-0.292914</td>\n",
       "      <td>0.378526</td>\n",
       "    </tr>\n",
       "    <tr>\n",
       "      <th>3</th>\n",
       "      <td>0.496296</td>\n",
       "      <td>0.606219</td>\n",
       "      <td>0.385436</td>\n",
       "      <td>0.228145</td>\n",
       "      <td>0.571085</td>\n",
       "      <td>0.272350</td>\n",
       "      <td>-0.425994</td>\n",
       "      <td>0.257985</td>\n",
       "      <td>0.733599</td>\n",
       "      <td>-0.256369</td>\n",
       "      <td>...</td>\n",
       "      <td>2.151207</td>\n",
       "      <td>0.293831</td>\n",
       "      <td>0.110449</td>\n",
       "      <td>0.873185</td>\n",
       "      <td>0.269181</td>\n",
       "      <td>-0.016980</td>\n",
       "      <td>0.868708</td>\n",
       "      <td>0.029759</td>\n",
       "      <td>0.437027</td>\n",
       "      <td>0.229536</td>\n",
       "    </tr>\n",
       "    <tr>\n",
       "      <th>5</th>\n",
       "      <td>-0.206755</td>\n",
       "      <td>2.383396</td>\n",
       "      <td>0.185708</td>\n",
       "      <td>-0.402415</td>\n",
       "      <td>-0.619618</td>\n",
       "      <td>-0.387405</td>\n",
       "      <td>0.336812</td>\n",
       "      <td>1.249947</td>\n",
       "      <td>1.652897</td>\n",
       "      <td>0.865617</td>\n",
       "      <td>...</td>\n",
       "      <td>1.260053</td>\n",
       "      <td>0.015330</td>\n",
       "      <td>1.818779</td>\n",
       "      <td>-0.045971</td>\n",
       "      <td>-0.388462</td>\n",
       "      <td>0.623752</td>\n",
       "      <td>0.553485</td>\n",
       "      <td>1.837080</td>\n",
       "      <td>0.848299</td>\n",
       "      <td>-1.327417</td>\n",
       "    </tr>\n",
       "    <tr>\n",
       "      <th>6</th>\n",
       "      <td>0.768194</td>\n",
       "      <td>-1.199622</td>\n",
       "      <td>1.084483</td>\n",
       "      <td>0.907840</td>\n",
       "      <td>1.029667</td>\n",
       "      <td>0.856704</td>\n",
       "      <td>-1.072720</td>\n",
       "      <td>-0.415800</td>\n",
       "      <td>-0.205259</td>\n",
       "      <td>0.114536</td>\n",
       "      <td>...</td>\n",
       "      <td>-0.562516</td>\n",
       "      <td>0.201651</td>\n",
       "      <td>0.880444</td>\n",
       "      <td>-0.081962</td>\n",
       "      <td>0.334060</td>\n",
       "      <td>0.381312</td>\n",
       "      <td>-1.353356</td>\n",
       "      <td>1.919499</td>\n",
       "      <td>0.197345</td>\n",
       "      <td>0.400875</td>\n",
       "    </tr>\n",
       "    <tr>\n",
       "      <th>...</th>\n",
       "      <td>...</td>\n",
       "      <td>...</td>\n",
       "      <td>...</td>\n",
       "      <td>...</td>\n",
       "      <td>...</td>\n",
       "      <td>...</td>\n",
       "      <td>...</td>\n",
       "      <td>...</td>\n",
       "      <td>...</td>\n",
       "      <td>...</td>\n",
       "      <td>...</td>\n",
       "      <td>...</td>\n",
       "      <td>...</td>\n",
       "      <td>...</td>\n",
       "      <td>...</td>\n",
       "      <td>...</td>\n",
       "      <td>...</td>\n",
       "      <td>...</td>\n",
       "      <td>...</td>\n",
       "      <td>...</td>\n",
       "      <td>...</td>\n",
       "    </tr>\n",
       "    <tr>\n",
       "      <th>992</th>\n",
       "      <td>0.203034</td>\n",
       "      <td>-0.311034</td>\n",
       "      <td>0.043045</td>\n",
       "      <td>0.263631</td>\n",
       "      <td>-0.671912</td>\n",
       "      <td>-1.334624</td>\n",
       "      <td>-2.034519</td>\n",
       "      <td>0.643540</td>\n",
       "      <td>-0.083012</td>\n",
       "      <td>1.134522</td>\n",
       "      <td>...</td>\n",
       "      <td>2.097523</td>\n",
       "      <td>-0.004283</td>\n",
       "      <td>-0.759303</td>\n",
       "      <td>-0.045971</td>\n",
       "      <td>0.186607</td>\n",
       "      <td>0.101353</td>\n",
       "      <td>-0.751332</td>\n",
       "      <td>0.547819</td>\n",
       "      <td>0.690327</td>\n",
       "      <td>-0.254684</td>\n",
       "    </tr>\n",
       "    <tr>\n",
       "      <th>995</th>\n",
       "      <td>-0.869021</td>\n",
       "      <td>-0.081721</td>\n",
       "      <td>-1.226653</td>\n",
       "      <td>-1.532510</td>\n",
       "      <td>-1.118425</td>\n",
       "      <td>-0.948196</td>\n",
       "      <td>-0.459159</td>\n",
       "      <td>-0.333449</td>\n",
       "      <td>-1.036539</td>\n",
       "      <td>0.012537</td>\n",
       "      <td>...</td>\n",
       "      <td>0.036060</td>\n",
       "      <td>0.517417</td>\n",
       "      <td>0.309962</td>\n",
       "      <td>0.114604</td>\n",
       "      <td>-0.653879</td>\n",
       "      <td>-0.634623</td>\n",
       "      <td>-1.022630</td>\n",
       "      <td>0.050364</td>\n",
       "      <td>-1.649296</td>\n",
       "      <td>0.592080</td>\n",
       "    </tr>\n",
       "    <tr>\n",
       "      <th>996</th>\n",
       "      <td>-2.694622</td>\n",
       "      <td>0.075932</td>\n",
       "      <td>0.841957</td>\n",
       "      <td>-2.736307</td>\n",
       "      <td>-2.997000</td>\n",
       "      <td>-2.574020</td>\n",
       "      <td>-1.603368</td>\n",
       "      <td>-0.756436</td>\n",
       "      <td>-0.567110</td>\n",
       "      <td>-0.682908</td>\n",
       "      <td>...</td>\n",
       "      <td>0.959423</td>\n",
       "      <td>0.825337</td>\n",
       "      <td>-0.001778</td>\n",
       "      <td>-0.599679</td>\n",
       "      <td>0.979907</td>\n",
       "      <td>1.873468</td>\n",
       "      <td>0.196921</td>\n",
       "      <td>-0.514792</td>\n",
       "      <td>1.842434</td>\n",
       "      <td>0.418257</td>\n",
       "    </tr>\n",
       "    <tr>\n",
       "      <th>998</th>\n",
       "      <td>0.517659</td>\n",
       "      <td>1.365819</td>\n",
       "      <td>2.682306</td>\n",
       "      <td>1.074351</td>\n",
       "      <td>1.230799</td>\n",
       "      <td>0.705903</td>\n",
       "      <td>-0.011425</td>\n",
       "      <td>-0.176232</td>\n",
       "      <td>0.293509</td>\n",
       "      <td>2.108146</td>\n",
       "      <td>...</td>\n",
       "      <td>0.366216</td>\n",
       "      <td>-0.002321</td>\n",
       "      <td>0.515709</td>\n",
       "      <td>0.037085</td>\n",
       "      <td>1.153903</td>\n",
       "      <td>0.020540</td>\n",
       "      <td>1.855717</td>\n",
       "      <td>0.609633</td>\n",
       "      <td>-0.603411</td>\n",
       "      <td>0.778318</td>\n",
       "    </tr>\n",
       "    <tr>\n",
       "      <th>1003</th>\n",
       "      <td>-0.927285</td>\n",
       "      <td>-1.199622</td>\n",
       "      <td>-1.255185</td>\n",
       "      <td>-0.664466</td>\n",
       "      <td>-1.227037</td>\n",
       "      <td>-1.405312</td>\n",
       "      <td>-1.022972</td>\n",
       "      <td>-0.048961</td>\n",
       "      <td>-0.342176</td>\n",
       "      <td>-0.367640</td>\n",
       "      <td>...</td>\n",
       "      <td>1.984787</td>\n",
       "      <td>-0.047431</td>\n",
       "      <td>-0.513030</td>\n",
       "      <td>0.028780</td>\n",
       "      <td>0.915028</td>\n",
       "      <td>0.202369</td>\n",
       "      <td>1.674852</td>\n",
       "      <td>-0.143908</td>\n",
       "      <td>1.115218</td>\n",
       "      <td>-0.473204</td>\n",
       "    </tr>\n",
       "  </tbody>\n",
       "</table>\n",
       "<p>463 rows × 1440 columns</p>\n",
       "</div>"
      ],
      "text/plain": [
       "      fsArea_L_V1_ROI  fsArea_L_MST_ROI  fsArea_L_V6_ROI  fsArea_L_V2_ROI  \\\n",
       "0           -0.731130          1.179502        -0.584671        -1.308675   \n",
       "1           -0.564107         -0.540347        -0.584671        -0.931977   \n",
       "3            0.496296          0.606219         0.385436         0.228145   \n",
       "5           -0.206755          2.383396         0.185708        -0.402415   \n",
       "6            0.768194         -1.199622         1.084483         0.907840   \n",
       "...               ...               ...              ...              ...   \n",
       "992          0.203034         -0.311034         0.043045         0.263631   \n",
       "995         -0.869021         -0.081721        -1.226653        -1.532510   \n",
       "996         -2.694622          0.075932         0.841957        -2.736307   \n",
       "998          0.517659          1.365819         2.682306         1.074351   \n",
       "1003        -0.927285         -1.199622        -1.255185        -0.664466   \n",
       "\n",
       "      fsArea_L_V3_ROI  fsArea_L_V4_ROI  fsArea_L_V8_ROI  fsArea_L_4_ROI  \\\n",
       "0           -1.206924        -0.816245         0.154402       -0.258584   \n",
       "1           -0.671912        -0.283729        -0.011425       -1.119532   \n",
       "3            0.571085         0.272350        -0.425994        0.257985   \n",
       "5           -0.619618        -0.387405         0.336812        1.249947   \n",
       "6            1.029667         0.856704        -1.072720       -0.415800   \n",
       "...               ...              ...              ...             ...   \n",
       "992         -0.671912        -1.334624        -2.034519        0.643540   \n",
       "995         -1.118425        -0.948196        -0.459159       -0.333449   \n",
       "996         -2.997000        -2.574020        -1.603368       -0.756436   \n",
       "998          1.230799         0.705903        -0.011425       -0.176232   \n",
       "1003        -1.227037        -1.405312        -1.022972       -0.048961   \n",
       "\n",
       "      fsArea_L_3b_ROI  fsArea_L_FEF_ROI  ...  fsCT_R_p47r_ROI  fsCT_R_TGv_ROI  \\\n",
       "0           -0.278607          1.829968  ...         2.186101       -0.720148   \n",
       "1           -1.417950         -1.229992  ...         0.701741        0.676280   \n",
       "3            0.733599         -0.256369  ...         2.151207        0.293831   \n",
       "5            1.652897          0.865617  ...         1.260053        0.015330   \n",
       "6           -0.205259          0.114536  ...        -0.562516        0.201651   \n",
       "...               ...               ...  ...              ...             ...   \n",
       "992         -0.083012          1.134522  ...         2.097523       -0.004283   \n",
       "995         -1.036539          0.012537  ...         0.036060        0.517417   \n",
       "996         -0.567110         -0.682908  ...         0.959423        0.825337   \n",
       "998          0.293509          2.108146  ...         0.366216       -0.002321   \n",
       "1003        -0.342176         -0.367640  ...         1.984787       -0.047431   \n",
       "\n",
       "      fsCT_R_MBelt_ROI  fsCT_R_LBelt_ROI  fsCT_R_A4_ROI  fsCT_R_STSva_ROI  \\\n",
       "0             0.369192         -0.522160       0.104033          0.704565   \n",
       "1             0.889796          0.150595       1.071329          0.863305   \n",
       "3             0.110449          0.873185       0.269181         -0.016980   \n",
       "5             1.818779         -0.045971      -0.388462          0.623752   \n",
       "6             0.880444         -0.081962       0.334060          0.381312   \n",
       "...                ...               ...            ...               ...   \n",
       "992          -0.759303         -0.045971       0.186607          0.101353   \n",
       "995           0.309962          0.114604      -0.653879         -0.634623   \n",
       "996          -0.001778         -0.599679       0.979907          1.873468   \n",
       "998           0.515709          0.037085       1.153903          0.020540   \n",
       "1003         -0.513030          0.028780       0.915028          0.202369   \n",
       "\n",
       "      fsCT_R_TE1m_ROI  fsCT_R_PI_ROI  fsCT_R_a32pr_ROI  fsCT_R_p24_ROI  \n",
       "0            0.793778      -0.167456         -0.420926        0.018466  \n",
       "1            0.607744      -0.046772         -0.292914        0.378526  \n",
       "3            0.868708       0.029759          0.437027        0.229536  \n",
       "5            0.553485       1.837080          0.848299       -1.327417  \n",
       "6           -1.353356       1.919499          0.197345        0.400875  \n",
       "...               ...            ...               ...             ...  \n",
       "992         -0.751332       0.547819          0.690327       -0.254684  \n",
       "995         -1.022630       0.050364         -1.649296        0.592080  \n",
       "996          0.196921      -0.514792          1.842434        0.418257  \n",
       "998          1.855717       0.609633         -0.603411        0.778318  \n",
       "1003         1.674852      -0.143908          1.115218       -0.473204  \n",
       "\n",
       "[463 rows x 1440 columns]"
      ]
     },
     "execution_count": 38,
     "metadata": {},
     "output_type": "execute_result"
    }
   ],
   "source": [
    "from sklearn.preprocessing import StandardScaler\n",
    "\n",
    "asd_positive = data[\"group\"] == \"ASD\"\n",
    "\n",
    "# Feature matrix\n",
    "X = data[asd_positive].filter(regex=\"^fs\").copy()\n",
    "\n",
    "# Feature scaling\n",
    "scaler = StandardScaler()\n",
    "X.loc[:, :] = scaler.fit_transform(X.loc[:, :])\n",
    "\n",
    "X"
   ]
  },
  {
   "cell_type": "markdown",
   "metadata": {},
   "source": [
    "## Dimesionality Reduction Using PCA"
   ]
  },
  {
   "cell_type": "markdown",
   "metadata": {},
   "source": [
    "We will use PCA to try and \"capture\" as much of the variance of our 1,440 features using a limited number of principal components."
   ]
  },
  {
   "cell_type": "code",
   "execution_count": 39,
   "metadata": {},
   "outputs": [],
   "source": [
    "from sklearn.decomposition import PCA\n",
    "\n",
    "N_COMPONENTS = 20\n",
    "\n",
    "pca = PCA(n_components=N_COMPONENTS)\n",
    "_ = pca.fit(X_scaled)"
   ]
  },
  {
   "cell_type": "markdown",
   "metadata": {},
   "source": [
    "Let's try and evaluate how well did PCA manage to find small number of components to explain the variance:"
   ]
  },
  {
   "cell_type": "code",
   "execution_count": 45,
   "metadata": {
    "tags": [
     "hide-input"
    ]
   },
   "outputs": [
    {
     "data": {
      "image/png": "[encoded data removed]",
      "text/plain": [
       "<Figure size 864x432 with 2 Axes>"
      ]
     },
     "metadata": {
      "needs_background": "light"
     },
     "output_type": "display_data"
    }
   ],
   "source": [
    "import matplotlib.pyplot as plt\n",
    "import numpy as np\n",
    "\n",
    "from matplotlib.ticker import MaxNLocator\n",
    "\n",
    "PCA_X_RANGE = range(1, N_COMPONENTS + 1)\n",
    "\n",
    "# Create figure\n",
    "pca_fig, pca_ax = plt.subplots(figsize=(12, 6))\n",
    "pca_ax.set_title(\"Explained Variance by Number of Principal Components\")\n",
    "\n",
    "# Plot explained variance ratio\n",
    "pca_ax.plot(PCA_X_RANGE,\n",
    "            pca.explained_variance_ratio_,\n",
    "            color=\"purple\",\n",
    "            linewidth=2,\n",
    "            label=\"Explained Variance Ratio\")\n",
    "pca_ax.set(xlabel=\"Number of Principal Components\",\n",
    "           ylabel=\"Explained Variance Ratio\")\n",
    "\n",
    "pca_ax_cumulative = pca_ax.twinx()\n",
    "cumulative_explained = np.cumsum(pca.explained_variance_ratio_)\n",
    "pca_ax_cumulative.plot(PCA_X_RANGE,\n",
    "                       cumulative_explained,\n",
    "                       color=\"orange\",\n",
    "                       linewidth=2,\n",
    "                       label=\"Cumulative Explained Variance\")\n",
    "pca_ax_cumulative.set_ylabel(\"Cumulative Explained Variance\")\n",
    "\n",
    "pca_fig.legend(bbox_to_anchor=(0.85, 0.6))\n",
    "\n",
    "# Fix x-axis tick labels to show integers\n",
    "pca_ax.set_xticks(PCA_X_RANGE)\n",
    "_ = pca_ax.set_xticklabels(PCA_X_RANGE)"
   ]
  },
  {
   "cell_type": "code",
   "execution_count": 5,
   "metadata": {
    "tags": [
     "remove-input"
    ]
   },
   "outputs": [
    {
     "data": {
      "application/papermill.record/text/plain": "'42.15'"
     },
     "metadata": {
      "scrapbook": {
       "mime_prefix": "application/papermill.record/",
       "name": "k_3_explained"
      }
     },
     "output_type": "display_data"
    }
   ],
   "source": [
    "from myst_nb import glue\n",
    "\n",
    "k_3_explained = f\"{cumulative_explained[3] * 100:.2f}\"\n",
    "\n",
    "glue(\"k_3_explained\", k_3_explained, display=False)"
   ]
  },
  {
   "cell_type": "markdown",
   "metadata": {},
   "source": [
    "It seems like the added value of using more than 2 or 3 components is relatively negligible, with 3 components explaining a total of {glue:text}`k_3_explained`% of the total variance. "
   ]
  },
  {
   "cell_type": "markdown",
   "metadata": {},
   "source": [
    "To apply the dimensionality reduction to our dataset, we have to call [`tranform()`](https://scikit-learn.org/stable/modules/generated/sklearn.decomposition.PCA.html#sklearn.decomposition.PCA.transform):"
   ]
  },
  {
   "cell_type": "code",
   "execution_count": 37,
   "metadata": {},
   "outputs": [
    {
     "data": {
      "text/plain": [
       "(463, 20)"
      ]
     },
     "execution_count": 37,
     "metadata": {},
     "output_type": "execute_result"
    }
   ],
   "source": [
    "X_reduced = pca.transform(X_scaled)\n",
    "X_reduced.shape"
   ]
  },
  {
   "cell_type": "markdown",
   "metadata": {},
   "source": [
    "```{note}\n",
    "As with many other classes that implement this general procedure, `sklearn` also provides a [`fit_transform()`](https://scikit-learn.org/stable/modules/generated/sklearn.decomposition.PCA.html#sklearn.decomposition.PCA.fit_transform) function to do both more conveniently.\n",
    "```"
   ]
  },
  {
   "cell_type": "markdown",
   "metadata": {},
   "source": [
    "## Model Selection"
   ]
  },
  {
   "cell_type": "code",
   "execution_count": 51,
   "metadata": {},
   "outputs": [],
   "source": [
    "from sklearn.cluster import KMeans\n",
    "\n",
    "X_3 = X_reduced[:, :3]\n",
    "MAX_N_CLUSTERS = 10\n",
    "\n",
    "models = [KMeans(n_clusters=i).fit(X_3) for i in range(2, MAX_N_CLUSTERS + 1)]"
   ]
  },
  {
   "cell_type": "markdown",
   "metadata": {},
   "source": [
    "### Clustering Evaluation"
   ]
  },
  {
   "cell_type": "code",
   "execution_count": 68,
   "metadata": {},
   "outputs": [
    {
     "data": {
      "image/png": "[encoded data removed]",
      "text/plain": [
       "<Figure size 576x360 with 1 Axes>"
      ]
     },
     "metadata": {
      "needs_background": "light"
     },
     "output_type": "display_data"
    }
   ],
   "source": [
    "from sklearn.metrics import silhouette_score\n",
    "\n",
    "scores = [silhouette_score(X_3, model.labels_) for model in models]\n",
    "\n",
    "scores_fig, scores_ax = plt.subplots(figsize=(8, 5))\n",
    "scores_ax.plot(range(2, MAX_N_CLUSTERS + 1), scores, \"o-\")\n",
    "_ = scores_ax.set(title=\"Silhouette Score by $k$\", xlabel=\"$k$\", ylabel=\"Silhouette Score\")"
   ]
  },
  {
   "cell_type": "markdown",
   "metadata": {},
   "source": [
    "It seems like the best degree of separation was obtained for $k=2$. Let's visualize the two clusters and to obtain some qualitative understanding of how well our model did:"
   ]
  },
  {
   "cell_type": "code",
   "execution_count": 85,
   "metadata": {},
   "outputs": [
    {
     "data": {
      "application/vnd.jupyter.widget-view+json": {
       "model_id": "bbb0571ba4054091be61bc19a89f3ffa",
       "version_major": 2,
       "version_minor": 0
      },
      "text/plain": [
       "interactive(children=(IntSlider(value=0, description='elev', max=1), IntSlider(value=-90, description='azim', …"
      ]
     },
     "metadata": {},
     "output_type": "display_data"
    }
   ],
   "source": [
    "from ipywidgets import interact\n",
    "from mpl_toolkits.mplot3d import Axes3D\n",
    "\n",
    "x1, x2, x3 = X_3.T\n",
    "\n",
    "\n",
    "def plot_3d_scatter(elev=0, azim=-90):\n",
    "    fig = plt.figure(figsize=(10, 10))\n",
    "    ax = fig.add_subplot(111, projection=\"3d\")\n",
    "    ax.scatter(x1, x2, x3, s=15, marker=\"o\", c=models[0].labels_)\n",
    "    ax.set(xlabel=\"PC #1\", ylabel=\"PC #2\", zlabel=\"PC #3\")\n",
    "    ax.view_init(elev, azim)\n",
    "\n",
    "_ = interact(plot_3d_scatter)"
   ]
  }
 ],
 "metadata": {
  "celltoolbar": "Tags",
  "kernelspec": {
   "display_name": "Python 3",
   "language": "python",
   "name": "python3"
  },
  "language_info": {
   "codemirror_mode": {
    "name": "ipython",
    "version": 3
   },
   "file_extension": ".py",
   "mimetype": "text/x-python",
   "name": "python",
   "nbconvert_exporter": "python",
   "pygments_lexer": "ipython3",
   "version": "3.8.0"
  }
 },
 "nbformat": 4,
 "nbformat_minor": 4
}
